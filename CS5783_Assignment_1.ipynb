{
  "nbformat": 4,
  "nbformat_minor": 0,
  "metadata": {
    "colab": {
      "provenance": [],
      "collapsed_sections": []
    },
    "kernelspec": {
      "name": "python3",
      "display_name": "Python 3"
    },
    "language_info": {
      "name": "python"
    }
  },
  "cells": [
    {
      "cell_type": "markdown",
      "source": [
        "# **CS-5783 Assignment 1**\n",
        "\n",
        "\n",
        "---\n",
        "\n"
      ],
      "metadata": {
        "id": "JAfi7rmj3r8i"
      }
    },
    {
      "cell_type": "markdown",
      "source": [
        "**Question 1**\n"
      ],
      "metadata": {
        "id": "CoSDhJxniuoi"
      }
    },
    {
      "cell_type": "code",
      "source": [
        "#importing necessary libraries\n",
        "import numpy as np\n",
        "import random as rand\n",
        "import matplotlib.pyplot as plt\n",
        "import math"
      ],
      "metadata": {
        "id": "6md-1Zivy9K4"
      },
      "execution_count": 36,
      "outputs": []
    },
    {
      "cell_type": "code",
      "execution_count": 76,
      "metadata": {
        "id": "c5BmjB5txrxP"
      },
      "outputs": [],
      "source": [
        "#importing & reading the data\n",
        "xtest = np.load('/content/drive/MyDrive/x_test.npy')\n",
        "xtrain = np.load('/content/drive/MyDrive/x_train.npy')\n",
        "ytest = np.load('/content/drive/MyDrive/y_test.npy')\n",
        "ytrain = np.load('/content/drive/MyDrive/y_train.npy')"
      ]
    },
    {
      "cell_type": "markdown",
      "source": [
        "1. Visualizing the data\n",
        "\n",
        "We plot the given training and test dataset to understand the underlying relationship between the variables."
      ],
      "metadata": {
        "id": "JkSHUy8Tjtye"
      }
    },
    {
      "cell_type": "code",
      "source": [
        "%matplotlib inline\n",
        "plt.subplot(1, 2, 1)\n",
        "plt.plot(xtrain,ytrain,'b.')\n",
        "plt.title('Training data', fontsize=18)\n",
        "plt.xlabel(\"$x$\", fontsize=18)\n",
        "plt.ylabel(\"$y$\", rotation=0, fontsize=18)\n",
        "_ =plt.axis([-3,3,-40,60])\n",
        "\n",
        "plt.subplot(1, 2, 2)\n",
        "plt.plot(xtest,ytest,'b.')\n",
        "plt.title('Test data', fontsize=18)\n",
        "plt.xlabel(\"$x$\", fontsize=18)\n",
        "plt.ylabel(\"$y$\", rotation=0, fontsize=18)\n",
        "_ =plt.axis([-3,2,0,15])\n",
        "plt.show()"
      ],
      "metadata": {
        "colab": {
          "base_uri": "https://localhost:8080/",
          "height": 307
        },
        "id": "7pjmL3bUy7i7",
        "outputId": "4646e3ad-d592-4496-9d11-a81fce4247bb"
      },
      "execution_count": 77,
      "outputs": [
        {
          "output_type": "display_data",
          "data": {
            "text/plain": [
              "<Figure size 432x288 with 2 Axes>"
            ],
            "image/png": "[encoded data removed]"
          },
          "metadata": {
            "needs_background": "light"
          }
        }
      ]
    },
    {
      "cell_type": "code",
      "source": [
        "# Linear regression model using the \"Normal Equations\"\n",
        "\n",
        "xtrain2 = np.c_[np.ones((len(xtrain),1)),xtrain]\n",
        "parameters = np.linalg.inv(xtrain2.T.dot(xtrain2)).dot(xtrain2.T).dot(ytrain)\n",
        "print(\"Theta values\",parameters)\n",
        "\n",
        "x_new = np.array([[-40],[60]])\n",
        "xtrain2_new = np.c_[np.ones((2,1)),x_new]\n",
        "y_predict = xtrain2_new.dot(parameters)\n",
        "\n",
        "plt.plot(x_new,y_predict,'r-')\n",
        "plt.plot(xtrain,ytrain,'b.')\n",
        "plt.xlabel(\"$x_1$\", fontsize=18)\n",
        "plt.ylabel(\"$y$\", rotation=0, fontsize=18)\n",
        "plt.axis([-3,3,-40,60])\n",
        "plt.show()"
      ],
      "metadata": {
        "colab": {
          "base_uri": "https://localhost:8080/",
          "height": 309
        },
        "id": "q_m65_l8z3NT",
        "outputId": "b0f487c1-5a7f-4717-f7f6-13852e16a988"
      },
      "execution_count": 78,
      "outputs": [
        {
          "output_type": "stream",
          "name": "stdout",
          "text": [
            "Theta values [6.19321416 3.30656683]\n"
          ]
        },
        {
          "output_type": "display_data",
          "data": {
            "text/plain": [
              "<Figure size 432x288 with 1 Axes>"
            ],
            "image/png": "[encoded data removed]"
          },
          "metadata": {
            "needs_background": "light"
          }
        }
      ]
    },
    {
      "cell_type": "code",
      "source": [
        "# Linear regression model using the Gradient descent\n",
        "\n",
        "def gradientDescent(X, Y, theta, alpha, a, itr):\n",
        "    cost_history = np.zeros(itr)\n",
        "    x_T = X.transpose()\n",
        "    for i in range(0, itr):\n",
        "        h_x = np.dot(X, theta)\n",
        "        error= h_x - Y\n",
        " \n",
        "\n",
        "        cost = np.sum(error** 2) / (2 * a)\n",
        "        #print(\"Iteration %d | Cost: %f\" % (i, cost))\n",
        "        gradient = np.dot(x_T, error) / a\n",
        "        theta = theta - alpha * gradient\n",
        "        cost_history[i]=cost\n",
        "    return theta,cost,cost_history\n",
        "\n",
        "X = xtrain2\n",
        "Y = ytrain\n",
        "a, b = np.shape(X)\n",
        "itr= 100\n",
        "alpha = 0.05\n",
        "theta = np.ones(b)\n",
        "theta,cost,cost_history = gradientDescent(X,Y, theta, alpha,a, itr)\n",
        "print(theta)\n",
        "print(cost)"
      ],
      "metadata": {
        "colab": {
          "base_uri": "https://localhost:8080/"
        },
        "id": "u16bSG7Ye5DG",
        "outputId": "db5cf6e7-0e5c-4e88-d8d0-f127f64b7560"
      },
      "execution_count": 79,
      "outputs": [
        {
          "output_type": "stream",
          "name": "stdout",
          "text": [
            "[6.1587225  3.30347151]\n",
            "84.668015917418\n"
          ]
        }
      ]
    },
    {
      "cell_type": "markdown",
      "source": [
        "We observe that values of theta obtained are alomst same to the ones obtained using Normal equations. We now use these values of theta in conjunction with xtest values to predict the y values for test set and plot against the actual test data to see the fit."
      ],
      "metadata": {
        "id": "Nlc1roWDzlUF"
      }
    },
    {
      "cell_type": "code",
      "source": [
        "# Plotting the predicted values of Linear regression model using the Gradient descent\n",
        "ypredict=theta[0]+theta[1]*xtest\n",
        "#print(ypredict)\n",
        "plt.plot(xtest,ypredict,'r-')\n",
        "plt.plot(xtest,ytest,'b.')\n",
        "plt.xlabel(\"$x_1$\", fontsize=18)\n",
        "plt.ylabel(\"$y$\", rotation=0, fontsize=18)\n",
        "plt.axis([-3,3,0,15])"
      ],
      "metadata": {
        "colab": {
          "base_uri": "https://localhost:8080/",
          "height": 305
        },
        "id": "_mqzMO-Liuzc",
        "outputId": "277b8926-228e-44ec-d7c2-bcdf46b60b68"
      },
      "execution_count": 80,
      "outputs": [
        {
          "output_type": "execute_result",
          "data": {
            "text/plain": [
              "(-3.0, 3.0, 0.0, 15.0)"
            ]
          },
          "metadata": {},
          "execution_count": 80
        },
        {
          "output_type": "display_data",
          "data": {
            "text/plain": [
              "<Figure size 432x288 with 1 Axes>"
            ],
            "image/png": "[encoded data removed]"
          },
          "metadata": {
            "needs_background": "light"
          }
        }
      ]
    },
    {
      "cell_type": "markdown",
      "source": [
        "2. \n",
        "\n",
        "\n",
        "(a)Clearly the relationship between variables x & y is non-linear. We are   trying to fit a liner curve to this relationship, but the performance of the model in itself won't be good as the x in the data is not linearly related to y.\n",
        "\n",
        "\n",
        "---\n",
        "\n",
        "\n",
        "(b)We will need to do feature engineering to add non linearity to the curve and get a better fit.\n",
        "\n",
        "\n",
        "---\n",
        "\n",
        "\n",
        "  (i) These fetures can be engineered using the **basis function** which are the deterministic functions of the orignal parameters.\n",
        "\n",
        "  (ii) Some of the basis functions that we can try are the Polynomial Basis function with M-3, M-4 and M-5 degree for training data.\n",
        "  Since we already have a linear relationship for the regression model we choose to start with a degree 3 polynomial.\n",
        "\n",
        "  These plots have been visualized below."
      ],
      "metadata": {
        "id": "gl1QTkTboeba"
      }
    },
    {
      "cell_type": "markdown",
      "source": [
        "Polynomial Basis function with M-3, M-4 and M-5 degree for training data"
      ],
      "metadata": {
        "id": "_lgO8pcelWOV"
      }
    },
    {
      "cell_type": "code",
      "source": [
        "xtrain2 = xtrain.flatten()\n",
        "ytrain2 = ytrain.flatten()\n",
        "poly_model = np.poly1d(np.polyfit(xtrain2, ytrain2,3))\n",
        "print(poly_model)\n",
        "\n",
        "plt.scatter(xtrain2, ytrain2, s = 3, label = 'Data')\n",
        "plt.scatter(xtrain2, poly_model(xtrain2), s = 2, label = 'Numpy Predictions')\n",
        "plt.axis([-3,3,-40,60])\n",
        "plt.show()\n",
        "\n",
        "\n",
        "xtrain2 = xtrain.flatten()\n",
        "ytrain2 = ytrain.flatten()\n",
        "poly_model = np.poly1d(np.polyfit(xtrain2, ytrain2,4))\n",
        "print(poly_model)\n",
        "\n",
        "plt.scatter(xtrain2, ytrain2, s = 3, label = 'Data')\n",
        "plt.scatter(xtrain2, poly_model(xtrain2), s = 2, label = 'Numpy Predictions')\n",
        "plt.axis([-3,3,-40,60])\n",
        "plt.tight_layout(4)\n",
        "plt.show()\n",
        "\n",
        "xtrain2 = xtrain.flatten()\n",
        "ytrain2 = ytrain.flatten()\n",
        "poly_model = np.poly1d(np.polyfit(xtrain2, ytrain2,5))\n",
        "print(poly_model)\n",
        "\n",
        "plt.scatter(xtrain2, ytrain2, s = 3, label = 'Data')\n",
        "plt.scatter(xtrain2, poly_model(xtrain2), s = 2, label = 'Numpy Predictions')\n",
        "plt.axis([-3,3,-40,60])\n",
        "plt.show()"
      ],
      "metadata": {
        "colab": {
          "base_uri": "https://localhost:8080/",
          "height": 852
        },
        "id": "u_mM8vwN73Qv",
        "outputId": "762d44c5-e395-4a80-b0a2-f9b65591b07c"
      },
      "execution_count": 81,
      "outputs": [
        {
          "output_type": "stream",
          "name": "stdout",
          "text": [
            "       3          2\n",
            "2.149 x + 0.3668 x - 8.866 x + 3.579\n"
          ]
        },
        {
          "output_type": "display_data",
          "data": {
            "text/plain": [
              "<Figure size 432x288 with 1 Axes>"
            ],
            "image/png": "[encoded data removed]"
          },
          "metadata": {
            "needs_background": "light"
          }
        },
        {
          "output_type": "stream",
          "name": "stdout",
          "text": [
            "          4         3          2\n",
            "-0.06737 x + 2.148 x + 0.9152 x - 8.86 x + 3.074\n"
          ]
        },
        {
          "output_type": "display_data",
          "data": {
            "text/plain": [
              "<Figure size 432x288 with 1 Axes>"
            ],
            "image/png": "[encoded data removed]"
          },
          "metadata": {
            "needs_background": "light"
          }
        },
        {
          "output_type": "stream",
          "name": "stdout",
          "text": [
            "   5             4     3             2\n",
            "1 x - 7.869e-16 x - 8 x - 2.113e-15 x + 10 x + 6\n"
          ]
        },
        {
          "output_type": "display_data",
          "data": {
            "text/plain": [
              "<Figure size 432x288 with 1 Axes>"
            ],
            "image/png": "[encoded data removed]"
          },
          "metadata": {
            "needs_background": "light"
          }
        }
      ]
    },
    {
      "cell_type": "markdown",
      "source": [
        "Polynomial Basis function with M-5 degree for test data - the best fitting"
      ],
      "metadata": {
        "id": "MyZ4lNOPl98k"
      }
    },
    {
      "cell_type": "code",
      "source": [
        "xtest2 = xtest.flatten()\n",
        "ytest2 = ytest.flatten()\n",
        "poly_model = np.poly1d(np.polyfit(xtest2, ytest2,3))\n",
        "print(poly_model)\n",
        "\n",
        "plt.scatter(xtest2, ytest2, s = 3, label = 'Data')\n",
        "plt.scatter(xtest2, poly_model(xtest2), s = 2, label = 'Numpy Predictions')"
      ],
      "metadata": {
        "colab": {
          "base_uri": "https://localhost:8080/",
          "height": 320
        },
        "id": "nrki76MUl3Ig",
        "outputId": "ab54a3f7-628a-4565-9679-68470392f294"
      },
      "execution_count": 82,
      "outputs": [
        {
          "output_type": "stream",
          "name": "stdout",
          "text": [
            "        3           2\n",
            "-6.832 x - 0.01308 x + 9.727 x + 6.009\n"
          ]
        },
        {
          "output_type": "execute_result",
          "data": {
            "text/plain": [
              "<matplotlib.collections.PathCollection at 0x7f6bfda76ed0>"
            ]
          },
          "metadata": {},
          "execution_count": 82
        },
        {
          "output_type": "display_data",
          "data": {
            "text/plain": [
              "<Figure size 432x288 with 1 Axes>"
            ],
            "image/png": "[encoded data removed]"
          },
          "metadata": {
            "needs_background": "light"
          }
        }
      ]
    },
    {
      "cell_type": "markdown",
      "source": [
        "Question 2"
      ],
      "metadata": {
        "id": "tuGtjjOaEW6Z"
      }
    },
    {
      "cell_type": "code",
      "source": [
        "# Importing the dataset\n",
        "import pandas as pd\n",
        "df = pd.read_csv (r'/content/drive/MyDrive/Assignment1_Q2_Data.csv') \n",
        "#print (df)\n",
        "\n",
        "x = df[['Local Price','Bathrooms','Land Area','Living area','# Garages','# Rooms',  '# Bedrooms' , 'Age of home',  'Construction type','Architecture type','# Fire places'  ]]\n",
        "y = df[\"Price (1000$)\"]"
      ],
      "metadata": {
        "id": "irrrRbLtEZQf"
      },
      "execution_count": 86,
      "outputs": []
    },
    {
      "cell_type": "code",
      "source": [
        "# Calcuting the parameters for all the fetures\n",
        "X_house = np.c_[np.ones((len(x),1)),x]\n",
        "theta_best = np.linalg.inv(X_house.T.dot(X_house)).dot(X_house.T).dot(y)\n",
        "print(theta_best)"
      ],
      "metadata": {
        "colab": {
          "base_uri": "https://localhost:8080/"
        },
        "id": "5GeOkzOypBOT",
        "outputId": "44b290a9-01a6-4e50-c6db-a7fa1f957746"
      },
      "execution_count": 87,
      "outputs": [
        {
          "output_type": "stream",
          "name": "stdout",
          "text": [
            "[ 2.54245911  0.84203461  9.13727309  0.1805502  13.31511517  1.93053047\n",
            " -1.07030169 -0.30201195 -0.07198748  1.02264378  1.33991086  2.78686263]\n"
          ]
        }
      ]
    },
    {
      "cell_type": "code",
      "source": [
        "#preedicting values of y for test set and calculating MSE & RMSE (for comparision with gradient descent)\n",
        "for i in theta_best:\n",
        "  if i != 0:\n",
        "    ypredict =theta[0] + np.dot(X_house, theta_best)\n",
        "#print(ypredict)\n",
        "\n",
        "\n",
        "y_actual = y\n",
        "y_predicted = ypredict\n",
        "\n",
        "MSE = np.square(np.subtract(y_actual,y_predicted)).mean() \n",
        "print(\"Mean Square Error:\\n\")\n",
        "print(MSE)\n",
        "RMSE = math.sqrt(MSE)\n",
        "print(\"Root Mean Square Error:\\n\")\n",
        "print(RMSE)"
      ],
      "metadata": {
        "colab": {
          "base_uri": "https://localhost:8080/"
        },
        "id": "Mlwd7LS1pbiV",
        "outputId": "f3a539ac-f2df-4b4e-9419-639ecb36b214"
      },
      "execution_count": 88,
      "outputs": [
        {
          "output_type": "stream",
          "name": "stdout",
          "text": [
            "Mean Square Error:\n",
            "\n",
            "14.108134197816453\n",
            "Root Mean Square Error:\n",
            "\n",
            "3.7560796314530465\n"
          ]
        }
      ]
    },
    {
      "cell_type": "code",
      "source": [
        "X = x\n",
        "Y = ypredict\n",
        "a, b = np.shape(X)\n",
        "itr= 200\n",
        "alpha = 0.001\n",
        "theta = np.ones(b)\n",
        "theta,cost,cost_history = gradientDescent(X,Y, theta, alpha,a, itr)\n",
        "\n",
        "for i in theta:\n",
        "  if i != 0:\n",
        "    ypredict2 =theta[0] + np.dot(X_house, theta_best)\n",
        "\n",
        "y_actual = y\n",
        "y_predicted = ypredict2\n",
        "\n",
        "MSE = np.square(np.subtract(y_actual,y_predicted)).mean() \n",
        "print(\"Mean Square Error:\\n\")\n",
        "print(MSE)\n",
        "RMSE = math.sqrt(MSE)\n",
        "print(\"Root Mean Square Error:\\n\")\n",
        "print(RMSE)"
      ],
      "metadata": {
        "colab": {
          "base_uri": "https://localhost:8080/"
        },
        "id": "tH_gUGSFvuUS",
        "outputId": "6d25381d-6beb-4faf-f643-6579d6371c48"
      },
      "execution_count": 89,
      "outputs": [
        {
          "output_type": "stream",
          "name": "stdout",
          "text": [
            "Mean Square Error:\n",
            "\n",
            "13.778926825463019\n",
            "Root Mean Square Error:\n",
            "\n",
            "3.711997686618759\n"
          ]
        }
      ]
    },
    {
      "cell_type": "markdown",
      "source": [
        "We obtain almost the same RMSE values for both methods."
      ],
      "metadata": {
        "id": "e4Azk0Qt11OV"
      }
    },
    {
      "cell_type": "markdown",
      "source": [
        "\n",
        "Question 2 - Report\n",
        "\n",
        "---\n",
        "\n",
        "\n",
        "1.   The average least squares error for the given data using your simple linear regression model is 14.108\n",
        "2.   Since the coefficient for Living area (5th theta term,first being ThetaO. So 4th column of x array) is the highest, therefore, it is having the most effect on the final predicted value.\n",
        "Using only this feature may give a good estimate but is still not sufficient to entirely predict the prices. Specifically when the value is less than 1 this feture alone does not suffice.\n",
        "3.  Age of home factor has the least effect on the final value as it has the lowest coefficient for theta. Since it accounts for 5-8% of home prices removing it may not significantly effect the prediction of prices.\n",
        "\n",
        "\n",
        "\n",
        "\n",
        "\n"
      ],
      "metadata": {
        "id": "KsSzuJdv2HWY"
      }
    },
    {
      "cell_type": "code",
      "source": [
        "fig,ax = plt.subplots(figsize=(5,5))\n",
        "ax.set_ylabel('Cost')\n",
        "ax.set_xlabel('Iterations')\n",
        "_=ax.plot(range(itr),cost_history,'b-')\n"
      ],
      "metadata": {
        "colab": {
          "base_uri": "https://localhost:8080/",
          "height": 334
        },
        "id": "XVx0gfVLvh1x",
        "outputId": "579b801f-8042-4171-c1e4-2ec1b18a165f"
      },
      "execution_count": 90,
      "outputs": [
        {
          "output_type": "display_data",
          "data": {
            "text/plain": [
              "<Figure size 360x360 with 1 Axes>"
            ],
            "image/png": "[encoded data removed]"
          },
          "metadata": {
            "needs_background": "light"
          }
        }
      ]
    },
    {
      "cell_type": "markdown",
      "source": [
        "Question 3"
      ],
      "metadata": {
        "id": "1YDH5UBF6nCA"
      }
    },
    {
      "cell_type": "code",
      "source": [
        "# Diagonal weight matrix\n",
        "def weight(point, x_matrix, k):\n",
        "    m,n = np.shape(x_matrix)\n",
        "    weights = np.mat(np.eye((m)))\n",
        "    \n",
        "    for j in range(m):\n",
        "        d = point - X[j]\n",
        "        weights[j, j] = np.exp(d * d.T / (-2.0 * k**2))\n",
        "    \n",
        "    return weights\n",
        "\n",
        "# Calculating local weight of each example\n",
        "def localWeight(point, x_matrix, y_matrix, k):\n",
        "    wt = weight(point, x_matrix, k)\n",
        "    th = (X.T * (wt*X)).I * (X.T * wt * y_matrix.T)\n",
        "    return th\n",
        "\n",
        "# Predict y values\n",
        "def ypredict(x_matrix, y_matrix, k):\n",
        "    m,n = np.shape(x_matrix)\n",
        "    ypred = np.zeros(m)\n",
        "    \n",
        "    for i in range(m):\n",
        "        ypred[i] = x_matrix[i] * localWeight(x_matrix[i], x_matrix, y_matrix, k)\n",
        "        \n",
        "    return ypred\n",
        "\n",
        "\n",
        "# Building suitable data types\n",
        "m_sizeA = np.mat(xtrain)\n",
        "m_sizeB = np.mat(ytrain)\n",
        "m = np.shape(m_sizeB)[1]\n",
        "one = np.ones((1, m), dtype = int)\n",
        "\n",
        "\n",
        "X = np.hstack((one.T, m_sizeA))\n",
        "\n",
        "ypred = ypredict(X, m_sizeB, 0.35)\n",
        "# plotting the predicted values\n",
        "xsort = X.copy()\n",
        "xsort.sort(axis=0)\n",
        "plt.scatter(xtrain, ytrain, color='blue')\n",
        "plt.plot(xsort[:, 1], ypred[X[:, 1].argsort(0)], color='yellow', linewidth=5)\n",
        "plt.xlabel('x train data')\n",
        "plt.ylabel('y predicted')\n",
        "plt.show()"
      ],
      "metadata": {
        "colab": {
          "base_uri": "https://localhost:8080/",
          "height": 279
        },
        "id": "rBj1DnCqistx",
        "outputId": "433dd61d-0897-4ee6-cc09-c65a5ab742a1"
      },
      "execution_count": 91,
      "outputs": [
        {
          "output_type": "display_data",
          "data": {
            "text/plain": [
              "<Figure size 432x288 with 1 Axes>"
            ],
            "image/png": "[encoded data removed]"
          },
          "metadata": {
            "needs_background": "light"
          }
        }
      ]
    },
    {
      "cell_type": "markdown",
      "source": [
        "*I was unable to extract the theta values and predict corresponding y values for test bed."
      ],
      "metadata": {
        "id": "f51DJbcNAzSi"
      }
    }
  ]
}