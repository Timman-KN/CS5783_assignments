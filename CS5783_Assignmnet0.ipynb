{
 "cells": [
  {
   "cell_type": "code",
   "execution_count": null,
   "id": "49ca1609",
   "metadata": {},
   "outputs": [],
   "source": [
    "import matplotlib.pyplot as plt\n",
    "import numpy as np\n",
    "from collections import Counter\n",
    "\n",
    "file= \"\"\"The quick brown fox jumps over the lazy dog\"\"\"\n",
    "#file = open(\"input.txt\").read().split()\n",
    "\n",
    "# For generating a histogram\n",
    "alphabets_unsorted = Counter(file.lower().replace('\\n', ''))\n",
    "alist = dict(sorted(alphabets_unsorted.items()))\n",
    "\n",
    "print(\"Histogram as dictionary :\",alist)\n",
    "frequency = alist.values()\n",
    "alphabets = alist.keys()\n",
    "\n",
    "\n",
    "alist_values = alist.items()\n",
    "data = list(alist_values)\n",
    "  \n",
    "# Convert list to an array\n",
    "data_array = np.array(data)\n",
    "print(\"Histogram as Numpy array:\",data_array)\n",
    "\n",
    "# graph data\n",
    "alphabet_positions = np.arange(len(frequency))\n",
    "plt.bar(alphabet_positions, frequency, label=\"Un-Normaliized\",align = 'center')\n",
    "plt.legend()\n",
    "plt.grid()\n",
    "plt.xticks(alphabet_positions, alphabets)\n",
    "\n",
    "fig,ax = plt.subplots() # Instantiate figure and axes object\n",
    "ax.hist(alist, label=\"Normaliized\", histtype=\"step\", density=True)\n",
    "plt.legend()\n",
    "plt.show()\n",
    "plt.hist(alist,26,label=\"Normaliized-Cummuative\", density=True, cumulative=True, histtype='step')\n",
    "plt.legend()\n",
    "plt.show()"
   ]
  },
  {
   "cell_type": "code",
   "execution_count": null,
   "id": "916b62cd",
   "metadata": {},
   "outputs": [],
   "source": [
    "from numpy.ma.core import size\n",
    "import cv2   \n",
    "import numpy as np\n",
    "\n",
    "img = cv2.imread('test.png')\n",
    "\n",
    "output_img = np.zeros(np.shape(img))\n",
    "for i in range(128):\n",
    "  for j in range(128):\n",
    "    dist = np.array([np.linalg.norm([255,0,0]-img[i][j]),np.linalg.norm([0,255,0]-img[i][j]),np.linalg.norm([0,0,255]-img[i][j])])\n",
    "    min_ind = np.unravel_index(dist.argmin(), dist.shape)\n",
    "    if min_ind[0] ==0:\n",
    "      output_img[i][j] = np.array([255,0,0])\n",
    "    if min_ind[0] ==1:\n",
    "      output_img[i][j] = np.array([0,255,0])\n",
    "    if min_ind[0] ==2:\n",
    "      output_img[i][j] = np.array([0,0,255])\n",
    "output_img\n",
    "cv2.imwrite('output1.png',output_img)\n",
    "\n",
    "\n",
    "start = (39, 39)\n",
    "end = (89, 89)\n",
    "color = (0, 0, 0)\n",
    "width = -1\n",
    "image = cv2.rectangle(output_img, start_point, end_point, color, width)\n",
    "cv2.imwrite('output2.png',output_img)"
   ]
  },
  {
   "cell_type": "code",
   "execution_count": null,
   "id": "15979f68",
   "metadata": {},
   "outputs": [],
   "source": [
    "#importing the scipy packages\n",
    "from scipy import linalg\n",
    "import numpy as np\n",
    "\n",
    "a = np.array([[3, 3], [4, 2]])\n",
    "b = np.array([[11.25], [10]])\n",
    "\n",
    "x = linalg.solve(a, b)\n",
    "print(\"Cost of soft tacos:\",x[0])\n",
    "print(\"Cost of burrito:\",x[1])"
   ]
  }
 ],
 "metadata": {
  "kernelspec": {
   "display_name": "Python 3 (ipykernel)",
   "language": "python",
   "name": "python3"
  },
  "language_info": {
   "codemirror_mode": {
    "name": "ipython",
    "version": 3
   },
   "file_extension": ".py",
   "mimetype": "text/x-python",
   "name": "python",
   "nbconvert_exporter": "python",
   "pygments_lexer": "ipython3",
   "version": "3.8.12"
  }
 },
 "nbformat": 4,
 "nbformat_minor": 5
}
