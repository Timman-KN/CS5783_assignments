{
  "nbformat": 4,
  "nbformat_minor": 0,
  "metadata": {
    "colab": {
      "provenance": []
    },
    "kernelspec": {
      "name": "python3",
      "display_name": "Python 3"
    },
    "language_info": {
      "name": "python"
    }
  },
  "cells": [
    {
      "cell_type": "markdown",
      "source": [
        "# **CS5783 - Assignment 4 -- Naive Bayes, Decision Trees, kNNs**"
      ],
      "metadata": {
        "id": "7tyMs-UD8IkA"
      }
    },
    {
      "cell_type": "markdown",
      "source": [
        "**Question 1- Part 1: PLease refer to the Q1.pdf**"
      ],
      "metadata": {
        "id": "CdJf8Ak48ZQj"
      }
    },
    {
      "cell_type": "markdown",
      "source": [
        "## **Question 1.2**"
      ],
      "metadata": {
        "id": "nwQ2zloY8xjD"
      }
    },
    {
      "cell_type": "code",
      "execution_count": null,
      "metadata": {
        "id": "hOC-3gDlyUDx"
      },
      "outputs": [],
      "source": [
        "#importing necessary libraries\n",
        "import pandas as pd\n",
        "import math\n",
        "import statistics as s\n",
        "import numpy as np\n",
        "from sklearn.tree import DecisionTreeClassifier as DT\n",
        "from sklearn.metrics import accuracy_score\n",
        "from sklearn import tree\n",
        "import matplotlib.pyplot as plt\n",
        "from operator import itemgetter\n",
        "import random"
      ]
    },
    {
      "cell_type": "code",
      "source": [
        "# reading the file\n",
        "data = pd.read_excel(\"/content/drive/MyDrive/Asssignment4_Data.xlsx\")\n",
        "data.sort_values(by=['Construction type'], inplace=True)\n",
        "data.reset_index()\n",
        "data.head(50)"
      ],
      "metadata": {
        "colab": {
          "base_uri": "https://localhost:8080/",
          "height": 677
        },
        "id": "fGLRXDsKBbnN",
        "outputId": "758207db-1fc9-43f0-b571-8d66dc725ffb"
      },
      "execution_count": null,
      "outputs": [
        {
          "output_type": "execute_result",
          "data": {
            "text/plain": [
              "    House ID  Local Price  Bathrooms  Land Area  Living area  # Garages  \\\n",
              "0          1       4.9176        1.0     3.4720        0.998        1.0   \n",
              "16        17       8.2464        1.5     5.1500        1.664        2.0   \n",
              "14        15       5.0500        1.0     5.0000        1.020        0.0   \n",
              "4          5       5.0597        1.0     4.4550        1.121        1.0   \n",
              "9         10      14.4598        2.5    12.8000        3.000        2.0   \n",
              "3          4       4.5573        1.0     4.0500        1.232        1.0   \n",
              "19        20       9.0384        1.0     7.8000        1.500        1.5   \n",
              "5          6       3.8910        1.0     4.4550        0.988        1.0   \n",
              "6          7       5.8980        1.0     5.8500        1.240        1.0   \n",
              "8          9      16.4202        2.5     9.8000        3.420        2.0   \n",
              "18        19       7.7841        1.5     7.1020        1.376        1.0   \n",
              "13        14       5.9592        1.0     6.6660        1.121        2.0   \n",
              "2          3       4.5429        1.0     2.2750        1.175        1.0   \n",
              "7          8       5.6039        1.0     9.5200        1.501        0.0   \n",
              "10        11       5.8282        1.0     6.4350        1.225        2.0   \n",
              "11        12       5.3003        1.0     4.9883        1.552        1.0   \n",
              "12        13       6.2712        1.0     5.5200        0.975        1.0   \n",
              "15        16       5.6039        1.0     9.5200        1.501        0.0   \n",
              "1          2       5.0208        1.0     3.5310        1.500        2.0   \n",
              "17        18       6.6969        1.5     6.9020        1.488        1.5   \n",
              "\n",
              "    # Rooms  # Bedrooms  Age of home Construction type  \n",
              "0         7           4           42         Apartment  \n",
              "16        8           4           50         Apartment  \n",
              "14        5           2           46         Apartment  \n",
              "4         6           3           42         Apartment  \n",
              "9         9           5           14         Apartment  \n",
              "3         6           3           54         Apartment  \n",
              "19        7           3           23         Apartment  \n",
              "5         6           3           56             Condo  \n",
              "6         7           3           51             Condo  \n",
              "8        10           5           42             Condo  \n",
              "18        6           3           17             Condo  \n",
              "13        6           3           32             Condo  \n",
              "2         6           3           40             Condo  \n",
              "7         6           3           32             House  \n",
              "10        6           3           32             House  \n",
              "11        6           3           30             House  \n",
              "12        5           2           30             House  \n",
              "15        6           3           32             House  \n",
              "1         7           4           62             House  \n",
              "17        7           3           22             House  "
            ],
            "text/html": [
              "\n",
              "  <div id=\"df-ad3fbc54-a977-4388-ab32-6fa2c95fccbf\">\n",
              "    <div class=\"colab-df-container\">\n",
              "      <div>\n",
              "<style scoped>\n",
              "    .dataframe tbody tr th:only-of-type {\n",
              "        vertical-align: middle;\n",
              "    }\n",
              "\n",
              "    .dataframe tbody tr th {\n",
              "        vertical-align: top;\n",
              "    }\n",
              "\n",
              "    .dataframe thead th {\n",
              "        text-align: right;\n",
              "    }\n",
              "</style>\n",
              "<table border=\"1\" class=\"dataframe\">\n",
              "  <thead>\n",
              "    <tr style=\"text-align: right;\">\n",
              "      <th></th>\n",
              "      <th>House ID</th>\n",
              "      <th>Local Price</th>\n",
              "      <th>Bathrooms</th>\n",
              "      <th>Land Area</th>\n",
              "      <th>Living area</th>\n",
              "      <th># Garages</th>\n",
              "      <th># Rooms</th>\n",
              "      <th># Bedrooms</th>\n",
              "      <th>Age of home</th>\n",
              "      <th>Construction type</th>\n",
              "    </tr>\n",
              "  </thead>\n",
              "  <tbody>\n",
              "    <tr>\n",
              "      <th>0</th>\n",
              "      <td>1</td>\n",
              "      <td>4.9176</td>\n",
              "      <td>1.0</td>\n",
              "      <td>3.4720</td>\n",
              "      <td>0.998</td>\n",
              "      <td>1.0</td>\n",
              "      <td>7</td>\n",
              "      <td>4</td>\n",
              "      <td>42</td>\n",
              "      <td>Apartment</td>\n",
              "    </tr>\n",
              "    <tr>\n",
              "      <th>16</th>\n",
              "      <td>17</td>\n",
              "      <td>8.2464</td>\n",
              "      <td>1.5</td>\n",
              "      <td>5.1500</td>\n",
              "      <td>1.664</td>\n",
              "      <td>2.0</td>\n",
              "      <td>8</td>\n",
              "      <td>4</td>\n",
              "      <td>50</td>\n",
              "      <td>Apartment</td>\n",
              "    </tr>\n",
              "    <tr>\n",
              "      <th>14</th>\n",
              "      <td>15</td>\n",
              "      <td>5.0500</td>\n",
              "      <td>1.0</td>\n",
              "      <td>5.0000</td>\n",
              "      <td>1.020</td>\n",
              "      <td>0.0</td>\n",
              "      <td>5</td>\n",
              "      <td>2</td>\n",
              "      <td>46</td>\n",
              "      <td>Apartment</td>\n",
              "    </tr>\n",
              "    <tr>\n",
              "      <th>4</th>\n",
              "      <td>5</td>\n",
              "      <td>5.0597</td>\n",
              "      <td>1.0</td>\n",
              "      <td>4.4550</td>\n",
              "      <td>1.121</td>\n",
              "      <td>1.0</td>\n",
              "      <td>6</td>\n",
              "      <td>3</td>\n",
              "      <td>42</td>\n",
              "      <td>Apartment</td>\n",
              "    </tr>\n",
              "    <tr>\n",
              "      <th>9</th>\n",
              "      <td>10</td>\n",
              "      <td>14.4598</td>\n",
              "      <td>2.5</td>\n",
              "      <td>12.8000</td>\n",
              "      <td>3.000</td>\n",
              "      <td>2.0</td>\n",
              "      <td>9</td>\n",
              "      <td>5</td>\n",
              "      <td>14</td>\n",
              "      <td>Apartment</td>\n",
              "    </tr>\n",
              "    <tr>\n",
              "      <th>3</th>\n",
              "      <td>4</td>\n",
              "      <td>4.5573</td>\n",
              "      <td>1.0</td>\n",
              "      <td>4.0500</td>\n",
              "      <td>1.232</td>\n",
              "      <td>1.0</td>\n",
              "      <td>6</td>\n",
              "      <td>3</td>\n",
              "      <td>54</td>\n",
              "      <td>Apartment</td>\n",
              "    </tr>\n",
              "    <tr>\n",
              "      <th>19</th>\n",
              "      <td>20</td>\n",
              "      <td>9.0384</td>\n",
              "      <td>1.0</td>\n",
              "      <td>7.8000</td>\n",
              "      <td>1.500</td>\n",
              "      <td>1.5</td>\n",
              "      <td>7</td>\n",
              "      <td>3</td>\n",
              "      <td>23</td>\n",
              "      <td>Apartment</td>\n",
              "    </tr>\n",
              "    <tr>\n",
              "      <th>5</th>\n",
              "      <td>6</td>\n",
              "      <td>3.8910</td>\n",
              "      <td>1.0</td>\n",
              "      <td>4.4550</td>\n",
              "      <td>0.988</td>\n",
              "      <td>1.0</td>\n",
              "      <td>6</td>\n",
              "      <td>3</td>\n",
              "      <td>56</td>\n",
              "      <td>Condo</td>\n",
              "    </tr>\n",
              "    <tr>\n",
              "      <th>6</th>\n",
              "      <td>7</td>\n",
              "      <td>5.8980</td>\n",
              "      <td>1.0</td>\n",
              "      <td>5.8500</td>\n",
              "      <td>1.240</td>\n",
              "      <td>1.0</td>\n",
              "      <td>7</td>\n",
              "      <td>3</td>\n",
              "      <td>51</td>\n",
              "      <td>Condo</td>\n",
              "    </tr>\n",
              "    <tr>\n",
              "      <th>8</th>\n",
              "      <td>9</td>\n",
              "      <td>16.4202</td>\n",
              "      <td>2.5</td>\n",
              "      <td>9.8000</td>\n",
              "      <td>3.420</td>\n",
              "      <td>2.0</td>\n",
              "      <td>10</td>\n",
              "      <td>5</td>\n",
              "      <td>42</td>\n",
              "      <td>Condo</td>\n",
              "    </tr>\n",
              "    <tr>\n",
              "      <th>18</th>\n",
              "      <td>19</td>\n",
              "      <td>7.7841</td>\n",
              "      <td>1.5</td>\n",
              "      <td>7.1020</td>\n",
              "      <td>1.376</td>\n",
              "      <td>1.0</td>\n",
              "      <td>6</td>\n",
              "      <td>3</td>\n",
              "      <td>17</td>\n",
              "      <td>Condo</td>\n",
              "    </tr>\n",
              "    <tr>\n",
              "      <th>13</th>\n",
              "      <td>14</td>\n",
              "      <td>5.9592</td>\n",
              "      <td>1.0</td>\n",
              "      <td>6.6660</td>\n",
              "      <td>1.121</td>\n",
              "      <td>2.0</td>\n",
              "      <td>6</td>\n",
              "      <td>3</td>\n",
              "      <td>32</td>\n",
              "      <td>Condo</td>\n",
              "    </tr>\n",
              "    <tr>\n",
              "      <th>2</th>\n",
              "      <td>3</td>\n",
              "      <td>4.5429</td>\n",
              "      <td>1.0</td>\n",
              "      <td>2.2750</td>\n",
              "      <td>1.175</td>\n",
              "      <td>1.0</td>\n",
              "      <td>6</td>\n",
              "      <td>3</td>\n",
              "      <td>40</td>\n",
              "      <td>Condo</td>\n",
              "    </tr>\n",
              "    <tr>\n",
              "      <th>7</th>\n",
              "      <td>8</td>\n",
              "      <td>5.6039</td>\n",
              "      <td>1.0</td>\n",
              "      <td>9.5200</td>\n",
              "      <td>1.501</td>\n",
              "      <td>0.0</td>\n",
              "      <td>6</td>\n",
              "      <td>3</td>\n",
              "      <td>32</td>\n",
              "      <td>House</td>\n",
              "    </tr>\n",
              "    <tr>\n",
              "      <th>10</th>\n",
              "      <td>11</td>\n",
              "      <td>5.8282</td>\n",
              "      <td>1.0</td>\n",
              "      <td>6.4350</td>\n",
              "      <td>1.225</td>\n",
              "      <td>2.0</td>\n",
              "      <td>6</td>\n",
              "      <td>3</td>\n",
              "      <td>32</td>\n",
              "      <td>House</td>\n",
              "    </tr>\n",
              "    <tr>\n",
              "      <th>11</th>\n",
              "      <td>12</td>\n",
              "      <td>5.3003</td>\n",
              "      <td>1.0</td>\n",
              "      <td>4.9883</td>\n",
              "      <td>1.552</td>\n",
              "      <td>1.0</td>\n",
              "      <td>6</td>\n",
              "      <td>3</td>\n",
              "      <td>30</td>\n",
              "      <td>House</td>\n",
              "    </tr>\n",
              "    <tr>\n",
              "      <th>12</th>\n",
              "      <td>13</td>\n",
              "      <td>6.2712</td>\n",
              "      <td>1.0</td>\n",
              "      <td>5.5200</td>\n",
              "      <td>0.975</td>\n",
              "      <td>1.0</td>\n",
              "      <td>5</td>\n",
              "      <td>2</td>\n",
              "      <td>30</td>\n",
              "      <td>House</td>\n",
              "    </tr>\n",
              "    <tr>\n",
              "      <th>15</th>\n",
              "      <td>16</td>\n",
              "      <td>5.6039</td>\n",
              "      <td>1.0</td>\n",
              "      <td>9.5200</td>\n",
              "      <td>1.501</td>\n",
              "      <td>0.0</td>\n",
              "      <td>6</td>\n",
              "      <td>3</td>\n",
              "      <td>32</td>\n",
              "      <td>House</td>\n",
              "    </tr>\n",
              "    <tr>\n",
              "      <th>1</th>\n",
              "      <td>2</td>\n",
              "      <td>5.0208</td>\n",
              "      <td>1.0</td>\n",
              "      <td>3.5310</td>\n",
              "      <td>1.500</td>\n",
              "      <td>2.0</td>\n",
              "      <td>7</td>\n",
              "      <td>4</td>\n",
              "      <td>62</td>\n",
              "      <td>House</td>\n",
              "    </tr>\n",
              "    <tr>\n",
              "      <th>17</th>\n",
              "      <td>18</td>\n",
              "      <td>6.6969</td>\n",
              "      <td>1.5</td>\n",
              "      <td>6.9020</td>\n",
              "      <td>1.488</td>\n",
              "      <td>1.5</td>\n",
              "      <td>7</td>\n",
              "      <td>3</td>\n",
              "      <td>22</td>\n",
              "      <td>House</td>\n",
              "    </tr>\n",
              "  </tbody>\n",
              "</table>\n",
              "</div>\n",
              "      <button class=\"colab-df-convert\" onclick=\"convertToInteractive('df-ad3fbc54-a977-4388-ab32-6fa2c95fccbf')\"\n",
              "              title=\"Convert this dataframe to an interactive table.\"\n",
              "              style=\"display:none;\">\n",
              "        \n",
              "  <svg xmlns=\"http://www.w3.org/2000/svg\" height=\"24px\"viewBox=\"0 0 24 24\"\n",
              "       width=\"24px\">\n",
              "    <path d=\"M0 0h24v24H0V0z\" fill=\"none\"/>\n",
              "    <path d=\"M18.56 5.44l.94 2.06.94-2.06 2.06-.94-2.06-.94-.94-2.06-.94 2.06-2.06.94zm-11 1L8.5 8.5l.94-2.06 2.06-.94-2.06-.94L8.5 2.5l-.94 2.06-2.06.94zm10 10l.94 2.06.94-2.06 2.06-.94-2.06-.94-.94-2.06-.94 2.06-2.06.94z\"/><path d=\"M17.41 7.96l-1.37-1.37c-.4-.4-.92-.59-1.43-.59-.52 0-1.04.2-1.43.59L10.3 9.45l-7.72 7.72c-.78.78-.78 2.05 0 2.83L4 21.41c.39.39.9.59 1.41.59.51 0 1.02-.2 1.41-.59l7.78-7.78 2.81-2.81c.8-.78.8-2.07 0-2.86zM5.41 20L4 18.59l7.72-7.72 1.47 1.35L5.41 20z\"/>\n",
              "  </svg>\n",
              "      </button>\n",
              "      \n",
              "  <style>\n",
              "    .colab-df-container {\n",
              "      display:flex;\n",
              "      flex-wrap:wrap;\n",
              "      gap: 12px;\n",
              "    }\n",
              "\n",
              "    .colab-df-convert {\n",
              "      background-color: #E8F0FE;\n",
              "      border: none;\n",
              "      border-radius: 50%;\n",
              "      cursor: pointer;\n",
              "      display: none;\n",
              "      fill: #1967D2;\n",
              "      height: 32px;\n",
              "      padding: 0 0 0 0;\n",
              "      width: 32px;\n",
              "    }\n",
              "\n",
              "    .colab-df-convert:hover {\n",
              "      background-color: #E2EBFA;\n",
              "      box-shadow: 0px 1px 2px rgba(60, 64, 67, 0.3), 0px 1px 3px 1px rgba(60, 64, 67, 0.15);\n",
              "      fill: #174EA6;\n",
              "    }\n",
              "\n",
              "    [theme=dark] .colab-df-convert {\n",
              "      background-color: #3B4455;\n",
              "      fill: #D2E3FC;\n",
              "    }\n",
              "\n",
              "    [theme=dark] .colab-df-convert:hover {\n",
              "      background-color: #434B5C;\n",
              "      box-shadow: 0px 1px 3px 1px rgba(0, 0, 0, 0.15);\n",
              "      filter: drop-shadow(0px 1px 2px rgba(0, 0, 0, 0.3));\n",
              "      fill: #FFFFFF;\n",
              "    }\n",
              "  </style>\n",
              "\n",
              "      <script>\n",
              "        const buttonEl =\n",
              "          document.querySelector('#df-ad3fbc54-a977-4388-ab32-6fa2c95fccbf button.colab-df-convert');\n",
              "        buttonEl.style.display =\n",
              "          google.colab.kernel.accessAllowed ? 'block' : 'none';\n",
              "\n",
              "        async function convertToInteractive(key) {\n",
              "          const element = document.querySelector('#df-ad3fbc54-a977-4388-ab32-6fa2c95fccbf');\n",
              "          const dataTable =\n",
              "            await google.colab.kernel.invokeFunction('convertToInteractive',\n",
              "                                                     [key], {});\n",
              "          if (!dataTable) return;\n",
              "\n",
              "          const docLinkHtml = 'Like what you see? Visit the ' +\n",
              "            '<a target=\"_blank\" href=https://colab.research.google.com/notebooks/data_table.ipynb>data table notebook</a>'\n",
              "            + ' to learn more about interactive tables.';\n",
              "          element.innerHTML = '';\n",
              "          dataTable['output_type'] = 'display_data';\n",
              "          await google.colab.output.renderOutput(dataTable, element);\n",
              "          const docLink = document.createElement('div');\n",
              "          docLink.innerHTML = docLinkHtml;\n",
              "          element.appendChild(docLink);\n",
              "        }\n",
              "      </script>\n",
              "    </div>\n",
              "  </div>\n",
              "  "
            ]
          },
          "metadata": {},
          "execution_count": 4
        }
      ]
    },
    {
      "cell_type": "code",
      "source": [
        "houseData = data[13:]\n",
        "condoData = data[7:13]\n",
        "apartmentData = data[:7]\n",
        "print(data.columns)"
      ],
      "metadata": {
        "colab": {
          "base_uri": "https://localhost:8080/"
        },
        "id": "J-yeCHEgDqlB",
        "outputId": "96887ece-d8ec-441c-9ef7-278010356a3d"
      },
      "execution_count": null,
      "outputs": [
        {
          "output_type": "stream",
          "name": "stdout",
          "text": [
            "Index(['House ID', 'Local Price', 'Bathrooms', 'Land Area', 'Living area',\n",
            "       '# Garages', '# Rooms', '# Bedrooms', 'Age of home',\n",
            "       'Construction type'],\n",
            "      dtype='object')\n"
          ]
        }
      ]
    },
    {
      "cell_type": "code",
      "source": [
        "colname =\"Age of home\"\n",
        "aptdata = apartmentData[colname].tolist()\n",
        "print(len(aptdata), \"\\t\", aptdata, \"\\t\", s.mean(aptdata), \"\\t\", s.variance(aptdata), \"\\t\",s.stdev(aptdata))\n",
        "condata = condoData[colname].tolist()\n",
        "print(len(condata), \"\\t\", condata, \"\\t\", s.mean(condata), \"\\t\", s.variance(condata), \"\\t\", s.stdev(condata))\n",
        "hodata = houseData[colname].tolist()\n",
        "print(len(hodata), \"\\t\", hodata, \"\\t\", s.mean(hodata), \"\\t\", s.variance(hodata), \"\\t\", s.stdev(hodata))"
      ],
      "metadata": {
        "colab": {
          "base_uri": "https://localhost:8080/"
        },
        "id": "A9ijXI0DDtCn",
        "outputId": "69d7b287-09e3-4355-c243-23bdb0e23aae"
      },
      "execution_count": null,
      "outputs": [
        {
          "output_type": "stream",
          "name": "stdout",
          "text": [
            "7 \t [42, 50, 46, 42, 14, 54, 23] \t 38.714285714285715 \t 215.57142857142858 \t 14.682350921137548\n",
            "6 \t [56, 51, 42, 17, 32, 40] \t 39.666666666666664 \t 194.66666666666666 \t 13.9522996909709\n",
            "7 \t [32, 32, 30, 30, 32, 62, 22] \t 34.285714285714285 \t 161.90476190476193 \t 12.724180205607036\n"
          ]
        }
      ]
    },
    {
      "cell_type": "code",
      "source": [
        "# Occurance of each class\n",
        "apt_probab = len(aptdata)/20\n",
        "condo_probab = len(condata)/20\n",
        "house_probab = len(hodata)/20\n",
        "\n",
        "print(\"apt_probab: \", apt_probab)\n",
        "print(\"condo_probab: \", condo_probab)\n",
        "print(\"house_probab: \",house_probab)"
      ],
      "metadata": {
        "colab": {
          "base_uri": "https://localhost:8080/"
        },
        "id": "T9lvJjxfD3RQ",
        "outputId": "970c562b-46a6-4faf-e770-4baea2620c24"
      },
      "execution_count": null,
      "outputs": [
        {
          "output_type": "stream",
          "name": "stdout",
          "text": [
            "apt_probab:  0.35\n",
            "condo_probab:  0.3\n",
            "house_probab:  0.35\n"
          ]
        }
      ]
    },
    {
      "cell_type": "code",
      "source": [
        "# Loading the test data\n",
        "test_data = pd.read_excel(\"/content/drive/MyDrive/Asssignment4_Data.xlsx\", \"Test\")\n",
        "test_data.head()"
      ],
      "metadata": {
        "colab": {
          "base_uri": "https://localhost:8080/",
          "height": 206
        },
        "id": "ocL-lw8QD8Gy",
        "outputId": "872cf8f1-4654-4c62-a428-34f0d3619f6f"
      },
      "execution_count": null,
      "outputs": [
        {
          "output_type": "execute_result",
          "data": {
            "text/plain": [
              "   House ID  Local Price  Bathrooms  Land Area  Living area  # Garages  \\\n",
              "0        24       6.0931        1.5     6.7265        1.652        1.0   \n",
              "1        25       8.3607        1.5     9.1500        1.777        2.0   \n",
              "2        26       8.1400        1.0     8.0000        1.504        2.0   \n",
              "3        27       9.1416        1.5     7.3262        1.831        1.5   \n",
              "4        28      12.0000        1.5     5.0000        1.200        2.0   \n",
              "\n",
              "   # Rooms  # Bedrooms  Age of home Construction type  \n",
              "0        6           3           44         Apartment  \n",
              "1        8           4           48             House  \n",
              "2        7           3            3             House  \n",
              "3        8           4           31         Apartment  \n",
              "4        6           3           30         Apartment  "
            ],
            "text/html": [
              "\n",
              "  <div id=\"df-4012b64c-9200-4cf3-a1bd-a046ce1c175d\">\n",
              "    <div class=\"colab-df-container\">\n",
              "      <div>\n",
              "<style scoped>\n",
              "    .dataframe tbody tr th:only-of-type {\n",
              "        vertical-align: middle;\n",
              "    }\n",
              "\n",
              "    .dataframe tbody tr th {\n",
              "        vertical-align: top;\n",
              "    }\n",
              "\n",
              "    .dataframe thead th {\n",
              "        text-align: right;\n",
              "    }\n",
              "</style>\n",
              "<table border=\"1\" class=\"dataframe\">\n",
              "  <thead>\n",
              "    <tr style=\"text-align: right;\">\n",
              "      <th></th>\n",
              "      <th>House ID</th>\n",
              "      <th>Local Price</th>\n",
              "      <th>Bathrooms</th>\n",
              "      <th>Land Area</th>\n",
              "      <th>Living area</th>\n",
              "      <th># Garages</th>\n",
              "      <th># Rooms</th>\n",
              "      <th># Bedrooms</th>\n",
              "      <th>Age of home</th>\n",
              "      <th>Construction type</th>\n",
              "    </tr>\n",
              "  </thead>\n",
              "  <tbody>\n",
              "    <tr>\n",
              "      <th>0</th>\n",
              "      <td>24</td>\n",
              "      <td>6.0931</td>\n",
              "      <td>1.5</td>\n",
              "      <td>6.7265</td>\n",
              "      <td>1.652</td>\n",
              "      <td>1.0</td>\n",
              "      <td>6</td>\n",
              "      <td>3</td>\n",
              "      <td>44</td>\n",
              "      <td>Apartment</td>\n",
              "    </tr>\n",
              "    <tr>\n",
              "      <th>1</th>\n",
              "      <td>25</td>\n",
              "      <td>8.3607</td>\n",
              "      <td>1.5</td>\n",
              "      <td>9.1500</td>\n",
              "      <td>1.777</td>\n",
              "      <td>2.0</td>\n",
              "      <td>8</td>\n",
              "      <td>4</td>\n",
              "      <td>48</td>\n",
              "      <td>House</td>\n",
              "    </tr>\n",
              "    <tr>\n",
              "      <th>2</th>\n",
              "      <td>26</td>\n",
              "      <td>8.1400</td>\n",
              "      <td>1.0</td>\n",
              "      <td>8.0000</td>\n",
              "      <td>1.504</td>\n",
              "      <td>2.0</td>\n",
              "      <td>7</td>\n",
              "      <td>3</td>\n",
              "      <td>3</td>\n",
              "      <td>House</td>\n",
              "    </tr>\n",
              "    <tr>\n",
              "      <th>3</th>\n",
              "      <td>27</td>\n",
              "      <td>9.1416</td>\n",
              "      <td>1.5</td>\n",
              "      <td>7.3262</td>\n",
              "      <td>1.831</td>\n",
              "      <td>1.5</td>\n",
              "      <td>8</td>\n",
              "      <td>4</td>\n",
              "      <td>31</td>\n",
              "      <td>Apartment</td>\n",
              "    </tr>\n",
              "    <tr>\n",
              "      <th>4</th>\n",
              "      <td>28</td>\n",
              "      <td>12.0000</td>\n",
              "      <td>1.5</td>\n",
              "      <td>5.0000</td>\n",
              "      <td>1.200</td>\n",
              "      <td>2.0</td>\n",
              "      <td>6</td>\n",
              "      <td>3</td>\n",
              "      <td>30</td>\n",
              "      <td>Apartment</td>\n",
              "    </tr>\n",
              "  </tbody>\n",
              "</table>\n",
              "</div>\n",
              "      <button class=\"colab-df-convert\" onclick=\"convertToInteractive('df-4012b64c-9200-4cf3-a1bd-a046ce1c175d')\"\n",
              "              title=\"Convert this dataframe to an interactive table.\"\n",
              "              style=\"display:none;\">\n",
              "        \n",
              "  <svg xmlns=\"http://www.w3.org/2000/svg\" height=\"24px\"viewBox=\"0 0 24 24\"\n",
              "       width=\"24px\">\n",
              "    <path d=\"M0 0h24v24H0V0z\" fill=\"none\"/>\n",
              "    <path d=\"M18.56 5.44l.94 2.06.94-2.06 2.06-.94-2.06-.94-.94-2.06-.94 2.06-2.06.94zm-11 1L8.5 8.5l.94-2.06 2.06-.94-2.06-.94L8.5 2.5l-.94 2.06-2.06.94zm10 10l.94 2.06.94-2.06 2.06-.94-2.06-.94-.94-2.06-.94 2.06-2.06.94z\"/><path d=\"M17.41 7.96l-1.37-1.37c-.4-.4-.92-.59-1.43-.59-.52 0-1.04.2-1.43.59L10.3 9.45l-7.72 7.72c-.78.78-.78 2.05 0 2.83L4 21.41c.39.39.9.59 1.41.59.51 0 1.02-.2 1.41-.59l7.78-7.78 2.81-2.81c.8-.78.8-2.07 0-2.86zM5.41 20L4 18.59l7.72-7.72 1.47 1.35L5.41 20z\"/>\n",
              "  </svg>\n",
              "      </button>\n",
              "      \n",
              "  <style>\n",
              "    .colab-df-container {\n",
              "      display:flex;\n",
              "      flex-wrap:wrap;\n",
              "      gap: 12px;\n",
              "    }\n",
              "\n",
              "    .colab-df-convert {\n",
              "      background-color: #E8F0FE;\n",
              "      border: none;\n",
              "      border-radius: 50%;\n",
              "      cursor: pointer;\n",
              "      display: none;\n",
              "      fill: #1967D2;\n",
              "      height: 32px;\n",
              "      padding: 0 0 0 0;\n",
              "      width: 32px;\n",
              "    }\n",
              "\n",
              "    .colab-df-convert:hover {\n",
              "      background-color: #E2EBFA;\n",
              "      box-shadow: 0px 1px 2px rgba(60, 64, 67, 0.3), 0px 1px 3px 1px rgba(60, 64, 67, 0.15);\n",
              "      fill: #174EA6;\n",
              "    }\n",
              "\n",
              "    [theme=dark] .colab-df-convert {\n",
              "      background-color: #3B4455;\n",
              "      fill: #D2E3FC;\n",
              "    }\n",
              "\n",
              "    [theme=dark] .colab-df-convert:hover {\n",
              "      background-color: #434B5C;\n",
              "      box-shadow: 0px 1px 3px 1px rgba(0, 0, 0, 0.15);\n",
              "      filter: drop-shadow(0px 1px 2px rgba(0, 0, 0, 0.3));\n",
              "      fill: #FFFFFF;\n",
              "    }\n",
              "  </style>\n",
              "\n",
              "      <script>\n",
              "        const buttonEl =\n",
              "          document.querySelector('#df-4012b64c-9200-4cf3-a1bd-a046ce1c175d button.colab-df-convert');\n",
              "        buttonEl.style.display =\n",
              "          google.colab.kernel.accessAllowed ? 'block' : 'none';\n",
              "\n",
              "        async function convertToInteractive(key) {\n",
              "          const element = document.querySelector('#df-4012b64c-9200-4cf3-a1bd-a046ce1c175d');\n",
              "          const dataTable =\n",
              "            await google.colab.kernel.invokeFunction('convertToInteractive',\n",
              "                                                     [key], {});\n",
              "          if (!dataTable) return;\n",
              "\n",
              "          const docLinkHtml = 'Like what you see? Visit the ' +\n",
              "            '<a target=\"_blank\" href=https://colab.research.google.com/notebooks/data_table.ipynb>data table notebook</a>'\n",
              "            + ' to learn more about interactive tables.';\n",
              "          element.innerHTML = '';\n",
              "          dataTable['output_type'] = 'display_data';\n",
              "          await google.colab.output.renderOutput(dataTable, element);\n",
              "          const docLink = document.createElement('div');\n",
              "          docLink.innerHTML = docLinkHtml;\n",
              "          element.appendChild(docLink);\n",
              "        }\n",
              "      </script>\n",
              "    </div>\n",
              "  </div>\n",
              "  "
            ]
          },
          "metadata": {},
          "execution_count": 8
        }
      ]
    },
    {
      "cell_type": "markdown",
      "source": [
        "Hard coding the Conditional probabilities calculated in the previous part by hand."
      ],
      "metadata": {
        "id": "YotcQzG7WLfD"
      }
    },
    {
      "cell_type": "code",
      "source": [
        "# Local Price\n",
        "p_LP_A = [0.104, 0.106, 0.107, 0.097, 0.047]\n",
        "p_LP_C = [0.083, 0.084, 0.085, 0.080, 0.52]\n",
        "p_LP_H = [0.5, 0.000021, 0.0001, 0, 0]\n",
        "\n",
        "#Land Area\n",
        "p_LandA_A = [0.120, 0.07, 0.103, 0.114, 0.115]\n",
        "p_LandA_C = [0.15, 0.07, 0.116, 0.137, 0.144]\n",
        "p_LandA_H = [0.17, 0.09, 0.14, 0.16, 0.13]\n",
        "\n",
        "#Bathroom\n",
        "p_Bath_A = [0.65, 0.65, 0.62, 0.65, 0.65]\n",
        "p_Bath_C = [0.63, 0.63, 0.57, 0.63, 0.63]\n",
        "p_Bath_H = [0.155, 0.155, 1.97, 0.155, 0.155]\n",
        "\n",
        "#Living Area\n",
        "p_LivingA_A = [0.55, 0.52, 0.56, 0.5, 0.51]\n",
        "p_LivingA_C = [0.429, 0.419, 0.431, 0.413, 0.401]\n",
        "p_LivingA_H = [0.88, 0.35, 1.63, 0.21, 1.25]\n",
        "\n",
        "#Garages\n",
        "p_G_A = [0.552, 0.3, 0.3, 0.529, 0.3]\n",
        "p_G_C = [0.63, 0.33, 0.33, 0.73, 0.33]\n",
        "p_G_H = [0.47, 0.25, 0.25, 0.42, 0.25]\n",
        "\n",
        "#Rooms 6 8 7 8 6\n",
        "p_R_A = [0.24, 0.20, 0.29, 0.20, 0.24]\n",
        "p_R_C = [0.21, 0.19, 0.24, 0.19, 0.21]\n",
        "p_R_H = [0.56, 0.015, 0.26, 0.015, 0.56]\n",
        "\n",
        "#Bedroom\n",
        "p_Bed_A = [0.37, 0.34, 0.37, 0.34, 0.37]\n",
        "p_Bed_C = [0.45, 0.34, 0.45, 0.34, 0.45]\n",
        "p_Bed_H = [0.69, 0.15, 0.69, 0.15, 0.69]\n",
        "\n",
        "#Age of Home\n",
        "p_Age_A = [0.025, 0.022, 0.001, 0.023, 0.022]\n",
        "p_Age_C = [0.027, 0.023, 0.0009, 0.02, 0.022]\n",
        "p_Age_H = [0.023, 0.17, 0.0015, 0.03, 0.029]"
      ],
      "metadata": {
        "id": "d4rEqioqD_rc"
      },
      "execution_count": null,
      "outputs": []
    },
    {
      "cell_type": "markdown",
      "source": [
        "Probabilities of each class as well as the final classification based on the MAP rule"
      ],
      "metadata": {
        "id": "AOiCU9dqWbbV"
      }
    },
    {
      "cell_type": "code",
      "source": [
        "MAP_classify = []\n",
        "for i in range(0, 5):\n",
        "  probab_Apartment = p_LP_A[i] * p_LandA_A[i] * p_Bath_A[i] * p_LivingA_A[i] * p_G_A[i] * p_R_A[i] * p_Bed_A[i] * p_Age_A[i] * apt_probab\n",
        "  probab_Condo = p_LP_C[i] * p_LandA_C[i] * p_Bath_C[i] * p_LivingA_C[i] * p_G_C[i] * p_R_C[i] * p_Bed_C[i] * p_Age_C[i] * condo_probab\n",
        "  probab_House = p_LP_H[i] * p_LandA_H[i] * p_Bath_H[i] * p_LivingA_H[i] * p_G_H[i] * p_R_H[i] * p_Bed_H[i] * p_Age_H[i] * house_probab\n",
        "  lst = []\n",
        "  lst.append(probab_Apartment)\n",
        "  lst.append(probab_Condo)\n",
        "  lst.append(probab_House)\n",
        "  MAP_classify.append(lst)\n",
        "\n",
        "misclassify = 0\n",
        "for i in range(0, 5):\n",
        "  probab = MAP_classify[i]\n",
        "  clss = \"\"\n",
        "  if np.argmax(MAP_classify[i]) == 0:\n",
        "    clss = \"APARTMENT\"\n",
        "    print(clss, MAP_classify[i], probab[np.argmax(MAP_classify[i])])\n",
        "  if np.argmax(MAP_classify[i]) == 1:\n",
        "    clss = \"CONDO\"\n",
        "    print(clss, MAP_classify[i], probab[np.argmax(MAP_classify[i])])\n",
        "  if np.argmax(MAP_classify[i]) == 2:\n",
        "    clss = \"HOUSE\"\n",
        "    print(clss, MAP_classify[i], probab[np.argmax(MAP_classify[i])])\n",
        "  if clss.lower() != (test_data[\"Construction type\"].tolist()[i]).lower():\n",
        "    misclassify += 1 \n",
        "print(\"Misclassified: \", misclassify, \"Correct: \", 5-misclassify) "
      ],
      "metadata": {
        "colab": {
          "base_uri": "https://localhost:8080/"
        },
        "id": "4r0NvnaqED5V",
        "outputId": "48de32df-618d-43b8-d677-6caa3cd0477b"
      },
      "execution_count": null,
      "outputs": [
        {
          "output_type": "stream",
          "name": "stdout",
          "text": [
            "HOUSE [1.9135980864e-06, 1.6226489381602497e-06, 1.6949783373599997e-05] 1.6949783373599997e-05\n",
            "APARTMENT [3.939503568e-07, 2.2831132112712004e-07, 3.431634609374999e-12] 3.939503568e-07\n",
            "APARTMENT [4.311116310479999e-08, 2.3309368101359998e-08, 1.05853108725e-09] 4.311116310479999e-08\n",
            "APARTMENT [1.04068767621e-06, 8.068778317152001e-07, 0.0] 1.04068767621e-06\n",
            "CONDO [3.675396324599999e-07, 3.8935023551424e-06, 0.0] 3.8935023551424e-06\n",
            "Misclassified:  4 Correct:  1\n"
          ]
        }
      ]
    },
    {
      "cell_type": "markdown",
      "source": [
        "We observe that the Local price feature has two zero values in its probability for the class House. By ignoring this feature we should be able to get better classification. "
      ],
      "metadata": {
        "id": "etivWPMKWhvA"
      }
    },
    {
      "cell_type": "code",
      "source": [
        "# MAP classification by ignoring the local price feature.\n",
        "MAP_classify = []\n",
        "for i in range(0, 5):\n",
        "  probab_Apartment = p_LandA_A[i] * p_Bath_A[i] * p_LivingA_A[i] * p_G_A[i] * p_R_A[i] * p_Bed_A[i] * p_Age_A[i] * apt_probab\n",
        "  probab_Condo = p_LandA_C[i] * p_Bath_C[i] * p_LivingA_C[i] * p_G_C[i] * p_R_C[i] * p_Bed_C[i] * p_Age_C[i] * condo_probab\n",
        "  probab_House = p_LandA_H[i] * p_Bath_H[i] * p_LivingA_H[i] * p_G_H[i] * p_R_H[i] * p_Bed_H[i] * p_Age_H[i] * house_probab\n",
        "  lst = []\n",
        "  lst.append(probab_Apartment)\n",
        "  lst.append(probab_Condo)\n",
        "  lst.append(probab_House)\n",
        "  MAP_classify.append(lst)\n",
        "\n",
        "misclassify = 0\n",
        "for i in range(0, 5):\n",
        "  probab = MAP_classify[i]\n",
        "  clss = \"\"\n",
        "  if np.argmax(MAP_classify[i]) == 0:\n",
        "    clss = \"APARTMENT\"\n",
        "    print(clss, MAP_classify[i], probab[np.argmax(MAP_classify[i])])\n",
        "  if np.argmax(MAP_classify[i]) == 1:\n",
        "    clss = \"CONDO\"\n",
        "    print(clss, MAP_classify[i], probab[np.argmax(MAP_classify[i])])\n",
        "  if np.argmax(MAP_classify[i]) == 2:\n",
        "    clss = \"HOUSE\"\n",
        "    print(clss, MAP_classify[i], probab[np.argmax(MAP_classify[i])])\n",
        "  if clss.lower() != (test_data[\"Construction type\"].tolist()[i]).lower():\n",
        "    misclassify += 1 \n",
        "print(\"Misclassified: \", misclassify, \"Correct: \", 5-misclassify)"
      ],
      "metadata": {
        "colab": {
          "base_uri": "https://localhost:8080/"
        },
        "id": "dlxnMNy_FgTR",
        "outputId": "6a5c028e-337d-4b7f-b418-27481d32f90f"
      },
      "execution_count": null,
      "outputs": [
        {
          "output_type": "stream",
          "name": "stdout",
          "text": [
            "HOUSE [1.83999816e-05, 1.954998720675e-05, 3.3899566747199994e-05] 3.3899566747199994e-05\n",
            "APARTMENT [3.7165128000000006e-06, 2.7179919181800006e-06, 1.6341117187499998e-07] 3.7165128000000006e-06\n",
            "HOUSE [4.029080664e-07, 2.74227860016e-07, 1.0585310872500002e-05] 1.0585310872500002e-05\n",
            "APARTMENT [1.0728738930000002e-05, 1.0085972896440001e-05, 5.167637999999998e-08] 1.0728738930000002e-05\n",
            "HOUSE [7.81999218e-06, 7.487504529119999e-06, 2.4696091875000008e-05] 2.4696091875000008e-05\n",
            "Misclassified:  3 Correct:  2\n"
          ]
        }
      ]
    },
    {
      "cell_type": "markdown",
      "source": [
        "## **Question 2**"
      ],
      "metadata": {
        "id": "grsR2DFZI31r"
      }
    },
    {
      "cell_type": "code",
      "source": [
        "train_data = pd.read_excel(\"/content/drive/MyDrive/Asssignment4_Data.xlsx\", \"Train\")\n",
        "train_data.columns\n",
        "\n",
        "x_train = train_data[['Local Price', 'Bathrooms', 'Land Area', 'Living area', '# Garages', '# Rooms', '# Bedrooms', 'Age of home']]\n",
        "y_train = train_data['Construction type']\n",
        "x_test = test_data[['Local Price', 'Bathrooms', 'Land Area', 'Living area', '# Garages', '# Rooms', '# Bedrooms', 'Age of home']]\n",
        "y_test = test_data['Construction type']"
      ],
      "metadata": {
        "id": "zIqOEarfI5mh"
      },
      "execution_count": null,
      "outputs": []
    },
    {
      "cell_type": "code",
      "source": [
        "d_tree = DT()\n",
        "d_tree.fit(x_train, y_train)"
      ],
      "metadata": {
        "colab": {
          "base_uri": "https://localhost:8080/"
        },
        "id": "nbl3LkTfJCVH",
        "outputId": "8900b351-b3bd-4017-a704-19c44e7fa48c"
      },
      "execution_count": null,
      "outputs": [
        {
          "output_type": "execute_result",
          "data": {
            "text/plain": [
              "DecisionTreeClassifier()"
            ]
          },
          "metadata": {},
          "execution_count": 13
        }
      ]
    },
    {
      "cell_type": "code",
      "source": [
        "features= ['Local Price', 'Bathrooms', 'Land Area', 'Living area', '# Garages', '# Rooms', '# Bedrooms', 'Age of home']\n",
        "classes = ['Apartment', 'Condo', 'House']\n",
        "plt.subplots(figsize = (3, 3), dpi=250)\n",
        "tree.plot_tree(d_tree,feature_names = features, class_names = classes, filled=True)"
      ],
      "metadata": {
        "colab": {
          "base_uri": "https://localhost:8080/",
          "height": 928
        },
        "id": "55QiUzB1JJSn",
        "outputId": "1d8d213f-2b82-4e4c-fbb2-db50a90887e8"
      },
      "execution_count": null,
      "outputs": [
        {
          "output_type": "execute_result",
          "data": {
            "text/plain": [
              "[Text(0.5, 0.9166666666666666, 'Age of home <= 36.0\\ngini = 0.665\\nsamples = 20\\nvalue = [7, 6, 7]\\nclass = Apartment'),\n",
              " Text(0.3, 0.75, 'Local Price <= 8.411\\ngini = 0.56\\nsamples = 10\\nvalue = [2, 2, 6]\\nclass = House'),\n",
              " Text(0.2, 0.5833333333333334, 'Age of home <= 19.5\\ngini = 0.375\\nsamples = 8\\nvalue = [0, 2, 6]\\nclass = House'),\n",
              " Text(0.1, 0.4166666666666667, 'gini = 0.0\\nsamples = 1\\nvalue = [0, 1, 0]\\nclass = Condo'),\n",
              " Text(0.3, 0.4166666666666667, 'Living area <= 1.173\\ngini = 0.245\\nsamples = 7\\nvalue = [0, 1, 6]\\nclass = House'),\n",
              " Text(0.2, 0.25, '# Bedrooms <= 2.5\\ngini = 0.5\\nsamples = 2\\nvalue = [0, 1, 1]\\nclass = Condo'),\n",
              " Text(0.1, 0.08333333333333333, 'gini = 0.0\\nsamples = 1\\nvalue = [0, 0, 1]\\nclass = House'),\n",
              " Text(0.3, 0.08333333333333333, 'gini = 0.0\\nsamples = 1\\nvalue = [0, 1, 0]\\nclass = Condo'),\n",
              " Text(0.4, 0.25, 'gini = 0.0\\nsamples = 5\\nvalue = [0, 0, 5]\\nclass = House'),\n",
              " Text(0.4, 0.5833333333333334, 'gini = 0.0\\nsamples = 2\\nvalue = [2, 0, 0]\\nclass = Apartment'),\n",
              " Text(0.7, 0.75, 'Local Price <= 4.55\\ngini = 0.58\\nsamples = 10\\nvalue = [5, 4, 1]\\nclass = Apartment'),\n",
              " Text(0.6, 0.5833333333333334, 'gini = 0.0\\nsamples = 2\\nvalue = [0, 2, 0]\\nclass = Condo'),\n",
              " Text(0.8, 0.5833333333333334, 'Land Area <= 5.5\\ngini = 0.531\\nsamples = 8\\nvalue = [5, 2, 1]\\nclass = Apartment'),\n",
              " Text(0.7, 0.4166666666666667, 'Age of home <= 58.0\\ngini = 0.278\\nsamples = 6\\nvalue = [5, 0, 1]\\nclass = Apartment'),\n",
              " Text(0.6, 0.25, 'gini = 0.0\\nsamples = 5\\nvalue = [5, 0, 0]\\nclass = Apartment'),\n",
              " Text(0.8, 0.25, 'gini = 0.0\\nsamples = 1\\nvalue = [0, 0, 1]\\nclass = House'),\n",
              " Text(0.9, 0.4166666666666667, 'gini = 0.0\\nsamples = 2\\nvalue = [0, 2, 0]\\nclass = Condo')]"
            ]
          },
          "metadata": {},
          "execution_count": 14
        },
        {
          "output_type": "display_data",
          "data": {
            "text/plain": [
              "<Figure size 750x750 with 1 Axes>"
            ],
            "image/png": "[encoded data removed]"
          },
          "metadata": {
            "needs_background": "light"
          }
        }
      ]
    },
    {
      "cell_type": "markdown",
      "source": [
        "**Q2. Part 1a**\n",
        "<Br>Accuracy on training set"
      ],
      "metadata": {
        "id": "tDj5nxNxXlHy"
      }
    },
    {
      "cell_type": "code",
      "source": [
        "train_accuracy = d_tree.score(x_train, y_train)\n",
        "print(\"Training Accuracy: \", train_accuracy*100,\"%\")"
      ],
      "metadata": {
        "colab": {
          "base_uri": "https://localhost:8080/"
        },
        "id": "H_JjCYIQJSuZ",
        "outputId": "605c38e3-bcfc-41ef-c244-9c848554bc70"
      },
      "execution_count": null,
      "outputs": [
        {
          "output_type": "stream",
          "name": "stdout",
          "text": [
            "Training Accuracy:  100.0 %\n"
          ]
        }
      ]
    },
    {
      "cell_type": "markdown",
      "source": [
        "**Q2. Part 1b**\n",
        "<Br>Accuracy on test set"
      ],
      "metadata": {
        "id": "xufGEAWYX1JW"
      }
    },
    {
      "cell_type": "code",
      "source": [
        "test_accuracy = d_tree.score(x_test, y_test)\n",
        "print(\"Test Accuracy: \", test_accuracy*100,\"%\")"
      ],
      "metadata": {
        "colab": {
          "base_uri": "https://localhost:8080/"
        },
        "id": "fbrflhc7JTsd",
        "outputId": "65b94c8b-42ae-46aa-8603-aff49e6ae9a6"
      },
      "execution_count": null,
      "outputs": [
        {
          "output_type": "stream",
          "name": "stdout",
          "text": [
            "Test Accuracy:  40.0 %\n"
          ]
        }
      ]
    },
    {
      "cell_type": "markdown",
      "source": [
        "**Q2. Part 2**\n",
        "<Br>Checking the effect of restricting the maximum depth of the tree by trying different depths and finding the best value. "
      ],
      "metadata": {
        "id": "3nrlUBmtX-cy"
      }
    },
    {
      "cell_type": "code",
      "source": [
        "lst_train_acc = []\n",
        "lst_test_acc = []\n",
        "for depth in range(1, 12):\n",
        "  new_DT = DT(max_depth = depth)\n",
        "  new_DT.fit(x_train, y_train)\n",
        "  tr_acc = new_DT.score(x_train, y_train)\n",
        "  tst_acc = new_DT.score(x_test, y_test)\n",
        "  lst_train_acc.append(tr_acc)\n",
        "  lst_test_acc.append(tst_acc)\n",
        "  print(\"Depth\", depth, \"\\tTraining Accuracy: \", tr_acc*100, \"%\\tTest Accuracy: \", tst_acc)"
      ],
      "metadata": {
        "colab": {
          "base_uri": "https://localhost:8080/"
        },
        "id": "RJVRn32lK_ds",
        "outputId": "41a181cc-c103-4e08-9278-31ad7c037acd"
      },
      "execution_count": null,
      "outputs": [
        {
          "output_type": "stream",
          "name": "stdout",
          "text": [
            "Depth 1 \tTraining Accuracy:  55.00000000000001 %\tTest Accuracy:  0.4\n",
            "Depth 2 \tTraining Accuracy:  75.0 %\tTest Accuracy:  0.6\n",
            "Depth 3 \tTraining Accuracy:  90.0 %\tTest Accuracy:  0.4\n",
            "Depth 4 \tTraining Accuracy:  95.0 %\tTest Accuracy:  0.4\n",
            "Depth 5 \tTraining Accuracy:  100.0 %\tTest Accuracy:  0.4\n",
            "Depth 6 \tTraining Accuracy:  100.0 %\tTest Accuracy:  0.4\n",
            "Depth 7 \tTraining Accuracy:  100.0 %\tTest Accuracy:  0.4\n",
            "Depth 8 \tTraining Accuracy:  100.0 %\tTest Accuracy:  0.4\n",
            "Depth 9 \tTraining Accuracy:  100.0 %\tTest Accuracy:  0.4\n",
            "Depth 10 \tTraining Accuracy:  100.0 %\tTest Accuracy:  0.4\n",
            "Depth 11 \tTraining Accuracy:  100.0 %\tTest Accuracy:  0.4\n"
          ]
        }
      ]
    },
    {
      "cell_type": "code",
      "source": [
        "plt.plot(range(1,12), lst_train_acc, label='Train')\n",
        "plt.plot(range(1,12), lst_test_acc, label='Test')\n",
        "plt.xlabel(\"Depth\")\n",
        "plt.ylabel(\"Accuracy\")\n",
        "plt.legend()\n",
        "plt.title(\"Accuracy vs Depths\")"
      ],
      "metadata": {
        "colab": {
          "base_uri": "https://localhost:8080/",
          "height": 312
        },
        "id": "-EFu-S2mLC8F",
        "outputId": "c1278ad0-9cdf-4a8b-a88d-74efd85d1f46"
      },
      "execution_count": null,
      "outputs": [
        {
          "output_type": "execute_result",
          "data": {
            "text/plain": [
              "Text(0.5, 1.0, 'Accuracy vs Depths')"
            ]
          },
          "metadata": {},
          "execution_count": 35
        },
        {
          "output_type": "display_data",
          "data": {
            "text/plain": [
              "<Figure size 432x288 with 1 Axes>"
            ],
            "image/png": "[encoded data removed]"
          },
          "metadata": {
            "needs_background": "light"
          }
        }
      ]
    },
    {
      "cell_type": "markdown",
      "source": [
        "For the test data set we get a max accuracy of 60% for a depth of 2."
      ],
      "metadata": {
        "id": "yHg9QhmvZeTN"
      }
    },
    {
      "cell_type": "markdown",
      "source": [
        "**Q2-Part 3**\n",
        "<Br>The depth of the tree determines how the tree is constructed. Additionally, it displays the longest possible path from the root to the leaf node. The complexity rises as we descend further into the tree, which makes categorization more difficult and increases the possibility of classification errors. The graph above shows that we have the best accuracy on the test data set at a depth of 2, which is roughly 60%."
      ],
      "metadata": {
        "id": "--ykRrL_aEtj"
      }
    },
    {
      "cell_type": "markdown",
      "source": [
        "**Q2- Part4**\n",
        "<Br>Visualising  the tree for the best performance on test set."
      ],
      "metadata": {
        "id": "z2nC_VpNafSQ"
      }
    },
    {
      "cell_type": "code",
      "source": [
        "dt_depth2 = DT(max_depth=2)\n",
        "dt_depth2.fit(x_train, y_train)\n",
        "features= ['Local Price', 'Bathrooms', 'Land Area', 'Living area', '# Garages', '# Rooms', '# Bedrooms', 'Age of home']\n",
        "classes = ['Apartment', 'Condo', 'House']\n",
        "plt.subplots(figsize = (3, 3), dpi=250)\n",
        "tree.plot_tree(d_tree,feature_names = features, class_names = classes, filled=True)"
      ],
      "metadata": {
        "colab": {
          "base_uri": "https://localhost:8080/",
          "height": 928
        },
        "id": "yD_tTxC1LZ41",
        "outputId": "11a10686-c276-4807-fe9f-bdde53882f54"
      },
      "execution_count": null,
      "outputs": [
        {
          "output_type": "execute_result",
          "data": {
            "text/plain": [
              "[Text(0.5, 0.9166666666666666, 'Age of home <= 36.0\\ngini = 0.665\\nsamples = 20\\nvalue = [7, 6, 7]\\nclass = Apartment'),\n",
              " Text(0.3, 0.75, 'Local Price <= 8.411\\ngini = 0.56\\nsamples = 10\\nvalue = [2, 2, 6]\\nclass = House'),\n",
              " Text(0.2, 0.5833333333333334, 'Age of home <= 19.5\\ngini = 0.375\\nsamples = 8\\nvalue = [0, 2, 6]\\nclass = House'),\n",
              " Text(0.1, 0.4166666666666667, 'gini = 0.0\\nsamples = 1\\nvalue = [0, 1, 0]\\nclass = Condo'),\n",
              " Text(0.3, 0.4166666666666667, 'Living area <= 1.173\\ngini = 0.245\\nsamples = 7\\nvalue = [0, 1, 6]\\nclass = House'),\n",
              " Text(0.2, 0.25, '# Bedrooms <= 2.5\\ngini = 0.5\\nsamples = 2\\nvalue = [0, 1, 1]\\nclass = Condo'),\n",
              " Text(0.1, 0.08333333333333333, 'gini = 0.0\\nsamples = 1\\nvalue = [0, 0, 1]\\nclass = House'),\n",
              " Text(0.3, 0.08333333333333333, 'gini = 0.0\\nsamples = 1\\nvalue = [0, 1, 0]\\nclass = Condo'),\n",
              " Text(0.4, 0.25, 'gini = 0.0\\nsamples = 5\\nvalue = [0, 0, 5]\\nclass = House'),\n",
              " Text(0.4, 0.5833333333333334, 'gini = 0.0\\nsamples = 2\\nvalue = [2, 0, 0]\\nclass = Apartment'),\n",
              " Text(0.7, 0.75, 'Local Price <= 4.55\\ngini = 0.58\\nsamples = 10\\nvalue = [5, 4, 1]\\nclass = Apartment'),\n",
              " Text(0.6, 0.5833333333333334, 'gini = 0.0\\nsamples = 2\\nvalue = [0, 2, 0]\\nclass = Condo'),\n",
              " Text(0.8, 0.5833333333333334, 'Land Area <= 5.5\\ngini = 0.531\\nsamples = 8\\nvalue = [5, 2, 1]\\nclass = Apartment'),\n",
              " Text(0.7, 0.4166666666666667, 'Age of home <= 58.0\\ngini = 0.278\\nsamples = 6\\nvalue = [5, 0, 1]\\nclass = Apartment'),\n",
              " Text(0.6, 0.25, 'gini = 0.0\\nsamples = 5\\nvalue = [5, 0, 0]\\nclass = Apartment'),\n",
              " Text(0.8, 0.25, 'gini = 0.0\\nsamples = 1\\nvalue = [0, 0, 1]\\nclass = House'),\n",
              " Text(0.9, 0.4166666666666667, 'gini = 0.0\\nsamples = 2\\nvalue = [0, 2, 0]\\nclass = Condo')]"
            ]
          },
          "metadata": {},
          "execution_count": 37
        },
        {
          "output_type": "display_data",
          "data": {
            "text/plain": [
              "<Figure size 750x750 with 1 Axes>"
            ],
            "image/png": "[encoded data removed]"
          },
          "metadata": {
            "needs_background": "light"
          }
        }
      ]
    },
    {
      "cell_type": "markdown",
      "source": [
        "Classification for the given values of the features by folllowing the tree manually."
      ],
      "metadata": {
        "id": "dijchTbUa3u9"
      }
    },
    {
      "cell_type": "markdown",
      "source": [
        "Inference from tree: We begin by checking if Home is <=36 years old. If it is, move to the node's left leaf. Then, we will verify if the local price is greater than 8.411, . In this case, we will move to the right node of the tree and we reach the end because there are no more leaf nodes. And our classification is **\"Apartment\"**."
      ],
      "metadata": {
        "id": "Zv_zO9kjb35W"
      }
    },
    {
      "cell_type": "markdown",
      "source": [
        "Predicting based on feature values using the library."
      ],
      "metadata": {
        "id": "z5_hCeYZcaKi"
      }
    },
    {
      "cell_type": "code",
      "source": [
        "prediction = dt_depth2.predict([[9.0384,1,7.8,1.5,1.5,7,3,23]])\n",
        "print(\"Predicted Class: \", prediction)"
      ],
      "metadata": {
        "colab": {
          "base_uri": "https://localhost:8080/"
        },
        "id": "fcCMoHJmLj71",
        "outputId": "fb5ea376-60e8-4fde-b14e-4ee148f72384"
      },
      "execution_count": null,
      "outputs": [
        {
          "output_type": "stream",
          "name": "stdout",
          "text": [
            "Predicted Class:  ['Apartment']\n"
          ]
        },
        {
          "output_type": "stream",
          "name": "stderr",
          "text": [
            "/usr/local/lib/python3.7/dist-packages/sklearn/base.py:451: UserWarning: X does not have valid feature names, but DecisionTreeClassifier was fitted with feature names\n",
            "  \"X does not have valid feature names, but\"\n"
          ]
        }
      ]
    },
    {
      "cell_type": "code",
      "source": [
        "test_accuracy = dt_depth2.score(x_test, y_test)\n",
        "print(\"Test Accuracy: \", test_accuracy*100,\"%\")"
      ],
      "metadata": {
        "colab": {
          "base_uri": "https://localhost:8080/"
        },
        "id": "yq8eNBQaDAlM",
        "outputId": "6a5fa5bc-b208-49c1-cabd-1e2ce7180164"
      },
      "execution_count": null,
      "outputs": [
        {
          "output_type": "stream",
          "name": "stdout",
          "text": [
            "Test Accuracy:  60.0 %\n"
          ]
        }
      ]
    },
    {
      "cell_type": "markdown",
      "source": [
        "## **Question 3**"
      ],
      "metadata": {
        "id": "B6sXZqArMjwc"
      }
    },
    {
      "cell_type": "markdown",
      "source": [
        "Methodology followed: Find the Euclidean distance between each row in the test data set and every row in the training data set. Then, based on the provided K value, determine the number of neighbors, and see which class pops up the most frequently among them.Lastly, determine the accuracy based on the number of correctly classified points."
      ],
      "metadata": {
        "id": "OBkrViHWejNV"
      }
    },
    {
      "cell_type": "code",
      "source": [
        "train_data = pd.read_excel(\"/content/Asssignment4_Data.xlsx\", \"Train\")\n",
        "test_data = pd.read_excel(\"/content/Asssignment4_Data.xlsx\", \"Test\")\n",
        "\n",
        "x_train = train_data[['Local Price', 'Bathrooms', 'Land Area', 'Living area', '# Garages', '# Rooms', '# Bedrooms', 'Age of home']]\n",
        "x_train_lst = x_train.values.tolist()\n",
        "y_train = train_data['Construction type'].tolist()\n",
        "x_test = test_data[['Local Price', 'Bathrooms', 'Land Area', 'Living area', '# Garages', '# Rooms', '# Bedrooms', 'Age of home']]\n",
        "x_test_lst = x_test.values.tolist()\n",
        "y_test = test_data['Construction type'].tolist()"
      ],
      "metadata": {
        "id": "9IKyVZwDMmha"
      },
      "execution_count": null,
      "outputs": []
    },
    {
      "cell_type": "code",
      "source": [
        "def calculate_euclidean_distance_for_N_neighbours(point1, training_lst, no_neighbours):\n",
        "  dist_lst = []\n",
        "  row_num = 0\n",
        "  for j in training_lst:\n",
        "    d = 0\n",
        "    for i in range(0, 8):\n",
        "      d = d + (point1[i] - j[i])**2\n",
        "    dist_lst.append([row_num, math.sqrt(d), y_train[row_num]])\n",
        "    row_num += 1\n",
        "  dist_lst = sorted(dist_lst, key=itemgetter(1), reverse=False)\n",
        "  return dist_lst[0:no_neighbours]"
      ],
      "metadata": {
        "id": "nfngByD4NkqR"
      },
      "execution_count": null,
      "outputs": []
    },
    {
      "cell_type": "code",
      "source": [
        "def get_class(most_closest_pt):\n",
        "  apt, condo, house = 0, 0, 0\n",
        "  for i in range(len(most_closest_pt)):\n",
        "    if most_closest_pt[i][2].lower() == \"Apartment\".lower():\n",
        "      apt += 1\n",
        "    if most_closest_pt[i][2].lower() == \"Condo\".lower():\n",
        "      condo += 1\n",
        "    if most_closest_pt[i][2].lower() == \"House\".lower():\n",
        "      house += 1\n",
        "  if apt > condo and apt > house:\n",
        "    return \"APARTMENT\"  \n",
        "  elif house > condo and house > apt:\n",
        "    return \"HOUSE\"\n",
        "  elif condo > apt and condo > house:\n",
        "    return \"CONDO\"\n",
        "  elif condo == apt and apt == house:\n",
        "    return random.choice([\"APARTMENT\", \"HOUSE\", \"CONDO\"])\n",
        "  elif condo == apt:\n",
        "    return random.choice([\"APARTMENT\", \"CONDO\"])\n",
        "  elif apt == house:\n",
        "    return random.choice([\"APARTMENT\", \"HOUSE\"])\n",
        "  elif condo == house:\n",
        "    return random.choice([\"HOUSE\", \"CONDO\"])\n",
        "  "
      ],
      "metadata": {
        "id": "tqwFv4MONonb"
      },
      "execution_count": null,
      "outputs": []
    },
    {
      "cell_type": "code",
      "source": [
        "def predict_class(test_point, traning_set, no_neighbour):\n",
        "  most_closest_pt = calculate_euclidean_distance_for_N_neighbours(test_point, traning_set, no_neighbour)\n",
        "  #print(most_closest_pt)\n",
        "  class_predicted = get_class(most_closest_pt)\n",
        "  return class_predicted"
      ],
      "metadata": {
        "id": "_O2sv0LzNq9O"
      },
      "execution_count": null,
      "outputs": []
    },
    {
      "cell_type": "code",
      "source": [
        "def evaluate(x_train_lst, x_test_lst, y_train, y_test, neighbours):\n",
        "  accuracy = 0\n",
        "  correct_classified = 0\n",
        "  misclassified = 0\n",
        "  for i in range(len(x_test_lst)):\n",
        "    predicted = predict_class(x_test_lst[i], x_train_lst, neighbours)\n",
        "    if predicted.lower() == y_test[i].lower():\n",
        "      correct_classified += 1\n",
        "    elif predicted.lower() != y_test[i].lower():\n",
        "      misclassified += 1\n",
        "    accuracy=correct_classified/len(x_test_lst)\n",
        "    #print(correct_classified/len(x_test_lst))\n",
        "  return accuracy"
      ],
      "metadata": {
        "id": "ZWnklpreNw4N"
      },
      "execution_count": null,
      "outputs": []
    },
    {
      "cell_type": "code",
      "source": [
        "acc_list= []\n",
        "k_list = []\n",
        "for i in range(0, 10):\n",
        "  acc = evaluate(x_train_lst, x_test_lst, y_train, y_test, i)\n",
        "  acc_list.append(acc)\n",
        "  k_list.append(i)\n",
        "print(k_list)\n",
        "print(acc_list)"
      ],
      "metadata": {
        "colab": {
          "base_uri": "https://localhost:8080/"
        },
        "id": "dq-UwKfEN1Tf",
        "outputId": "57623262-59e3-4a89-9c13-d6cd147df5e1"
      },
      "execution_count": 72,
      "outputs": [
        {
          "output_type": "stream",
          "name": "stdout",
          "text": [
            "[0, 1, 2, 3, 4, 5, 6, 7, 8, 9]\n",
            "[0.2, 0.2, 0.2, 0.2, 0.2, 0.4, 0.4, 0.4, 0.4, 0.4]\n"
          ]
        }
      ]
    },
    {
      "cell_type": "code",
      "source": [
        "plt.plot(k_list, acc_list)\n",
        "plt.xlabel(\"K values\")\n",
        "plt.ylabel(\"Accuracy\")\n",
        "plt.title(\"Accuracy vs K values\")"
      ],
      "metadata": {
        "colab": {
          "base_uri": "https://localhost:8080/",
          "height": 312
        },
        "id": "1MMs56emN6xb",
        "outputId": "d982a710-d78f-4d8a-fc36-e021a32b8d07"
      },
      "execution_count": 73,
      "outputs": [
        {
          "output_type": "execute_result",
          "data": {
            "text/plain": [
              "Text(0.5, 1.0, 'Accuracy vs K values')"
            ]
          },
          "metadata": {},
          "execution_count": 73
        },
        {
          "output_type": "display_data",
          "data": {
            "text/plain": [
              "<Figure size 432x288 with 1 Axes>"
            ],
            "image/png": "[encoded data removed]"
          },
          "metadata": {
            "needs_background": "light"
          }
        }
      ]
    },
    {
      "cell_type": "markdown",
      "source": [
        "The k value controls the amount of data points which are taken into account. Increasing k typically decreases variance and increases bias.\n",
        "<Br>The model gets overly specific and struggles to generalize if k is chosen to be too low (less than 4 in this case). It also has a tendency to be noise-sensitive. The model achieves a high level of accuracy on the train set but will perform poorly as a predictor for fresh, unforeseen data points. Consequently, we are likely to produce an overfit model.\n",
        "The model gets overly generalized and is unable to correctly predict the data points in both the train and test sets if k is chosen to be too large. Underfitting is the term for this circumstance."
      ],
      "metadata": {
        "id": "57VqbkE5gGAx"
      }
    },
    {
      "cell_type": "markdown",
      "source": [
        "KNN implementation using sklearn library"
      ],
      "metadata": {
        "id": "gWGA9kRGsezj"
      }
    },
    {
      "cell_type": "code",
      "source": [
        "from sklearn.neighbors import KNeighborsClassifier\n",
        "knn1 = KNeighborsClassifier(n_neighbors=6)\n",
        "knn1.fit(x_train, y_train)\n",
        "predict1 = knn1.predict(x_test)\n",
        "test_accuracy = knn1.score(x_test, y_test)\n",
        "print(\"Test Accuracy: \", test_accuracy*100,\"%\")"
      ],
      "metadata": {
        "colab": {
          "base_uri": "https://localhost:8080/"
        },
        "id": "G5ZXxqZ_gokF",
        "outputId": "6cadfb53-2a23-411c-b30e-5bd968c2b591"
      },
      "execution_count": 81,
      "outputs": [
        {
          "output_type": "stream",
          "name": "stdout",
          "text": [
            "Test Accuracy:  40.0 %\n"
          ]
        }
      ]
    },
    {
      "cell_type": "code",
      "source": [
        "from sklearn.model_selection import GridSearchCV\n",
        "knn = GridSearchCV(\n",
        "     estimator = KNeighborsClassifier(),\n",
        "     param_grid = {'n_neighbors': np.arange(1,6)},\n",
        "     scoring='neg_log_loss',\n",
        "     cv = 5\n",
        ")"
      ],
      "metadata": {
        "id": "ym-ldP9PggaH"
      },
      "execution_count": 77,
      "outputs": []
    },
    {
      "cell_type": "code",
      "source": [
        "knn.fit(x_train,y_train)\n",
        "scores = pd.Series(abs(knn.cv_results_['mean_test_score']))\n",
        "scores.index = np.arange(1,6)"
      ],
      "metadata": {
        "id": "ESlKEEnept6P"
      },
      "execution_count": 78,
      "outputs": []
    },
    {
      "cell_type": "code",
      "source": [
        "scores.plot(figsize=(12,8))\n",
        "plt.title(\"Log loss vs k vales\", fontsize=16)"
      ],
      "metadata": {
        "colab": {
          "base_uri": "https://localhost:8080/",
          "height": 518
        },
        "id": "6_v1u9Dbq4pn",
        "outputId": "d625cbac-2209-4657-a9c1-926018b19195"
      },
      "execution_count": 79,
      "outputs": [
        {
          "output_type": "execute_result",
          "data": {
            "text/plain": [
              "Text(0.5, 1.0, 'Log loss of knn with k vales from 1 to 5')"
            ]
          },
          "metadata": {},
          "execution_count": 79
        },
        {
          "output_type": "display_data",
          "data": {
            "text/plain": [
              "<Figure size 864x576 with 1 Axes>"
            ],
            "image/png": "[encoded data removed]"
          },
          "metadata": {
            "needs_background": "light"
          }
        }
      ]
    },
    {
      "cell_type": "markdown",
      "source": [
        "Value of log loss stabalizes after k=4."
      ],
      "metadata": {
        "id": "CgZYI_U_tf9a"
      }
    }
  ]
}