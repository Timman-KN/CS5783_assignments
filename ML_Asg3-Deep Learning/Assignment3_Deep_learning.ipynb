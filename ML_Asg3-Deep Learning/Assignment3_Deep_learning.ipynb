{
  "nbformat": 4,
  "nbformat_minor": 0,
  "metadata": {
    "colab": {
      "provenance": [],
      "collapsed_sections": []
    },
    "kernelspec": {
      "name": "python3",
      "display_name": "Python 3"
    },
    "language_info": {
      "name": "python"
    },
    "accelerator": "GPU",
    "gpuClass": "standard"
  },
  "cells": [
    {
      "cell_type": "markdown",
      "source": [
        "### **CS5783 - Assignment 3 : Deep Learning**"
      ],
      "metadata": {
        "id": "hIccCtBXVtJh"
      }
    },
    {
      "cell_type": "markdown",
      "source": [
        "**Question 1**"
      ],
      "metadata": {
        "id": "1jDwa53t0cdV"
      }
    },
    {
      "cell_type": "code",
      "execution_count": 1,
      "metadata": {
        "id": "FtCnFrp4uNsQ"
      },
      "outputs": [],
      "source": [
        "#Library import\n",
        "from keras.datasets import mnist, cifar10\n",
        "from matplotlib import pyplot\n",
        "from keras.layers import Dense, Flatten, Dropout, Activation, Conv2D, MaxPooling2D, Input\n",
        "from keras.models import Sequential, Model\n",
        "import matplotlib.pyplot as plt\n",
        "import keras as ks\n",
        "import tensorflow as tf\n"
      ]
    },
    {
      "cell_type": "code",
      "source": [
        "#Loading MNIST dataset\n",
        "(x_train, y_train), (x_test, y_test) = mnist.load_data()"
      ],
      "metadata": {
        "id": "bMgwV2kDwGRS",
        "colab": {
          "base_uri": "https://localhost:8080/"
        },
        "outputId": "7ce18918-f584-4905-ea2a-6c1c0e8e48b5"
      },
      "execution_count": 2,
      "outputs": [
        {
          "output_type": "stream",
          "name": "stdout",
          "text": [
            "Downloading data from https://storage.googleapis.com/tensorflow/tf-keras-datasets/mnist.npz\n",
            "11490434/11490434 [==============================] - 0s 0us/step\n"
          ]
        }
      ]
    },
    {
      "cell_type": "code",
      "source": [
        "#Normalizing & reshaping intosingle channel\n",
        "x_train_norm_mnist = x_train/255.0\n",
        "x_test_norm_mnist = x_test/255.0\n",
        "x_train_norm_reshaped = x_train_norm_mnist.reshape(-1, 28, 28, 1)\n",
        "x_test_norm_reshaped = x_test_norm_mnist.reshape(-1, 28, 28, 1)"
      ],
      "metadata": {
        "id": "d04Dn3fkwiTn"
      },
      "execution_count": 3,
      "outputs": []
    },
    {
      "cell_type": "markdown",
      "source": [
        "**Q(1.1)** **Regular CNN Model** : **Lth layer has more filters than L-1 th layer.**"
      ],
      "metadata": {
        "id": "xYqEUlZ908NU"
      }
    },
    {
      "cell_type": "code",
      "source": [
        "#Regular CNN model with filters increasing by 2^x\n",
        "regular_CNN = Sequential()\n",
        "\n",
        "regular_CNN.add(Conv2D(8, kernel_size = (3,3), padding= 'same', activation='relu'))\n",
        "regular_CNN.add(Conv2D(16, kernel_size = (3,3), padding= 'same', activation='relu'))\n",
        "regular_CNN.add(Conv2D(32, kernel_size = (3,3), padding= 'same', activation='relu'))\n",
        "\n",
        "regular_CNN.add(MaxPooling2D(pool_size=(2, 2), strides=(2,2)))\n",
        "\n",
        "regular_CNN.add(Conv2D(64, kernel_size = (3,3), padding= 'same', activation='relu'))\n",
        "regular_CNN.add(Conv2D(128, kernel_size = (3,3), padding= 'same', activation='relu'))\n",
        "regular_CNN.add(Conv2D(256, kernel_size = (3,3), padding= 'same', activation='relu'))\n",
        "regular_CNN.add(Conv2D(512, kernel_size = (3,3), padding= 'same', activation='relu'))\n",
        "\n",
        "regular_CNN.add(MaxPooling2D(pool_size=(2, 2), strides=(2,2)))\n",
        "\n",
        "regular_CNN.add(Conv2D(1024, kernel_size = (3,3), padding= 'same', activation='relu'))\n",
        "regular_CNN.add(Conv2D(2048, kernel_size = (3,3), padding= 'same', activation='relu'))\n",
        "regular_CNN.add(Conv2D(4096, kernel_size = (3,3), padding= 'same', activation='relu'))\n",
        "\n",
        "regular_CNN.add(Flatten())\n",
        "regular_CNN.add(Dense(10, activation='softmax'))\n",
        "regular_CNN.build(input_shape=(1,28,28,1))\n",
        "regular_CNN.summary()\n"
      ],
      "metadata": {
        "colab": {
          "base_uri": "https://localhost:8080/"
        },
        "id": "t_uRODCQwpH9",
        "outputId": "fa2028f9-9106-4701-ace6-fb5becad62b7"
      },
      "execution_count": 4,
      "outputs": [
        {
          "output_type": "stream",
          "name": "stdout",
          "text": [
            "Model: \"sequential\"\n",
            "_________________________________________________________________\n",
            " Layer (type)                Output Shape              Param #   \n",
            "=================================================================\n",
            " conv2d (Conv2D)             (1, 28, 28, 8)            80        \n",
            "                                                                 \n",
            " conv2d_1 (Conv2D)           (1, 28, 28, 16)           1168      \n",
            "                                                                 \n",
            " conv2d_2 (Conv2D)           (1, 28, 28, 32)           4640      \n",
            "                                                                 \n",
            " max_pooling2d (MaxPooling2D  (1, 14, 14, 32)          0         \n",
            " )                                                               \n",
            "                                                                 \n",
            " conv2d_3 (Conv2D)           (1, 14, 14, 64)           18496     \n",
            "                                                                 \n",
            " conv2d_4 (Conv2D)           (1, 14, 14, 128)          73856     \n",
            "                                                                 \n",
            " conv2d_5 (Conv2D)           (1, 14, 14, 256)          295168    \n",
            "                                                                 \n",
            " conv2d_6 (Conv2D)           (1, 14, 14, 512)          1180160   \n",
            "                                                                 \n",
            " max_pooling2d_1 (MaxPooling  (1, 7, 7, 512)           0         \n",
            " 2D)                                                             \n",
            "                                                                 \n",
            " conv2d_7 (Conv2D)           (1, 7, 7, 1024)           4719616   \n",
            "                                                                 \n",
            " conv2d_8 (Conv2D)           (1, 7, 7, 2048)           18876416  \n",
            "                                                                 \n",
            " conv2d_9 (Conv2D)           (1, 7, 7, 4096)           75501568  \n",
            "                                                                 \n",
            " flatten (Flatten)           (1, 200704)               0         \n",
            "                                                                 \n",
            " dense (Dense)               (1, 10)                   2007050   \n",
            "                                                                 \n",
            "=================================================================\n",
            "Total params: 102,678,218\n",
            "Trainable params: 102,678,218\n",
            "Non-trainable params: 0\n",
            "_________________________________________________________________\n"
          ]
        }
      ]
    },
    {
      "cell_type": "code",
      "source": [
        "reg_CNN_1 = ks.models.clone_model(regular_CNN)\n",
        "reg_CNN_1.compile(optimizer = tf.keras.optimizers.Adam(learning_rate=0.001), loss='sparse_categorical_crossentropy', metrics=['accuracy'])\n",
        "reg_CNN_1.fit(x_train_norm_reshaped, y_train) \n",
        "reg_CNN_1.evaluate(x_test_norm_reshaped, y_test)"
      ],
      "metadata": {
        "colab": {
          "base_uri": "https://localhost:8080/"
        },
        "id": "a2Qvcn7Y3Ben",
        "outputId": "6930a88c-6094-458d-cde6-94590d56370b"
      },
      "execution_count": 7,
      "outputs": [
        {
          "output_type": "stream",
          "name": "stderr",
          "text": [
            "WARNING:tensorflow:Model was constructed with shape (1, 28, 28, 1) for input KerasTensor(type_spec=TensorSpec(shape=(1, 28, 28, 1), dtype=tf.float32, name='conv2d_10_input'), name='conv2d_10_input', description=\"created by layer 'conv2d_10_input'\"), but it was called on an input with incompatible shape (32, 28, 28, 1).\n",
            "WARNING:tensorflow:Model was constructed with shape (1, 28, 28, 1) for input KerasTensor(type_spec=TensorSpec(shape=(1, 28, 28, 1), dtype=tf.float32, name='conv2d_10_input'), name='conv2d_10_input', description=\"created by layer 'conv2d_10_input'\"), but it was called on an input with incompatible shape (32, 28, 28, 1).\n"
          ]
        },
        {
          "output_type": "stream",
          "name": "stdout",
          "text": [
            "1875/1875 [==============================] - 21s 7ms/step - loss: 0.1554 - accuracy: 0.9488\n",
            "313/313 [==============================] - 1s 4ms/step - loss: 1.5698 - accuracy: 0.9851\n"
          ]
        },
        {
          "output_type": "execute_result",
          "data": {
            "text/plain": [
              "[1.569840669631958, 0.9850999712944031]"
            ]
          },
          "metadata": {},
          "execution_count": 7
        }
      ]
    },
    {
      "cell_type": "code",
      "source": [
        "regular_CNN = Sequential()\n",
        "\n",
        "regular_CNN.add(Conv2D(20, kernel_size = (3,3), padding= 'same', activation='relu'))\n",
        "regular_CNN.add(Conv2D(30, kernel_size = (3,3), padding= 'same', activation='relu'))\n",
        "regular_CNN.add(Conv2D(40, kernel_size = (3,3), padding= 'same', activation='relu'))\n",
        "\n",
        "regular_CNN.add(MaxPooling2D(pool_size=(2, 2), strides=(2,2)))\n",
        "\n",
        "regular_CNN.add(Conv2D(50, kernel_size = (3,3), padding= 'same', activation='relu'))\n",
        "regular_CNN.add(Conv2D(60, kernel_size = (3,3), padding= 'same', activation='relu'))\n",
        "regular_CNN.add(Conv2D(70, kernel_size = (3,3), padding= 'same', activation='relu'))\n",
        "regular_CNN.add(Conv2D(80, kernel_size = (3,3), padding= 'same', activation='relu'))\n",
        "\n",
        "regular_CNN.add(MaxPooling2D(pool_size=(2, 2), strides=(2,2)))\n",
        "\n",
        "regular_CNN.add(Conv2D(90, kernel_size = (3,3), padding= 'same', activation='relu'))\n",
        "regular_CNN.add(Conv2D(100, kernel_size = (3,3), padding= 'same', activation='relu'))\n",
        "regular_CNN.add(Conv2D(110, kernel_size = (3,3), padding= 'same', activation='relu'))\n",
        "\n",
        "regular_CNN.add(Flatten())\n",
        "regular_CNN.add(Dense(10, activation='softmax'))\n",
        "regular_CNN.build(input_shape=(1,28,28,1))\n",
        "#regular_CNN.compile(optimizer = tf.keras.optimizers.Adam(learning_rate=0.001), loss='sparse_categorical_crossentropy', metrics=['accuracy'])\n",
        "regular_CNN.summary()\n"
      ],
      "metadata": {
        "id": "Esp8hCWW2SbR",
        "colab": {
          "base_uri": "https://localhost:8080/"
        },
        "outputId": "92a06be0-b609-49af-83d4-11ae9cdc03d8"
      },
      "execution_count": 5,
      "outputs": [
        {
          "output_type": "stream",
          "name": "stdout",
          "text": [
            "Model: \"sequential_1\"\n",
            "_________________________________________________________________\n",
            " Layer (type)                Output Shape              Param #   \n",
            "=================================================================\n",
            " conv2d_10 (Conv2D)          (1, 28, 28, 20)           200       \n",
            "                                                                 \n",
            " conv2d_11 (Conv2D)          (1, 28, 28, 30)           5430      \n",
            "                                                                 \n",
            " conv2d_12 (Conv2D)          (1, 28, 28, 40)           10840     \n",
            "                                                                 \n",
            " max_pooling2d_2 (MaxPooling  (1, 14, 14, 40)          0         \n",
            " 2D)                                                             \n",
            "                                                                 \n",
            " conv2d_13 (Conv2D)          (1, 14, 14, 50)           18050     \n",
            "                                                                 \n",
            " conv2d_14 (Conv2D)          (1, 14, 14, 60)           27060     \n",
            "                                                                 \n",
            " conv2d_15 (Conv2D)          (1, 14, 14, 70)           37870     \n",
            "                                                                 \n",
            " conv2d_16 (Conv2D)          (1, 14, 14, 80)           50480     \n",
            "                                                                 \n",
            " max_pooling2d_3 (MaxPooling  (1, 7, 7, 80)            0         \n",
            " 2D)                                                             \n",
            "                                                                 \n",
            " conv2d_17 (Conv2D)          (1, 7, 7, 90)             64890     \n",
            "                                                                 \n",
            " conv2d_18 (Conv2D)          (1, 7, 7, 100)            81100     \n",
            "                                                                 \n",
            " conv2d_19 (Conv2D)          (1, 7, 7, 110)            99110     \n",
            "                                                                 \n",
            " flatten_1 (Flatten)         (1, 5390)                 0         \n",
            "                                                                 \n",
            " dense_1 (Dense)             (1, 10)                   53910     \n",
            "                                                                 \n",
            "=================================================================\n",
            "Total params: 448,940\n",
            "Trainable params: 448,940\n",
            "Non-trainable params: 0\n",
            "_________________________________________________________________\n"
          ]
        }
      ]
    },
    {
      "cell_type": "code",
      "source": [
        "reg_CNN_1 = ks.models.clone_model(regular_CNN)\n",
        "reg_CNN_1.compile(optimizer = tf.keras.optimizers.Adam(learning_rate=0.001), loss='sparse_categorical_crossentropy', metrics=['accuracy'])\n",
        "reg_CNN_1.fit(x_train_norm_reshaped, y_train) \n",
        "reg_CNN_1.evaluate(x_test_norm_reshaped, y_test)"
      ],
      "metadata": {
        "colab": {
          "base_uri": "https://localhost:8080/"
        },
        "id": "LqKmkWbc51Ch",
        "outputId": "a14583c8-a466-4831-d2ed-adf466a1dc17"
      },
      "execution_count": 8,
      "outputs": [
        {
          "output_type": "stream",
          "name": "stderr",
          "text": [
            "WARNING:tensorflow:Model was constructed with shape (1, 28, 28, 1) for input KerasTensor(type_spec=TensorSpec(shape=(1, 28, 28, 1), dtype=tf.float32, name='conv2d_10_input'), name='conv2d_10_input', description=\"created by layer 'conv2d_10_input'\"), but it was called on an input with incompatible shape (32, 28, 28, 1).\n",
            "WARNING:tensorflow:Model was constructed with shape (1, 28, 28, 1) for input KerasTensor(type_spec=TensorSpec(shape=(1, 28, 28, 1), dtype=tf.float32, name='conv2d_10_input'), name='conv2d_10_input', description=\"created by layer 'conv2d_10_input'\"), but it was called on an input with incompatible shape (32, 28, 28, 1).\n"
          ]
        },
        {
          "output_type": "stream",
          "name": "stdout",
          "text": [
            "1875/1875 [==============================] - 13s 7ms/step - loss: 0.1356 - accuracy: 0.9560\n",
            "313/313 [==============================] - 1s 4ms/step - loss: 1.3659 - accuracy: 0.9875\n"
          ]
        },
        {
          "output_type": "execute_result",
          "data": {
            "text/plain": [
              "[1.365890383720398, 0.987500011920929]"
            ]
          },
          "metadata": {},
          "execution_count": 8
        }
      ]
    },
    {
      "cell_type": "markdown",
      "source": [
        "The CNN model with filters increasing by 2^x takes a lot of computational effort and also doesnt give accuracy compared the CNN model with filters increasing by step of 10. So we use filters increasing by step of 10 for all the remaining calculations."
      ],
      "metadata": {
        "id": "Os7sYptt3KBG"
      }
    },
    {
      "cell_type": "markdown",
      "source": [
        "**Performance evaluation for regular CNN model for various hyperparameters settings**"
      ],
      "metadata": {
        "id": "e0EGstJLaXdH"
      }
    },
    {
      "cell_type": "code",
      "source": [
        "reg_CNN_1 = ks.models.clone_model(regular_CNN)\n",
        "reg_CNN_1.compile(optimizer = tf.keras.optimizers.SGD(learning_rate=0.001), loss='sparse_categorical_crossentropy', metrics=['accuracy'])\n",
        "reg_CNN_1.fit(x_train_norm_reshaped, y_train) \n",
        "reg_CNN_1.evaluate(x_test_norm_reshaped, y_test)"
      ],
      "metadata": {
        "colab": {
          "base_uri": "https://localhost:8080/"
        },
        "id": "sJAqcFWQz58Z",
        "outputId": "e9f6f194-986a-4571-f455-ad375159ab23"
      },
      "execution_count": 9,
      "outputs": [
        {
          "output_type": "stream",
          "name": "stderr",
          "text": [
            "WARNING:tensorflow:Model was constructed with shape (1, 28, 28, 1) for input KerasTensor(type_spec=TensorSpec(shape=(1, 28, 28, 1), dtype=tf.float32, name='conv2d_10_input'), name='conv2d_10_input', description=\"created by layer 'conv2d_10_input'\"), but it was called on an input with incompatible shape (32, 28, 28, 1).\n",
            "WARNING:tensorflow:Model was constructed with shape (1, 28, 28, 1) for input KerasTensor(type_spec=TensorSpec(shape=(1, 28, 28, 1), dtype=tf.float32, name='conv2d_10_input'), name='conv2d_10_input', description=\"created by layer 'conv2d_10_input'\"), but it was called on an input with incompatible shape (32, 28, 28, 1).\n"
          ]
        },
        {
          "output_type": "stream",
          "name": "stdout",
          "text": [
            "1875/1875 [==============================] - 12s 6ms/step - loss: 2.2997 - accuracy: 0.1209\n",
            "313/313 [==============================] - 1s 4ms/step - loss: 73.4496 - accuracy: 0.1135\n"
          ]
        },
        {
          "output_type": "execute_result",
          "data": {
            "text/plain": [
              "[73.4496078491211, 0.11349999904632568]"
            ]
          },
          "metadata": {},
          "execution_count": 9
        }
      ]
    },
    {
      "cell_type": "code",
      "source": [
        "reg_CNN_1 = ks.models.clone_model(regular_CNN)\n",
        "reg_CNN_1.compile(optimizer = tf.keras.optimizers.RMSprop(learning_rate=0.05), loss='sparse_categorical_crossentropy', metrics=['accuracy'])\n",
        "reg_CNN_1.fit(x_train_norm_reshaped, y_train,epochs=5, batch_size=1000) \n",
        "reg_CNN_1.evaluate(x_test_norm_reshaped, y_test)"
      ],
      "metadata": {
        "colab": {
          "base_uri": "https://localhost:8080/"
        },
        "id": "_BXNbmDDZazQ",
        "outputId": "b7a5e85e-409d-4f62-e83d-ca21c31ac14d"
      },
      "execution_count": 10,
      "outputs": [
        {
          "output_type": "stream",
          "name": "stdout",
          "text": [
            "Epoch 1/5\n"
          ]
        },
        {
          "output_type": "stream",
          "name": "stderr",
          "text": [
            "WARNING:tensorflow:Model was constructed with shape (1, 28, 28, 1) for input KerasTensor(type_spec=TensorSpec(shape=(1, 28, 28, 1), dtype=tf.float32, name='conv2d_10_input'), name='conv2d_10_input', description=\"created by layer 'conv2d_10_input'\"), but it was called on an input with incompatible shape (1000, 28, 28, 1).\n",
            "WARNING:tensorflow:Model was constructed with shape (1, 28, 28, 1) for input KerasTensor(type_spec=TensorSpec(shape=(1, 28, 28, 1), dtype=tf.float32, name='conv2d_10_input'), name='conv2d_10_input', description=\"created by layer 'conv2d_10_input'\"), but it was called on an input with incompatible shape (1000, 28, 28, 1).\n"
          ]
        },
        {
          "output_type": "stream",
          "name": "stdout",
          "text": [
            "60/60 [==============================] - 10s 112ms/step - loss: 14237894656.0000 - accuracy: 0.1021\n",
            "Epoch 2/5\n",
            "60/60 [==============================] - 7s 112ms/step - loss: 2.3037 - accuracy: 0.1090\n",
            "Epoch 3/5\n",
            "60/60 [==============================] - 7s 111ms/step - loss: 2.3028 - accuracy: 0.1083\n",
            "Epoch 4/5\n",
            "60/60 [==============================] - 7s 111ms/step - loss: 2.3028 - accuracy: 0.1068\n",
            "Epoch 5/5\n",
            "60/60 [==============================] - 7s 112ms/step - loss: 2.3027 - accuracy: 0.1097\n",
            "313/313 [==============================] - 1s 4ms/step - loss: 73.6308 - accuracy: 0.1135\n"
          ]
        },
        {
          "output_type": "execute_result",
          "data": {
            "text/plain": [
              "[73.63082122802734, 0.11349999904632568]"
            ]
          },
          "metadata": {},
          "execution_count": 10
        }
      ]
    },
    {
      "cell_type": "markdown",
      "source": [
        "I have varied the learning rate from 0.001 to 0.1 , varied batch size by 0,100 & 100 for epochs of 0,2 & 5 for the 3 optimizer models-Adam, SGD & RMSprop.\n",
        "The accuracy for each model output is tabulated below for the regular CNN."
      ],
      "metadata": {
        "id": "AF7ZqVX1BpMW"
      }
    },
    {
      "cell_type": "markdown",
      "source": [
        "\n",
        "![Comparision.JPG](data:image/jpeg;base64,/9j/4AAQSkZJRgABAQEAeAB4AAD/4RDsRXhpZgAATU0AKgAAAAgABAE7AAIAAAALAAAISodpAAQAAAABAAAIVpydAAEAAAAWAAAQzuocAAcAAAgMAAAAPgAAAAAc6gAAAAgAAAAAAAAAAAAAAAAAAAAAAAAAAAAAAAAAAAAAAAAAAAAAAAAAAAAAAAAAAAAAAAAAAAAAAAAAAAAAAAAAAAAAAAAAAAAAAAAAAAAAAAAAAAAAAAAAAAAAAAAAAAAAAAAAAAAAAAAAAAAAAAAAAAAAAAAAAAAAAAAAAAAAAAAAAAAAAAAAAAAAAAAAAAAAAAAAAAAAAAAAAAAAAAAAAAAAAAAAAAAAAAAAAAAAAAAAAAAAAAAAAAAAAAAAAAAAAAAAAAAAAAAAAAAAAAAAAAAAAAAAAAAAAAAAAAAAAAAAAAAAAAAAAAAAAAAAAAAAAAAAAAAAAAAAAAAAAAAAAAAAAAAAAAAAAAAAAAAAAAAAAAAAAAAAAAAAAAAAAAAAAAAAAAAAAAAAAAAAAAAAAAAAAAAAAAAAAAAAAAAAAAAAAAAAAAAAAAAAAAAAAAAAAAAAAAAAAAAAAAAAAAAAAAAAAAAAAAAAAAAAAAAAAAAAAAAAAAAAAAAAAAAAAAAAAAAAAAAAAAAAAAAAAAAAAAAAAAAAAAAAAAAAAAAAAAAAAAAAAAAAAAAAAAAAAAAAAAAAAAAAAAAAAAAAAAAAAAAAAAAAAAAAAAAAAAAAAAAAAAAAAAAAAAAAAAAAAAAAAAAAAAAAAAAAAAAAAAAAAAAAAAAAAAAAAAAAAAAAAAAAAAAAAAAAAAAAAAAAAAAAAAAAAAAAAAAAAAAAAAAAAAAAAAAAAAAAAAAAAAAAAAAAAAAAAAAAAAAAAAAAAAAAAAAAAAAAAAAAAAAAAAAAAAAAAAAAAAAAAAAAAAAAAAAAAAAAAAAAAAAAAAAAAAAAAAAAAAAAAAAAAAAAAAAAAAAAAAAAAAAAAAAAAAAAAAAAAAAAAAAAAAAAAAAAAAAAAAAAAAAAAAAAAAAAAAAAAAAAAAAAAAAAAAAAAAAAAAAAAAAAAAAAAAAAAAAAAAAAAAAAAAAAAAAAAAAAAAAAAAAAAAAAAAAAAAAAAAAAAAAAAAAAAAAAAAAAAAAAAAAAAAAAAAAAAAAAAAAAAAAAAAAAAAAAAAAAAAAAAAAAAAAAAAAAAAAAAAAAAAAAAAAAAAAAAAAAAAAAAAAAAAAAAAAAAAAAAAAAAAAAAAAAAAAAAAAAAAAAAAAAAAAAAAAAAAAAAAAAAAAAAAAAAAAAAAAAAAAAAAAAAAAAAAAAAAAAAAAAAAAAAAAAAAAAAAAAAAAAAAAAAAAAAAAAAAAAAAAAAAAAAAAAAAAAAAAAAAAAAAAAAAAAAAAAAAAAAAAAAAAAAAAAAAAAAAAAAAAAAAAAAAAAAAAAAAAAAAAAAAAAAAAAAAAAAAAAAAAAAAAAAAAAAAAAAAAAAAAAAAAAAAAAAAAAAAAAAAAAAAAAAAAAAAAAAAAAAAAAAAAAAAAAAAAAAAAAAAAAAAAAAAAAAAAAAAAAAAAAAAAAAAAAAAAAAAAAAAAAAAAAAAAAAAAAAAAAAAAAAAAAAAAAAAAAAAAAAAAAAAAAAAAAAAAAAAAAAAAAAAAAAAAAAAAAAAAAAAAAAAAAAAAAAAAAAAAAAAAAAAAAAAAAAAAAAAAAAAAAAAAAAAAAAAAAAAAAAAAAAAAAAAAAAAAAAAAAAAAAAAAAAAAAAAAAAAAAAAAAAAAAAAAAAAAAAAAAAAAAAAAAAAAAAAAAAAAAAAAAAAAAAAAAAAAAAAAAAAAAAAAAAAAAAAAAAAAAAAAAAAAAAAAAAAAAAAAAAAAAAAAAAAAAAAAAAAAAAAAAAAAAAAAAAAAAAAAAAAAAAAAAAAAAAAAAAAAAAAAAAAAAAAAAAAAAAAAAAAAAAAAAAAAAAAAAAAAAAAAAAAAAAAAAAAAAAAAAAAAAAAAAAAAAAAAAAAAAAAAAAAAAAAAAAAAAAAAAAAAAAAAAAAAAAAAAAAAAAAAAAAAAAAAAAAAAAAAAAAAAAAAAAAAAAAAAAAAAAAAAAAAAAAAAAAAAAAAAAAAAAAAAAAAAAAAAAAAAAAAAAAAAAAAAAAAAAAAAAAAAAAAAAAAAAAAAAAAAAAAAAAAAAAAAAAAAAAAAAAAAAAAAAAAAAAAAAAAAAAAAAAAAAAAAAAAAAAAAAAAAAAAAAAAAAAAAAAAAAAAAAAAAAAAAAAAAAAAAAAAAAAAAAAAAAAAAAAAAAAAAAAAAAAAAAAAAAAAAAAAAAAAAAAAAAAAAAAAAAAAAAAAAAAAAAAAAAAAAAAAAAAAAAAAAAAAAAAAAAAAAAAAAAAAAAAAAAAAAAAAAAAAAAAAAAAAAAAAAAAAAAAAAAAAAAAAAAAAAAAAAAAAAAAAAAAAAAAAAAAAAAAAAAAAAAAAAAAAAAAAAAAAAAAAAAAAAAAAAAAAAAAAAAAAAAAAAAAAAAAAAAAAAAAAAAAAAAAAAAAAAAAAAAAAAAAAAAAAAAAAAAAAAAAAAAAAAAAAAAAAAAAAAAAAAAAAAAAAAAAAAAAAAAAAAAAAAAAAAAAAAAAAAAAAAAAAAAAAAAAAAAAAAAAAAAAAAAAAAAAAAAAAAAAAAAAAAAAAAAAAAAAAAAAAAAAAAAAAAAAAAAAAAAAAAAAAAAAAAAAAAAAAAAAAAAAAAAAAAAAAAAAAAAAAAAAAAAAAAAAAAAAAAAAAAAAAAAAAAAAAAAAAAAAAAAAAAAAAAAAAAAAAAAAAAAAAAAAAAAAAAAAAAAAAAAAAAAAAAAAAAAAAAAAAAAAAAAAAAAAAAAAAAAAAAAAAAAAAAAAAAAFRpbW1hbiBLIE4AAAAFkAMAAgAAABQAABCkkAQAAgAAABQAABC4kpEAAgAAAAM4NAAAkpIAAgAAAAM4NAAA6hwABwAACAwAAAiYAAAAABzqAAAACAAAAAAAAAAAAAAAAAAAAAAAAAAAAAAAAAAAAAAAAAAAAAAAAAAAAAAAAAAAAAAAAAAAAAAAAAAAAAAAAAAAAAAAAAAAAAAAAAAAAAAAAAAAAAAAAAAAAAAAAAAAAAAAAAAAAAAAAAAAAAAAAAAAAAAAAAAAAAAAAAAAAAAAAAAAAAAAAAAAAAAAAAAAAAAAAAAAAAAAAAAAAAAAAAAAAAAAAAAAAAAAAAAAAAAAAAAAAAAAAAAAAAAAAAAAAAAAAAAAAAAAAAAAAAAAAAAAAAAAAAAAAAAAAAAAAAAAAAAAAAAAAAAAAAAAAAAAAAAAAAAAAAAAAAAAAAAAAAAAAAAAAAAAAAAAAAAAAAAAAAAAAAAAAAAAAAAAAAAAAAAAAAAAAAAAAAAAAAAAAAAAAAAAAAAAAAAAAAAAAAAAAAAAAAAAAAAAAAAAAAAAAAAAAAAAAAAAAAAAAAAAAAAAAAAAAAAAAAAAAAAAAAAAAAAAAAAAAAAAAAAAAAAAAAAAAAAAAAAAAAAAAAAAAAAAAAAAAAAAAAAAAAAAAAAAAAAAAAAAAAAAAAAAAAAAAAAAAAAAAAAAAAAAAAAAAAAAAAAAAAAAAAAAAAAAAAAAAAAAAAAAAAAAAAAAAAAAAAAAAAAAAAAAAAAAAAAAAAAAAAAAAAAAAAAAAAAAAAAAAAAAAAAAAAAAAAAAAAAAAAAAAAAAAAAAAAAAAAAAAAAAAAAAAAAAAAAAAAAAAAAAAAAAAAAAAAAAAAAAAAAAAAAAAAAAAAAAAAAAAAAAAAAAAAAAAAAAAAAAAAAAAAAAAAAAAAAAAAAAAAAAAAAAAAAAAAAAAAAAAAAAAAAAAAAAAAAAAAAAAAAAAAAAAAAAAAAAAAAAAAAAAAAAAAAAAAAAAAAAAAAAAAAAAAAAAAAAAAAAAAAAAAAAAAAAAAAAAAAAAAAAAAAAAAAAAAAAAAAAAAAAAAAAAAAAAAAAAAAAAAAAAAAAAAAAAAAAAAAAAAAAAAAAAAAAAAAAAAAAAAAAAAAAAAAAAAAAAAAAAAAAAAAAAAAAAAAAAAAAAAAAAAAAAAAAAAAAAAAAAAAAAAAAAAAAAAAAAAAAAAAAAAAAAAAAAAAAAAAAAAAAAAAAAAAAAAAAAAAAAAAAAAAAAAAAAAAAAAAAAAAAAAAAAAAAAAAAAAAAAAAAAAAAAAAAAAAAAAAAAAAAAAAAAAAAAAAAAAAAAAAAAAAAAAAAAAAAAAAAAAAAAAAAAAAAAAAAAAAAAAAAAAAAAAAAAAAAAAAAAAAAAAAAAAAAAAAAAAAAAAAAAAAAAAAAAAAAAAAAAAAAAAAAAAAAAAAAAAAAAAAAAAAAAAAAAAAAAAAAAAAAAAAAAAAAAAAAAAAAAAAAAAAAAAAAAAAAAAAAAAAAAAAAAAAAAAAAAAAAAAAAAAAAAAAAAAAAAAAAAAAAAAAAAAAAAAAAAAAAAAAAAAAAAAAAAAAAAAAAAAAAAAAAAAAAAAAAAAAAAAAAAAAAAAAAAAAAAAAAAAAAAAAAAAAAAAAAAAAAAAAAAAAAAAAAAAAAAAAAAAAAAAAAAAAAAAAAAAAAAAAAAAAAAAAAAAAAAAAAAAAAAAAAAAAAAAAAAAAAAAAAAAAAAAAAAAAAAAAAAAAAAAAAAAAAAAAAAAAAAAAAAAAAAAAAAAAAAAAAAAAAAAAAAAAAAAAAAAAAAAAAAAAAAAAAAAAAAAAAAAAAAAAAAAAAAAAAAAAAAAAAAAAAAAAAAAAAAAAAAAAAAAAAAAAAAAAAAAAAAAAAAAAAAAAAAAAAAAAAAAAAAAAAAAAAAAAAAAAAAAAAAAAAAAAAAAAAAAAAAAAAAAAAAAAAAAAAAAAAAAAAAAAAAAAAAAAAAAAAAAAAAAAAAAAAAAAAAAAAAAAAAAAAAAAAAAAAAAAAAAAAAAAAAAAAAAAAAAAAAAAAAAAAAAAAAAAAAAAAAAAAAAAAAAAAAAAAAAAAAAAAAAAAAAAAAAAAAAAAAAAAAAAAAAAAAAAAAAAAAAAAAAAAAAAAAAAAAAAAAAAAAAAAAAAAAAAAAAAAAAAAAAAAAAAAAAAAAAAAAAAAAAAAAAAAAAAAAAAAAAAAAAAAAAAAAAAAAAAAAAAAAAAAAAAAAAAAAAAAAAAAAAAAAAAAAAAAAAAAAAAAAAAAAAAAAAAAAAAAAAAAAAAAAAAAAAAAAAAAAAAAAAAAAAAAAAAAAAAAAAAAAAAAAAAAAAAAAAAAAAAAAAAAAAAAAAAAAAAAAAAAAAAAAAAAAAAAAAAAAAAAAAAAAAAAAAAAAAAAAAAAAAAAAAAAAAAAAAAAAAAAAAAAAAAAAAAAAAAAAAAAAAAAAAAAAAAAAAAAAAAAAAAAAAAAAAAAAAAAAAAAAAAAAAAAAAAAAAAAAAAAAAAAAAAAAAAAAAAAAAAAAAAAAAAAAAAAAAAAAAAAAAAAAAAAAAAAAAAAAAAAAAAAAAAAAAAAAAAAAAAAAAAAAAAAAAAAAAAAAAAAAAAAAAAAAAAAAAAAAAAAAAAAAAAAAAAAAAAAAAAAAAAAAAAAAAAAAAAAAAAAAAAAAAAAAAAAAAAAAAAAAAAAAAAAAAAAAAAAAAAAAAAAAAAAAAAAAAAAAAAAAAAAAAAAAAAAAAAAAAAAAAAAAAAAAAAAAAAAAAAAAAAAAAAAAAAAAAAAAAAAAAAAAAAAAAAAAAAAAAAAAAAAAAAAAAAAAAAAAAAAAAAAAAAAAAAAAAAAMjAyMjoxMDozMSAyMToyMDozNwAyMDIyOjEwOjMxIDIxOjIwOjM3AAAAVABpAG0AbQBhAG4AIABLACAATgAAAP/hCx1odHRwOi8vbnMuYWRvYmUuY29tL3hhcC8xLjAvADw/eHBhY2tldCBiZWdpbj0n77u/JyBpZD0nVzVNME1wQ2VoaUh6cmVTek5UY3prYzlkJz8+DQo8eDp4bXBtZXRhIHhtbG5zOng9ImFkb2JlOm5zOm1ldGEvIj48cmRmOlJERiB4bWxuczpyZGY9Imh0dHA6Ly93d3cudzMub3JnLzE5OTkvMDIvMjItcmRmLXN5bnRheC1ucyMiPjxyZGY6RGVzY3JpcHRpb24gcmRmOmFib3V0PSJ1dWlkOmZhZjViZGQ1LWJhM2QtMTFkYS1hZDMxLWQzM2Q3NTE4MmYxYiIgeG1sbnM6ZGM9Imh0dHA6Ly9wdXJsLm9yZy9kYy9lbGVtZW50cy8xLjEvIi8+PHJkZjpEZXNjcmlwdGlvbiByZGY6YWJvdXQ9InV1aWQ6ZmFmNWJkZDUtYmEzZC0xMWRhLWFkMzEtZDMzZDc1MTgyZjFiIiB4bWxuczp4bXA9Imh0dHA6Ly9ucy5hZG9iZS5jb20veGFwLzEuMC8iPjx4bXA6Q3JlYXRlRGF0ZT4yMDIyLTEwLTMxVDIxOjIwOjM3Ljg0MjwveG1wOkNyZWF0ZURhdGU+PC9yZGY6RGVzY3JpcHRpb24+PHJkZjpEZXNjcmlwdGlvbiByZGY6YWJvdXQ9InV1aWQ6ZmFmNWJkZDUtYmEzZC0xMWRhLWFkMzEtZDMzZDc1MTgyZjFiIiB4bWxuczpkYz0iaHR0cDovL3B1cmwub3JnL2RjL2VsZW1lbnRzLzEuMS8iPjxkYzpjcmVhdG9yPjxyZGY6U2VxIHhtbG5zOnJkZj0iaHR0cDovL3d3dy53My5vcmcvMTk5OS8wMi8yMi1yZGYtc3ludGF4LW5zIyI+PHJkZjpsaT5UaW1tYW4gSyBOPC9yZGY6bGk+PC9yZGY6U2VxPg0KCQkJPC9kYzpjcmVhdG9yPjwvcmRmOkRlc2NyaXB0aW9uPjwvcmRmOlJERj48L3g6eG1wbWV0YT4NCiAgICAgICAgICAgICAgICAgICAgICAgICAgICAgICAgICAgICAgICAgICAgICAgICAgICAgICAgICAgICAgICAgICAgICAgICAgICAgICAgICAgICAgICAgICAgICAgICAgICAKICAgICAgICAgICAgICAgICAgICAgICAgICAgICAgICAgICAgICAgICAgICAgICAgICAgICAgICAgICAgICAgICAgICAgICAgICAgICAgICAgICAgICAgICAgICAgICAgICAgIAogICAgICAgICAgICAgICAgICAgICAgICAgICAgICAgICAgICAgICAgICAgICAgICAgICAgICAgICAgICAgICAgICAgICAgICAgICAgICAgICAgICAgICAgICAgICAgICAgICAgCiAgICAgICAgICAgICAgICAgICAgICAgICAgICAgICAgICAgICAgICAgICAgICAgICAgICAgICAgICAgICAgICAgICAgICAgICAgICAgICAgICAgICAgICAgICAgICAgICAgICAKICAgICAgICAgICAgICAgICAgICAgICAgICAgICAgICAgICAgICAgICAgICAgICAgICAgICAgICAgICAgICAgICAgICAgICAgICAgICAgICAgICAgICAgICAgICAgICAgICAgIAogICAgICAgICAgICAgICAgICAgICAgICAgICAgICAgICAgICAgICAgICAgICAgICAgICAgICAgICAgICAgICAgICAgICAgICAgICAgICAgICAgICAgICAgICAgICAgICAgICAgCiAgICAgICAgICAgICAgICAgICAgICAgICAgICAgICAgICAgICAgICAgICAgICAgICAgICAgICAgICAgICAgICAgICAgICAgICAgICAgICAgICAgICAgICAgICAgICAgICAgICAKICAgICAgICAgICAgICAgICAgICAgICAgICAgICAgICAgICAgICAgICAgICAgICAgICAgICAgICAgICAgICAgICAgICAgICAgICAgICAgICAgICAgICAgICAgICAgICAgICAgIAogICAgICAgICAgICAgICAgICAgICAgICAgICAgICAgICAgICAgICAgICAgICAgICAgICAgICAgICAgICAgICAgICAgICAgICAgICAgICAgICAgICAgICAgICAgICAgICAgICAgCiAgICAgICAgICAgICAgICAgICAgICAgICAgICAgICAgICAgICAgICAgICAgICAgICAgICAgICAgICAgICAgICAgICAgICAgICAgICAgICAgICAgICAgICAgICAgICAgICAgICAKICAgICAgICAgICAgICAgICAgICAgICAgICAgICAgICAgICAgICAgICAgICAgICAgICAgICAgICAgICAgICAgICAgICAgICAgICAgICAgICAgICAgICAgICAgICAgICAgICAgIAogICAgICAgICAgICAgICAgICAgICAgICAgICAgICAgICAgICAgICAgICAgICAgICAgICAgICAgICAgICAgICAgICAgICAgICAgICAgICAgICAgICAgICAgICAgICAgICAgICAgCiAgICAgICAgICAgICAgICAgICAgICAgICAgICAgICAgICAgICAgICAgICAgICAgICAgICAgICAgICAgICAgICAgICAgICAgICAgICAgICAgICAgICAgICAgICAgICAgICAgICAKICAgICAgICAgICAgICAgICAgICAgICAgICAgICAgICAgICAgICAgICAgICAgICAgICAgICAgICAgICAgICAgICAgICAgICAgICAgICAgICAgICAgICAgICAgICAgICAgICAgIAogICAgICAgICAgICAgICAgICAgICAgICAgICAgICAgICAgICAgICAgICAgICAgICAgICAgICAgICAgICAgICAgICAgICAgICAgICAgICAgICAgICAgICAgICAgICAgICAgICAgCiAgICAgICAgICAgICAgICAgICAgICAgICAgICAgICAgICAgICAgICAgICAgICAgICAgICAgICAgICAgICAgICAgICAgICAgICAgICAgICAgICAgICAgICAgICAgICAgICAgICAKICAgICAgICAgICAgICAgICAgICAgICAgICAgICAgICAgICAgICAgICAgICAgICAgICAgICAgICAgICAgICAgICAgICAgICAgICAgICAgICAgICAgICAgICAgICAgICAgICAgIAogICAgICAgICAgICAgICAgICAgICAgICAgICAgICAgICAgICAgICAgICAgICAgICAgICAgICAgICAgICAgICAgICAgICAgICAgICAgICAgICAgICAgICAgICAgICAgICAgICAgCiAgICAgICAgICAgICAgICAgICAgICAgICAgICAgICAgICAgICAgICAgICAgICAgICAgICAgICAgICAgICAgICAgICAgICAgICAgICAgICAgICAgICAgICAgICAgICAgICAgICAKICAgICAgICAgICAgICAgICAgICAgICAgICAgICAgICAgICAgICAgICAgICAgICAgICAgICAgICAgICAgICAgICAgICAgICAgICAgICAgICAgICAgICAgICAgICAgICAgICAgIAogICAgICAgICAgICAgICAgICAgICAgICAgICAgPD94cGFja2V0IGVuZD0ndyc/Pv/bAEMABwUFBgUEBwYFBggHBwgKEQsKCQkKFQ8QDBEYFRoZGBUYFxseJyEbHSUdFxgiLiIlKCkrLCsaIC8zLyoyJyorKv/bAEMBBwgICgkKFAsLFCocGBwqKioqKioqKioqKioqKioqKioqKioqKioqKioqKioqKioqKioqKioqKioqKioqKioqKv/AABEIAPIDjwMBIgACEQEDEQH/xAAfAAABBQEBAQEBAQAAAAAAAAAAAQIDBAUGBwgJCgv/xAC1EAACAQMDAgQDBQUEBAAAAX0BAgMABBEFEiExQQYTUWEHInEUMoGRoQgjQrHBFVLR8CQzYnKCCQoWFxgZGiUmJygpKjQ1Njc4OTpDREVGR0hJSlNUVVZXWFlaY2RlZmdoaWpzdHV2d3h5eoOEhYaHiImKkpOUlZaXmJmaoqOkpaanqKmqsrO0tba3uLm6wsPExcbHyMnK0tPU1dbX2Nna4eLj5OXm5+jp6vHy8/T19vf4+fr/xAAfAQADAQEBAQEBAQEBAAAAAAAAAQIDBAUGBwgJCgv/xAC1EQACAQIEBAMEBwUEBAABAncAAQIDEQQFITEGEkFRB2FxEyIygQgUQpGhscEJIzNS8BVictEKFiQ04SXxFxgZGiYnKCkqNTY3ODk6Q0RFRkdISUpTVFVWV1hZWmNkZWZnaGlqc3R1dnd4eXqCg4SFhoeIiYqSk5SVlpeYmZqio6Slpqeoqaqys7S1tre4ubrCw8TFxsfIycrS09TV1tfY2dri4+Tl5ufo6ery8/T19vf4+fr/2gAMAwEAAhEDEQA/APpGobP/AI8YP+ua/wAqxPGl9qWkeAtf1Kxuoorqz0y5uIZBDna6RMynBJBwQOoI9q818O2HxN1jwvpWpp8T/s63tnDcCH/hH7Z/LDoG27uM4zjOBTSb2Fex7XRXkv8Awj/xO/6Kt/5blt/jR/wj/wATv+irf+W5bf41XJIOZHrVFeS/8I/8Tv8Aoq3/AJblt/jR/wAI/wDE7/oq3/luW3+NHJIOZHrVFeS/8I/8Tv8Aoq3/AJblt/jR/wAI/wDE7/oq3/luW3+NHJIOZHrVFeS/8I/8Tv8Aoq3/AJblt/jR/wAI/wDE7/oq3/luW3+NHJIOZHrVFeS/8I/8Tv8Aoq3/AJblt/jR/wAI/wDE7/oq3/luW3+NHJIOZHrVFeS/8I/8Tv8Aoq3/AJblt/jR/wAI/wDE7/oq3/luW3+NHJIOZHrVFeS/8I/8Tv8Aoq3/AJblt/jR/wAI/wDE7/oq3/luW3+NHJIOZHrVFeS/8I/8Tv8Aoq3/AJblt/jR/wAI/wDE7/oq3/luW3+NHJIOZHqkH+uuf+ug/wDQFqavJF8OfE1WYr8VcFjk/wDFO23Jxj19qX/hH/id/wBFW/8ALctv8aOSQcyPWqK8l/4R/wCJ3/RVv/Lctv8AGj/hH/id/wBFW/8ALctv8aOSQcyPWqK8l/4R/wCJ3/RVv/Lctv8AGj/hH/id/wBFW/8ALctv8aOSQcyPWqK8l/4R/wCJ3/RVv/Lctv8AGj/hH/id/wBFW/8ALctv8aOSQcyPWqK8l/4R/wCJ3/RVv/Lctv8AGj/hH/id/wBFW/8ALctv8aOSQcyPWqK8l/4R/wCJ3/RVv/Lctv8AGj/hH/id/wBFW/8ALctv8aOSQcyPWqK8l/4R/wCJ3/RVv/Lctv8AGj/hH/id/wBFW/8ALctv8aOSQcyPWqK8l/4R/wCJ3/RVv/Lctv8AGj/hH/id/wBFW/8ALctv8aOSQcyPWqhb/j+i/wCub/zWvK/+Ef8Aid/0Vb/y3Lb/ABpD4c+JpkDn4q/MAQD/AMI7bdDj39hRySDmR63RXkv/AAj/AMTv+irf+W5bf40f8I/8Tv8Aoq3/AJblt/jRySDmR61RXkv/AAj/AMTv+irf+W5bf40f8I/8Tv8Aoq3/AJblt/jRySDmR61RXkv/AAj/AMTv+irf+W5bf40f8I/8Tv8Aoq3/AJblt/jRySDmR61RXkv/AAj/AMTv+irf+W5bf40f8I/8Tv8Aoq3/AJblt/jRySDmR61RXkv/AAj/AMTv+irf+W5bf40f8I/8Tv8Aoq3/AJblt/jRySDmR61RXkv/AAj/AMTv+irf+W5bf40f8I/8Tv8Aoq3/AJblt/jRySDmR61RXkv/AAj/AMTv+irf+W5bf40f8I/8Tv8Aoq3/AJblt/jRySDmR61RXkv/AAj/AMTv+irf+W5bf40f8I/8Tv8Aoq3/AJblt/jRySDmR6pP/rrb/rof/QGqavAtduPibpPjPw3obfEnzzrJuiJ/7Ctl8gwxBvu87s7sdRj3rc/sf4nf9FT/APLdtv8AGsZ1I03aTNYUpzV4o9horx7+x/id/wBFT/8ALdtv8aP7H+J3/RU//Ldtv8az9vT7l/V6vY9horx7+x/id/0VP/y3bb/Gj+x/id/0VP8A8t22/wAaPb0+4fV6vY9horx7+x/id/0VP/y3bb/Gj+x/id/0VP8A8t22/wAaPb0+4fV6vY9horx7+x/id/0VP/y3bb/Gj+x/id/0VP8A8t22/wAaPb0+4fV6vY9bn/11t/10P/oDVNXjraL8TWZS3xTyVOR/xT1twcY9fel/sf4nf9FT/wDLdtv8aPb0+4fV6vY9horx7+x/id/0VP8A8t22/wAaP7H+J3/RU/8Ay3bb/Gj29PuH1er2PYaK8e/sf4nf9FT/APLdtv8AGj+x/id/0VP/AMt22/xo9vT7h9Xq9j2GivHv7H+J3/RU/wDy3bb/ABo/sf4nf9FT/wDLdtv8aPb0+4fV6vY9horx7+x/id/0VP8A8t22/wAaP7H+J3/RU/8Ay3bb/Gj29PuH1er2PW5/9dbf9dD/AOgNU1eOtovxNZlLfFPJU5H/ABT1twcY9fel/sf4nf8ARU//AC3bb/Gj29PuH1er2PYaK8e/sf4nf9FT/wDLdtv8aP7H+J3/AEVP/wAt22/xo9vT7h9Xq9j2GivHv7H+J3/RU/8Ay3bb/Gj+x/id/wBFT/8ALdtv8aPb0+4fV6vY9horx7+x/id/0VP/AMt22/xo/sf4nf8ARU//AC3bb/Gj29PuH1er2PYaK8e/sf4nf9FT/wDLdtv8aP7H+J3/AEVP/wAt22/xo9vT7h9Xq9j1uf8A11t/10P/AKA1TV462i/E1mUt8U8lTkf8U9bcHGPX3pf7H+J3/RU//Ldtv8aPb0+4fV6vY9horx7+x/id/wBFT/8ALdtv8aP7H+J3/RU//Ldtv8aPb0+4fV6vY9horx7+x/id/wBFT/8ALdtv8aP7H+J3/RU//Ldtv8aPb0+4fV6vY9horx7+x/id/wBFT/8ALdtv8aP7H+J3/RU//Ldtv8aPb0+4fV6vY9horx7+x/id/wBFT/8ALdtv8aP7H+J3/RU//Ldtv8aPb0+4fV6vY9bn/wBdbf8AXQ/+gNU1eOtovxNZlLfFPJU5H/FPW3Bxj196X+x/id/0VP8A8t22/wAaPb0+4fV6vY9horx7+x/id/0VP/y3bb/Gj+x/id/0VP8A8t22/wAaPb0+4fV6vY9horx7+x/id/0VP/y3bb/Gj+x/id/0VP8A8t22/wAaPb0+4fV6vY9horx7+x/id/0VP/y3bb/Gj+x/id/0VP8A8t22/wAaPb0+4fV6vY9horx7+x/id/0VP/y3bb/Gj+x/id/0VP8A8t22/wAaPb0+4fV6vY9bn/11t/10P/oDVNXjraL8TWZS3xTyVOR/xT1twcY9fel/sf4nf9FT/wDLdtv8aPb0+4fV6vY9horx7+x/id/0VP8A8t22/wAaP7H+J3/RU/8Ay3bb/Gj29PuH1er2PYaK8e/sf4nf9FT/APLdtv8AGj+x/id/0VP/AMt22/xo9vT7h9Xq9j2GivHv7H+J3/RU/wDy3bb/ABo/sf4nf9FT/wDLdtv8aPb0+4fV6vY9horx7+x/id/0VP8A8t22/wAaP7H+J3/RU/8Ay3bb/Gj29PuH1er2PW5/9dbf9dD/AOgNU1eK6fqPjzRviv4S0fXPGg1uy1Y3heJtJhtwpigLDlOTyw6EdO9eybbn/ntF/wB+j/8AFVrGSkroylFxdmYPxH/5JZ4r/wCwLef+iHrB8A/8k18M/wDYItf/AEStb3xH/wCSWeK/+wLef+iHrB8A/wDJNfDP/YItf/RK1vT3MpHQUUUVsQFFFFABRRRQAUUUUAFFFFABRRRQAUUUUAFFFFABRRRQAUUUUAFFFFABRRRQAUUUUAFFFFABRRRQAUUUUAFFFFABRRRQAUUUUAFFFFABRRRQAUUUUAFFFFABRRRQAUUUUAed+Nv+SxfDv/uJ/wDpOtdtXE+Nv+SxfDv/ALif/pOtdtXjY3+L8j1sH/D+YUUUVxnaFFFFABRRRQAUUUUAFFFFABRRRQAUUUUAFFFFABRRRQAUUUEBlIPIPBpAchp+r+JvEmnS6tob6XZ2Ts4sobu3klkuFUkB2dZFEYYjgbWwOeelT6d4+0m50DT9Q1EtYTXrSQrabWlfzoyVeNdgJc5BwAMt2HaqOhL4g8J6F/YUfh+XU/sjOtld21xCkLxliU8ze4dCM4bCt0yM9KzG0m98LXPg22jt01K9juL2e4jhYJ5jyIzyeWWwMgscbiM4GSK3tF3/AAMHKS169f6/I3tX+IOmafoMWp2cVzfI96lm8a20yvE5kCsHXYWRhnIVgC3AHUVbGtwnX0lbVZYbU6Y9ydOmsHjcKrjMxZlDDA+XYRnnOK5y78N61faLrN+bAxXl9q9tfx6cZYy4jhaIYLBtm9ljJ+9gZAzWlqOlanqfiJ9STT5YIptAntdkske5JmcEIdrEZwOoJHvUtRS031/9J/z0/pFXk35af+lf5a/0y7F8QPDU3leXqDkXEZktmNrMBdAYyISUxK3IG1NzZ4xkUt54gtL/AE2wvNN1prGJ9SjtnL2bM0jbyrW7IwDRknjJAIrOtNA1OL/hBd9tj+yYGS8/eL+6Jttnr83zccZqnL4Z1dvtW20z5niqLUF/epzbjZl+v+yeOvtVcsFOyfX9Uvy1I5qjhdrW36N/nodP/wAJVpY1yLSJDeRXk8jxxCXT50SRlBLbZCgQjAJyDimp4w0R9QS0W7k3STeRHObaUW7yc/Is+3yy2QRgNnII68VkWEWqy+Or7UdX0LUMNmzsJ0mtzDb2/Uvjzd+52GT8uQAo7GsfQfBsllaWGkaroeqXZsp0P2xtbkFkwR9yyCLziQeAQnlY3DGcfNSjGOl/6/r+tipSlrb+v6/rc7S18T6TfaxNpdnPLPd28hjnWO2kKwsBnDvt2rntkjPbNQ+K9YvdKsLaLRo4JdTv7lba1S4BKZwWZmAIJARWPUdBSeGNMuNNm1t7qARG81SW4jIIO9CqANx/ung88Vn6poGqa346ivDd3Wl2Wm2hW1uLYwu00sh/efLIr4AVVGSAfmOD1qLK69P0v/wCrys/V/nb/gl/T/FlhP4OtNfv5BbRTRrvTaWZZSdpjCjLM2/KgAEk9Km/4SvRxpc2oS3EsMMMgidJ7aWOUOcbV8plDljkYAXJzxmuPj8Ka/pc08VusupWmn6xHqtoZZIke6Do3nR4XaqsHYsMhVJI5HUbetQ6zrVnYX8Ojy202mail0thPcReZcoFKsMqxRW+clctj5Rkrni2ot38/u2/4JKckreX37/8D7zVj8VaRJDFIZ5YvNuls1jntZYpBKwyqlGUMuRyCQB70+98TaRp/wDaP2y8EX9mRxyXZMbYiV87TwOc4PTOO9Y2vw6vrmk2l3Fok0E+n6nBdx2UtxF5syIfm5Viink4G/nHJGcVj6loGu6zF4uml0f7P/atvax2tvJcRszbC24Pg7VOD0yRzwTSUU1/Xl/wQlKS2X9a/wDAOt/4SzSTYR3ivdNHK5SJVsJ2kmwM7kjCbnXBB3KCuO9OHinRjoZ1f7ZizEhiJaJxJ5gbb5flkb9+7jbjdntWf4ttNVuLvTPsUF9daZG0n2y1027FrO52/uyHLp8oOcgODyOoGK5zTfCuuWeiCf7A63Nr4gbU0sZL0TPPCU27fNZjlxuJBY9V64OaIxi9/wCtbf8ABHKUl/Xk3/wDsoPFekXEltEs80UtzObeOO4tZYW8wJv2srqCpKjI3Yz2zV231O0u9Qu7K2m8y4siouFCnCFhuAzjBOOcA5GRnqK5rxUbzVPA9/fXFg+kXOmsL6z+1TIzq8OHDN5ZZQDgrjceDzjpVzwJZzxeGl1C/jMV9q0rahcoeqNJgqn/AAFAq/hS5VZv+v63HzO6X9ef6HSUUUVBoFFFFABRRRQAUUUUAFFFFABRRRQAUUUUAFFFFABRRRQAUUUUAcdrH/Jdvhv/ANxT/wBJhXsNePax/wAl2+G//cU/9JhXsNenQ/ho8nEfxWcr8RWuP+FW+Kt0UQH9jXmSJCf+WL/7NcN4K1LxTH4A8Ppa6JpEsK6ZbCN5NXlRmXylwSotiAcdsnHqa7/4j/8AJLPFf/YFvP8A0Q9cr4E/5Jz4b/7BVr/6KWitVlSScR0KUajakT/2p4u/6AOif+DqX/5Fo/tTxd/0AdE/8HUv/wAi1r0Vz/XK3c6vqlIyP7U8Xf8AQB0T/wAHUv8A8i0f2p4u/wCgDon/AIOpf/kWteij65W7h9UpGR/ani7/AKAOif8Ag6l/+RaP7U8Xf9AHRP8AwdS//Ita9FH1yt3D6pSMj+1PF3/QB0T/AMHUv/yLR/ani7/oA6J/4Opf/kWteij65W7h9UpGR/ani7/oA6J/4Opf/kWj+1PF3/QB0T/wdS//ACLWvRR9crdw+qUjI/tTxd/0AdE/8HUv/wAi0f2p4u/6AOif+DqX/wCRa16KPrlbuH1SkZH9qeLv+gDon/g6l/8AkWj+1PF3/QB0T/wdS/8AyLWvRR9crdw+qUjI/tTxd/0AdE/8HUv/AMi0f2p4u/6AOif+DqX/AORa16KPrlbuH1SkZH9qeLv+gDon/g6l/wDkWj+1PF3/AEAdE/8AB1L/APIta9ZOja5/a93rEH2fyf7MvTabt+7zMRo+7oMffxjnpR9bra67A8LSQn9qeLv+gDon/g6l/wDkWj+1PF3/AEAdE/8AB1L/APItR+GvE1t4h0ewuj5VrdXsBuFszMGcIG2lh0JGcc471dm1zSbdZWuNUsolhZlkL3CLsKgFgcnggEE+gNN4qsnZi+q0WVv7U8Xf9AHRP/B1L/8AItH9qeLv+gDon/g6l/8AkWrcWsaZPpR1SDUbSTT1VmN2k6mIBep3g4wMHPPamW2vaPeadJqFpqtjPZRtte5iuUaNDxwWBwDyPzo+tVv6QfVaJX/tTxd/0AdE/wDB1L/8i0f2p4u/6AOif+DqX/5FqUeJNDNu9wNZ08wxs6vILpNqlBlgTnAIBGfSpU1vSpNJOqx6nZvpwBJvFuFMIAOCd+cdeOtL63WD6rRKv9qeLv8AoA6J/wCDqX/5Fo/tTxd/0AdE/wDB1L/8i1Yt9d0i7019QtNUsp7KM7XuY7hGjU8cFgcDqPzqNvEmhpYSXz61p62kUvkyXBukEaSf3C2cBvbrT+t1g+q0SP8AtTxd/wBAHRP/AAdS/wDyLR/ani7/AKAOif8Ag6l/+RatrrGmPYQ3yajaNaTsFiuBOpjkJOMK2cE5B6elVf8AhLPDv2Fb3+39L+yPL5Kz/bI/LaTGdgbON2OcdaPrVf8ApB9Wo/0xP7U8Xf8AQB0T/wAHUv8A8i0f2p4u/wCgDon/AIOpf/kWrepaxpmjQJPq+o2lhE7bUkup1iVmxnALEZOBWZrHjfQNDm0xNQ1K3RdTb9zL58YQJtLeYSWHyHGNwzyR60LFVnsDw1Fblj+1PF3/AEAdE/8AB1L/APItH9qeLv8AoA6J/wCDqX/5Fqa+8RaLpggOpaxYWYuV3QG4ukj80ccrk8jkdPWn32t6VpbAanqdnZkqGAuLhY8gnAPJHGePrR9arf0g+rUSt/ani7/oA6J/4Opf/kWj+1PF3/QB0T/wdS//ACLVpNa0uXVX0uPUrN9QRdz2izqZVGAclM5AwR271dpfW63cf1WkZH9qeLv+gDon/g6l/wDkWj+1PF3/AEAdE/8AB1L/APIta9FH1yt3D6pSMj+1PF3/AEAdE/8AB1L/APItH9qeLv8AoA6J/wCDqX/5FrXoo+uVu4fVKRkf2p4u/wCgDon/AIOpf/kWj+1PF3/QB0T/AMHUv/yLWvRR9crdw+qUjI/tTxd/0AdE/wDB1L/8i0f2p4u/6AOif+DqX/5FrXoo+uVu4fVKRkf2p4u/6AOif+DqX/5Fo/tTxd/0AdE/8HUv/wAi1r0UfXK3cPqlIyP7U8Xf9AHRP/B1L/8AItH9qeLv+gDon/g6l/8AkWteij65W7h9UpGR/ani7/oA6J/4Opf/AJFo/tTxd/0AdE/8HUv/AMi1r0UfXK3cPqlIyP7U8Xf9AHRP/B1L/wDItH9qeLv+gDon/g6l/wDkWteij65W7h9UpHk/jq68XXPxK8D/AGWw0Sz1Jft/2TzL2W4hb9yu/fiKNlwvTGck84xzt/8AF3f+pK/8m6PFv/JYvh7/ANxL/wBJ1rvaipVcrSluVTpKN0u/6I4L/i7v/Ulf+TdH/F3f+pK/8m672isufyRryebOC/4u7/1JX/k3R/xd3/qSv/Juu9oo5/JByebOC/4u7/1JX/k3R/xd3/qSv/Juu9oo5/JByebOC/4u7/1JX/k3R/xd3/qSv/Jutrxf4t/4Ra3t3jsWv5ZfMkeNJNhjhjXdJJ0Odoxx3JAyK17vV9N0/T1vr/ULW1tGxtuJ5lSM56fMTjmnzO17IXKr2uzjv+Lu/wDUlf8Ak3R/xd3/AKkr/wAm62tC8UxX9trV5qFzZwWOn3zwR3IkCxmIIjB2YnHO7rwOlalvrukXemvqFpqllPZRna9zHcI0anjgsDgdR+dF2un9MSSfX+kcj/xd3/qSv/Juj/i7v/Ulf+TddR/wlHh/yLmb+3NN8q0cJcyfa49sLE4Ac5+UkjGDWlDNFcwRz28iSxSKHSSNgyup5BBHUUcz7D5V3OF/4u7/ANSV/wCTdH/F3f8AqSv/ACbrvaKXP5IfJ5s4L/i7v/Ulf+TdH/F3f+pK/wDJuu9oo5/JByebOC/4u7/1JX/k3R/xd3/qSv8AybrvaKOfyQcnmzyvUfEnxR0zxLo2iTx+EGudY8/7O6LdFF8pA7biTkZB4wD+Fa//ABd3/qSv/Jujxb/yWL4e/wDcS/8ASda72qlKyWiJjFtvV/0jgv8Ai7v/AFJX/k3Uclt8VpZ4p5YfAzywkmKRkui0eRg7T2yOOK9BoqefyRXJ5s4L/i7v/Ulf+TdH/F3f+pK/8m672ijn8kHJ5s4L/i7v/Ulf+TdH/F3f+pK/8m672ijn8kHJ5s4L/i7v/Ulf+TdH/F3f+pK/8m6708VznhzxJqHiKG31CHSYY9Iui/k3AvN0wCkgM8WwBQdv8LsRkcdcNSb6ITil1Zi/8Xd/6kr/AMm6P+Lu/wDUlf8Ak3WtB4l1fWI5brw1otvdWCMyR3F7fG3NwykgmNVifK5GAWK59Mcl+oeJNUj1+w0jTdHgkubqye8cXt6YRCFZFKZSOQE5cdOODzTu3pZf1qKyWt3/AFoY3/F3f+pK/wDJuj/i7v8A1JX/AJN10mg+IP7WnvbG8tDY6np7qtzbGQSLhhlHRsDcjDOCQDwQQCK2aTk1ukNRT2bOC/4u7/1JX/k3R/xd3/qSv/Juu9opc/kh8nmzgv8Ai7v/AFJX/k3R/wAXd/6kr/ybrvaKOfyQcnmzz26tPipfWsltfW/gW5t5Bh4pkunRx6EHg1KB8XAMD/hCQP8At7rvaKOfyQcnmzyvUfEnxR0zxLo2iTx+EGudY8/7O6LdFF8pA7biTkZB4wD+Fa//ABd3/qSv/Jujxb/yWL4e/wDcS/8ASda72qlKyWiJjFtvV/0jgv8Ai7v/AFJX/k3R/wAXd/6kr/ybrvaKnn8kVyebOC/4u7/1JX/k3R/xd3/qSv8AybrvaKOfyQcnmzgv+Lu/9SV/5N0f8Xd/6kr/AMm66TxRrsvh/S4bm2tEu5p7uG1jjkmMS7pHCAlgrEAE+hqpaeJ7tdUv9L1jTY7W+tbP7cotrkzxSxZI++UQhtykYK+4J7Pmdr2X9ai5Ve13/wAPoY3/ABd3/qSv/Juj/i7v/Ulf+Tda/gfxinjHw+2oS2f9nTxsBNbNL5mwModG3YGQUZT09u1ZNh8T4rzQ9d1WTSpIoNMljS3AnBN0suPKfoAgbcp74BqmpJtcuxK5Wk+Z6if8Xd/6kr/ybo/4u7/1JX/k3W1f+INW0fw3qepavo9vHJZRebGlvfGSOYem8xqykd/kI5GCeQCz8TXUevDSfEOn29hNJaNdwzW92Z4WRCA4ZmRCpG5T0Iwevald9kOy7sxf+Lu/9SV/5N0f8Xd/6kr/AMm662HX9HuYrmW31axljtFD3Dx3KMIVIyC5B+UY5ye1LY67pOqWstzpmqWV5BD/AK2W3uEkWPjPzEEgcc80uZroPlT6nI/8Xd/6kr/ybo/4u7/1JX/k3XXWuu6RfX72NlqtlcXcab3t4bhHkVePmKg5A5HPuKv0czW6BRT2ZwX/ABd3/qSv/Juj/i7v/Ulf+Tdd7RS5/JD5PNnBf8Xd/wCpK/8AJuj/AIu7/wBSV/5N13tFHP5IOTzZ5dZnxiPjn4C/4S8aGzf8TH7KNLMwH/Ht8+8yf8Bxj3zXve65/wCeMX/f0/8AxNeSax/yXb4b/wDcU/8ASYV7DXo0XemjzK6tUaOb+I//ACSzxX/2Bbz/ANEPXK+BP+Sc+G/+wVa/+ilrpPiLM5+FvioG2lAOjXnJK8fuX964DwXruow+AtAjj8KavOiaZbKssctmFkAiX5hunBwevIB9QKyxKukbYV2kzuaKwf8AhIdT/wChO1v/AL/WX/yRR/wkOp/9Cdrf/f6y/wDkiuHlZ38yN6isH/hIdT/6E7W/+/1l/wDJFH/CQ6n/ANCdrf8A3+sv/kijlYcyN6isH/hIdT/6E7W/+/1l/wDJFH/CQ6n/ANCdrf8A3+sv/kijlYcyN6isH/hIdT/6E7W/+/1l/wDJFH/CQ6n/ANCdrf8A3+sv/kijlYcyN6isH/hIdT/6E7W/+/1l/wDJFH/CQ6n/ANCdrf8A3+sv/kijlYcyN6isH/hIdT/6E7W/+/1l/wDJFH/CQ6n/ANCdrf8A3+sv/kijlYcyN6isH/hIdT/6E7W/+/1l/wDJFH/CQ6n/ANCdrf8A3+sv/kijlYcyN6isH/hIdT/6E7W/+/1l/wDJFH/CQ6n/ANCdrf8A3+sv/kijlYcyN6uG0Xwsl5rnie51IarbebqhaHyb+5tUkTyYhuCxuobnI3YPTGeK07fxfd3c93Db+EtbeSzlEM48yzGxyiyAc3HPyup49fXNWP8AhIdT/wChO1v/AL/WX/yRTSav5q35f5EtqVvX/NfqcMsV34V+GPhnxE9nOt3oIIuLaRdsjwSko6kNg5yUYZ/u1Yk04eH38EDU7OS+uFuLm8uxFD5riZ4y7uEHLbWbgAFuOATXS6lez6vbpBqPgjW5okmSYJ9ps1BdGDKTi5GQCAcHjjpTp9Rubq+tLyfwTrbXFmXMD/aLMbCy7W4Fzg5HrWvM3dvv/X4mbitLdv6/A5O90fU763vdWtLfULPT5fEMd+LeO2H2kxJEEaYQyKefMAcKVLHGcZxU+p6GuoeGfE91Ztr+p3GoW8MEjX9ktuZtjHhYlijckBuWK9MAE4OOv/4SHU/+hO1v/v8AWX/yRR/wkOp/9Cdrf/f6y/8AkilzNK39dF+g3FN3/rdv9TG8Xi1sPE3g8tpzXFtazTlYbeHzDEFh4ZUHJ28HCgnjgE1lPHqsVrqep2OnXdtZajr0cyn7AZLm2hEao9wkDKSGZ14ypIDbttdJPqNzdX1peT+Cdba4sy5gf7RZjYWXa3AucHI9atf8JDqf/Qna3/3+sv8A5IpJtf15p/oHKn/w3lb9f61ODk0vUb/RPHKm31i8iv1tvs731mIpbnA2sQiInoB90NgDNdZ4rN1YXeiRWEVzZ6dH5iS3mm6eLqe2wgCIibH2q3ILBD90DjOa0P8AhIdT/wChO1v/AL/WX/yRR/wkOp/9Cdrf/f6y/wDkihtt/wBdrBGKS/rvc4W00a/uvCy295p2oTpJ4sS4Md7agO0BdWMjoqhQpyScAAc5xzW/NorP4o8bXLaaW+16bDDFKYM+d+6cMqnHzdFBA9vatv8A4SHU/wDoTtb/AO/1l/8AJFH/AAkOp/8AQna3/wB/rL/5IpSbceX+tkv0HGKUub+t2/1OMh0/VLG90LUb+41uyh/sCC1Mmn2K3MsMw+Z0dGhkZd3y8gDlME8CrkukDRNK8Kz2Vtq09lY6rLczCW28y4RJEm+byolyBucfKFBUEZAIIHT/APCQ6n/0J2t/9/rL/wCSKP8AhIdT/wChO1v/AL/WX/yRVubbv/W9/wBSVBJW8v0sctqNjcQ+Ltcn1C7163s9Vjh8htN0xbpZYxHtaJ8wSMhB3HB2j5yeua0dH8OrY+MdFYWd0YNP0D7PDNdgO8Tb1G1nX5d+3IOO2ccVsf8ACQ6n/wBCdrf/AH+sv/kij/hIdT/6E7W/+/1l/wDJFTdrb+tGv1KcU9/61T/Q5+xS6sfGiQaPbX0tnc381xe22oaawS0Yh8zw3OAp3Ej5cucMcbeQO+rB/wCEh1P/AKE7W/8Av9Zf/JFV38X3cepQ2D+EtbFzPFJNGnmWfzIhQMc/aMcGRPz9jUu7SRSaTbOmorB/4SHU/wDoTtb/AO/1l/8AJFH/AAkOp/8AQna3/wB/rL/5IqeVlcyN6isH/hIdT/6E7W/+/wBZf/JFH/CQ6n/0J2t/9/rL/wCSKOVhzI3qKwf+Eh1P/oTtb/7/AFl/8kUf8JDqf/Qna3/3+sv/AJIo5WHMjeorB/4SHU/+hO1v/v8AWX/yRR/wkOp/9Cdrf/f6y/8AkijlYcyN6isH/hIdT/6E7W/+/wBZf/JFH/CQ6n/0J2t/9/rL/wCSKOVhzI3qKwf+Eh1P/oTtb/7/AFl/8kUf8JDqf/Qna3/3+sv/AJIo5WHMjeorB/4SHU/+hO1v/v8AWX/yRR/wkOp/9Cdrf/f6y/8AkijlYcyN6isH/hIdT/6E7W/+/wBZf/JFH/CQ6n/0J2t/9/rL/wCSKOVhzIwPFv8AyWL4e/8AcS/9J1rva8l8aa3rb/EvwRPp/hO9e+h+3+RZ3d3bRfaMwqGw6SOF2jJ+bGeAM9uh/wCEn+Iv/RMP/Lgt/wDCt/Y1JxTir/8ADsw9tThJqT/qyO5orhv+En+Iv/RMP/Lgt/8ACj/hJ/iL/wBEw/8ALgt/8KPq1b+Uf1ml3O5orhv+En+Iv/RMP/Lgt/8ACj/hJ/iL/wBEw/8ALgt/8KPq1b+UPrNLudzRXDf8JP8AEX/omH/lwW/+FH/CT/EX/omH/lwW/wDhR9Wrfyh9ZpdxZdM1zXPG+q39u9vY2lrbjTYF1HT5JhOrYeV0Alj+Ukquec7PasTR4NV0iXw62u6fe3MHh6W805pYLOSQsNqiC4VFDMylAVyucEn3ra/4Sf4i/wDRMP8Ay4Lf/Cj/AISf4i/9Ew/8uC3/AMKtUayVuX+v6b+8zdai3fm/r+kvuMe2h1Ox0fUpbPRruwhuPEnnsRp4lntoGRf30UWGBbPGQGIyxxkECpcabqd7oHjvbb6xepfJbG2e+shFLc4G1iI0Rf7oGNobAGRW3c+NfHtpcWkNx8NNkl5MYIF/t6A73CPIRwvHyxucnjj1Iqx/wk/xF/6Jh/5cFv8A4U1RqpW5e36f5C9rSvfm7/jf/Mt/2MqfFKwu005Vt7bRHhjmEGEibzFAQNjAO0tx6Zqz8PrW4svBNpbXkEtvJHLOBFKhQqvnPt4PQYxj2xWX/wAJP8Rf+iYf+XBb/wCFH/CT/EX/AKJh/wCXBb/4VPsKzjbl/q7f6jVainfm/qyX6Hc0Vw3/AAk/xF/6Jh/5cFv/AIUf8JP8Rf8AomH/AJcFv/hU/Vq38pp9ZpdzuaK4b/hJ/iL/ANEw/wDLgt/8KP8AhJ/iL/0TD/y4Lf8Awo+rVv5Q+s0u53NFcN/wk/xF/wCiYf8AlwW/+FH/AAk/xF/6Jh/5cFv/AIUfVq38ofWaXcj8W/8AJYvh7/3Ev/Sda72vF/Eeu+NJfiX4Mnu/An2a+g+3fZLP+2IX+15hAf5wMJtHPPXoK6//AISf4i/9Ew/8uC3/AMKqWHqtLQiOIpJvX+rHc0Vw3/CT/EX/AKJh/wCXBb/4Uf8ACT/EX/omH/lwW/8AhU/Vq38pf1ml3O5orhv+En+Iv/RMP/Lgt/8ACj/hJ/iL/wBEw/8ALgt/8KPq1b+UPrNLudzRXDf8JP8AEX/omH/lwW/+FH/CT/EX/omH/lwW/wDhR9Wrfyh9ZpdzuGOFJALEDoO9ed21lEfGVhceEdO1bSxczSPrVvNbSwWpQx4LEOPLMu8Lhos5+Ykkc1c/4Sf4i/8ARMP/AC4Lf/Cj/hJ/iL/0TD/y4Lf/AApxw9VfZJliKTXxGZbxSaP4IHhrV7LXY7/TY5Es59KjuvLufveW4e34GeMrIRg8kY5q1C97ovibw3ea5a6lM0WgPbXU0FpNdkTloSQxiVuTtY57460tz418e2lxaQ3Hw02SXkxggX+3oDvcI8hHC8fLG5yeOPUirH/CT/EX/omH/lwW/wDhV+yrXvy/1Zr9SPa0bW5v6un+hf8ADdpd3nirWPEdzay2dveRQW1pDOmyV449xMjL1XJc4VsMAOQOldVXDf8ACT/EX/omH/lwW/8AhR/wk/xF/wCiYf8AlwW/+FQ8PWf2S1iKS+0dzRXDf8JP8Rf+iYf+XBb/AOFH/CT/ABF/6Jh/5cFv/hS+rVv5SvrNLudzRXDf8JP8Rf8AomH/AJcFv/hR/wAJP8Rf+iYf+XBb/wCFH1at/KH1ml3O5orhv+En+Iv/AETD/wAuC3/wo/4Sf4i/9Ew/8uC3/wAKPq1b+UPrNLuR+Lf+SxfD3/uJf+k613teL+I9d8aS/EvwZPd+BPs19B9u+yWf9sQv9rzCA/zgYTaOeevQV1//AAk/xF/6Jh/5cFv/AIVUsPVaWhEcRSTev9WO5orhv+En+Iv/AETD/wAuC3/wo/4Sf4i/9Ew/8uC3/wAKn6tW/lL+s0u53NFcN/wk/wARf+iYf+XBb/4Uf8JP8Rf+iYf+XBb/AOFH1at/KH1ml3ND4g6fNqmhWNtBDcTZ1WzaQW5cOqCZSzbl5XAydwIx1yKoWmkT6F4i1yxitru7tdRsPPt76bfPIjKCpgaZssRyGQMx6tik/wCEn+Iv/RMP/Lgt/wDCj/hJ/iL/ANEw/wDLgt/8Kf1etyuPLvf8Uv8AIn29HmUr7W/Bt/qc4mh69Y6LoFvpdncxjXdIttM1PETK1myBcyt/dIjaVecchRXR2WnxaZqni1b3Rbi50qR7SJIEtTKskQgRDtX+ML3C5PGACeKP+En+Iv8A0TD/AMuC3/wo/wCEn+Iv/RMP/Lgt/wDCtJUq0r3jv/nciNSjG3vbf5WMKTSbweGvFdh4ft9X/sFrGOPT7a9il8xJgCHWFJR5mzGzgjGc7eM11tx4WW3s9R1Ce8vtX1N9PltoZLoR7o0KklESNFXk4ycEnAGe1Y9z418e2lxaQ3Hw02SXkxggX+3oDvcI8hHC8fLG5yeOPUirH/CT/EX/AKJh/wCXBb/4VE6NaStYqNajF3uQ3ejT2nw98Kw22lyS22myWtxfWEcZ8xkVMt8nVmVyHK9SV7mlv1Osa9qWuWNnd21nDoc9rNNdW0ls1w5IZV2SKrEIAx3Yx8+AetS/8JP8Rf8AomH/AJcFv/hUdx4g+IN1bS28/wALt0UqFHX/AISG3GVIwRwKc6NaV/d3v+KsKFajGy5trfg7lDQE/tK28DW2l6Rd2TaWguLmWS1aOKOMwFSFkxtcyM6nCk9y2CK9MrgLXXfH9lZw2tr8LdkEEaxxr/wkNudqqMAZIz0FTf8ACT/EX/omH/lwW/8AhTqUas5NqIqdalCKTl0SO5orhv8AhJ/iL/0TD/y4Lf8Awo/4Sf4i/wDRMP8Ay4Lf/Cs/q1b+U1+s0u53NFcN/wAJP8Rf+iYf+XBb/wCFH/CT/EX/AKJh/wCXBb/4UfVq38ofWaXcsax/yXb4b/8AcU/9JhXsNeAWuq+JNQ+OfgE+JPCp0Mx/2j5CrqEVyZ823zfdxtxgdeufavefPk/59ZfzT/4qu2lFwgoy3PPrSU5txMH4j/8AJLPFf/YFvP8A0Q9cr4E/5Jz4b/7BVr/6KWuq+I//ACSzxX/2Bbz/ANEPXK+BP+Sc+G/+wVa/+ilrDFbI3wnxM3qbLIIoXkbJCKWOPanVDe/8eFx/1yb+VefJ2TZ6UVeSRX0XVoNd0Oz1W0SRILyFZo1lADBWGRkAkZ/Gr1eceFPEFrdfCK003w9q1lNr0ei4htYblGmWURcfJnIIOOoqj4PsdPl1rR7vTdd0b7dEjNd22m6a8d3MCh3LdMZnPDYJaRc7wOcnnolTSnJdF/wf8jnjUbhF9X/wP8z1WivFbbULW513w/qVm+j2mpzawq3FpbWrtqECMzIy3M5kJOQcEOgycY6Cum03RrB4fGuqy20ct8t7dpFNIoZoV8kAhCfu5yc469+1RKPLFt9E/wALf5lKd5KK7r8b/wCR6JVPSrm9u9Njm1Ow/s+5Ytvt/OWXaAxAO4cHIwfbOK4DR9LstH1LwFcaZbpbz39o6Xcy8vcL9mD4djy2GUYyTjGBgVR0LT7XVLHwZa6hCJ7d7zUi8TE7Xw0hww/iHqDwe4qpU1Ftf11IjVbSdt/1PWaK8fv3Njol1ptrZrPYQ+K2gTT/AC5GgaHy/MMRSNHbYWyQoRhnHGK6b4aafpln/bUtlBaWd3dXglnsbe1khNouwBExJHG5U4LAlFXLMAODS5Pd5v66P9S/ae9y/wBbtfp+J3VFef6Np1lbP4w146a1/qFvqF15IX/WgCJfkibqhbJ5Xk574Fc/4ZksJfHHh86bcaBMl/aXC30Oj2RQYaMMI55DIwkbK/xBW4JI5NEYXXyv96uDqW37tfc7HqunapZ6tbPcafN50SSyQs20rh0Yqw5A6EEVbrx+wtLXT/h/4jtvDkNpaa7BfzLdJaRAXMdt9qJ5VCH2+VnABHH3SDit7wTp+mp4mN5oWt6HPD9kKT2mgaeYIWO4FXlIldQ4+YAHDEFuoBw+Rbp/1a4vaPa39Xt/X/BPQqKKKyNjB8Pf8h3xV/2FU/8ASK1rerB8Pf8AId8Vf9hVP/SK1repy3JjsFFFFIoKKKKACiiigAooooAKKKKACiiigAooooAKwbz/AJKNo/8A2Cr/AP8ARtpW9WDef8lG0f8A7BV//wCjbSnHcmWxvUUUUigqhrmsW/h/QbzVrxJJILOIyyLEAWIHoCQM/jV+uW+Jn/JMfEHb/QnprVgXLDxTHdazFpd9pl/pV3PC01ul35RE6qRu2tFI4yMjIJB5rdrzSwvLeTx9oc+jeIx4rkaCaG5Bkgk+ww7Q28GBVVSWVF+cEnOARg1gW2oWtzrvh/UrN9HtNTm1hVuLS2tXbUIEZmRluZzIScg4IdBk4x0Fa+zu0v63sjmVW0XJ/wBaHr9nqlnf3V5b2k3mS2MohuF2kbHKhscjnhgeM9afqF19h025u9nmfZ4Xl2Zxu2gnGe3SvOLCwsNN1zxzDo9np9v4i3PLpsaxxpOUa2TmPodpfOccZzmrekf8If8A8Izcf8I/9k/tX+yZftfkf6/Oz5/tGOd+7/npzndjvWco2hddk/vRtGV5Wfdr7mdzpV9/aejWV/5flfardJtm7O3coOM98Zq3Xmmj6XZaPqXgK40y3S3nv7R0u5l5e4X7MHw7HlsMoxknGMDArT+I0WnO+mz6lfaTF9mMkiWWtr/ol3woILHhZAPunDEZb5SM1dSKjOy8zOlNygm97I6w3N7/AG2LYWGbH7OZDe+cvEm7Hl7OvTnd07Vcrze01Czl8Qaff6rZGysT4UkkuLW6zJ5cfmIWVtwywx6jJ9KxNPWxfwHr+p+E5dMg1XUTFNLZaOyM1naBwAhSEg7thcsRhiWIB4FHs9P67tfp/XV+010/rRP9f66ex0V574J0/TU8TG80LW9Dnh+yFJ7TQNPMELHcCrykSuocfMADhiC3UA49CqJR5S4S5kFFFFSWcN4n/wCS0fDv/uJ/+k4r0evOPE//ACWj4d/9xP8A9JxXo9e3g/4KPGxX8VhWF4m8THwxZTXs+jaje2dvCZp7i0aDbEo65DyqxOOeAa3a5j4lf8kw8R/9g+b/ANBNdEm0ro54q8kma2kanPqkDS3GkXumDgoLt4SZAR1HlSP+uK0a4jxzZRaj4d8PWlxv8mbVbNJAjFSVJ5GRzyOKyPGEeh2euWmh3Fn4d0rT4LFprd9XsjNbuxfBjghDookHUkZY7lAFOTs3bvb7lcmOqV+1/wAbHoN1c30Wp2UFtp/2i1mL/abnzlX7Nhcr8p5fceOOnWrteT+Fp5ri1+GjXUjySKb2PLgg4WN1AweRgADB54qtpulWNh4T8K61aWyR6nJrqRtedZTG88iNHuPIQqT8n3e+M80X97l87fl/mHS/lf8AM9hooopgc/4j/wCQ94S/7C8n/pDdV0Fc/wCI/wDkPeEv+wvJ/wCkN1XQUDCoL24ktbOSaC0mvJEGVggKB39gXZV/Mip6KAOZ0nxlJrGqXFlD4a1iFrS4FvdSzPa7IGKhuds5JG1gflB6101cf4Q3f8JH412Y3f2suM+v2aGuF8N6fHfS6W+oa/o1n4nivVe6jTTHOrGQP86O/nFihXIJKbAhBACgYSd+Vd0n94NWu+1/1Paqp6ZqtnrFq1zp03nRLLJCW2lcOjFWGCB0YEV5zYHSrX4kPBCNL16bU7ycTOAU1GwBV9yTKcl4BgKA20DK4DfKa0vhXZaHYWmqWtlbafbatBqF0lzFDGizpF57+WGA+YLtxtzxjpRF81vT/IJK33/5/wCR6BRRRTEef+MP+S0fDn/uJ/8ApOtegV5/4w/5LR8Of+4n/wCk616BSW7GFYXibxMfDFlNez6NqN7Z28JmnuLRoNsSjrkPKrE454BrdrmPiV/yTDxH/wBg+b/0E0pNpXQ4q8kma2kanPqkDS3GkXumDgoLt4SZAR1HlSP+uK0a4jxzZRaj4d8PWlxv8mbVbNJAjFSVJ5GRzyOKyPGEeh2euWmh3Fn4d0rT4LFprd9XsjNbuxfBjghDookHUkZY7lAFOTs3bvb7lcmOqV+1/wAbHoN1c30Wp2UFtp/2i1mL/abnzlX7Nhcr8p5fceOOnWrteT+Fp5ri1+GjXUjySKb2PLgg4WN1AweRgADB54qtpulWNh4T8K61aWyR6nJrqRtedZTG88iNHuPIQqT8n3e+M80X97l87fl/mHS/lf8AM9hooopgc/4j/wCQ94S/7C8n/pDdV0Fc/wCI/wDkPeEv+wvJ/wCkN1XQUDCoL24ktbOSaC0mvJEGVggKB39gXZV/Mip6KAOZ0nxlJrGqXFlD4a1iFrS4FvdSzPa7IGKhuds5JG1gflB6101cf4Q3f8JH412Y3f2suM+v2aGuF8N6fHfS6W+oa/o1n4nivVe6jTTHOrGQP86O/nFihXIJKbAhBACgYSd+Vd0n94NWu+1/1Paqp6ZqtnrFq1zp03nRLLJCW2lcOjFWGCB0YEV5zYHSrX4kPBCNL16bU7ycTOAU1GwBV9yTKcl4BgKA20DK4DfKa0vhXZaHYWmqWtlbafbatBqF0lzFDGizpF57+WGA+YLtxtzxjpRF81vT/IJK33/5/wCR6BRRRTEef+MP+S0fDn/uJ/8ApOtegV5/4w/5LR8Of+4n/wCk616BSW7GFYXibxMfDFlNez6NqN7Z28JmnuLRoNsSjrkPKrE454BrdrmPiV/yTDxH/wBg+b/0E0pNpXQ4q8kma2kanPqkDS3GkXumDgoLt4SZAR1HlSP+uK0a4jxzZRaj4d8PWlxv8mbVbNJAjFSVJ5GRzyOKyPGEeh2euWmh3Fn4d0rT4LFprd9XsjNbuxfBjghDookHUkZY7lAFOTs3bvb7lcmOqV+1/wAbHoN1c30Wp2UFtp/2i1mL/abnzlX7Nhcr8p5fceOOnWrteT+Fp5ri1+GjXUjySKb2PLgg4WN1AweRgADB54qtpulWNh4T8K61aWyR6nJrqRtedZTG88iNHuPIQqT8n3e+M80X97l87fl/mHS/lf8AM9hooopgc/4j/wCQ94S/7C8n/pDdV0Fc/wCI/wDkPeEv+wvJ/wCkN1XQUDCoL24ktbOSaC0mvJEGVggKB39gXZV/Mip6KAOZ0nxlJrGqXFlD4a1iFrS4FvdSzPa7IGKhuds5JG1gflB6101cf4Q3f8JH412Y3f2suM+v2aGuF8N6fHfS6W+oa/o1n4nivVe6jTTHOrGQP86O/nFihXIJKbAhBACgYSd+Vd0n94NWu+1/1Paqp6ZqtnrFq1zp03nRLLJCW2lcOjFWGCB0YEV5zYHSrX4kPBCNL16bU7ycTOAU1GwBV9yTKcl4BgKA20DK4DfKa0vhXZaHYWmqWtlbafbatBqF0lzFDGizpF57+WGA+YLtxtzxjpRF81vT/IJK33/5/wCR6BRRRTEcP4g/5Lt8Nf8AuKf+kwr1qvJfEH/Jdvhr/wBxT/0mFetVzz+I1jscr8RblG+FvioBZcnRrwcxMP8Ali/tXBeC/FNjb+AvD8L2mss0emWyMY9EvJFJESjhliIYe4JB7V6H8R/+SWeK/wDsC3n/AKIesHwD/wAk18M/9gi1/wDRK1k6MaujNIVpUndFT/hL9P8A+fPXP/BBff8Axmj/AIS/T/8Anz1z/wAEF9/8Zrq6KX1Gn3Zr9dqdkcp/wl+n/wDPnrn/AIIL7/4zR/wl+n/8+euf+CC+/wDjNdXRR9Rp92H12p2Ryn/CX6f/AM+euf8Aggvv/jNH/CX6f/z565/4IL7/AOM11dYmq+LtF0W7e2v7ibzYovOmEFrLOII+fnkMasI14PLYHB9DS+pU11YfXKnZGf8A8Jfp/wDz565/4IL7/wCM0f8ACX6f/wA+euf+CC+/+M11EUsc8KTQSLJFIoZHRsqwPIII6isWHxpoNxqSWUV45eSc28cxtpRBJKM5jWYr5bNwRgMTkEdRR9Rp3tdi+u1LXsjnNbv9I1s2cjJ4ls7qxm862ubbQrwPGxUqeGgZSCpIwVPWjSNQ0jSbm7u2XxLfX15sE93daFd73VAQq4S3VVAyeAo6knJro7vxpoNjqElnc3jq8MixTSrbStBA7YwskwUxoeRwzDqPUVPqfifRdH1Sx03UdQihvtQkEdtb8s8hOcHABIHGNxwM96awcLWTeoni53u0tDK/4S/T/wDnz1z/AMEF9/8AGaP+Ev0//nz1z/wQX3/xmuroo+o0+7K+u1OyOU/4S/T/APnz1z/wQX3/AMZo/wCEv0//AJ89c/8ABBff/Ga6uij6jT7sPrtTsjlP+Ev0/wD589c/8EF9/wDGaP8AhL9P/wCfPXP/AAQX3/xmuroo+o0+7D67U7I860HxTYxa14ldrTWSJdTR1C6JeMQPsduvzARZU5B4ODjB6EE7X/CX6f8A8+euf+CC+/8AjNW/Dn/Ie8W/9heP/wBIbWugo+pQfVi+uTXRHKf8Jfp//Pnrn/ggvv8A4zR/wl+n/wDPnrn/AIIL7/4zXV0UfUafdj+u1OyOU/4S/T/+fPXP/BBff/GaP+Ev0/8A589c/wDBBff/ABmuroo+o0+7D67U7I5T/hL9P/589c/8EF9/8Zo/4S/T/wDnz1z/AMEF9/8AGa6uij6jT7sPrtTsjlP+Ev0//nz1z/wQX3/xmj/hL9P/AOfPXP8AwQX3/wAZrq6KPqNPuw+u1OyOU/4S/T/+fPXP/BBff/GaP+Ev0/8A589c/wDBBff/ABmuroo+o0+7D67U7I5T/hL9P/589c/8EF9/8Zo/4S/T/wDnz1z/AMEF9/8AGa6uij6jT7sPrtTsjlP+Ev0//nz1z/wQX3/xmj/hL9P/AOfPXP8AwQX3/wAZrq6KPqNPuw+u1OyOU/4S/T/+fPXP/BBff/GaxbrxTYt490qYWms7U0y9Qg6JeBiTLakYXyskfKckDA4zjIz6LXP3n/JStG/7BGof+jrOj6lBdWL65N9EVP8AhL9P/wCfPXP/AAQX3/xmj/hL9P8A+fPXP/BBff8Axmuroo+o0+7H9dqdkcp/wl+n/wDPnrn/AIIL7/4zR/wl+n/8+euf+CC+/wDjNdXRR9Rp92H12p2Ryn/CX6f/AM+euf8Aggvv/jNH/CX6f/z565/4IL7/AOM11dFH1Gn3YfXanZHKf8Jfp/8Az565/wCCC+/+M0f8Jfp//Pnrn/ggvv8A4zXV0UfUafdh9dqdkcp/wl+n/wDPnrn/AIIL7/4zR/wl+n/8+euf+CC+/wDjNdXRR9Rp92H12p2Ryn/CX6f/AM+euf8Aggvv/jNH/CX6f/z565/4IL7/AOM11dFH1Gn3YfXanZHKf8Jfp/8Az565/wCCC+/+M0f8Jfp//Pnrn/ggvv8A4zXV0UfUafdh9dqdkcp/wl+n/wDPnrn/AIIL7/4zR/wl+n/8+euf+CC+/wDjNdXRR9Rp92H12p2R414w8VwR/FDwPf2eka7fG1/tDNpDpM6Ty7oVX92kqpvx1OOgGT2rqf8AhaE3/RO/Hn/gkP8A8XUniD/ku3w1/wC4p/6TCvWq0ivZLkiYTl7R8zPIf+FoTf8ARO/Hn/gkP/xdH/C0Jv8Aonfjz/wSH/4uvXqwNY8b6BoN7La6leSrLbxrLceTaTTrbI2cNK0aMsQOCcuRwCegqvaMjlRwH/C0Jv8Aonfjz/wSH/4uj/haE3/RO/Hn/gkP/wAXXpOqeJdJ0eC1lvLln+2H/Ro7WF7mSfjJKRxKzMAOSQCAOTV2xvYtQso7q3WdI5RlVuLd4XHOOUcBl/ECn7SQcqPKf+FoTf8ARO/Hn/gkP/xdH/C0Jv8Aonfjz/wSH/4uvRpfFmhReKoPDTalCdZnjaRLNMs4VRuJbAwnHI3Yz2zVe+8baLp+sT6XKdQnvLZUeaOy0q6uvLDjK5aKNgM4PftS9ow5UcD/AMLQm/6J348/8Eh/+Lo/4WhN/wBE78ef+CQ//F166jiSNXXIDAEblIP4g8ilp+0kHKjwjW/iNNcav4dkPgPxpD9m1F5QkujlWmzaXCbUG75m+fdj+6rHtWz/AMLQm/6J348/8Eh/+LruvFH/ACMXgz/sNSf+m+8rpKXtJByo8h/4WhN/0Tvx5/4JD/8AF0f8LQm/6J348/8ABIf/AIuvXqbLLHBC8szrHHGpZ3c4Cgckk9hR7Rhyo8j/AOFoTf8ARO/Hn/gkP/xdH/C0Jv8Aonfjz/wSH/4uu+0nxxoGt3sdpp93MZpoTPAJ7OaAXMYxl4jIiiVeQcoTwQe9QS/EPQLeSFLpdXtvPmSCN7jQr2JGkdgqruaEDJJA60+eQcqOI/4WhN/0Tvx5/wCCQ/8AxdH/AAtCb/onfjz/AMEh/wDi69V1HUbPSNNn1DU7iO1tLdC8s0hwqKKztH8W6PrmoS2NlNcR3kUQma2vLOa1lMZJAcJKillyMZAIzR7SQcqR53/wtCb/AKJ348/8Eh/+Lo/4WhN/0Tvx5/4JD/8AF169RR7SQcqPnDxL48lu/ih4Jvz4M8W25sft+LSfSis9zvhC/uk3fPt6t0wOa7H/AIWhN/0Tvx5/4JD/APF1q+Nv+S7fDD/uLf8ApMtek0udhyo8h/4WhN/0Tvx5/wCCQ/8AxdH/AAtCb/onfjz/AMEh/wDi69erH1XxZoWiavp+lapqUMF/qUoitLXlpJCc4O0AkLkEbjgZ4zT9pK9g5Va55z/wtCb/AKJ348/8Eh/+Lo/4WhN/0Tvx5/4JD/8AF16LrfizSfD0gj1KS5MnlGZktbKa5aOMfxuIkbYvXlsA4OOhrRsL+11TT4L7TriO5tbhBJFNE25XU9CDS9pJhypHlP8AwtCb/onfjz/wSH/4uj/haE3/AETvx5/4JD/8XXe3vjrw7p+pS2V3fSK8EqQzzLayvbwO2NqyTqpjjPzLwzD7w9RVzxD4m0jwrpy32v3gtLd5BGreWzlmIJwFUEngEnjgAk8Cn7SQcqPNv+FoTf8ARO/Hn/gkP/xdH/C0Jv8Aonfjz/wSH/4uvXgcjIoo9pIOVHhGt/Eaa41fw7IfAfjSH7NqLyhJdHKtNm0uE2oN3zN8+7H91WPatn/haE3/AETvx5/4JD/8XXdeKP8AkYvBn/Yak/8ATfeV0lL2kg5UeQ/8LQm/6J348/8ABIf/AIuj/haE3/RO/Hn/AIJD/wDF169WPqvizQtE1fT9K1TUoYL/AFKURWlry0khOcHaASFyCNxwM8Zp+0lewcqtc85/4WhN/wBE78ef+CQ//F0f8LQm/wCid+PP/BIf/i69G8ReLNC8JWsVx4i1KGxSeQRwh8s8rEgYVFBZuozgcdTgVsUe0kHKjyH/AIWhN/0Tvx5/4JD/APF0f8LQm/6J348/8Eh/+Lrv7nxvoNnqy6dc3U0crXAtRM1nN9n849I/P2eVu7Y3Zzx14pL7xtoun6xPpcp1Ce8tlR5o7LSrq68sOMrloo2Azg9+1L2jtcOVHA/8LQm/6J348/8ABIf/AIuj/haE3/RO/Hn/AIJD/wDF166jiSNXXIDAEblIP4g8ilp+0kHKj5w8S+PJbv4oeCb8+DPFtubH7fi0n0orPc74Qv7pN3z7erdMDmux/wCFoTf9E78ef+CQ/wDxdavjb/ku3ww/7i3/AKTLXpNLnYcqPIf+FoTf9E78ef8AgkP/AMXR/wALQm/6J348/wDBIf8A4uvXqwNY8b6BoN7La6leSrLbxrLceTaTTrbI2cNK0aMsQOCcuRwCego9ow5UcB/wtCb/AKJ348/8Eh/+Lo/4WhN/0Tvx5/4JD/8AF16DqXjPRdKv7eynlu7i5ubf7TFHY2E92Wizjf8AuUbAyRyfWte0uo72ziuYVlWOVQyiaF4nA90cBlPsQDT9pIOVHk//AAtCb/onfjz/AMEh/wDi6P8AhaE3/RO/Hn/gkP8A8XXe3vjrw7p+pS2V3fSK8EqQzzLayvbwO2NqyTqpjjPzLwzD7w9RTtY8b6DoV5Na6hczmW2iE9yLaynuBbRnOGlMSMIwQCctjgE9BS9o9w5UcB/wtCb/AKJ348/8Eh/+Lo/4WhN/0Tvx5/4JD/8AF161b3EN3bR3FrKk0EqB45I2DK6kZBBHUEd6kp88g5UeEa38RprjV/Dsh8B+NIfs2ovKEl0cq02bS4Tag3fM3z7sf3VY9q2f+FoTf9E78ef+CQ//ABdd14o/5GLwZ/2GpP8A033ldJS9pIOVHkP/AAtCb/onfjz/AMEh/wDi6P8AhaE3/RO/Hn/gkP8A8XXr1NlljgheWZ1jjjUs7ucBQOSSewo9ow5UeR/8LQm/6J348/8ABIf/AIuj/haE3/RO/Hn/AIJD/wDF13+keN9A12+is9Ou5TPPEZ7cT2k0AuYxjLxNIiiVeQcoSMEHoajh8f8Ahu41GGzivpMz3BtYbhrSZbaaYZBjS4KeUzZVhgMckEDmnzyDlRwn/C0Jv+id+PP/AASH/wCLo/4WhN/0Tvx5/wCCQ/8Axdeq6jqNnpGmz6hqdxHa2luheWaQ4VFFZ2j+LdH1zUJbGymuI7yKITNbXlnNaymMkgOElRSy5GMgEZo9pIOVI87/AOFoTf8ARO/Hn/gkP/xdH/C0Jv8Aonfjz/wSH/4uvXqKPaSDlR4MnipvEPxz8ANL4c1/RRbf2j/yF7AwGbdbfwDJ3Yxz6ZHrXuf2qP8Auy/9+X/wrzzxt/yXb4Yf9xb/ANJlr0mobu7lbHN/Ef8A5JZ4r/7At5/6IesHwD/yTXwz/wBgi1/9ErWx8RblG+FvioBZcnRrwcxMP+WL+1cX4I8XabbfD/w9BJbayzxaXbIxj0S8kUkRKOGWIhh7gkHtWlPcmR3lFc//AMJrpf8Az665/wCCC+/+M0f8Jrpf/Prrn/ggvv8A4zW10QdBRXP/APCa6X/z665/4IL7/wCM0f8ACa6X/wA+uuf+CC+/+M0XQHQVwuk3NrZ694//ALTljQpNHPJ5jAf6P9lQKfp8rjPsa2v+E10v/n11z/wQX3/xms7UNV8JatdQ3OqeHr69ng/1Utz4Xu5Gj5z8paAkc88VElf5qw07DvAswtvh3oWlTXCRam2kpJHbSSAS7doAO084GQM9ulcpFJBP8EvCdrbMDdteWEMaKfmE6TqZB65G1yfTBrs28T6A1+t82l6sbtIzEtwfDl75ioTkqG8nIGRnFVYdV8JW+rPqlv4evotQkzvu08L3azNnrlxBk5+tW3eXN5p/c7iWkbf1qjmZJoE+DvjS2umU3QvdQhlTPzGaSVvLGOuTuTHrkYrc8W2ENuvhW4e3iW+fWLGOecIPMk2hsBm6kAk9fU1al1XwlPqyarP4evpNRjxsvH8L3ZmXHTDmDIx9ai1G78Faxd/atW8L3N9cbQvnXPhS6kfA6DLQE4qFpby5f/Jf8xy1v53/AB/yO2orm7fxbolpbR29rp+sQQRKEjij8O3qqigYAAEOAAO1Sf8ACa6X/wA+uuf+CC+/+M1d0TqdBRXP/wDCa6X/AM+uuf8Aggvv/jNH/Ca6X/z665/4IL7/AOM0XQzoKK5//hNdL/59dc/8EF9/8Zo/4TXS/wDn11z/AMEF9/8AGaLoA8Of8h7xb/2F4/8A0hta6CuD0DxdpsWt+J3a21kibVEdduiXjED7HbL8wEWVOVPBwcYPQgnc/wCE10v/AJ9dc/8ABBff/GaSaA6Ciuf/AOE10v8A59dc/wDBBff/ABmj/hNdL/59dc/8EF9/8Zp3QHQUVz//AAmul/8APrrn/ggvv/jNH/Ca6X/z665/4IL7/wCM0XQHQUVz/wDwmul/8+uuf+CC+/8AjNH/AAmul/8APrrn/ggvv/jNF0Br38l9HZs2l29vc3ORtjuZ2hQjPOWVHI4/2TS2L3klmjanBBb3Jzvjt5zMi88YcohPGP4R/Wsf/hNdL/59dc/8EF9/8Zo/4TXS/wDn11z/AMEF9/8AGaLoDoKK5/8A4TXS/wDn11z/AMEF9/8AGaP+E10v/n11z/wQX3/xmi6A6Ciuf/4TXS/+fXXP/BBff/GaP+E10v8A59dc/wDBBff/ABmi6A6Ciuf/AOE10v8A59dc/wDBBff/ABmj/hNdL/59dc/8EF9/8ZougOgrn7z/AJKVo3/YI1D/ANHWdH/Ca6X/AM+uuf8Aggvv/jNYd34u01viBpM4ttZ2Jpd8hB0S8DEtLakYXyskfKckDA4zjIym0B3lFc//AMJrpf8Az665/wCCC+/+M0f8Jrpf/Prrn/ggvv8A4zTugOgorn/+E10v/n11z/wQX3/xmj/hNdL/AOfXXP8AwQX3/wAZougOgorn/wDhNdL/AOfXXP8AwQX3/wAZo/4TXS/+fXXP/BBff/GaLoDoKiuWuEtZGs4o5bgKTHHLIY1ZuwLBWIHvg/SsT/hNdL/59dc/8EF9/wDGaP8AhNdL/wCfXXP/AAQX3/xmldAammS6nLbsdYtLS0m3YVLW6adSuByWaNCDnPGPxq5XP/8ACa6X/wA+uuf+CC+/+M0f8Jrpf/Prrn/ggvv/AIzTugOgorn/APhNdL/59dc/8EF9/wDGaP8AhNdL/wCfXXP/AAQX3/xmi6A6Ciuf/wCE10v/AJ9dc/8ABBff/GaP+E10v/n11z/wQX3/AMZougOgorn/APhNdL/59dc/8EF9/wDGaP8AhNdL/wCfXXP/AAQX3/xmi6Ax/EH/ACXb4a/9xT/0mFetV4V4h8XaYPjH4Av3i1SOC0/tHzfN0i7RzutwBtQxhn567QcdTgV6P/ws7w166x/4Ib7/AOM1xVq1KE7Skl8zaEJNaI66vOtf07VPCs3i3WLZdIn0rWIlmuJNQu5IXt3EXlFQqxsJAQFIXchJJHcGtf8A4Wd4a9dY/wDBDff/ABmsufxP8O7nWU1e50WaXU0Ksl7J4Wu2mUr0IcwbhjtzXPLEUJK3OtdN0aRhNO/Kzn/DmjarH4s8N6ZfaxeaNdQ+D4ER4YYWkZ1k/eoDLG4GP3e4AZOF54rsvAXil9T8L2Ta/qNrJez3Vxa2s+5Y/wC0VikZRKi9CSq7jt46kYFUtW8YeAtfhjh13S7rUoo23Il54Yu5lRsYyA0BwakPjnwSzWbNY3xNh/x6E+G7z/R/l2/J+4+X5eOMccVo8XQe8116rq2/1sR7KaWz6fgrf8ETXbG0tPix4QktLWGCS5e/lnaKMKZX8hRuYj7xwAMn0FM8U6Uum/8ACR+LNE8V3Gl3kdspu4wtvLb7oULIsivGXGQ3IDqfmHtVG91b4XalfSXmo+GVu7qU7pJ5/CNy7ufUsbfJqe58R/Di81ZNUu9Ckn1GNlZLyXwrdNMpX7pDmDIIwMc8YqHiKDVvaL70Uqc0/hZ2mgX8+q+G9N1C8tza3F1axTSwEY8tmUEr+BOK0K5H/hZ3hr11j/wQ33/xmj/hZ3hr11j/AMEN9/8AGauWKw7d1NfeiVSqJWaZa8Uf8jF4M/7DUn/pvvK6SvM/EXxE8PXGu+FJIzqu231Z5JN2i3inabK6TgGLLHLDgZOMnoCRvf8ACzvDXrrH/ghvv/jNL6zQ/nX3ofs59mddWZ4k0ZPEXhfU9GkmaBb+1ktzKoyU3KRnHfGelYn/AAs7w166x/4Ib7/4zTJviR4VuYJILhNVlikUo8b+H75ldSMEEGHkEdqmWIoNNc6+9FKE072f3HPmLxC/jjwPpeq22kQTaWJZpDp95JOzQi3aIuytGnloWKgDLZJ6/LzsXhHir4rW9jgPp3hZBdz55D3kqkRL6ZRNzexdai0jxd4A0BJU0LSbnTFmIMi2Xhi7hDkdCdsAz1qzbfEDwfZNO1nbajbtcSmaYxeHb1TK5ABdsQctgAZPPAq3iqDd3Nd91v8A1+JHsp2sovt8v6/APiPrWjP8PdaSdk1CNJI7OeO2ulQwTO6hd74byyrMrEkHA7Hocrw5b6vpHxUitfF2oR67qV3o5+yXtvGsItoo2TzFaIDje5U+ZnkrgKoGK0B438DrFeRLYXojv2ZrtB4avMXBYbWMg8j5yRwc5yKh0jxX8PvD/m/2Do9xpnnY837F4Xu4fMxnG7bAM4yevqamOJoJ351967W/rutBunNq1n/TPQKK5H/hZ3hr11j/AMEN9/8AGaP+FneGvXWP/BDff/GaPrND+dfeg9nPszE8bf8AJdvhh/3Fv/SZa9JrxbxT420fUPjP8O7u0XVJIrP+0/NX+x7tZDvt1A2xmLc/TnaDgcnAr0X/AITzSP8Anz8Qf+E5qH/xitoyjNc0XdEtNOzOkrhfiFY2kWoeGr2O1hS6m8QWSSzrGBJIq79oLdSBk4B6ZNa3/CeaR/z5+IP/AAnNQ/8AjFY2p3ngPW7z7XrPhK61C52hfOu/B13K+0dBua3JxVdU+zT+53E9U13TX3mv4x8SSaXDFpOjwi81/U1ZLG1Odq8YM0pH3YkyCT34A5NTeGtPsPBfhnRPDc2oQmaOEW8HmyKj3LqNzbFJye5wM4FYF5P8P9REA1DwdcXQtoVggE/g27fyox0Rc2/yqM8AcVZtdZ8G2MVpHZeG9Qt0sXZ7VYvCV6gt2bO4oBb/ACk5OSMZzQtLgzk5JreP4I+O7W7ZTdrf6nDLHn5mmkmbyhjrlt8ePXIxVfx3Frv9ja7e634d1OaK00wWenzx3Fs0MakKZZmBmD72YbfuEhVH9412c2seDLjWU1e48NahLqceNl6/hG9aZccDDm33DH1q7deMdAvrWS2vdM1u4glG2SKbwzfurj0IMGDQtF9y+5W/zG9X82/vdzorCeS60+Gae0ms5HQFoJyheP2JRmXP0JqxXN/8J5pA/wCXPxB/4Teof/GKP+E80j/nz8Qf+E5qH/xiglKysHij/kYvBn/Yak/9N95XSV534j8aaXNr3hN0tdcAh1aR2D6BfKSPsN0vygwgscsOFycZOMAkdB/wnmkf8+fiD/wnNQ/+MUDOkrhfiFY2kWoeGr2O1hS6m8QWSSzrGBJIq79oLdSBk4B6ZNa3/CeaR/z5+IP/AAnNQ/8AjFY2p3ngPW7z7XrPhK61C52hfOu/B13K+0dBua3JxR1T7NP7ncHqmu6a+8f8XbG0f4falfPawtdxpFElwYwZFQzxkqG6gEgEj2FdlPf2drc29vdXcEM90xS3ikkCtMwGSFB5Ygc8dq4q9vPAWpw20Oo+Ebq7itI/Ktkn8HXbrCn91Abf5RwOBxxVi21vwdZxWcVn4c1G3jsGZ7RIvCV6ot2bO4oBb/KTk5IxnJoAy/ijcXX/AAjx1N76w1Dw/aX8Bm0yCIpcXDpMF8sT72XIlAygjBO0ruHJq54o0tdOHiPxboniq50q8jtlN3Ftt5bcNCm5FkV0LjIbkB1PzD2p/wDaXgf+2v7Y/wCEWvf7U3b/ALd/wiF55+7GM+Z9n3ZxxnNFzqXge91dNVvPC17caijKy3kvhC8aZSv3SHNvuBGBjnilZ8tv62/Ed1e51WgX8+q+G9N1C8tza3F1axTSwEY8tmUEr+BOK0K5v/hPNI/58/EH/hOah/8AGKP+E80j/nz8Qf8AhOah/wDGKqTTd0Sk0rM5rxt/yXb4Yf8AcW/9Jlr0mvGfGnjLSm+Mfw7v2i1aKCz/ALT83ztGu43O+3UDYjRBn567QcdTgV3H/CzvDXrrH/ghvv8A4zWM61ODtOSXqy1GUtkddXnWv6dqnhWbxbrFsukT6VrESzXEmoXckL27iLyioVY2EgICkLuQkkjuDWv/AMLO8Neusf8Aghvv/jNZc/if4d3Ospq9zos0upoVZL2TwtdtMpXoQ5g3DHbmspYihJW51rpui4wmnflZFoPg+T+wdBupPEd7ouvaZ4fhtLkQfZ38tCA37xJY3x8yHnjO089a2/A3iz+2vBui3muXNtDf6j5iQgsIvtZRmG+NCcncqh8DOAfSsjVfEvw5164SfXNDl1KaNdiSXnhW6mZVznALQEgZq7P4+8G3NxbT3NrqE01oxa3kk8OXrNCSMEoTBlSRxx2rR4ug23zrV913v+pCozSSs/6Ryck1vH8EfHdrdspu1v8AU4ZY8/M00kzeUMdctvjx65GKS/sta1fWvFUXhnVU0Way0+2tdYF0yt9tcRBw6kqTBiMsnm/ODk/Jld1dHN4q+H1xrKavcaPcS6nHjZev4Xu2mXHAw5g3DH1qPVfEfw4126S51vQpNSnRNiS3nhW6lZVyTgFoCQMknHvUfWKFrc62S3XRW/penYvknzXs92/vd/6Z1Hgq8tNQ8CaJdabZNYWctjCYLVzkxJsG1c98Dv361uVyI+JvhkDAOrgf9gG+/wDjNH/CzvDXrrH/AIIb7/4zVyxVByb5196IjSmklZlrxR/yMXgz/sNSf+m+8rpK8z8RfETw9ca74UkjOq7bfVnkk3aLeKdpsrpOAYsscsOBk4yegJG9/wALO8Neusf+CG+/+M0vrND+dfeh+zn2Z11ZniTRk8ReF9T0aSZoFv7WS3MqjJTcpGcd8Z6Vif8ACzvDXrrH/ghvv/jNMm+JHhW5gkguE1WWKRSjxv4fvmV1IwQQYeQR2qZYig01zr70UoTTvZ/cc9KviH/hNPBOnata6TDLpKzXEv8AZt3JO7Qi3aMsUaNPLUsVAGWyTwfl55zTftcfhzw34gNys/hCXWkltNA3r58DSTbYv3oX97skLP5WAR0LvtFdvpHi7wBoCSpoWk3OmLMQZFsvDF3CHI6E7YBnrUMPiL4b22snV7fQZItSLtIb2PwpdLMWbO5t4t92Tk5Oecmr+tUObmc133Xe/wDXbdEeyny2Uelvz/zL/wAR9a0Z/h7rSTsmoRpJHZzx210qGCZ3ULvfDeWVZlYkg4HY9DleHLfV9I+KkVr4u1CPXdSu9HP2S9t41hFtFGyeYrRAcb3KnzM8lcBVAxWgPG/gdYryJbC9Ed+zNdoPDV5i4LDaxkHkfOSODnORUOkeK/h94f8AN/sHR7jTPOx5v2Lwvdw+ZjON22AZxk9fU1McTQTvzr712t/XdaDdObVrP+megUVyP/CzvDXrrH/ghvv/AIzR/wALO8Neusf+CG+/+M0fWaH86+9B7OfZmJ42/wCS7fDD/uLf+ky16TXj2ueKtL8QfHP4cNpn20i3/tTzPtGnXFufmthjAkRd3Q9M474yK9b+1R/3Zf8Avy/+FbRlGa5ou6JaadmYPxH/AOSWeK/+wLef+iHrB8A/8k18M/8AYItf/RK1vfEf/klniv8A7At5/wCiHrB8A/8AJNfDP/YItf8A0Stb09zOR0FFFFbEBRRRQAViar4u0XRbt7a/uJvNii86YQWss4gj5+eQxqwjXg8tgcH0NbdcLpNza2eveP8A+05Y0KTRzyeYwH+j/ZUCn6fK4z7GplKyb8myoq528Usc8KTQSLJFIoZHRsqwPIII6isWHxpoNxqSWUV45eSc28cxtpRBJKM5jWYr5bNwRgMTkEdRWb4FmFt8O9C0qa4SLU20lJI7aSQCXbtAB2nnAyBnt0rlIpIJ/gl4TtbZgbtrywhjRT8wnSdTIPXI2uT6YNW9J280vvdvwJWsb/1tc7278aaDY6hJZ3N46vDIsU0q20rQQO2MLJMFMaHkcMw6j1FT6n4n0XR9UsdN1HUIob7UJBHbW/LPITnBwASBxjccDPevPpJoE+DvjS2umU3QvdQhlTPzGaSVvLGOuTuTHrkYrc8W2ENuvhW4e3iW+fWLGOecIPMk2hsBm6kAk9fU1EW3y+fL+P8AkOWl/Lm/D/M7uiiiqEFFFFABRRRQBz/hz/kPeLf+wvH/AOkNrXQVz/hz/kPeLf8AsLx/+kNrXQUIYUUUUCCiiigAooooAz9V1yx0YQ/bWmLzEiOK2tpLiR8DJISNWbA4ycYGR6in6RrFhrumx3+k3K3NtJkBwCCCDggg4KkHgggEVV8R+Irfw7YJLJFJdXdw/k2dnCMyXMp6Kvp6kngAEmq3gvQbnw/4e8jUZI5L65uJby7MWfLEsrFmVc87RnAz6Uk7t/1/X/DdxvZHQUUUUxBRRRQAUUUUAFc/ef8AJStG/wCwRqH/AKOs66CufvP+SlaN/wBgjUP/AEdZ0MZ0FFFFAgooooAKKKKAK99f2ml2Mt7qNzFa2sK7pJpnCqo9yapWnibR77wyviG3vk/spojKLqQGNQgJBJDAEdD1FXruztb6FY722huER1kVZYw4VlOVYA9weQe1eVodnwB0yWQ4t4b2GS4J6CJb4FifYDk/Spu729Brc9D0zxVpGrTTQ2s8sU0MQneK8tZbZxGcjeFlVSVyCNw496j0zxjomsXsVrY3UhlnRpLczWssKXCrjLRO6hZAMg5Qng56VxXxLSS+1q4TSyZLiLwvqDTeWc/I/l7AcepVseuDjpWpqk9rfX/w+/suRZC1z9oiMTZxALZwx4/h+ZR6ZIFNO/8AXm1+l/vBqy+/8En+p3tFFFMQUUUUAFFFFAHmnxC/5Kv8Pv8AuJf+iEroq534hf8AJV/h9/3Ev/RCV0VflXGH/Iwj/gX5yPpsq/gP1/RBWRqXinSNJuZIL24kEkUYlm8q3klECHOGkKKQg4PLY6H0rXrjdWs7/QLnxBqkA06Ww1GNZJ3vLl4mgZY/LIACMHBAXAypySO+a+ZwtOnVm4z+Sva7uurv0uenNtLQ377xFpunvBHLNJLJcIZIo7SCS4dkGPn2xqx28j5sY5FWtO1G01bT4b7Tp1uLaZdySJ0P+BHQg8g8V53p9lqhudB0rTbr+ytcs9AQ3FzPGJFaNvlEflnqVdc7sjbjkNnFdH4H1Cyi8L2dq7R2032ia3Ae4D/apkdvMdGwN+4hm4A6ngYrrxGChSpc0Hd3/D3tbW62utX520OenWlKSvov+An+prXniLTrK/NlI9xNcqAXjtbSW4MYPTf5attz23YzT9R16w0u4jt7p5nuJFLrBbW0k8m0HG4pGrELnjJGM1wfn6hpuleL9Vtdbks7qx1KeT7K0MRjl+6Y1fchc712qNrDgjHNXYkvLjxZ4lnfWJtEnS0tplCxQnEflHJYyI2UVw/THO7J540+oU1q5aJee/u/3f719Lj9tJy5Uutvxfn5eR3sUizQpKgYK6hgHQqwB9QcEH2PNPrK8Mahdat4V03UNQiEVzc2ySSKoIGSM5APQHrj3rVryakHTm4Po7G8Jc0VJdTE17/kNeGv+wm//pHc1t1ia9/yGvDX/YTf/wBI7mtutKvwU/T/ANuYo7y9f0QVkal4p0jSbmSC9uJBJFGJZvKt5JRAhzhpCikIODy2Oh9K1643VrO/0C58QapANOlsNRjWSd7y5eJoGWPyyAAjBwQFwMqckjvmrwtOnVm4z+Sva7uurv0uObaWhv33iLTdPeCOWaSWS4QyRR2kElw7IMfPtjVjt5HzYxyKtadqNpq2nw32nTrcW0y7kkTof8COhB5B4rzvT7LVDc6DpWm3X9la5Z6AhuLmeMSK0bfKI/LPUq653ZG3HIbOK6PwPqFlF4Xs7V2jtpvtE1uA9wH+1TI7eY6Ngb9xDNwB1PAxXXiMFClS5oO7v+Hva2t1tdavztoc9OtKUlfRf8BP9Ta1LXdN0i5s7fULkRTXsoigTYzF2JA7A4GSBk4HI55qDUvFOkaTcyQXtxIJIoxLN5VvJKIEOcNIUUhBweWx0PpXE662qR3Tajqeg6gbmbVrVIWWa3aNIEmGxF/e5yx+YkgctgnCg1s6la6hocmu6vFHYGx1KFJbj7dctE9uwj2FcKrBxgDA3LySM8g1SwVFKN5Xb7Nau60W/Rv1tpuP2snNxS7dH56/h+J2UciSxrJE6ujgMrKchgehBp1Y3hC1uLHwXo9rehluIbKJJFYcqQg4P06Vs15dSKhOUU72ZvTk5QUn1Ocm/wCS7fDz/uJf+k1e3V4jN/yXb4ef9xL/ANJq9ur9Y4d/5FdL/t7/ANKZ8zj/APeZfL8kFY+q+LNC0TV9P0rVNShgv9SlEVpa8tJITnB2gEhcgjccDPGa2K4X4hWNpFqHhq9jtYUupvEFkks6xgSSKu/aC3UgZOAemTXv/aS7tL73Y4n8LfZN/cjodb8WaT4ekEepSXJk8ozMlrZTXLRxj+NxEjbF68tgHBx0NaNhf2uqafBfadcR3NrcIJIpom3K6noQawfGPiSTS4YtJ0eEXmv6mrJY2pztXjBmlI+7EmQSe/AHJqbw1p9h4L8M6J4bm1CEzRwi3g82RUe5dRubYpOT3OBnAoWqf9d/+AD3X9f11EufHXh6z1QWF1eSxObgWvntaTfZvOP/ACz+0bPK3Z4xuznjrxUmp+MdL0i6mgvYdXzCMvJBot5NGBjORIkRU8eh4rnvFkp8cawnhDSfmtrO6gudZvcfJAEYSLAh7ysQpP8AdXJPJAq18R7iW/tNP8IWLFbnxFMbeVlPMVqo3Tvx/s/IPdxSV3Fd3/wNfvv8h6J67HU6VqdprWk2up6bIZbS7iWaGQoyb0YZBwwBGR6irdR29vFaW0VvbRrFDCgSNFGAqgYAHsBUlU7X0JV7anN+KP8AkYvBn/Yak/8ATfeV0lc34o/5GLwZ/wBhqT/033ldJSGFY+q+LNC0TV9P0rVNShgv9SlEVpa8tJITnB2gEhcgjccDPGa2K4X4hWNpFqHhq9jtYUupvEFkks6xgSSKu/aC3UgZOAemTR9pLu0vvdgfwt9k39yOi8ReLNC8JWsVx4i1KGxSeQRwh8s8rEgYVFBZuozgcdTgVsVwvxdsbR/h9qV89rC13GkUSXBjBkVDPGSobqASASPYV2U9/Z2tzb291dwQz3TFLeKSQK0zAZIUHliBzx2oWwdSlq/ifR9CvtPs9VvBBc6lMIbWMRs5kYkD+EHaMso3HAyRzzVfU/GOl6RdTQXsOr5hGXkg0W8mjAxnIkSIqePQ8V5r4jfW4b8avrXhXVje3OvWaQOtxaNFHbRz/uoo/wB/nc/LElQNzYJwoNdh8QrubUtP03wnaB4bvxJL5EwyN0Fqo3XDHaf7vycHGXHNJXcbre9vwX+eoOylZ7Wv+d/y0Os0rU7TWtJtdT02Qy2l3Es0MhRk3owyDhgCMj1FW6jt7eK0tore2jWKGFAkaKMBVAwAPYCpKp2voJXtqeR/Fj/kq/w4/wC4n/6IStGs74sf8lX+HH/cT/8ARCVo1+ZcW/79D/AvzkfR5X/Bfr+iCsjUvFOkaTcyQXtxIJIoxLN5VvJKIEOcNIUUhBweWx0PpWvXG6tZ3+gXPiDVIBp0thqMayTveXLxNAyx+WQAEYOCAuBlTkkd8183hadOrNxn8le13ddXfpc9GbaWhv33iLTdPeCOWaSWS4QyRR2kElw7IMfPtjVjt5HzYxyKtadqNpq2nw32nTrcW0y7kkTof8COhB5B4rzvT7LVDc6DpWm3X9la5Z6AhuLmeMSK0bfKI/LPUq653ZG3HIbOK6PwPqFlF4Xs7V2jtpvtE1uA9wH+1TI7eY6Ngb9xDNwB1PAxXXiMFClS5oO7v+Hva2t1tdavztoc9OtKUlfRf8BP9TWvPEWnWV+bKR7ia5UAvHa2ktwYwem/y1bbntuxmpNZ1zTvD9iLzV7kW8BYIG2MxJ64AUEngE9OACa4Lz9Q03SvF+q2utyWd1Y6lPJ9laGIxy/dMavuQud67VG1hwRjml8YtqtzYazf6noV75UdgYbNklgMUQZQZJGBkD7ifl+6SAv+0RWsMupupGLlps9bNvTa6Xfz0/ElXklKy72+V9/u8ux6WDkZFLUFnM89lFLLbyWzsuTDKVLJ7HaSPyJqevGas7HVF3VzE17/AJDXhr/sJv8A+kdzW3WJr3/Ia8Nf9hN//SO5rbrar8FP0/8AbmRHeXr+iCsjUvFOkaTcyQXtxIJIoxLN5VvJKIEOcNIUUhBweWx0PpWvXG6tZ3+gXPiDVIBp0thqMayTveXLxNAyx+WQAEYOCAuBlTkkd81eFp06s3GfyV7Xd11d+lxzbS0N++8Rabp7wRyzSSyXCGSKO0gkuHZBj59sasdvI+bGORVrTtRtNW0+G+06dbi2mXckidD/AIEdCDyDxXnen2WqG50HStNuv7K1yz0BDcXM8YkVo2+UR+WepV1zuyNuOQ2cV0fgfULKLwvZ2rtHbTfaJrcB7gP9qmR28x0bA37iGbgDqeBiuvEYKFKlzQd3f8Pe1tbra61fnbQ56daUpK+i/wCAn+psSeIdJi1+HRHvo/7SnVnS2XLMABkk44XjkZxntmotS8U6RpNzJBe3EgkijEs3lW8kogQ5w0hRSEHB5bHQ+lZer2tvb+P/AA3JbwRRPPLdvKyIFMjeRjLEdTgAZPpUGrWd/oFz4g1SAadLYajGsk73ly8TQMsflkABGDggLgZU5JHfNTDD0JOG/vRva6V3zW0dtNFcvnnd+T/C39f0jsI5EljWSJ1dHAZWU5DA9CDTqxvCFrcWPgvR7W9DLcQ2USSKw5UhBwfp0rZrz6kVCcop3szWnJygpPqc5N/yXb4ef9xL/wBJq9urxGb/AJLt8PP+4l/6TV7dX6xw7/yK6X/b3/pTPmcf/vMvl+SOV+ItyjfC3xUAsuTo14OYmH/LF/auL8EeLtNtvh/4egkttZZ4tLtkYx6JeSKSIlHDLEQw9wSD2ruviP8A8ks8V/8AYFvP/RD1g+Af+Sa+Gf8AsEWv/ola+kp7nBIP+E10v/n11z/wQX3/AMZo/wCE10v/AJ9dc/8ABBff/Ga6CittSDn/APhNdL/59dc/8EF9/wDGaP8AhNdL/wCfXXP/AAQX3/xmugoo1A5//hNdL/59dc/8EF9/8ZrO1DVfCWrXUNzqnh6+vZ4P9VLc+F7uRo+c/KWgJHPPFdjTXdY42eRgiKCWZjgAeppeYHNN4n0Br9b5tL1Y3aRmJbg+HL3zFQnJUN5OQMjOKqw6r4St9WfVLfw9fRahJnfdp4Xu1mbPXLiDJz9a1dM8Y6JrF7Fa2N1IZZ0aS3M1rLClwq4y0TuoWQDIOUJ4OelaGqatZaLYNeanOIYVYKDtLMzE4CqqglmJ4AAJNHmG+hzUuq+Ep9WTVZ/D19JqMeNl4/he7My46YcwZGPrUWo3fgrWLv7Vq3he5vrjaF8658KXUj4HQZaAnFbI8Z6F/ZN/qL3ckUGnEC7Sa1ljlhyARuiZQ4yCMfLz2q3peu2msPItpFfxmMAk3enXFsDn0MqKD+GaLdA8zNt/FuiWltHb2un6xBBEoSOKPw7eqqKBgAAQ4AA7VJ/wmul/8+uuf+CC+/8AjNdBRT1Foc//AMJrpf8Az665/wCCC+/+M0f8Jrpf/Prrn/ggvv8A4zXQUUajOf8A+E10v/n11z/wQX3/AMZo/wCE10v/AJ9dc/8ABBff/Ga6CijUDg9A8XabFrfid2ttZIm1RHXbol4xA+x2y/MBFlTlTwcHGD0IJ3P+E10v/n11z/wQX3/xmjw5/wAh7xb/ANheP/0hta6Ckrgc/wD8Jrpf/Prrn/ggvv8A4zR/wmul/wDPrrn/AIIL7/4zXQUU9QOf/wCE10v/AJ9dc/8ABBff/GaP+E10v/n11z/wQX3/AMZroKKNQOf/AOE10v8A59dc/wDBBff/ABmj/hNdL/59dc/8EF9/8ZroKKNQOP1TVvCeuCIa14fvtREOfL+1+F7uXZnGcboDjOB+VP0zXPC+iwNBo2h6jp8TtvaO08M3kSs2MZIWAZPHWt3VdcsdGEP21pi8xIjitraS4kfAySEjVmwOMnGBkeop+kaxYa7psd/pNytzbSZAcAggg4IIOCpB4IIBFJeQPzMz/hNdL/59dc/8EF9/8Zo/4TXS/wDn11z/AMEF9/8AGa6CinqBz/8Awmul/wDPrrn/AIIL7/4zR/wmul/8+uuf+CC+/wDjNdBRRqBz/wDwmul/8+uuf+CC+/8AjNH/AAmul/8APrrn/ggvv/jNdBRRqBz/APwmul/8+uuf+CC+/wDjNYd34u01viBpM4ttZ2Jpd8hB0S8DEtLakYXyskfKckDA4zjIz3lc/ef8lK0b/sEah/6Os6TuAf8ACa6X/wA+uuf+CC+/+M0f8Jrpf/Prrn/ggvv/AIzXQUU9QOf/AOE10v8A59dc/wDBBff/ABmj/hNdL/59dc/8EF9/8ZroKKNQOf8A+E10v/n11z/wQX3/AMZo/wCE10v/AJ9dc/8ABBff/Ga6CijUDldQ8ReHNWszaarpGqX1sxBMNz4avJEJHQ7WhIqtp+o+D9Jinj0rw3eWUdyu2dLbwtdxiUc8MFgGRyevqa6u+v7TS7GW91G5itbWFd0k0zhVUe5NUrTxNo994ZXxDb3yf2U0RlF1IDGoQEgkhgCOh6ip01DsY2l614V0SOSPRdB1DT0kO51tPDF3EGPqQsAzTNP1XwlpNxNcaV4evrGaf/Wy23he7jaTnPzFYATzzzWzpnirSNWmmhtZ5YpoYhO8V5ay2ziM5G8LKqkrkEbhx71HpnjHRNYvYrWxupDLOjSW5mtZYUuFXGWid1CyAZByhPBz0p9RaWI/+E10v/n11z/wQX3/AMZo/wCE10v/AJ9dc/8ABBff/Ga6CinqM5//AITXS/8An11z/wAEF9/8Zo/4TXS/+fXXP/BBff8Axmugoo1A5/8A4TXS/wDn11z/AMEF9/8AGaP+E10v/n11z/wQX3/xmugoo1A8g8beIbTUPih4FltbTVmEH9obkbR7pJG3QrjYjRhn6c7QcDk4FdJ/bSf9AnxB/wCCC9/+M0/xB/yXb4a/9xT/ANJhXrVfNZpkeGzGuqtaUk0raW831T7noYbGVKEOWKR5F/bSf9AnxB/4IL3/AOM1QmTRrjUl1Gfwrqct8hBW6fwvdmVSOhDGHPFe2Vj6r4s0LRNX0/StU1KGC/1KURWlry0khOcHaASFyCNxwM8ZrzY8K4OL92c1fTdf/InQ8zqtapf18zy3UTpOriMat4Y1S+EWfLFz4Yu5NmeuN0Jx0H5VIJ9OVbVV8OawFs/+PYDw1efuOMfJ+5+XjjjtXp+seKNK0K4gtr+Wdrm4Vnjt7S0lupWVcZby4lZgoyBuIxkgZ5q7pmp2Ws6Zb6jpdzHdWlwgeKWM5DD+h7EHkHg0/wDVbCctlUnZea/+RD+0qt9Yr7v+CePTjR7nUY9QufC+qTXsWPLuZPDF20iY6YYw5GKL8aPqskcmqeF9UvXi/wBW1x4Yu5Cn0LQnFelL450STVZ9Pg/tK4nt7j7NM1vpF3LHHJxlTIsZQYyMnOBmn6z410LQLp4NVuZ4vKCtNKllNLDAGOB5kqIUj9fmI4IPQ5prhfCKzVSflqvw0B5jVd04rz0/4JwH9tJ/0CfEH/ggvf8A4zR/bSf9AnxB/wCCC9/+M164rB1DKQykZBB4Ipaz/wBUsD/PP71/8iP+1K3Zfj/meE63q6vrHh0/2Zri7NRc4fQ7xS3+iXAwoMWWPOcDJwCegJGz/bSf9AnxB/4IL3/4zXc+KP8AkYvBn/Yak/8ATfeV0lXLhXBSSTlLTTdd2/5fMSzKsm9F+P8AmeRf20n/AECfEH/ggvf/AIzVCZNGuNSXUZ/Cupy3yEFbp/C92ZVI6EMYc8V7ZWPqvizQtE1fT9K1TUoYL/UpRFaWvLSSE5wdoBIXII3HAzxmlHhXBxfuzmr6br/5EHmdVrVL+vmeW6idJ1cRjVvDGqXwiz5YufDF3Jsz1xuhOOg/KpBPpyraqvhzWAtn/wAewHhq8/ccY+T9z8vHHHavT9Y8UaVoVxBbX8s7XNwrPHb2lpLdSsq4y3lxKzBRkDcRjJAzzV3TNTstZ0y31HS7mO6tLhA8UsZyGH9D2IPIPBp/6rYTlsqk7LzX/wAiH9pVb6xX3f8ABPKJtStrlVW40TXJVVw6iTw7esAwOQRmHqDyDVSZNGuNSXUZ/Cupy3yEFbp/C92ZVI6EMYc8V6Xe+OvDun6lLZXd9IrwSpDPMtrK9vA7Y2rJOqmOM/MvDMPvD1FO1jxvoGg3strqV5KstvGstx5NpNOtsjZw0rRoyxA4Jy5HAJ6CiPC2DivdqTXzX/yIPMqr3ivu/wCCcD/bSf8AQJ8Qf+CC9/8AjNH9tJ/0CfEH/ggvf/jNetxyJNEksLrJG6hkdTkMD0IPcU6o/wBUsD/NP71/8iP+1K3Zfj/mfP8Ad65BB8Z/Ad3PY6xFFB/aO5ZNGu1kbNvj5IzHufHfaDgcnAr1z/hPNI/58/EH/hOah/8AGK5rxt/yXb4Yf9xb/wBJlr0mvo8FhKeCoRw9NtpX331d/LucFarKtNzluzm/+E80j/nz8Qf+E5qH/wAYrG1O88B63efa9Z8JXWoXO0L5134Ou5X2joNzW5OK72sDWPG+gaDey2upXkqy28ay3Hk2k062yNnDStGjLEDgnLkcAnoK6tDI5+8n+H+oiAah4OuLoW0KwQCfwbdv5UY6Iubf5VGeAOKs2us+DbGK0jsvDeoW6WLs9qsXhK9QW7NncUAt/lJyckYzmt3UPFWm6bLGksepXAljEqSWOlXV3Gynod8UbL+Gc9PWrGha9p3iTSl1HR5ZJrVneMNJA8R3IxVhtdQwwwI6dqrUDjLkfDi9u5bq88ESXFxM5klml8FXTO7E5LEm2yST3rYHizw4L5L0aRrIuo4jAk//AAi99vWMkEoG8jIXIBx04qbU/iDoOjLcvqa6vbw2pbzp20O9MSgHBPmCLaV9wce9XdT8WaRpM8EF1JcyXNxF5yW1pZTXM3l9N5jiRmVcnGSAM8daXTQHvqVP+E80j/nz8Qf+E5qH/wAYo/4TzSP+fPxB/wCE5qH/AMYroYZVngjlQOFkUMA6FGAIzypAIPsRkU+gDzvxH400ubXvCbpa64BDq0jsH0C+UkfYbpflBhBY5YcLk4ycYBI6D/hPNI/58/EH/hOah/8AGKPFH/IxeDP+w1J/6b7yukoA5v8A4TzSP+fPxB/4Tmof/GKxtTvPAet3n2vWfCV1qFztC+dd+DruV9o6Dc1uTiu9rA1jxvoGg3strqV5KstvGstx5NpNOtsjZw0rRoyxA4Jy5HAJ6CloBg3t54C1OG2h1HwjdXcVpH5Vsk/g67dYU/uoDb/KOBwOOKsW2t+DrOKzis/Dmo28dgzPaJF4SvVFuzZ3FALf5ScnJGM5Nbep+LdG0ma2huLiaea6iM0MNjay3cjRjH7zZCrEJyBuIxz1q9pWrWOuaVb6lpNzHdWdwm+KWM8MP5gg8EHkEEGq1AwbjxjoF4qLd6Zrc6xyLKgl8MX7BXU5VhmDgg8g9qafF3h1tQW/Ok60bxYjCtwfDF/5gQkEoG8jO0kA46ZFakvizQovFUHhptShOszxtIlmmWcKo3EtgYTjkbsZ7ZqDWPG+g6FeTWuoXM5ltohPci2sp7gW0ZzhpTEjCMEAnLY4BPQUgIv+E80j/nz8Qf8AhOah/wDGKP8AhPNI/wCfPxB/4Tmof/GK6C3uIbu2juLWVJoJUDxyRsGV1IyCCOoI71JQB4b8SfEtnqfxQ8AS2lprBFv/AGjuSTRbuORt0KY2I0QZ+nO0HA5OBWr/AG0n/QJ8Qf8Aggvf/jNanjb/AJLt8MP+4t/6TLXpNeFmOR4bMaqq1ZSTSto13b6p9ztoYypQjyxSPIv7aT/oE+IP/BBe/wDxmqEyaNcakuoz+FdTlvkIK3T+F7syqR0IYw54r2ysfVfFmhaJq+n6VqmpQwX+pSiK0teWkkJzg7QCQuQRuOBnjNcEeFcHF+7Oavpuv/kTZ5nVa1S/r5nluonSdXEY1bwxql8Is+WLnwxdybM9cboTjoPyqQT6cq2qr4c1gLZ/8ewHhq8/ccY+T9z8vHHHavTvEXizQvCVrFceItShsUnkEcIfLPKxIGFRQWbqM4HHU4FbFP8A1WwnLb2k7LzX/wAiH9pVb/Cvu/4J4pONHudRj1C58L6pNexY8u5k8MXbSJjphjDkYq1PqVtdW7wXWia5NDINrxyeHb1lYehBhwa9AufHXh6z1QWF1eSxObgWvntaTfZvOP8Ayz+0bPK3Z4xuznjrxTtY8b6DoF1JBql1PH5IUzyx2c0sNvu6ebKiFI+x+cjgg9Dml/qtg2k/aT021X4e6H9pVk37q+5/5nA/20g/5hPiD/wn73/4zR/bSf8AQJ8Qf+CC9/8AjNeuI6yRq8bB0YAqynII9RS1P+qWB/nn96/+RH/albsvx/zPCdb1dX1jw6f7M1xdmoucPod4pb/RLgYUGLLHnOBk4BPQEjZ/tpP+gT4g/wDBBe//ABmu58Uf8jF4M/7DUn/pvvK6SrlwrgpJJylppuu7f8vmJZlWTei/H/M8i/tpP+gT4g/8EF7/APGaoTJo1xqS6jP4V1OW+QgrdP4XuzKpHQhjDnivbKx9V8WaFomr6fpWqalDBf6lKIrS15aSQnODtAJC5BG44GeM0o8K4OL92c1fTdf/ACIPM6rWqX9fM8t1E6Tq4jGreGNUvhFnyxc+GLuTZnrjdCcdB+VSCfTlW1VfDmsBbP8A49gPDV5+44x8n7n5eOOO1eneIvFmheErWK48RalDYpPII4Q+WeViQMKigs3UZwOOpwK2Kf8AqthOW3tJ2Xmv/kQ/tKrf4V93/BPDbqw8OX109zfeDL25nkOXlm8KXTsx9yYMmppY9Fn1FNQm8K6lJexkFLl/C92ZFI6YbyMjHavTbnxvoNnqy6dc3U0crXAtRM1nN9n849I/P2eVu7Y3Zzx14pL7xtoun6xPpcp1Ce8tlR5o7LSrq68sOMrloo2Azg9+1V/qzhbL97O23xL7thf2jUu7xX3f8E4L+2k/6BPiD/wQXv8A8Zo/tpP+gT4g/wDBBe//ABmvXEcSRq65AYAjcpB/EHkUtZf6pYH+af3r/wCRK/tSt2X4/wCZ4MuoLc/HP4ft9k1G3Cf2ln7Xp09uWzbfwiRF3e+M44z1Fe5/ao/7sv8A35f/AArzzxt/yXb4Yf8AcW/9Jlr0mvo8FhKeCoRw9NtpX331d/LucFarKtNzluzm/iP/AMks8V/9gW8/9EPWD4B/5Jr4Z/7BFr/6JWtj4i3KN8LfFQCy5OjXg5iYf8sX9q4vwR4u022+H/h6CS21lni0u2RjHol5IpIiUcMsRDD3BIPavQp7mEjvKK5//hNdL/59dc/8EF9/8Zo/4TXS/wDn11z/AMEF9/8AGa2uiDoKK5//AITXS/8An11z/wAEF9/8Zo/4TXS/+fXXP/BBff8Axmi6A6Cue8fxzzfDnxBHagmVtOnChep+Q8flS/8ACa6X/wA+uuf+CC+/+M0f8Jrpf/Prrn/ggvv/AIzUytKLQ4vlkmYWqT2t9f8Aw+/suRZC1z9oiMTZxALZwx4/h+ZR6ZIFT+LdQs7u+8I30F3BcaemthJJopVZA/lSooJHGQ5A+vFS6fqvhLSbia40rw9fWM0/+tltvC93G0nOfmKwAnnnmn/234X/ALMk03+wtQ+wyEl7X/hGLzynycnKeRg5PJ46027u/nf8v8iUrK3lb8/8zJ1DTLDxB468U2N3dNbWU+m2VpcTRSKpE5kkZVBYFd+CvBGfmHrWro99qVj8QLjw7c6rNrFr/Z63fm3EUSyWr79oRjEqqQwyRlc/KeTTY9U8Iw6Q+lReHb1NOkOXs18LXYhbnPKeRtPI9Kl0zXfDGi27W+j6JqWnws29o7XwzeRKWwBkhYAM4A59qSsmv67/AKsb1/r0/wAjrKK5/wD4TXS/+fXXP/BBff8Axmj/AITXS/8An11z/wAEF9/8ZqroDoKK5/8A4TXS/wDn11z/AMEF9/8AGaP+E10v/n11z/wQX3/xmi6A6Ciuf/4TXS/+fXXP/BBff/GaP+E10v8A59dc/wDBBff/ABmi6APDn/Ie8W/9heP/ANIbWugrg9A8XabFrfid2ttZIm1RHXbol4xA+x2y/MBFlTlTwcHGD0IJ3P8AhNdL/wCfXXP/AAQX3/xmkmgOgorn/wDhNdL/AOfXXP8AwQX3/wAZo/4TXS/+fXXP/BBff/Gad0B0FFc//wAJrpf/AD665/4IL7/4zR/wmul/8+uuf+CC+/8AjNF0B0FFc/8A8Jrpf/Prrn/ggvv/AIzR/wAJrpf/AD665/4IL7/4zRdAWfEfiK38O2CSyRSXV3cP5NnZwjMlzKeir6epJ4ABJqt4L0G58P8Ah7yNRkjkvrm4lvLsxZ8sSysWZVzztGcDPpWfqmreE9cEQ1rw/faiIc+X9r8L3cuzOM43QHGcD8qfpmueF9FgaDRtD1HT4nbe0dp4ZvIlZsYyQsAyeOtJbtv+v6/yB7JHW0Vz/wDwmul/8+uuf+CC+/8AjNH/AAmul/8APrrn/ggvv/jNO6A6Ciuf/wCE10v/AJ9dc/8ABBff/GaP+E10v/n11z/wQX3/AMZougOgorn/APhNdL/59dc/8EF9/wDGaP8AhNdL/wCfXXP/AAQX3/xmi6A6CufvP+SlaN/2CNQ/9HWdH/Ca6X/z665/4IL7/wCM1h3fi7TW+IGkzi21nYml3yEHRLwMS0tqRhfKyR8pyQMDjOMjKbQHeUVz/wDwmul/8+uuf+CC+/8AjNH/AAmul/8APrrn/ggvv/jNO6A6Ciuf/wCE10v/AJ9dc/8ABBff/GaP+E10v/n11z/wQX3/AMZougOgorn/APhNdL/59dc/8EF9/wDGaP8AhNdL/wCfXXP/AAQX3/xmi6A2buztb6FY722huER1kVZYw4VlOVYA9weQe1eVodnwB0yWQ4t4b2GS4J6CJb4FifYDk/Sux1DxF4c1azNpqukapfWzEEw3Phq8kQkdDtaEiq2n6j4P0mKePSvDd5ZR3K7Z0tvC13GJRzwwWAZHJ6+pqet/60GYPxLSS+1q4TSyZLiLwvqDTeWc/I/l7AcepVseuDjpWpqk9rfX/wAPv7LkWQtc/aIjE2cQC2cMeP4fmUemSBV/S9a8K6JHJHoug6hp6SHc62nhi7iDH1IWAZpmn6r4S0m4muNK8PX1jNP/AK2W28L3cbSc5+YrACeeeaFZf12bf6/1cHdr7/xSX6HY0Vz/APwmul/8+uuf+CC+/wDjNH/Ca6X/AM+uuf8Aggvv/jNVdCOgorn/APhNdL/59dc/8EF9/wDGaP8AhNdL/wCfXXP/AAQX3/xmi6A6Ciuf/wCE10v/AJ9dc/8ABBff/GaP+E10v/n11z/wQX3/AMZougMfxB/yXb4a/wDcU/8ASYV61XhmueKdPl+M/wAP7tbfVhFa/wBpeYraNdrI263AGyMxbn99oOBycCvT/wDhPNI/58/EH/hOah/8Yrnn8RpHY6SuF+IVjaRah4avY7WFLqbxBZJLOsYEkirv2gt1IGTgHpk1rf8ACeaR/wA+fiD/AMJzUP8A4xWNqd54D1u8+16z4SutQudoXzrvwddyvtHQbmtycVHVPs0/udxvVNd0195PayJB8cNTF06q8+g2zW244yiTS+Zj6FkJ+oqH4Y31lbeFlWW7hhTU9Wv5NNjklAM8ZuJGHlgn5hjLcZ4Oafe6n4I1KwtrHUfC99d2loAtvbz+ELx44QBgBFNvheBjirb+KPDMklo8mi6u72PNqzeFr4m342/IfI+XjjjHHFC0/ru7g9f67Kxg+J4JfBWjar4p8LeJLmTz9SFxJpjpbzW91MzrE8KkIJAxIwMPwR061p/En7ffeDdbFjq2nQ6fbWbjUrWSImZhtDvGJt+2EtGQAWjcjcD3FJFqXgeDWjrEPha9j1Mszm9TwheCYsRgnzPs+7JBIJz3ovtS8D6nqaajqXha9u76PbsurjwheSSrtOVw5t8jB6c8VLV48v8AX/B9Bp2lzf1v+B1Ph66jvfDOmXUNq9nHNaRSJbyHLQgoCEPuOlaNc3/wnmkf8+fiD/wnNQ/+MUf8J5pH/Pn4g/8ACc1D/wCMVcndtkxVkkHij/kYvBn/AGGpP/TfeV0led+I/Gmlza94TdLXXAIdWkdg+gXykj7DdL8oMILHLDhcnGTjAJHQf8J5pH/Pn4g/8JzUP/jFIZ0lcL8QrG0i1Dw1ex2sKXU3iCySWdYwJJFXftBbqQMnAPTJrW/4TzSP+fPxB/4Tmof/ABisbU7zwHrd59r1nwldahc7QvnXfg67lfaOg3Nbk4o6p9mn9zuD1TXdNfeT2siQfHDUxdOqvPoNs1tuOMok0vmY+hZCfqKh+GN9ZW3hZVlu4YU1PVr+TTY5JQDPGbiRh5YJ+YYy3GeDmn3up+CNSsLax1HwvfXdpaALb28/hC8eOEAYARTb4XgY4q2/ijwzJJaPJouru9jzas3ha+Jt+NvyHyPl444xxxQtP67u4PX+uyscXJNbx/BHx3a3bKbtb/U4ZY8/M00kzeUMdctvjx65GK1dQ0rWfCFl4j1RRpNxp+q2sUt5LqN5JFJbyLAImAAjYSg4UgbkJJI7g1rTax4MuNZTV7jw1qEupx42Xr+Eb1plxwMObfcMfWkn1XwVc6ymr3Phi+l1NCrJeyeEbxplK9CHNvuGO3NS43jbukvkv6/Irm96/m397NrwLZXem/D3QLLUQy3Vvp0EcysOVYRgEH3HSt6ub/4TzSP+fPxB/wCE5qH/AMYo/wCE80j/AJ8/EH/hOah/8YrSUuaTl3M4rlikc142/wCS7fDD/uLf+ky16TXjfi/xbp1x8Z/h1dx22sCK1/tPzFk0S8SRt1uoGyNog0nvtBwOTgV6B/wnmkf8+fiD/wAJzUP/AIxUlHSV51r+nap4Vm8W6xbLpE+laxEs1xJqF3JC9u4i8oqFWNhICApC7kJJI7g10P8Awnmkf8+fiD/wnNQ/+MVlz6r4KudZTV7nwxfS6mhVkvZPCN40ylehDm33DHbmplHmVu+hUXZ3KM19qnhT4K6FpyBh4gu7O10u1Ruq3DoFye/yDcx9kNdbo1ppPhHRtI8PxXMFvtiFvaxySBXuGVcsVBOWY8scZ6k1mTeLvDtzdW9zcaTrUs9qxaCWTwxfs0JIwSpMGVJBwcdqJ/Fvhy6ube4utI1mae1YvbyyeF75mhYjBKkwZUkccdq0crtvu/6/UzSskuy/r9Cl4xI8SeLtG8HIA9sCNV1QHkeTEw8uM/78uDg9o2rGkgvX+IPjyaPxNcaBLbW9tPE6Q27BoRAcO5ljbMauJOFK4O7J5GOmj8XeHYb2e8h0nWo7q4VVmnXwxfh5QudoZvIyQMnGemTVTVNY8Ga3PDPrXhrUNQlg/wBTJd+Eb2Vo+c/KWtzjkdqiztb1/H/hkXfW/p/X5m74O1W91zwTo+qapAsF5eWcc00aggBmUE4B5APXHvW1XN/8J5pH/Pn4g/8ACc1D/wCMUf8ACeaR/wA+fiD/AMJzUP8A4xVSabbRKVlYPFH/ACMXgz/sNSf+m+8rpK878R+NNLm17wm6WuuAQ6tI7B9AvlJH2G6X5QYQWOWHC5OMnGASOg/4TzSP+fPxB/4Tmof/ABikM6SvOtf07VPCs3i3WLZdIn0rWIlmuJNQu5IXt3EXlFQqxsJAQFIXchJJHcGuh/4TzSP+fPxB/wCE5qH/AMYrLn1XwVc6ymr3Phi+l1NCrJeyeEbxplK9CHNvuGO3NTKPMrd9Couzucjpuna5JqHhzRNEvxofiXTfCsX2u8uohKskbDasXkkZJSRd28MNp4Ifdgdf8NNW0yLwRplmWispzcXFqqS3SyG8njkfzZI2wvmbmDPkKOp4GKXV9Z8G+IBENe8N6hqYhz5X23wlezeXnGdu63OM4HT0qVfEfhVRZBdC1UDTxizA8K33+jDbt/d/uPk+XjjHHFac17t9f82/1/Ui1kl2/wArf122K2u2NpafFjwhJaWsMEly9/LO0UYUyv5CjcxH3jgAZPoK57X7bVdc8W+Mx4S1SPRDaWsNvqguSp+2Hy94ZCVJgxGWTzPnByfkBXdW1eyfDzUr6S81HwZPd3Up3STz+DLt3c+pY22TU2qah4G1y5S41rwpeajPGgjSW78H3krKoJIUFrckDJPHvWdrq39f8H0KTs7m/wCCry01DwJol1ptk1hZy2MJgtXOTEmwbVz3wO/frW5XNDx3o4GBZ+IAP+xb1D/4xS/8J5pH/Pn4g/8ACc1D/wCMVpJ3k2RFWSRzXjb/AJLt8MP+4t/6TLXpNeN+L/FunXHxn+HV3HbawIrX+0/MWTRLxJG3W6gbI2iDSe+0HA5OBXoH/CeaR/z5+IP/AAnNQ/8AjFSUdJXC/EKxtItQ8NXsdrCl1N4gsklnWMCSRV37QW6kDJwD0ya1v+E80j/nz8Qf+E5qH/xisbU7zwHrd59r1nwldahc7QvnXfg67lfaOg3Nbk4o6p9mn9zuD1TXdNfeP+LtjaP8PtSvntYWu40iiS4MYMioZ4yVDdQCQCR7Cuynv7O1ube3uruCGe6YpbxSSBWmYDJCg8sQOeO1cVe3ngLU4baHUfCN1dxWkflWyT+Drt1hT+6gNv8AKOBwOOKsW2t+DrOKzis/Dmo28dgzPaJF4SvVFuzZ3FALf5ScnJGM5NAFbxZKfHGsJ4Q0n5razuoLnWb3HyQBGEiwIe8rEKT/AHVyTyQKn8fX8muQz+BdCAl1PVLcrdylSY7C1b5Wlc/3iNwRepPPQGqVyPhxe3ct1eeCJLi4mcySzS+CrpndicliTbZJJ71JfzfD7VbxrvU/BtxeXLgBprjwZdyOwAwAWNuTwAB9BStpZ/Md7O6+R3Vnax2NjBaQ58uCNYk3HnCjA/lU1cra+MdAsbSK1stM1u2t4VCRQw+Gb9ERR0AUQYA9hU3/AAnmkf8APn4g/wDCc1D/AOMVTd3clKysHij/AJGLwZ/2GpP/AE33ldJXnfiPxppc2veE3S11wCHVpHYPoF8pI+w3S/KDCCxyw4XJxk4wCR0H/CeaR/z5+IP/AAnNQ/8AjFIZ0lcL8QrG0i1Dw1ex2sKXU3iCySWdYwJJFXftBbqQMnAPTJrW/wCE80j/AJ8/EH/hOah/8YrG1O88B63efa9Z8JXWoXO0L5134Ou5X2joNzW5OKOqfZp/c7g9U13TX3j/AIu2No/w+1K+e1ha7jSKJLgxgyKhnjJUN1AJAJHsK7Ke/s7W5t7e6u4IZ7pilvFJIFaZgMkKDyxA547VxV7eeAtThtodR8I3V3FaR+VbJP4Ou3WFP7qA2/yjgcDjirFtrfg6zis4rPw5qNvHYMz2iReEr1Rbs2dxQC3+UnJyRjOTQBl/FG4uv+EeOpvfWGoeH7S/gM2mQRFLi4dJgvlifey5EoGUEYJ2ldw5NXPFGlrpw8R+LdE8VXOlXkdspu4ttvLbhoU3IsiuhcZDcgOp+Ye1P/tLwP8A21/bH/CLXv8Aam7f9u/4RC88/djGfM+z7s44zmi51LwPe6umq3nha9uNRRlZbyXwheNMpX7pDm33AjAxzxSs+W39bfiO6vc6rQL+fVfDem6heW5tbi6tYppYCMeWzKCV/AnFaFc3/wAJ5pH/AD5+IP8AwnNQ/wDjFH/CeaR/z5+IP/Cc1D/4xVSabuiUmlZnNeNv+S7fDD/uLf8ApMtek15H4i8Q2esfHP4bNaQ6jGIP7U3/AGvTLm2JzbDG0Sxru6c7c44zjIr1b7VH/dl/78v/AIUhmD8R/wDklniv/sC3n/oh6wfAP/JNfDP/AGCLX/0Stb3xH/5JZ4r/AOwLef8Aoh6wfAP/ACTXwz/2CLX/ANErWtPciR0FFFFbEBRRRQAU13WONnkYIiglmY4AHqadXPeP455vhz4gjtQTK2nThQvU/IePyqZPli2VFc0kiXTPGOiaxexWtjdSGWdGktzNaywpcKuMtE7qFkAyDlCeDnpWhqmrWWi2DXmpziGFWCg7SzMxOAqqoJZieAACTXHapPa31/8AD7+y5FkLXP2iIxNnEAtnDHj+H5lHpkgVP4t1Czu77wjfQXcFxp6a2EkmilVkD+VKigkcZDkD68VT0dvO35f5/eStVfyv+en4GyPGehf2Tf6i93JFBpxAu0mtZY5YcgEbomUOMgjHy89qt6XrtprDyLaRX8ZjAJN3p1xbA59DKig/hmuN1DTLDxB468U2N3dNbWU+m2VpcTRSKpE5kkZVBYFd+CvBGfmHrWro99qVj8QLjw7c6rNrFr/Z63fm3EUSyWr79oRjEqqQwyRlc/KeTSi7tef6X/RXG9L/ANb2/wA7HX0UUUxBRRRQAUUUUAc/4c/5D3i3/sLx/wDpDa10Fc/4c/5D3i3/ALC8f/pDa10FCGFFFFAgooooAKKKKAMvWPEem6DJax6i9x5t4zLBFb2ktw8hUZOFjVjwOelWtP1CHU7Nbm2S4SNiQBc20kD8f7Eiqw/KszXtCtta1TTZBq1zp2oWJkmtjatEXIZQjnbIjgjDAZxxkVV8C6xe6tpuoJqFyL02GoTWcd8saoLpEx8+F+XOSVOMDKngUk7tr+un+Y3ol/Xc6eiiimIKKKKACiiigArn7z/kpWjf9gjUP/R1nXQVz95/yUrRv+wRqH/o6zoYzoKKKKBBRRRQAUUUUAZNp4n0W/8AEN1odjqEVxqNpH5lxBFlvKGduCwG0HP8Ocj0qC78aaDY6hJZ3N46vDIsU0q20rQQO2MLJMFMaHkcMw6j1FZFpZ2th8YGhsbaG2i/sIvshjCLua5JJwO5JJJ7muckmgT4O+NLa6ZTdC91CGVM/MZpJW8sY65O5MeuRio5nyp+Tf3OxVryt5pfernear4u0XRbt7a/uJvNii86YQWss4gj5+eQxqwjXg8tgcH0NSah4o0jTTbLNcSTvdxmWCOyt5Lp5Ixj5wsSsdvI+bGORzzXK+G5odPvvG6a1KiTRGGacyt/yx+yIAxz2yrjPsazPhmklhrdjBqZMc8nhayMCynDBFeTeOfTcmR24qr62/rZv9BdL/1ul+p6Xp2o2mradBf6bcJc2twm+OVDkMP89uoNWa5D4ZgHwlLNFn7NPqV5NbHPBia4cqR7HqPrXX0+lxdWgooooAKKKKAOH8Qf8l2+Gv8A3FP/AEmFetV5L4g/5Lt8Nf8AuKf+kwr1quefxGsdgrH1XxZoWiavp+lapqUMF/qUoitLXlpJCc4O0AkLkEbjgZ4zWxXC/EKxtItQ8NXsdrCl1N4gsklnWMCSRV37QW6kDJwD0yaj7SXdpfe7Dfwt9k39yOi8ReLNC8JWsVx4i1KGxSeQRwh8s8rEgYVFBZuozgcdTgVsVwvxdsbR/h9qV89rC13GkUSXBjBkVDPGSobqASASPYV2U9/Z2tzb291dwQz3TFLeKSQK0zAZIUHliBzx2oWwdTGufHXh6z1QWF1eSxObgWvntaTfZvOP/LP7Rs8rdnjG7OeOvFXPEPibSPCunLfa/eC0t3kEat5bOWYgnAVQSeASeOACTwK5bxZKfHGsJ4Q0n5razuoLnWb3HyQBGEiwIe8rEKT/AHVyTyQK5z4lrrEsPifUdT8OalLa29kbTTJ4p7UwRRttMkzAzB9zMAv3CQqj+8aUdUr/ANLT9f8AMb3/AK3PYQcjIoqvYTyXWnwzT2k1nI6AtBOULx+xKMy5+hNWKbJTurnN+KP+Ri8Gf9hqT/033ldJXN+KP+Ri8Gf9hqT/ANN95XSUDCsfVfFmhaJq+n6VqmpQwX+pSiK0teWkkJzg7QCQuQRuOBnjNbFcL8QrG0i1Dw1ex2sKXU3iCySWdYwJJFXftBbqQMnAPTJo+0l3aX3uwP4W+yb+5HReIvFmheErWK48RalDYpPII4Q+WeViQMKigs3UZwOOpwK2K4X4u2No/wAPtSvntYWu40iiS4MYMioZ4yVDdQCQCR7Cuynv7O1ube3uruCGe6YpbxSSBWmYDJCg8sQOeO1C2DqZFz430Gz1ZdOubqaOVrgWomazm+z+cekfn7PK3dsbs5468Ul9420XT9Yn0uU6hPeWyo80dlpV1deWHGVy0UbAZwe/auW+KNxdf8I8dTe+sNQ8P2l/AZtMgiKXFw6TBfLE+9lyJQMoIwTtK7hyaueKNLXTh4j8W6J4qudKvI7ZTdxbbeW3DQpuRZFdC4yG5AdT8w9qm9o8z6b/AHIdrysv61O8RxJGrrkBgCNykH8QeRS1n6Bfz6r4b03ULy3NrcXVrFNLARjy2ZQSv4E4rQq5LlbRMXdJnm3jb/ku3ww/7i3/AKTLXpNebeNv+S7fDD/uLf8ApMtek0hhWBrHjfQdAupINUup4/JCmeWOzmlht93TzZUQpH2PzkcEHoc1v1xHj6/k1yGfwLoQEup6pblbuUqTHYWrfK0rn+8RuCL1J56A0nfoNW6m/qvivSNGltorueaWa6QyQwWVrLdSOgxl9kSs23kfNjHI55q9pmp2Ws6Zb6jpdzHdWlwgeKWM5DD+h7EHkHg1xukwwaV8YryzkcKB4dtEs/Mblo45ZQ+PXBKE/UUfDG+srbwsqy3cMKanq1/JpsckoBnjNxIw8sE/MMZbjPBzVaPbz/O39fMnVb+X5XN258b6DZ6sunXN1NHK1wLUTNZzfZ/OPSPz9nlbu2N2c8deKdqfjHS9IupoL2HV8wjLyQaLeTRgYzkSJEVPHoeK5P4o3F1/wjx1N76w1Dw/aX8Bm0yCIpcXDpMF8sT72XIlAygjBO0ruHJrU+I1zLqFnp/hGyZkuvEcxglYHmK1Ubp34/2fkHu4qdWvO9vy/r0K0T12sdVpWp2mtaTa6npshltLuJZoZCjJvRhkHDAEZHqKt1Hb28VpbRW9tGsUMKBI0UYCqBgAewFSVTtfQlXtqc34o/5GLwZ/2GpP/TfeV0lc34o/5GLwZ/2GpP8A033ldJSGFY+q+LNC0TV9P0rVNShgv9SlEVpa8tJITnB2gEhcgjccDPGa2K4X4hWNpFqHhq9jtYUupvEFkks6xgSSKu/aC3UgZOAemTR9pLu0vvdgfwt9k39yOi8ReLNC8JWsVx4i1KGxSeQRwh8s8rEgYVFBZuozgcdTgVsVwvxdsbR/h9qV89rC13GkUSXBjBkVDPGSobqASASPYV2U9/Z2tzb291dwQz3TFLeKSQK0zAZIUHliBzx2oWwdTIufG+g2erLp1zdTRytcC1EzWc32fzj0j8/Z5W7tjdnPHXikvvG2i6frE+lynUJ7y2VHmjstKurryw4yuWijYDOD37Vy3xRuLr/hHjqb31hqHh+0v4DNpkERS4uHSYL5Yn3suRKBlBGCdpXcOTVzxRpa6cPEfi3RPFVzpV5HbKbuLbby24aFNyLIroXGQ3IDqfmHtU3tHmfTf7kO15WX9aneI4kjV1yAwBG5SD+IPIpaz9Av59V8N6bqF5bm1uLq1imlgIx5bMoJX8CcVoVclytomLukzzbxt/yXb4Yf9xb/ANJlr0mvNvG3/Jdvhh/3Fv8A0mWvSaQwrH1XxZoWiavp+lapqUMF/qUoitLXlpJCc4O0AkLkEbjgZ4zWxXC/EKxtItQ8NXsdrCl1N4gsklnWMCSRV37QW6kDJwD0yaPtJd2l97sD+Fvsm/uR0XiLxZoXhK1iuPEWpQ2KTyCOEPlnlYkDCooLN1GcDjqcCtiuF+LtjaP8PtSvntYWu40iiS4MYMioZ4yVDdQCQCR7Cuynv7O1ube3uruCGe6YpbxSSBWmYDJCg8sQOeO1C2DqY17468O6fqUtld30ivBKkM8y2sr28Dtjask6qY4z8y8Mw+8PUVJqfjHS9IupoL2HV8wjLyQaLeTRgYzkSJEVPHoeK86kmt4/gj47tbtlN2t/qcMsefmaaSZvKGOuW3x49cjFdL43lubrQtG8Gwuwv/EBW2uHDEmK2RQ1w5PXlRsz6uKWrSt5fj/l18huyeu2v4f5nZaVqdprWk2up6bIZbS7iWaGQoyb0YZBwwBGR6irdR29vFaW0VvbRrFDCgSNFGAqgYAHsBUlU7X0JV7anN+KP+Ri8Gf9hqT/ANN95XSVzfij/kYvBn/Yak/9N95XSUhhWPqvizQtE1fT9K1TUoYL/UpRFaWvLSSE5wdoBIXII3HAzxmtiuF+IVjaRah4avY7WFLqbxBZJLOsYEkirv2gt1IGTgHpk0faS7tL73YH8LfZN/cjovEXizQvCVrFceItShsUnkEcIfLPKxIGFRQWbqM4HHU4FbFcL8XbG0f4falfPawtdxpFElwYwZFQzxkqG6gEgEj2FdlPf2drc29vdXcEM90xS3ikkCtMwGSFB5Ygc8dqFsHUyLnxvoNnqy6dc3U0crXAtRM1nN9n849I/P2eVu7Y3Zzx14pL7xtoun6xPpcp1Ce8tlR5o7LSrq68sOMrloo2Azg9+1ct8Ubi6/4R46m99Yah4ftL+AzaZBEUuLh0mC+WJ97LkSgZQRgnaV3Dk1c8UaWunDxH4t0TxVc6VeR2ym7i228tuGhTciyK6FxkNyA6n5h7VN7R5n03+5DteVl/Wp3iOJI1dcgMARuUg/iDyKWs/QL+fVfDem6heW5tbi6tYppYCMeWzKCV/AnFaFXJcraJi7pM828bf8l2+GH/AHFv/SZa9Jrzbxt/yXb4Yf8AcW/9Jlr0mkM5X4i3KN8LfFQCy5OjXg5iYf8ALF/auL8EeLtNtvh/4egkttZZ4tLtkYx6JeSKSIlHDLEQw9wSD2ruviP/AMks8V/9gW8/9EPWD4B/5Jr4Z/7BFr/6JWtae5Mg/wCE10v/AJ9dc/8ABBff/GaP+E10v/n11z/wQX3/AMZroKK21IOf/wCE10v/AJ9dc/8ABBff/GaP+E10v/n11z/wQX3/AMZroKKNQOf/AOE10v8A59dc/wDBBff/ABmj/hNdL/59dc/8EF9/8ZroKKNQOO0/VfCWk3E1xpXh6+sZp/8AWy23he7jaTnPzFYATzzzT/7b8L/2ZJpv9hah9hkJL2v/AAjF55T5OTlPIwcnk8da2tW8R6botxDb3skzXE6lo7e1tZbiUqOrbI1ZgoyBkjGSKt6dqNpq2nQX+m3CXNrcJvjlQ5DD/PbqDStdWDqcvHqnhGHSH0qLw7epp0hy9mvha7ELc55TyNp5HpUuma74Y0W3a30fRNS0+Fm3tHa+GbyJS2AMkLABnAHPtWtJ4n0WLxND4ebUIjq0yNItouWYKBklsDC8cjdjPbNa1Hmg8jn/APhNdL/59dc/8EF9/wDGaP8AhNdL/wCfXXP/AAQX3/xmugop6gc//wAJrpf/AD665/4IL7/4zR/wmul/8+uuf+CC+/8AjNdBRRqBz/8Awmul/wDPrrn/AIIL7/4zR/wmul/8+uuf+CC+/wDjNdBRRqBwegeLtNi1vxO7W2skTaojrt0S8YgfY7ZfmAiypyp4ODjB6EE7n/Ca6X/z665/4IL7/wCM0eHP+Q94t/7C8f8A6Q2tdBSVwOf/AOE10v8A59dc/wDBBff/ABmj/hNdL/59dc/8EF9/8ZroKKeoHP8A/Ca6X/z665/4IL7/AOM0f8Jrpf8Az665/wCCC+/+M10FFGoHP/8ACa6X/wA+uuf+CC+/+M0f8Jrpf/Prrn/ggvv/AIzXQUUagchqmseFNcWNda0C/wBRWIkxi78MXcoQnrjdAcVbt/FuiWltHb2un6xBBEoSOKPw7eqqKBgAAQ4AA7Vqarrljowh+2tMXmJEcVtbSXEj4GSQkas2Bxk4wMj1FP0jWLDXdNjv9JuVubaTIDgEEEHBBBwVIPBBAIpLyD1Mz/hNdL/59dc/8EF9/wDGaP8AhNdL/wCfXXP/AAQX3/xmugop6gc//wAJrpf/AD665/4IL7/4zR/wmul/8+uuf+CC+/8AjNdBRRqBz/8Awmul/wDPrrn/AIIL7/4zR/wmul/8+uuf+CC+/wDjNdBRRqBz/wDwmul/8+uuf+CC+/8AjNYd34u01viBpM4ttZ2Jpd8hB0S8DEtLakYXyskfKckDA4zjIz3lc/ef8lK0b/sEah/6Os6TuAf8Jrpf/Prrn/ggvv8A4zR/wmul/wDPrrn/AIIL7/4zXQUU9QOf/wCE10v/AJ9dc/8ABBff/GaP+E10v/n11z/wQX3/AMZroKKNQOf/AOE10v8A59dc/wDBBff/ABmj/hNdL/59dc/8EF9/8ZroKKNQOFR/Acd8L2PwjMt2snmidfCVyJA+c7t32fOc8561Zl1XwlPqyarP4evpNRjxsvH8L3ZmXHTDmDIx9a6m+v7TS7GW91G5itbWFd0k0zhVUe5NUrTxNo994ZXxDb3yf2U0RlF1IDGoQEgkhgCOh6ilt8g3+Zh6hqvhLVrqG51Tw9fXs8H+qlufC93I0fOflLQEjnninaprPhXW4449a0HUNRSMlkW78MXcoQnuA0BxWvpnirSNWmmhtZ5YpoYhO8V5ay2ziM5G8LKqkrkEbhx71HpnjHRNYvYrWxupDLOjSW5mtZYUuFXGWid1CyAZByhPBz0ot0C/Uhj8Y6RFGscVlrSIgCqq+H74BQOgA8mnf8Jrpf8Az665/wCCC+/+M10FFPUWhz//AAmul/8APrrn/ggvv/jNH/Ca6X/z665/4IL7/wCM10FFGozn/wDhNdL/AOfXXP8AwQX3/wAZo/4TXS/+fXXP/BBff/Ga6CijUDy7XPFOny/Gf4f3a2+rCK1/tLzFbRrtZG3W4A2RmLc/vtBwOTgV6f8A8J5pH/Pn4g/8JzUP/jFcT4g/5Lt8Nf8AuKf+kwr1quefxGkdjm/+E80j/nz8Qf8AhOah/wDGKxtTvPAet3n2vWfCV1qFztC+dd+DruV9o6Dc1uTiu9rH1XxZoWiavp+lapqUMF/qUoitLXlpJCc4O0AkLkEbjgZ4zUdR9LnNXt54C1OG2h1HwjdXcVpH5Vsk/g67dYU/uoDb/KOBwOOKsW2t+DrOKzis/Dmo28dgzPaJF4SvVFuzZ3FALf5ScnJGM5Nb2seKNK0K4gtr+Wdrm4Vnjt7S0lupWVcZby4lZgoyBuIxkgZ5q7pmp2Ws6Zb6jpdzHdWlwgeKWM5DD+h7EHkHg0B5HC3I+HF7dy3V54IkuLiZzJLNL4Kumd2JyWJNtkknvWzceMPD13ZvaXel61PbOux4ZfDF+yMvoVMGCK1tX8T6PoV9p9nqt4ILnUphDaxiNnMjEgfwg7RllG44GSOearaz410LQLp4NVuZ4vKCtNKllNLDAGOB5kqIUj9fmI4IPQ5o6B1If+E80gf8ufiD/wAJvUP/AIxR/wAJ5pH/AD5+IP8AwnNQ/wDjFdGrB1DKQykZBB4IpaAPO/EfjTS5te8JulrrgEOrSOwfQL5SR9hul+UGEFjlhwuTjJxgEjoP+E80j/nz8Qf+E5qH/wAYo8Uf8jF4M/7DUn/pvvK6SgDm/wDhPNI/58/EH/hOah/8YrG1O88B63efa9Z8JXWoXO0L5134Ou5X2joNzW5OK72sfVfFmhaJq+n6VqmpQwX+pSiK0teWkkJzg7QCQuQRuOBnjNHUOlzmr288BanDbQ6j4RuruK0j8q2SfwddusKf3UBt/lHA4HHFWLbW/B1nFZxWfhzUbeOwZntEi8JXqi3Zs7igFv8AKTk5IxnJrd8ReLNC8JWsVx4i1KGxSeQRwh8s8rEgYVFBZuozgcdTgVsUB5HC/wBpeB/7a/tj/hFr3+1N2/7d/wAIheefuxjPmfZ92ccZzRc6l4HvdXTVbzwte3Gooyst5L4QvGmUr90hzb7gRgY54rbufG+g2erLp1zdTRytcC1EzWc32fzj0j8/Z5W7tjdnPHXikvvG2i6frE+lynUJ7y2VHmjstKurryw4yuWijYDOD37ULZNB1dyP/hPNI/58/EH/AITmof8Axij/AITzSP8Anz8Qf+E5qH/xiujRxJGrrkBgCNykH8QeRS0AeM+NPGWlN8Y/h3ftFq0UFn/afm+do13G5326gbEaIM/PXaDjqcCu4/4Wd4a9dY/8EN9/8Zrkfix/yVf4cf8AcT/9EJWjXymc57Uy7EKjCCd1fX1a/Q9PCYKOIpuTdtTd/wCFneGvXWP/AAQ33/xmsTUda+GOr3z3ureG/t13JjfPc+ErmSRsDAyzW5JwABTayNS8U6RpNzJBe3EgkijEs3lW8kogQ5w0hRSEHB5bHQ+leRDirFVHaFFN+VzqeWU4q7nY37zxJ8OdR0+2sdQ0OW6s7QYt7efwrdPHCMYwimDC8ccVbfx14KkktHksr93sebVm8N3hNvxt+Q+R8vHHGOOK5i/8R6ZpzQrPO8rzxmWOO1gkuGZBjL7Y1Y7eR83TkVcsr621KxhvLCdJ7eZQ8ciHIYU5cVYuMed0VZ9dRLLaTdlM0P8AhJPhz/bX9sf2HL/am7f9u/4RW68/djGfM8jdnHGc1ePxA8HtqC35ttRN4sRhW4Ph298wISCUDeRnaSAcdMiuQuPFej2t99luLmSNvOEBlNtJ5IkP8Bm2+WG7Y3deOtWdZ1zTvD9iLzV7kW8BYIG2MxJ64AUEngE9OACar/WjGXjH2G+2+voH9m0tff23Ot/4Wd4a9dY/8EN9/wDGaP8AhZ3hr11j/wAEN9/8ZrBByMilrH/W+v8A8+l97K/suH8zE8RfETw9ca74UkjOq7bfVnkk3aLeKdpsrpOAYsscsOBk4yegJG9/ws7w166x/wCCG+/+M1w+vf8AIa8Nf9hN/wD0jua260nxZXjGL9mtVfd92v0JWWQba5nobv8Aws7w166x/wCCG+/+M1j6nr/w01u8+16z4fbULnaF8678J3Ur7R0G5rcnFRVkal4p0jSbmSC9uJBJFGJZvKt5JRAhzhpCikIODy2Oh9KUOKsVUdoUU35XY3llOKu5m5e698NNThtodR8PNdxWkflWyT+E7p1hT+6gNv8AKOBwOOKntvFvw/s4rOKz0m5t47Bme0SLwvdqLdmzuKAQfKTk5IxnJrn7/wAR6ZpzQrPO8rzxmWOO1gkuGZBjL7Y1Y7eR83TkVcsr621KxhvLCdJ7eZQ8ciHIYU3xVi4x53RVn11F/ZtJu3OaH/CSfDn+2v7Y/sOX+1N2/wC3f8IrdefuxjPmeRuzjjOaLnxJ8Ob3V01W80OW41FGVlvJfCt00ylfukOYNwIwMc8ViyeIdJi1+HRHvo/7SnVnS2XLMABkk44XjkZxntmotT8T6Vo8zR6hNMnlqrSyJayyRxAngu6qVT/gRHHPSqjxRjG0o0NXqt9u6B5bS1vP12O0/wCFneGvXWP/AAQ33/xmj/hZ3hr11j/wQ33/AMZrBVgyhlIIIyCD1pax/wBbq/8Az6X3sr+y4fzMwfFPjbR9Q+M/w7u7RdUkis/7T81f7Hu1kO+3UDbGYtz9OdoOBycCvRf+E80j/nz8Qf8AhOah/wDGK81m/wCS7fDz/uJf+k1e3V9plmMljcJDESVm76eja/Q8nEUlRquC6HN/8J5pH/Pn4g/8JzUP/jFY2p3ngPW7z7XrPhK61C52hfOu/B13K+0dBua3JxXe1j6r4s0LRNX0/StU1KGC/wBSlEVpa8tJITnB2gEhcgjccDPGa9Hqc/S5zV7eeAtThtodR8I3V3FaR+VbJP4Ou3WFP7qA2/yjgcDjirFtrfg6zis4rPw5qNvHYMz2iReEr1Rbs2dxQC3+UnJyRjOTW74i8WaF4StYrjxFqUNik8gjhD5Z5WJAwqKCzdRnA46nArYoDyOIm1jwZcaymr3HhrUJdTjxsvX8I3rTLjgYc2+4Y+tWz4u8OtqC350nWjeLEYVuD4Yv/MCEglA3kZ2kgHHTIq3e+OvDun6lLZXd9IrwSpDPMtrK9vA7Y2rJOqmOM/MvDMPvD1FXPEPibSPCunLfa/eC0t3kEat5bOWYgnAVQSeASeOACTwKF5AUP+E80j/nz8Qf+E5qH/xij/hPNI/58/EH/hOah/8AGK6QHIyKKAPO/EfjTS5te8JulrrgEOrSOwfQL5SR9hul+UGEFjlhwuTjJxgEjoP+E80j/nz8Qf8AhOah/wDGKPFH/IxeDP8AsNSf+m+8rpKAOb/4TzSP+fPxB/4Tmof/ABisbU7zwHrd59r1nwldahc7QvnXfg67lfaOg3Nbk4rvax9V8WaFomr6fpWqalDBf6lKIrS15aSQnODtAJC5BG44GeM0dQ6XOavbzwFqcNtDqPhG6u4rSPyrZJ/B126wp/dQG3+UcDgccVYttb8HWcVnFZ+HNRt47Bme0SLwleqLdmzuKAW/yk5OSMZya3fEXizQvCVrFceItShsUnkEcIfLPKxIGFRQWbqM4HHU4FbFAeRwv9peB/7a/tj/AIRa9/tTdv8At3/CIXnn7sYz5n2fdnHGc0XOpeB73V01W88LXtxqKMrLeS+ELxplK/dIc2+4EYGOeK27nxvoNnqy6dc3U0crXAtRM1nN9n849I/P2eVu7Y3Zzx14pL7xtoun6xPpcp1Ce8tlR5o7LSrq68sOMrloo2Azg9+1C2TQdXcj/wCE80j/AJ8/EH/hOah/8Yo/4TzSP+fPxB/4Tmof/GK6NHEkauuQGAI3KQfxB5FLQB5H4i8Q2esfHP4bNaQ6jGIP7U3/AGvTLm2JzbDG0Sxru6c7c44zjIr1b7VH/dl/78v/AIV5542/5Lt8MP8AuLf+ky16TQBzfxH/AOSWeK/+wLef+iHrB8A/8k18M/8AYItf/RK1sfEW5Rvhb4qAWXJ0a8HMTD/li/tXF+CPF2m23w/8PQSW2ss8Wl2yMY9EvJFJESjhliIYe4JB7VrT3Jkd5RXP/wDCa6X/AM+uuf8Aggvv/jNH/Ca6X/z665/4IL7/AOM1tdEHQUVz/wDwmul/8+uuf+CC+/8AjNH/AAmul/8APrrn/ggvv/jNF0B0FFc//wAJrpf/AD665/4IL7/4zR/wmul/8+uuf+CC+/8AjNF0Bn20iQ/GPUhcuqtNotubfccZVZZfMx9Cy5+oqH4dXtpb+GlWS6hiTUNUvX0+OSUAzIZ3YbAT8wx83HY5qfVNZ8K63HHHrWg6hqKRksi3fhi7lCE9wGgOKmfxH4dkktXk0jVGez/49mPhu8Jg4x8n7n5eOOO1THT+u7uN6/12ViprNna2vxO8LSW1tDC9w17JM0cYUyt5KjcxHU4AGT6V2lcLdv4E1C8ku7/wlNdXMp3STTeErl3c+pY2+TWyPGmlAYFprgH/AGAL7/4zTWiEdDRXP/8ACa6X/wA+uuf+CC+/+M0f8Jrpf/Prrn/ggvv/AIzTugOgorn/APhNdL/59dc/8EF9/wDGaP8AhNdL/wCfXXP/AAQX3/xmi6A6Ciuf/wCE10v/AJ9dc/8ABBff/GaP+E10v/n11z/wQX3/AMZougDw5/yHvFv/AGF4/wD0hta6CuD0DxdpsWt+J3a21kibVEdduiXjED7HbL8wEWVOVPBwcYPQgnc/4TXS/wDn11z/AMEF9/8AGaSaA6Ciuf8A+E10v/n11z/wQX3/AMZo/wCE10v/AJ9dc/8ABBff/Gad0B0FFc//AMJrpf8Az665/wCCC+/+M0f8Jrpf/Prrn/ggvv8A4zRdAdBRXP8A/Ca6X/z665/4IL7/AOM0f8Jrpf8Az665/wCCC+/+M0XQFnxH4it/DtgkskUl1d3D+TZ2cIzJcynoq+nqSeAASareC9BufD/h7yNRkjkvrm4lvLsxZ8sSysWZVzztGcDPpWfqmreE9cEQ1rw/faiIc+X9r8L3cuzOM43QHGcD8qfpmueF9FgaDRtD1HT4nbe0dp4ZvIlZsYyQsAyeOtJbtv8Ar+v8geyR1tFc/wD8Jrpf/Prrn/ggvv8A4zR/wmul/wDPrrn/AIIL7/4zTugOgorn/wDhNdL/AOfXXP8AwQX3/wAZo/4TXS/+fXXP/BBff/GaLoDoKK5//hNdL/59dc/8EF9/8Zo/4TXS/wDn11z/AMEF9/8AGaLoDoK5+8/5KVo3/YI1D/0dZ0f8Jrpf/Prrn/ggvv8A4zWHd+LtNb4gaTOLbWdiaXfIQdEvAxLS2pGF8rJHynJAwOM4yMptAd5RXP8A/Ca6X/z665/4IL7/AOM0f8Jrpf8Az665/wCCC+/+M07oDoKK5/8A4TXS/wDn11z/AMEF9/8AGaP+E10v/n11z/wQX3/xmi6A6Ciuf/4TXS/+fXXP/BBff/GaP+E10v8A59dc/wDBBff/ABmi6A2buztb6FY722huER1kVZYw4VlOVYA9weQe1eVodnwB0yWQ4t4b2GS4J6CJb4FifYDk/Sux1DxF4c1azNpqukapfWzEEw3Phq8kQkdDtaEiq2n6j4P0mKePSvDd5ZR3K7Z0tvC13GJRzwwWAZHJ6+pqet/60GYPxLSS+1q4TSyZLiLwvqDTeWc/I/l7AcepVseuDjpWpqk9rfX/AMPv7LkWQtc/aIjE2cQC2cMeP4fmUemSBV/S9a8K6JHJHoug6hp6SHc62nhi7iDH1IWAZpmn6r4S0m4muNK8PX1jNP8A62W28L3cbSc5+YrACeeeaFZf12bf6/1cHdr7/wAUl+h2NFc//wAJrpf/AD665/4IL7/4zR/wmul/8+uuf+CC+/8AjNVdCOgorn/+E10v/n11z/wQX3/xmj/hNdL/AOfXXP8AwQX3/wAZougOgorn/wDhNdL/AOfXXP8AwQX3/wAZo/4TXS/+fXXP/BBff/GaLoDH8Qf8l2+Gv/cU/wDSYV61XhmueKdPl+M/w/u1t9WEVr/aXmK2jXayNutwBsjMW5/faDgcnAr0/wD4TzSP+fPxB/4Tmof/ABiuefxGkdjpK4X4hWNpFqHhq9jtYUupvEFkks6xgSSKu/aC3UgZOAemTWt/wnmkf8+fiD/wnNQ/+MVjaneeA9bvPtes+ErrULnaF8678HXcr7R0G5rcnFR1T7NP7ncb1TXdNfeT2siQfHDUxdOqvPoNs1tuOMok0vmY+hZCfqKh+GN9ZW3hZVlu4YU1PVr+TTY5JQDPGbiRh5YJ+YYy3GeDmn3up+CNSsLax1HwvfXdpaALb28/hC8eOEAYARTb4XgY4q2/ijwzJJaPJouru9jzas3ha+Jt+NvyHyPl444xxxQtP67u4PX+uyscN4jfW4b8avrXhXVje3OvWaQOtxaNFHbRz/uoo/3+dz8sSVA3NgnCg11nxGbUNR8E6ybPVNPtrC3smGp2c0WZ8bA7xecJCsTNGQMmN8bgRnIrRuPGOgXiot3pmtzrHIsqCXwxfsFdTlWGYOCDyD2rPvtS8D6nqaajqXha9u76PbsurjwheSSrtOVw5t8jB6c8Ure5y/1sl89te47+/wA39bs6nw9dR3vhnTLqG1ezjmtIpEt5DloQUBCH3HStGub/AOE80j/nz8Qf+E5qH/xij/hPNI/58/EH/hOah/8AGKqTu2yYqySDxR/yMXgz/sNSf+m+8rpK878R+NNLm17wm6WuuAQ6tI7B9AvlJH2G6X5QYQWOWHC5OMnGASOg/wCE80j/AJ8/EH/hOah/8YpDOkrhfiFY2kWoeGr2O1hS6m8QWSSzrGBJIq79oLdSBk4B6ZNa3/CeaR/z5+IP/Cc1D/4xWNqd54D1u8+16z4SutQudoXzrvwddyvtHQbmtycUdU+zT+53B6prumvvH/F2xtH+H2pXz2sLXcaRRJcGMGRUM8ZKhuoBIBI9hXZT39na3Nvb3V3BDPdMUt4pJArTMBkhQeWIHPHauKvbzwFqcNtDqPhG6u4rSPyrZJ/B126wp/dQG3+UcDgccVYttb8HWcVnFZ+HNRt47Bme0SLwleqLdmzuKAW/yk5OSMZyaAMv4o3F1/wjx1N76w1Dw/aX8Bm0yCIpcXDpMF8sT72XIlAygjBO0ruHJq54o0tdOHiPxboniq50q8jtlN3Ftt5bcNCm5FkV0LjIbkB1PzD2p/8AaXgf+2v7Y/4Ra9/tTdv+3f8ACIXnn7sYz5n2fdnHGc0XOpeB73V01W88LXtxqKMrLeS+ELxplK/dIc2+4EYGOeKVny2/rb8R3V7nVaBfz6r4b03ULy3NrcXVrFNLARjy2ZQSv4E4rQrm/wDhPNI/58/EH/hOah/8Yo/4TzSP+fPxB/4Tmof/ABiqk03dEpNKzOH+LH/JV/hx/wBxP/0QlaNcx8SfEtnqfxQ8AS2lprBFv/aO5JNFu45G3QpjYjRBn6c7QcDk4Fav9tJ/0CfEH/ggvf8A4zX53xPg8TXxkZUqcpLlWyb6vse9l1WnCk1KSWvfyRpVxurWd/oFz4g1SAadLYajGsk73ly8TQMsflkABGDggLgZU5JHfNdB/bSf9AnxB/4IL3/4zVCZNGuNSXUZ/Cupy3yEFbp/C92ZVI6EMYc8V4GHwWNpSfNRnZ7rleuqflbbf8Gd869FpWmrrzRiaHomsaJZ6Vq0SWcsqaJDaXkV/cNb+Ts+YMHCP6sCCB0BzWh4EmWz8KWaahcQQy31zcSWsZbb5itK7rsB5I2ncPY1bv00bVJ45tT8K6neSxjCSXHhe7kZRnOATCcc1Zmv7O4mhmuNB1uWW3YtC7+HLxmjJGCVJh4OOOK6a1DG1oNToTu3d+6+l7L8fLTuYwlRg1aa0815IyfETnxTqA8Nad80ME8U2p3OPlhVWDrEp7yMQOOy5J6isXxyNSkh168vtGvZLeCza3sZY5YDEisAZJWBkDbifl+6cBf9o1vz6Z4ZuriS4uvBV5NNKxeSSTwncszsepJMGSa0ptRtbi1a2uND1yWB12tE/h29ZSPQgw4xV0qOLoSh7PDzaXeMt9LtNd7W9NO4SnSne81r5rpe353NCzmeeyillt5LZ2XJhlKlk9jtJH5E1PWb/bSD/mE+IP8Awn73/wCM0f20n/QJ8Qf+CC9/+M15by3HN39hL/wGX+R0KvRStzr70Vte/wCQ14a/7Cb/APpHc1t1ymt6ur6x4dP9ma4uzUXOH0O8Ut/olwMKDFljznAycAnoCRs/20n/AECfEH/ggvf/AIzW1TLsa4QtRlt/K+78iY4ijd++vvXZGlXG6tZ3+gXPiDVIBp0thqMayTveXLxNAyx+WQAEYOCAuBlTkkd810H9tJ/0CfEH/ggvf/jNUJk0a41JdRn8K6nLfIQVun8L3ZlUjoQxhzxVYfBY2lJ81GdnuuV66p+Vtt/wYTr0WlaauvNGJoeiaxolnpWrRJZyypokNpeRX9w1v5Oz5gwcI/qwIIHQHNaHgSZbPwpZpqFxBDLfXNxJaxltvmK0ruuwHkjadw9jVu/TRtUnjm1Pwrqd5LGMJJceF7uRlGc4BMJxzVma/s7iaGa40HW5Zbdi0Lv4cvGaMkYJUmHg444rprUMbWg1OhO7d37r6Xsvx8tO5jCVGDVprTzXkjM1e1t7fx/4bkt4Ionnlu3lZECmRvIxliOpwAMn0p3jYXd14c1VbPUrKK0gtnF7C8eZCNu5lEm7EZKHqUbG4GnXVh4cvrp7m+8GXtzPIcvLN4UunZj7kwZNS3UOh314l3e+E9SuLmMAJNN4Xu3dcdMMYMjFKOFxSlTk6M/dX8j7t9fW3luV7Wl73vLV9zT0O4S68P6fcQ27WscttG6wOcmMFQQp+nSr9Zv9tJ/0CfEH/ggvf/jNH9tJ/wBAnxB/4IL3/wCM1wSy7HSk2qE//AZf5Gsa9GMUudfejOm/5Lt8PP8AuJf+k1e3V8/3euQQfGfwHdz2OsRRQf2juWTRrtZGzb4+SMx7nx32g4HJwK9c/wCE80j/AJ8/EH/hOah/8Yr9OyGlUpZdThUi01fR6P4mfPY2UZYiTi7rT8jpK4X4hWNpFqHhq9jtYUupvEFkks6xgSSKu/aC3UgZOAemTWt/wnmkf8+fiD/wnNQ/+MVjaneeA9bvPtes+ErrULnaF8678HXcr7R0G5rcnFe31T7NP7nc43qmu6a+8f8AF2xtH+H2pXz2sLXcaRRJcGMGRUM8ZKhuoBIBI9hXZT39na3Nvb3V3BDPdMUt4pJArTMBkhQeWIHPHauKvbzwFqcNtDqPhG6u4rSPyrZJ/B126wp/dQG3+UcDgccVYttb8HWcVnFZ+HNRt47Bme0SLwleqLdmzuKAW/yk5OSMZyaAOSkmt4/gj47tbtlN2t/qcMsefmaaSZvKGOuW3x49cjFV/HcWu/2Nrt7rfh3U5orTTBZ6fPHcWzQxqQplmYGYPvZht+4SFUf3jXZzax4MuNZTV7jw1qEupx42Xr+Eb1plxwMObfcMfWrt14x0C+tZLa90zW7iCUbZIpvDN+6uPQgwYNC0X3L7lb/Mb1fzb+93OisJ5LrT4Zp7SazkdAWgnKF4/YlGZc/QmrFc3/wnmkD/AJc/EH/hN6h/8Yo/4TzSP+fPxB/4Tmof/GKCUrKweKP+Ri8Gf9hqT/033ldJXnfiPxppc2veE3S11wCHVpHYPoF8pI+w3S/KDCCxyw4XJxk4wCR0H/CeaR/z5+IP/Cc1D/4xQM6SuF+IVjaRah4avY7WFLqbxBZJLOsYEkirv2gt1IGTgHpk1rf8J5pH/Pn4g/8ACc1D/wCMVjaneeA9bvPtes+ErrULnaF8678HXcr7R0G5rcnFHVPs0/udweqa7pr7x/xdsbR/h9qV89rC13GkUSXBjBkVDPGSobqASASPYV2U9/Z2tzb291dwQz3TFLeKSQK0zAZIUHliBzx2rir288BanDbQ6j4RuruK0j8q2SfwddusKf3UBt/lHA4HHFWLbW/B1nFZxWfhzUbeOwZntEi8JXqi3Zs7igFv8pOTkjGcmgDL+KNxdf8ACPHU3vrDUPD9pfwGbTIIilxcOkwXyxPvZciUDKCME7Su4cmrnijS104eI/FuieKrnSryO2U3cW23ltw0KbkWRXQuMhuQHU/MPan/ANpeB/7a/tj/AIRa9/tTdv8At3/CIXnn7sYz5n2fdnHGc0XOpeB73V01W88LXtxqKMrLeS+ELxplK/dIc2+4EYGOeKVny2/rb8R3V7nVaBfz6r4b03ULy3NrcXVrFNLARjy2ZQSv4E4rQrm/+E80j/nz8Qf+E5qH/wAYo/4TzSP+fPxB/wCE5qH/AMYqpNN3RKTSszmvG3/Jdvhh/wBxb/0mWvSa8j8ReIbPWPjn8NmtIdRjEH9qb/temXNsTm2GNoljXd0525xxnGRXq32qP+7L/wB+X/wpDMH4j/8AJLPFf/YFvP8A0Q9YPgH/AJJr4Z/7BFr/AOiVre+I/wDySzxX/wBgW8/9EPWD4B/5Jr4Z/wCwRa/+iVrWnuRI6CiiitiAooooAKKKKAMvVvEem6LcQ297JM1xOpaO3tbWW4lKjq2yNWYKMgZIxkirenajaatp0F/ptwlza3Cb45UOQw/z26g1zFtIkPxj1IXLqrTaLbm33HGVWWXzMfQsufqKh+HV7aW/hpVkuoYk1DVL19PjklAMyGd2GwE/MMfNx2OaUXf8fzsOSt+H5XOgk8T6LF4mh8PNqER1aZGkW0XLMFAyS2BheORuxntmtauL1mztbX4neFpLa2hhe4a9kmaOMKZW8lRuYjqcADJ9K7ShbC6hRRRTAKKKKACiiigDn/Dn/Ie8W/8AYXj/APSG1roK5/w5/wAh7xb/ANheP/0hta6ChDCiiigQUUUUAFFFFAGXrHiPTdBktY9Re4828Zlgit7SW4eQqMnCxqx4HPSrWn6hDqdmtzbJcJGxIAubaSB+P9iRVYflWZr2hW2tappsg1a507ULEyTWxtWiLkMoRztkRwRhgM44yKq+BdYvdW03UE1C5F6bDUJrOO+WNUF0iY+fC/LnJKnGBlTwKSd21/XT/Mb0S/rudPRRRTEFFFFABRRRQAVz95/yUrRv+wRqH/o6zroK5+8/5KVo3/YI1D/0dZ0MZ0FFFFAgooooAKKKKAMm08T6Lf8AiG60Ox1CK41G0j8y4giy3lDO3BYDaDn+HOR6VBd+NNBsdQks7m8dXhkWKaVbaVoIHbGFkmCmNDyOGYdR6isi0s7Ww+MDQ2NtDbRf2EX2QxhF3Nckk4Hckkk9zXOSTQJ8HfGltdMpuhe6hDKmfmM0kreWMdcncmPXIxUcz5U/Jv7nYq15W80vvVzvNV8XaLot29tf3E3mxRedMILWWcQR8/PIY1YRrweWwOD6GpNQ8UaRpptlmuJJ3u4zLBHZW8l08kYx84WJWO3kfNjHI55rlfDc0On33jdNalRJojDNOZW/5Y/ZEAY57ZVxn2NZnwzSSw1uxg1MmOeTwtZGBZThgivJvHPpuTI7cVV9bf1s3+gul/63S/U9L07UbTVtOgv9NuEubW4TfHKhyGH+e3UGrNch8MwD4Slmiz9mn1K8mtjngxNcOVI9j1H1rr6fS4urQUUUUAFFFFAHD+IP+S7fDX/uKf8ApMK9aryXxB/yXb4a/wDcU/8ASYV61XPP4jWOwVj6r4s0LRNX0/StU1KGC/1KURWlry0khOcHaASFyCNxwM8ZrYrhfiFY2kWoeGr2O1hS6m8QWSSzrGBJIq79oLdSBk4B6ZNR9pLu0vvdhv4W+yb+5HReIvFmheErWK48RalDYpPII4Q+WeViQMKigs3UZwOOpwK2K4X4u2No/wAPtSvntYWu40iiS4MYMioZ4yVDdQCQCR7Cuynv7O1ube3uruCGe6YpbxSSBWmYDJCg8sQOeO1C2DqY1z468PWeqCwuryWJzcC189rSb7N5x/5Z/aNnlbs8Y3Zzx14q54h8TaR4V05b7X7wWlu8gjVvLZyzEE4CqCTwCTxwASeBXLeLJT441hPCGk/NbWd1Bc6ze4+SAIwkWBD3lYhSf7q5J5IFc58S11iWHxPqOp+HNSltbeyNppk8U9qYIo22mSZgZg+5mAX7hIVR/eNKOqV/6Wn6/wCY3v8A1uewg5GRRVewnkutPhmntJrOR0BaCcoXj9iUZlz9CasU2SndXOb8Uf8AIxeDP+w1J/6b7yukrm/FH/IxeDP+w1J/6b7yukoGFY+q+LNC0TV9P0rVNShgv9SlEVpa8tJITnB2gEhcgjccDPGa2K4X4hWNpFqHhq9jtYUupvEFkks6xgSSKu/aC3UgZOAemTR9pLu0vvdgfwt9k39yOi8ReLNC8JWsVx4i1KGxSeQRwh8s8rEgYVFBZuozgcdTgVsVwvxdsbR/h9qV89rC13GkUSXBjBkVDPGSobqASASPYV2U9/Z2tzb291dwQz3TFLeKSQK0zAZIUHliBzx2oWwdTIufG+g2erLp1zdTRytcC1EzWc32fzj0j8/Z5W7tjdnPHXikvvG2i6frE+lynUJ7y2VHmjstKurryw4yuWijYDOD37Vy3xRuLr/hHjqb31hqHh+0v4DNpkERS4uHSYL5Yn3suRKBlBGCdpXcOTVzxRpa6cPEfi3RPFVzpV5HbKbuLbby24aFNyLIroXGQ3IDqfmHtU3tHmfTf7kO15WX9aneI4kjV1yAwBG5SD+IPIpaz9Av59V8N6bqF5bm1uLq1imlgIx5bMoJX8CcVoVclytomLukzzbxt/yXb4Yf9xb/ANJlr0mvNvG3/Jdvhh/3Fv8A0mWvSaQwooooArajqNnpGmz6hqdxHa2luheWaQ4VFFZen+MtF1P7YtpLd+fZxCaa1m0+4iuBGc4ZYXQO4OCAVU5PHWmeN/DsvijwpcadayxxXPmRXEBmz5ZkikWRVfHO0lQDjsc4Nc5pkms6j8Z45tSttOtm0/RpIrmOwu3uQpkljaMOzRx7SQjkLt6DOTu4Fq7ev5X/AOAD0V/63SOgt/Hmh3Gq2enH+1Le6vnMdst3o13biRgpYgNJEq8KCevaujrhtDI8U/EvU9dYBrHQQ2lWBPIaY4a4kHbj5Y8/7LV3NHRPv/S/DUOrX9f10CiiigDm/FH/ACMXgz/sNSf+m+8rpK5vxR/yMXgz/sNSf+m+8rpKACsDWPG+gaDey2upXkqy28ay3Hk2k062yNnDStGjLEDgnLkcAnoK36861/TtU8KzeLdYtl0ifStYiWa4k1C7khe3cReUVCrGwkBAUhdyEkkdwamTaVyoq7sdrqmvaZouiSavqN2kVgiqxmUFwwYgLtCgliSRgAEnPFWLC+t9T062v7GTzba6iWaF9pG5GGQcHkcHvXkq6f4itvDuhW+r+HdTvrHRdBjMf2aa2CteGEqzSLJKjfu14AwclmPUCu08AaxAPh/4Yh1Af2bcXFlFFbQXU0Qe42xA7kCucggZx1A6gVo0ryXZ/wCf+RnfSPmv8v8AMv3PjfQbPVl065upo5WuBaiZrOb7P5x6R+fs8rd2xuznjrxU+q+LNC0TV9P0rVNShgv9SlEVpa8tJITnB2gEhcgjccDPGa474o3F1/wjx1N76w1Dw/aX8Bm0yCIpcXDpMF8sT72XIlAygjBO0ruHJq/8QbK0S+8M30drDHdz+ILJJZxGBI6rv2qzdSBk4HbJqY62v3S++3+ZUtE7dm/uud1RRRQB5t42/wCS7fDD/uLf+ky16TXm3jb/AJLt8MP+4t/6TLXpNABWPqvizQtE1fT9K1TUoYL/AFKURWlry0khOcHaASFyCNxwM8ZrYrhfiFY2kWoeGr2O1hS6m8QWSSzrGBJIq79oLdSBk4B6ZNH2ku7S+92B/C32Tf3I6LxF4s0LwlaxXHiLUobFJ5BHCHyzysSBhUUFm6jOBx1OBWxXC/F2xtH+H2pXz2sLXcaRRJcGMGRUM8ZKhuoBIBI9hXZT39na3Nvb3V3BDPdMUt4pJArTMBkhQeWIHPHahbB1Ma98deHdP1KWyu76RXglSGeZbWV7eB2xtWSdVMcZ+ZeGYfeHqKueIfE2keFdOW+1+8FpbvII1by2csxBOAqgk8Ak8cAEngV5lJNbx/BHx3a3bKbtb/U4ZY8/M00kzeUMdctvjx65GKr+O4td/sbXb3W/DupzRWmmCz0+eO4tmhjUhTLMwMwfezDb9wkKo/vGhapfJ/er/wBet7Das/m19zt/Xoe1A5GRRVewnkutPhmntJrOR0BaCcoXj9iUZlz9CasUMlO6uc34o/5GLwZ/2GpP/TfeV0lc34o/5GLwZ/2GpP8A033ldJQMKx9V8WaFomr6fpWqalDBf6lKIrS15aSQnODtAJC5BG44GeM1sVwvxCsbSLUPDV7HawpdTeILJJZ1jAkkVd+0FupAycA9Mmj7SXdpfe7A/hb7Jv7kdF4i8WaF4StYrjxFqUNik8gjhD5Z5WJAwqKCzdRnA46nArYrhfi7Y2j/AA+1K+e1ha7jSKJLgxgyKhnjJUN1AJAJHsK7Ke/s7W5t7e6u4IZ7pilvFJIFaZgMkKDyxA547ULYOpkXPjfQbPVl065upo5WuBaiZrOb7P5x6R+fs8rd2xuznjrxSX3jbRdP1ifS5TqE95bKjzR2WlXV15YcZXLRRsBnB79q5b4o3F1/wjx1N76w1Dw/aX8Bm0yCIpcXDpMF8sT72XIlAygjBO0ruHJq54o0tdOHiPxboniq50q8jtlN3Ftt5bcNCm5FkV0LjIbkB1PzD2qb2jzPpv8Ach2vKy/rU7xHEkauuQGAI3KQfxB5FLWfoF/PqvhvTdQvLc2txdWsU0sBGPLZlBK/gTitCrkuVtExd0mebeNv+S7fDD/uLf8ApMtek15t42/5Lt8MP+4t/wCky16TSGcr8Rbq3b4W+KlWeIk6NeAAOOf3L15d4Q+MvgLS/BGh6ffa75V1aadbwTR/Y522OsaqwyEIOCDyOK97qGz/AOPGD/rmv8qqMnHYTVzyP/hefw6/6GL/AMkbj/43R/wvP4df9DF/5I3H/wAbr2Kiq9oxcqPHf+F5/Dr/AKGL/wAkbj/43R/wvP4df9DF/wCSNx/8br2Kij2jDlR47/wvP4df9DF/5I3H/wAbo/4Xn8Ov+hi/8kbj/wCN17FRR7Rhyo8O1T4sfCTW4449avrPUUjJZFu9KmlCE9wGiOKmf4xfCySS1eTVbdns/wDj2Y6ZOTBxj5P3fy8ccdq9roo9ow5UeB3fxC+CeoXkl3fjSbq5lO6SabQ5Hdz6ljFk1sj45/DkDA8Q4H/Xjcf/ABuvY6KPaNByo8d/4Xn8Ov8AoYv/ACRuP/jdH/C8/h1/0MX/AJI3H/xuvYqKPaMOVHjv/C8/h1/0MX/kjcf/ABuj/hefw6/6GL/yRuP/AI3XsVFHtGHKjx3/AIXn8Ov+hi/8kbj/AON0f8Lz+HX/AEMX/kjcf/G69ioo9ow5UeCaJ8ZfAVpq/iGa413ZHeaik8DfY5zvQWtvGTwnHzRuMHnj0IrZ/wCF5/Dr/oYv/JG4/wDjdeuQf665/wCug/8AQFqaj2jDlR47/wALz+HX/Qxf+SNx/wDG6P8Ahefw6/6GL/yRuP8A43XsVFHtGHKjx3/hefw6/wChi/8AJG4/+N0f8Lz+HX/Qxf8Akjcf/G69ioo9ow5UeO/8Lz+HX/Qxf+SNx/8AG6P+F5/Dr/oYv/JG4/8AjdexUUe0YcqPDtU+K3wj1xY11q9stRWIkxi70maUIT1xuiOKtW/xr+GdpbR29rrkcEEShI4o9PnVUUDAAAjwAB2r2eij2jDlR47/AMLz+HX/AEMX/kjcf/G6P+F5/Dr/AKGL/wAkbj/43XsVFHtGHKjx3/hefw6/6GL/AMkbj/43R/wvP4df9DF/5I3H/wAbr2Kij2jDlR47/wALz+HX/Qxf+SNx/wDG6P8Ahefw6/6GL/yRuP8A43XsVFHtGHKjx3/hefw6/wChi/8AJG4/+N1jXPxl8BSeN9M1BNdzawadeQSSfY5/leSS2ZBjZnkRvz049xXvdQt/x/Rf9c3/AJrR7Rhyo8j/AOF5/Dr/AKGL/wAkbj/43R/wvP4df9DF/wCSNx/8br2Kij2jDlR47/wvP4df9DF/5I3H/wAbo/4Xn8Ov+hi/8kbj/wCN17FRR7Rhyo8d/wCF5/Dr/oYv/JG4/wDjdH/C8/h1/wBDF/5I3H/xuvYqKPaMOVHgafEH4JR3wvY10hbtZPNE66HIJA+c7t3lZznnPWrMvxU+EM+rJqs93YyajHjZePpEpmXHTDmLIx9a9zoo9ow5TwzUPip8IdWuobnVLuxvZ4P9VLc6RLI0fOflLREjnninap8WPhJrcccetX1nqKRksi3elTShCe4DRHFe40Uc72DlPG4/jf8ADeKNY4tfVEQBVVbC4AUDoAPLp3/C8/h1/wBDF/5I3H/xuvYqKPaSDlR47/wvP4df9DF/5I3H/wAbo/4Xn8Ov+hi/8kbj/wCN17FRR7Rhyo8d/wCF5/Dr/oYv/JG4/wDjdH/C8/h1/wBDF/5I3H/xuvYqKPaMOVHznrHxa8E3XxY8EazBrW/T9K+3/bJvskw8rzYAifKUyctxwDjvivQ/+Gg/hj/0M3/khc//ABuvQ5/9dbf9dD/6A1TVDd3ca0PNv+Gg/hj/ANDN/wCSFz/8brH1P4p/AvW7z7XrMuk6hc7QvnXehSyvtHQbmhJxXsNFIZ49e/FP4F6nDbQ6jJpN3FaR+VbJPoUrrCn91AYflHA4HHFT23xh+C1nFZxWd/YW8dgzPaJFo0yi3Zs7igEXyk5OSMZya9aooA8XufiN8Ab27luryLRLi4mcySzS+HpGd2JyWJMOSSe5rZuPjt8J7uze0u9dhntnXY8MumXDIy+hUxYIr0+ijpYPM82/4aC+GA/5mb/yn3P/AMbo/wCGg/hj/wBDN/5IXP8A8br0migDxvXvjl8Or3WvDM9t4h3xWOpvPcN9iuBsQ2dzGDzHz88iDAyec9Aa2/8AhoP4Y/8AQzf+SFz/APG69Dn/ANdbf9dD/wCgNU1AHm3/AA0H8Mf+hm/8kLn/AON1j6n8U/gXrd59r1mXSdQudoXzrvQpZX2joNzQk4r2GigDx69+KfwL1OG2h1GTSbuK0j8q2SfQpXWFP7qAw/KOBwOOKntvjD8FrOKzis7+wt47Bme0SLRplFuzZ3FAIvlJyckYzk161RQB5D/wtn4If21/bH2nTP7U3b/t39iS+fuxjPmeTuzjjOaLn4s/BC91dNVvLjTLjUUZWW8l0SVplK/dIcw7gRgY54r16ijYDzb/AIaD+GP/AEM3/khc/wDxuj/hoP4Y/wDQzf8Akhc//G69JooA8A8U/GLwJqPxY8CazZa75mn6T/aH22b7HOPK82BUj+UplssMcA474rtv+Gg/hj/0M3/khc//ABuvQ5/9dbf9dD/6A1TUAebf8NB/DH/oZv8AyQuf/jdH/DQfwx/6Gb/yQuf/AI3XpNFAHl198dPhLqllJZ6lrcF5ayjEkFxpdxIjjOcFTFg81Hpfxr+D2iWf2TRdVtNOttxfybTSZ4k3HqdqxAZ4616rRQB5fZ/HX4Tadai20/XIbWBWZhFBplwigsSScCLGSSSfUmp/+Gg/hj/0M3/khc//ABuvSaKAPNv+Gg/hj/0M3/khc/8Axuj/AIaD+GP/AEM3/khc/wDxuvSaKAPG9e+OXw6vda8Mz23iHfFY6m89w32K4GxDZ3MYPMfPzyIMDJ5z0Brb/wCGg/hj/wBDN/5IXP8A8br0Of8A11t/10P/AKA1TUAebf8ADQfwx/6Gb/yQuf8A43WXP8XPglc6ymr3N3psupoVZL2TRZmmUr0Icw7hjtzXrtFAHmr/AB/+F0sbRyeJFdGBVlbT7kgg9QR5dVf+F2fB/wD0L/ibWv8AoHFn/wASmf8A0b5dv7v918ny8cY44r1SigDyH/hbPwQ/tr+2PtOmf2pu3/bv7El8/djGfM8ndnHGc0zU/in8C9bvPtesy6TqFztC+dd6FLK+0dBuaEnFew0UAeZW3x6+FNlaxW1n4gjt7eFAkUUWm3CoigYCgCLAAHYVJ/w0H8Mf+hm/8kLn/wCN16TRQB4B4p+MXgTUfix4E1my13zNP0n+0Pts32OceV5sCpH8pTLZYY4Bx3xXbf8ADQfwx/6Gb/yQuf8A43Xoc/8Arrb/AK6H/wBAapqAPNv+Gg/hj/0M3/khc/8AxusfU/in8C9bvPtesy6TqFztC+dd6FLK+0dBuaEnFew0UAePXvxT+Bepw20OoyaTdxWkflWyT6FK6wp/dQGH5RwOBxxU9t8YfgtZxWcVnf2FvHYMz2iRaNMot2bO4oBF8pOTkjGcmvWqKAPJJvi/8FLjWU1e4vdPl1OPGy9fRZmmXHAw5h3DH1q7dfHj4UX1rJbXuvxXEEo2yRTabcOrj0IMWDXp1FAHm3/DQXwwH/Mzf+U+5/8AjdH/AA0H8Mf+hm/8kLn/AON16TRQB43r3xy+HV7rXhme28Q74rHU3nuG+xXA2IbO5jB5j5+eRBgZPOegNbf/AA0H8Mf+hm/8kLn/AON16HP/AK62/wCuh/8AQGqagDzb/hoP4Y/9DN/5IXP/AMbrH1P4p/AvW7z7XrMuk6hc7QvnXehSyvtHQbmhJxXsNFAHj178U/gXqcNtDqMmk3cVpH5Vsk+hSusKf3UBh+UcDgccVPbfGH4LWcVnFZ39hbx2DM9okWjTKLdmzuKARfKTk5IxnJr1qigDyH/hbPwQ/tr+2PtOmf2pu3/bv7El8/djGfM8ndnHGc0XPxZ+CF7q6areXGmXGooyst5LokrTKV+6Q5h3AjAxzxXr1FGwHm3/AA0H8Mf+hm/8kLn/AON0f8NB/DH/AKGb/wAkLn/43XpNFAHiF38RPCvjf45/DxvDGqi9Wx/tL7QWgkiEe+2+X/WKuc7W6ele0/bLb/n4i/77FE/+utv+uh/9AapqACobP/jxg/65r/KiigCaiiigAooooAKKKKACiiigAooooAKKKKACiiigAooooAhg/wBdc/8AXQf+gLU1FFABRRRQAUUUUAFFFFABRRRQAUUUUAFFFFABRRRQAVC3/H9F/wBc3/mtFFAE1FFFABRRRQAUUUUAFFFFABRRRQAUUUUAFFFFABRRRQBDP/rrb/rof/QGqaiigAooooAKKKKACiiigAooooAhn/11t/10P/oDVNRRQAUUUUAFFFFABRRRQAUUUUAQz/662/66H/0BqmoooAKKKKACiiigAooooAKKKKAIZ/8AXW3/AF0P/oDVNRRQAUUUUAFFFFABRRRQAUUUUAQz/wCutv8Arof/AEBqmoooAKKKKACiiigAooooAKKKKAIZ/wDXW3/XQ/8AoDVNRRQAUUUUAFFFFABRRRQAUUUUAQz/AOutv+uh/wDQGqaiigD/2Q==)"
      ],
      "metadata": {
        "id": "Ko1C43ArAFz3"
      }
    },
    {
      "cell_type": "markdown",
      "source": [
        "We observe that for Adam we get the best accuracy for low LR and low batch size. Whereas SGD gives good output for LR of 0.1 with lower batch size. RMSprop's output is almost similar to the Adam optimizer."
      ],
      "metadata": {
        "id": "2QFoir8tCTkq"
      }
    },
    {
      "cell_type": "markdown",
      "source": [
        "For regular CNN model we have the best accuracy of 99.24 by SGD optimizer for a LR of 0.1, 2 epochs and 100 batch size."
      ],
      "metadata": {
        "id": "MQJ3IWJqRCRz"
      }
    },
    {
      "cell_type": "markdown",
      "source": [
        "**Q(1.2): Inverted CNN Model**"
      ],
      "metadata": {
        "id": "InwCb66Ba7mH"
      }
    },
    {
      "cell_type": "code",
      "source": [
        "invert_cnn = Sequential()\n",
        "\n",
        "invert_cnn.add(Conv2D(110, kernel_size = (3,3), padding= 'same', activation='relu'))\n",
        "invert_cnn.add(Conv2D(100, kernel_size = (3,3), padding= 'same', activation='relu'))\n",
        "invert_cnn.add(Conv2D(90, kernel_size = (3,3), padding= 'same', activation='relu'))\n",
        "\n",
        "invert_cnn.add(MaxPooling2D(pool_size=(2, 2), strides=(2,2)))\n",
        "\n",
        "invert_cnn.add(Conv2D(80, kernel_size = (3,3), padding= 'same', activation='relu'))\n",
        "invert_cnn.add(Conv2D(70, kernel_size = (3,3), padding= 'same', activation='relu'))\n",
        "invert_cnn.add(Conv2D(60, kernel_size = (3,3), padding= 'same', activation='relu'))\n",
        "invert_cnn.add(Conv2D(50, kernel_size = (3,3), padding= 'same', activation='relu'))\n",
        "\n",
        "invert_cnn.add(MaxPooling2D(pool_size=(2, 2), strides=(2,2)))\n",
        "\n",
        "invert_cnn.add(Conv2D(40, kernel_size = (3,3), padding= 'same', activation='relu'))\n",
        "invert_cnn.add(Conv2D(30, kernel_size = (3,3), padding= 'same', activation='relu'))\n",
        "invert_cnn.add(Conv2D(20, kernel_size = (3,3), padding= 'same', activation='relu'))\n",
        "\n",
        "invert_cnn.add(Flatten())\n",
        "invert_cnn.add(Dense(10, activation='softmax'))\n",
        "invert_cnn.build(input_shape=(1,28,28,1))\n",
        "invert_cnn.summary()"
      ],
      "metadata": {
        "colab": {
          "base_uri": "https://localhost:8080/"
        },
        "id": "JK-szVZR0SS9",
        "outputId": "4f0865fc-a5b2-4694-8b26-64cea344d4d0"
      },
      "execution_count": 6,
      "outputs": [
        {
          "output_type": "stream",
          "name": "stdout",
          "text": [
            "Model: \"sequential_2\"\n",
            "_________________________________________________________________\n",
            " Layer (type)                Output Shape              Param #   \n",
            "=================================================================\n",
            " conv2d_20 (Conv2D)          (1, 28, 28, 110)          1100      \n",
            "                                                                 \n",
            " conv2d_21 (Conv2D)          (1, 28, 28, 100)          99100     \n",
            "                                                                 \n",
            " conv2d_22 (Conv2D)          (1, 28, 28, 90)           81090     \n",
            "                                                                 \n",
            " max_pooling2d_4 (MaxPooling  (1, 14, 14, 90)          0         \n",
            " 2D)                                                             \n",
            "                                                                 \n",
            " conv2d_23 (Conv2D)          (1, 14, 14, 80)           64880     \n",
            "                                                                 \n",
            " conv2d_24 (Conv2D)          (1, 14, 14, 70)           50470     \n",
            "                                                                 \n",
            " conv2d_25 (Conv2D)          (1, 14, 14, 60)           37860     \n",
            "                                                                 \n",
            " conv2d_26 (Conv2D)          (1, 14, 14, 50)           27050     \n",
            "                                                                 \n",
            " max_pooling2d_5 (MaxPooling  (1, 7, 7, 50)            0         \n",
            " 2D)                                                             \n",
            "                                                                 \n",
            " conv2d_27 (Conv2D)          (1, 7, 7, 40)             18040     \n",
            "                                                                 \n",
            " conv2d_28 (Conv2D)          (1, 7, 7, 30)             10830     \n",
            "                                                                 \n",
            " conv2d_29 (Conv2D)          (1, 7, 7, 20)             5420      \n",
            "                                                                 \n",
            " flatten_2 (Flatten)         (1, 980)                  0         \n",
            "                                                                 \n",
            " dense_2 (Dense)             (1, 10)                   9810      \n",
            "                                                                 \n",
            "=================================================================\n",
            "Total params: 405,650\n",
            "Trainable params: 405,650\n",
            "Non-trainable params: 0\n",
            "_________________________________________________________________\n"
          ]
        }
      ]
    },
    {
      "cell_type": "code",
      "source": [
        "inverted_CNN = tf.keras.models.clone_model(invert_cnn)\n",
        "inverted_CNN.compile(optimizer = tf.keras.optimizers.Adam(learning_rate=0.001), loss='sparse_categorical_crossentropy', metrics=['accuracy'])\n",
        "inverted_CNN.fit(x_train_norm_reshaped, y_train)"
      ],
      "metadata": {
        "colab": {
          "base_uri": "https://localhost:8080/"
        },
        "id": "hYXnQ3RL0mlm",
        "outputId": "5badc00e-a7ad-4ed6-81f7-c27a79ad146f"
      },
      "execution_count": null,
      "outputs": [
        {
          "output_type": "stream",
          "name": "stderr",
          "text": [
            "WARNING:tensorflow:Model was constructed with shape (1, 28, 28, 1) for input KerasTensor(type_spec=TensorSpec(shape=(1, 28, 28, 1), dtype=tf.float32, name='conv2d_20_input'), name='conv2d_20_input', description=\"created by layer 'conv2d_20_input'\"), but it was called on an input with incompatible shape (32, 28, 28, 1).\n",
            "WARNING:tensorflow:Model was constructed with shape (1, 28, 28, 1) for input KerasTensor(type_spec=TensorSpec(shape=(1, 28, 28, 1), dtype=tf.float32, name='conv2d_20_input'), name='conv2d_20_input', description=\"created by layer 'conv2d_20_input'\"), but it was called on an input with incompatible shape (32, 28, 28, 1).\n"
          ]
        },
        {
          "output_type": "stream",
          "name": "stdout",
          "text": [
            "1875/1875 [==============================] - 1917s 1s/step - loss: 0.1421 - accuracy: 0.9566\n"
          ]
        },
        {
          "output_type": "execute_result",
          "data": {
            "text/plain": [
              "<keras.callbacks.History at 0x7f594c389110>"
            ]
          },
          "metadata": {},
          "execution_count": 7
        }
      ]
    },
    {
      "cell_type": "code",
      "source": [
        "inverted_CNN.evaluate(x_test_norm_reshaped, y_test)"
      ],
      "metadata": {
        "colab": {
          "base_uri": "https://localhost:8080/"
        },
        "id": "xDD9f7DRK15-",
        "outputId": "99e9d495-cadf-4572-a34c-eb1e11e2f34e"
      },
      "execution_count": null,
      "outputs": [
        {
          "output_type": "stream",
          "name": "stdout",
          "text": [
            "313/313 [==============================] - 85s 271ms/step - loss: 1.6526 - accuracy: 0.9848\n"
          ]
        },
        {
          "output_type": "execute_result",
          "data": {
            "text/plain": [
              "[1.6526148319244385, 0.9847999811172485]"
            ]
          },
          "metadata": {},
          "execution_count": 8
        }
      ]
    },
    {
      "cell_type": "markdown",
      "source": [
        "Just like the regular CNN model we run the inverted CNN for LR of 0.001,0.05,0.01 & 0.1 while increasing the epochs from 0,2 & 5. The batch sizes are also varied to 0,100 & 100. After compariosn the following models is found to be the best."
      ],
      "metadata": {
        "id": "057O8YfwF4Vm"
      }
    },
    {
      "cell_type": "markdown",
      "source": [
        "The inverted CNN model performs best for Adam optimizer with hyperparameters set to a LR of 0.001, epoch of 1 by default and no batch size. Though its computationally very time consuming it gives the accuracy of 95.66 for training set and 98.48 for test set."
      ],
      "metadata": {
        "id": "YMq1U9YIFkko"
      }
    },
    {
      "cell_type": "markdown",
      "source": [
        "**Q(1.3): Hour Glass CNN Model**"
      ],
      "metadata": {
        "id": "N2Lv3UpiDd-A"
      }
    },
    {
      "cell_type": "code",
      "source": [
        "hourglass_cnn = Sequential()\n",
        "\n",
        "hourglass_cnn.add(Conv2D(100, kernel_size = (3,3), padding= 'same', activation='relu'))\n",
        "hourglass_cnn.add(Conv2D(80, kernel_size = (3,3), padding= 'same', activation='relu'))\n",
        "hourglass_cnn.add(Conv2D(70, kernel_size = (3,3), padding= 'same', activation='relu'))\n",
        "\n",
        "hourglass_cnn.add(MaxPooling2D(pool_size=(2, 2), strides=(2,2)))\n",
        "\n",
        "hourglass_cnn.add(Conv2D(50, kernel_size = (3,3), padding= 'same', activation='relu'))\n",
        "hourglass_cnn.add(Conv2D(20, kernel_size = (3,3), padding= 'same', activation='relu'))\n",
        "hourglass_cnn.add(Conv2D(50, kernel_size = (3,3), padding= 'same', activation='relu'))\n",
        "hourglass_cnn.add(Conv2D(70, kernel_size = (3,3), padding= 'same', activation='relu'))\n",
        "\n",
        "hourglass_cnn.add(MaxPooling2D(pool_size=(2, 2), strides=(2,2)))\n",
        "\n",
        "hourglass_cnn.add(Conv2D(80, kernel_size = (3,3), padding= 'same', activation='relu'))\n",
        "hourglass_cnn.add(Conv2D(90, kernel_size = (3,3), padding= 'same', activation='relu'))\n",
        "hourglass_cnn.add(Conv2D(100, kernel_size = (3,3), padding= 'same', activation='relu'))\n",
        "\n",
        "hourglass_cnn.add(Flatten())\n",
        "hourglass_cnn.add(Dense(10, activation='softmax'))\n",
        "hourglass_cnn.build(input_shape=(1,28,28,1))\n",
        "hourglass_cnn.compile(optimizer = tf.keras.optimizers.Adam(learning_rate=0.001), loss='sparse_categorical_crossentropy', metrics=['accuracy'])\n",
        "hourglass_cnn.summary()\n",
        "\n",
        "HourGlass_CNN = tf.keras.models.clone_model(hourglass_cnn)\n",
        "HourGlass_CNN.compile(optimizer = tf.keras.optimizers.Adam(learning_rate=0.001), loss='sparse_categorical_crossentropy', metrics=['accuracy'])"
      ],
      "metadata": {
        "colab": {
          "base_uri": "https://localhost:8080/"
        },
        "id": "jxxy4SeW1gB6",
        "outputId": "632da3f5-4ad2-41cb-f79c-8f09c5a2db50"
      },
      "execution_count": 11,
      "outputs": [
        {
          "output_type": "stream",
          "name": "stdout",
          "text": [
            "Model: \"sequential_3\"\n",
            "_________________________________________________________________\n",
            " Layer (type)                Output Shape              Param #   \n",
            "=================================================================\n",
            " conv2d_30 (Conv2D)          (1, 28, 28, 100)          1000      \n",
            "                                                                 \n",
            " conv2d_31 (Conv2D)          (1, 28, 28, 80)           72080     \n",
            "                                                                 \n",
            " conv2d_32 (Conv2D)          (1, 28, 28, 70)           50470     \n",
            "                                                                 \n",
            " max_pooling2d_6 (MaxPooling  (1, 14, 14, 70)          0         \n",
            " 2D)                                                             \n",
            "                                                                 \n",
            " conv2d_33 (Conv2D)          (1, 14, 14, 50)           31550     \n",
            "                                                                 \n",
            " conv2d_34 (Conv2D)          (1, 14, 14, 20)           9020      \n",
            "                                                                 \n",
            " conv2d_35 (Conv2D)          (1, 14, 14, 50)           9050      \n",
            "                                                                 \n",
            " conv2d_36 (Conv2D)          (1, 14, 14, 70)           31570     \n",
            "                                                                 \n",
            " max_pooling2d_7 (MaxPooling  (1, 7, 7, 70)            0         \n",
            " 2D)                                                             \n",
            "                                                                 \n",
            " conv2d_37 (Conv2D)          (1, 7, 7, 80)             50480     \n",
            "                                                                 \n",
            " conv2d_38 (Conv2D)          (1, 7, 7, 90)             64890     \n",
            "                                                                 \n",
            " conv2d_39 (Conv2D)          (1, 7, 7, 100)            81100     \n",
            "                                                                 \n",
            " flatten_3 (Flatten)         (1, 4900)                 0         \n",
            "                                                                 \n",
            " dense_3 (Dense)             (1, 10)                   49010     \n",
            "                                                                 \n",
            "=================================================================\n",
            "Total params: 450,220\n",
            "Trainable params: 450,220\n",
            "Non-trainable params: 0\n",
            "_________________________________________________________________\n"
          ]
        }
      ]
    },
    {
      "cell_type": "code",
      "source": [
        "HourGlass_CNN.fit(x_train_norm_reshaped, y_train, epochs= 1)\n",
        "loss_2, acc_2 = HourGlass_CNN.evaluate(x_test_norm_reshaped, y_test)"
      ],
      "metadata": {
        "colab": {
          "base_uri": "https://localhost:8080/"
        },
        "id": "0k5EHIRk2j5c",
        "outputId": "51bd0f6a-f39a-4869-ecc5-719e17b9a77b"
      },
      "execution_count": 12,
      "outputs": [
        {
          "output_type": "stream",
          "name": "stderr",
          "text": [
            "WARNING:tensorflow:Model was constructed with shape (1, 28, 28, 1) for input KerasTensor(type_spec=TensorSpec(shape=(1, 28, 28, 1), dtype=tf.float32, name='conv2d_30_input'), name='conv2d_30_input', description=\"created by layer 'conv2d_30_input'\"), but it was called on an input with incompatible shape (32, 28, 28, 1).\n",
            "WARNING:tensorflow:Model was constructed with shape (1, 28, 28, 1) for input KerasTensor(type_spec=TensorSpec(shape=(1, 28, 28, 1), dtype=tf.float32, name='conv2d_30_input'), name='conv2d_30_input', description=\"created by layer 'conv2d_30_input'\"), but it was called on an input with incompatible shape (32, 28, 28, 1).\n"
          ]
        },
        {
          "output_type": "stream",
          "name": "stdout",
          "text": [
            "1875/1875 [==============================] - 19s 10ms/step - loss: 0.1231 - accuracy: 0.9621\n",
            "313/313 [==============================] - 2s 5ms/step - loss: 1.4202 - accuracy: 0.9882\n"
          ]
        }
      ]
    },
    {
      "cell_type": "markdown",
      "source": [
        "Just like the regular CNN model & inverted CNN we run the hourglass CNN for LR of 0.001,0.05,0.01 & 0.1 while increasing the epochs from 0,2 to 5. The batch sizes are also varied to 0,100 & 100. After compariosn the following models is found to be the best with accuracy of 96.21 for training and 98.82 for test."
      ],
      "metadata": {
        "id": "yeVufKhLGaLd"
      }
    },
    {
      "cell_type": "markdown",
      "source": [
        "Without decay, we must choose a very low learning rate to prevent the loss from diverging at a certain point of reduction for Adam and RMSprop optimizer. Since decay is not employed a small LR gives best performance for Adam."
      ],
      "metadata": {
        "id": "gqOSIlz4QTDx"
      }
    },
    {
      "cell_type": "markdown",
      "source": [
        "Comparision of Final accuracy of the 3 networks\n",
        "---\n",
        "\n",
        "For **regular CNN model** we have the best accuracy of 99.24 by SGD optimizer for a LR of 0.1,  epochs = 2 and 100 batch size.\n",
        "\n",
        "The **inverted CNN model** performs best for Adam optimizer with hyperparameters set to a LR of 0.001, epoch of 1 by default and no batch size. Though its computationally very time consuming it gives the accuracy of 95.66 for training set and 98.48 for test set.\n",
        "\n",
        "The **hourglass CNN model** is found to be the best with accuracy of 96.21 for training and 98.82 for test with hyperparameters of LR = 0.001, epochs = 1 and no batch size.\n",
        "\n",
        "\n"
      ],
      "metadata": {
        "id": "RwdNkUs7Rl4k"
      }
    },
    {
      "cell_type": "markdown",
      "source": [
        "### **Question 2**"
      ],
      "metadata": {
        "id": "F4NjbP5t4wbn"
      }
    },
    {
      "cell_type": "markdown",
      "source": [
        "Importing the data"
      ],
      "metadata": {
        "id": "KUN2jFmkm0Y3"
      }
    },
    {
      "cell_type": "code",
      "source": [
        "(x_train_cifar, y_train_cifar), (x_test_cifar, y_test_cifar) = cifar10.load_data()\n",
        "print(x_train_cifar.shape, \" -- \", y_train_cifar.shape, \" -- \", x_test_cifar.shape,\" -- \", y_test_cifar.shape)"
      ],
      "metadata": {
        "colab": {
          "base_uri": "https://localhost:8080/"
        },
        "id": "YgezcJ3b4zVg",
        "outputId": "3726601a-5988-4356-ca82-38f260682dd0"
      },
      "execution_count": 13,
      "outputs": [
        {
          "output_type": "stream",
          "name": "stdout",
          "text": [
            "Downloading data from https://www.cs.toronto.edu/~kriz/cifar-10-python.tar.gz\n",
            "170498071/170498071 [==============================] - 2s 0us/step\n",
            "(50000, 32, 32, 3)  --  (50000, 1)  --  (10000, 32, 32, 3)  --  (10000, 1)\n"
          ]
        }
      ]
    },
    {
      "cell_type": "markdown",
      "source": [
        "Normalizing"
      ],
      "metadata": {
        "id": "N1QWrzY_m2_B"
      }
    },
    {
      "cell_type": "code",
      "source": [
        "x_train_cifar_norm = x_train_cifar/255.0\n",
        "x_test_cifar_norm = x_test_cifar/255.0"
      ],
      "metadata": {
        "id": "TIe9LtgM5F4X"
      },
      "execution_count": 14,
      "outputs": []
    },
    {
      "cell_type": "markdown",
      "source": [
        "Checking sample image"
      ],
      "metadata": {
        "id": "Lm9M7tqZm4ui"
      }
    },
    {
      "cell_type": "code",
      "source": [
        "plt.imshow(x_train_cifar_norm[35])\n",
        "print(y_train_cifar[35])"
      ],
      "metadata": {
        "colab": {
          "base_uri": "https://localhost:8080/",
          "height": 284
        },
        "id": "kYUN3PC05IZG",
        "outputId": "dab0dab4-cf79-47eb-f7c7-9bcbdb6940c6"
      },
      "execution_count": 15,
      "outputs": [
        {
          "output_type": "stream",
          "name": "stdout",
          "text": [
            "[0]\n"
          ]
        },
        {
          "output_type": "display_data",
          "data": {
            "text/plain": [
              "<Figure size 432x288 with 1 Axes>"
            ],
            "image/png": "[encoded data removed]"
          },
          "metadata": {
            "needs_background": "light"
          }
        }
      ]
    },
    {
      "cell_type": "markdown",
      "source": [
        "**LeNet CNN model construction**"
      ],
      "metadata": {
        "id": "6IdBrLnEm7d6"
      }
    },
    {
      "cell_type": "code",
      "source": [
        "leNet_1 = Sequential()\n",
        "leNet_1.add(Conv2D(6, kernel_size = (5, 5), strides = (1, 1), input_shape = (32, 32, 3), activation='relu'))\n",
        "leNet_1.add(MaxPooling2D(pool_size=(2, 2), strides=(2,2)))\n",
        "leNet_1.add(Conv2D(16, kernel_size = (5, 5), strides = (1, 1), activation = 'relu'))\n",
        "leNet_1.add(MaxPooling2D(pool_size=(2, 2), strides=(2,2)))\n",
        "leNet_1.add(Conv2D(120, kernel_size = (5, 5), activation = 'relu'))\n",
        "leNet_1.add(Flatten())\n",
        "leNet_1.add(Dense(84))\n",
        "leNet_1.add(Dense(10, activation='softmax'))\n",
        "\n",
        "leNet_1.summary()"
      ],
      "metadata": {
        "colab": {
          "base_uri": "https://localhost:8080/"
        },
        "id": "Q-pILD0b5M8g",
        "outputId": "5c78d9a9-88a0-4e4f-b325-76defc080a5c"
      },
      "execution_count": 16,
      "outputs": [
        {
          "output_type": "stream",
          "name": "stdout",
          "text": [
            "Model: \"sequential_4\"\n",
            "_________________________________________________________________\n",
            " Layer (type)                Output Shape              Param #   \n",
            "=================================================================\n",
            " conv2d_40 (Conv2D)          (None, 28, 28, 6)         456       \n",
            "                                                                 \n",
            " max_pooling2d_8 (MaxPooling  (None, 14, 14, 6)        0         \n",
            " 2D)                                                             \n",
            "                                                                 \n",
            " conv2d_41 (Conv2D)          (None, 10, 10, 16)        2416      \n",
            "                                                                 \n",
            " max_pooling2d_9 (MaxPooling  (None, 5, 5, 16)         0         \n",
            " 2D)                                                             \n",
            "                                                                 \n",
            " conv2d_42 (Conv2D)          (None, 1, 1, 120)         48120     \n",
            "                                                                 \n",
            " flatten_4 (Flatten)         (None, 120)               0         \n",
            "                                                                 \n",
            " dense_4 (Dense)             (None, 84)                10164     \n",
            "                                                                 \n",
            " dense_5 (Dense)             (None, 10)                850       \n",
            "                                                                 \n",
            "=================================================================\n",
            "Total params: 62,006\n",
            "Trainable params: 62,006\n",
            "Non-trainable params: 0\n",
            "_________________________________________________________________\n"
          ]
        }
      ]
    },
    {
      "cell_type": "code",
      "source": [
        "leNet_1.compile(loss='sparse_categorical_crossentropy', optimizer='adam', metrics=['accuracy'])"
      ],
      "metadata": {
        "id": "sh8yJ8EA5Ut9"
      },
      "execution_count": 17,
      "outputs": []
    },
    {
      "cell_type": "markdown",
      "source": [
        "**Training & Testingthe LeNet CNN model**"
      ],
      "metadata": {
        "id": "izcHqOz9nGft"
      }
    },
    {
      "cell_type": "code",
      "source": [
        "accuracy= leNet_1.fit(x_train_cifar_norm, y_train_cifar, epochs=25, batch_size=500)"
      ],
      "metadata": {
        "colab": {
          "base_uri": "https://localhost:8080/"
        },
        "id": "r819LxMr5XBj",
        "outputId": "e0080767-caef-48ca-9d78-8183c4bd0f2c"
      },
      "execution_count": 18,
      "outputs": [
        {
          "output_type": "stream",
          "name": "stdout",
          "text": [
            "Epoch 1/25\n",
            "100/100 [==============================] - 2s 9ms/step - loss: 1.8930 - accuracy: 0.3072\n",
            "Epoch 2/25\n",
            "100/100 [==============================] - 1s 8ms/step - loss: 1.6183 - accuracy: 0.4188\n",
            "Epoch 3/25\n",
            "100/100 [==============================] - 1s 9ms/step - loss: 1.4839 - accuracy: 0.4684\n",
            "Epoch 4/25\n",
            "100/100 [==============================] - 1s 9ms/step - loss: 1.3984 - accuracy: 0.5008\n",
            "Epoch 5/25\n",
            "100/100 [==============================] - 1s 9ms/step - loss: 1.3605 - accuracy: 0.5164\n",
            "Epoch 6/25\n",
            "100/100 [==============================] - 1s 9ms/step - loss: 1.3110 - accuracy: 0.5388\n",
            "Epoch 7/25\n",
            "100/100 [==============================] - 1s 8ms/step - loss: 1.2735 - accuracy: 0.5487\n",
            "Epoch 8/25\n",
            "100/100 [==============================] - 1s 8ms/step - loss: 1.2437 - accuracy: 0.5624\n",
            "Epoch 9/25\n",
            "100/100 [==============================] - 1s 9ms/step - loss: 1.2068 - accuracy: 0.5727\n",
            "Epoch 10/25\n",
            "100/100 [==============================] - 1s 8ms/step - loss: 1.1913 - accuracy: 0.5779\n",
            "Epoch 11/25\n",
            "100/100 [==============================] - 1s 8ms/step - loss: 1.1595 - accuracy: 0.5903\n",
            "Epoch 12/25\n",
            "100/100 [==============================] - 1s 8ms/step - loss: 1.1389 - accuracy: 0.5982\n",
            "Epoch 13/25\n",
            "100/100 [==============================] - 1s 8ms/step - loss: 1.1174 - accuracy: 0.6056\n",
            "Epoch 14/25\n",
            "100/100 [==============================] - 1s 8ms/step - loss: 1.1039 - accuracy: 0.6101\n",
            "Epoch 15/25\n",
            "100/100 [==============================] - 1s 9ms/step - loss: 1.0890 - accuracy: 0.6135\n",
            "Epoch 16/25\n",
            "100/100 [==============================] - 1s 8ms/step - loss: 1.0761 - accuracy: 0.6185\n",
            "Epoch 17/25\n",
            "100/100 [==============================] - 1s 9ms/step - loss: 1.0580 - accuracy: 0.6263\n",
            "Epoch 18/25\n",
            "100/100 [==============================] - 1s 9ms/step - loss: 1.0376 - accuracy: 0.6313\n",
            "Epoch 19/25\n",
            "100/100 [==============================] - 1s 8ms/step - loss: 1.0216 - accuracy: 0.6389\n",
            "Epoch 20/25\n",
            "100/100 [==============================] - 1s 9ms/step - loss: 1.0087 - accuracy: 0.6431\n",
            "Epoch 21/25\n",
            "100/100 [==============================] - 1s 8ms/step - loss: 0.9949 - accuracy: 0.6473\n",
            "Epoch 22/25\n",
            "100/100 [==============================] - 1s 9ms/step - loss: 0.9894 - accuracy: 0.6497\n",
            "Epoch 23/25\n",
            "100/100 [==============================] - 1s 9ms/step - loss: 0.9608 - accuracy: 0.6606\n",
            "Epoch 24/25\n",
            "100/100 [==============================] - 1s 9ms/step - loss: 0.9600 - accuracy: 0.6602\n",
            "Epoch 25/25\n",
            "100/100 [==============================] - 1s 9ms/step - loss: 0.9493 - accuracy: 0.6637\n"
          ]
        }
      ]
    },
    {
      "cell_type": "code",
      "source": [
        "leNet_1.evaluate(x_test_cifar_norm, y_test_cifar)"
      ],
      "metadata": {
        "colab": {
          "base_uri": "https://localhost:8080/"
        },
        "id": "-YZjP0Gz6Mpg",
        "outputId": "6f0bfee1-4eb7-44af-ef2a-4b9653af7ad1"
      },
      "execution_count": 19,
      "outputs": [
        {
          "output_type": "stream",
          "name": "stdout",
          "text": [
            "313/313 [==============================] - 1s 3ms/step - loss: 1.0673 - accuracy: 0.6259\n"
          ]
        },
        {
          "output_type": "execute_result",
          "data": {
            "text/plain": [
              "[1.0672777891159058, 0.6258999705314636]"
            ]
          },
          "metadata": {},
          "execution_count": 19
        }
      ]
    },
    {
      "cell_type": "markdown",
      "source": [
        "## **Q2.1)..Effect of learning rate on the training process**"
      ],
      "metadata": {
        "id": "QgsFI69cnOrl"
      }
    },
    {
      "cell_type": "code",
      "source": [
        "lst_lr = [0.0001, 0.001, 0.005, 0.01, 0.1] # default LR of adam optimizer is 0.001\n",
        "loss_acc_lst = []\n",
        "loss_lst = []\n",
        "acc_lst = []\n",
        "for lr in lst_lr:\n",
        "  print(\"Training with LR = \", lr)\n",
        "  new_model = tf.keras.models.clone_model(leNet_1)\n",
        "  new_model.compile(loss = 'sparse_categorical_crossentropy', optimizer= tf.keras.optimizers.Adam(learning_rate=lr), metrics=['accuracy'])\n",
        "  new_model.fit(x_train_cifar_norm, y_train_cifar, epochs=25, batch_size=1000)\n",
        "  loss, acc = new_model.evaluate(x_test_cifar_norm, y_test_cifar)\n",
        "  loss_acc_lst.append([loss, acc])\n",
        "  loss_lst.append(loss)\n",
        "  acc_lst.append(acc)\n",
        "  print(\"\\n\")"
      ],
      "metadata": {
        "colab": {
          "base_uri": "https://localhost:8080/"
        },
        "id": "VoEaV9n-6Tz5",
        "outputId": "91a0af4f-b169-4433-fc9c-b2bf4bb89d57"
      },
      "execution_count": 20,
      "outputs": [
        {
          "output_type": "stream",
          "name": "stdout",
          "text": [
            "Training with LR =  0.0001\n",
            "Epoch 1/25\n",
            "50/50 [==============================] - 2s 15ms/step - loss: 2.2581 - accuracy: 0.1578\n",
            "Epoch 2/25\n",
            "50/50 [==============================] - 1s 16ms/step - loss: 2.0747 - accuracy: 0.2579\n",
            "Epoch 3/25\n",
            "50/50 [==============================] - 1s 16ms/step - loss: 1.9579 - accuracy: 0.2995\n",
            "Epoch 4/25\n",
            "50/50 [==============================] - 1s 16ms/step - loss: 1.8796 - accuracy: 0.3387\n",
            "Epoch 5/25\n",
            "50/50 [==============================] - 1s 15ms/step - loss: 1.8110 - accuracy: 0.3642\n",
            "Epoch 6/25\n",
            "50/50 [==============================] - 1s 16ms/step - loss: 1.7528 - accuracy: 0.3826\n",
            "Epoch 7/25\n",
            "50/50 [==============================] - 1s 16ms/step - loss: 1.7039 - accuracy: 0.3987\n",
            "Epoch 8/25\n",
            "50/50 [==============================] - 1s 16ms/step - loss: 1.6647 - accuracy: 0.4105\n",
            "Epoch 9/25\n",
            "50/50 [==============================] - 1s 16ms/step - loss: 1.6317 - accuracy: 0.4226\n",
            "Epoch 10/25\n",
            "50/50 [==============================] - 1s 16ms/step - loss: 1.6026 - accuracy: 0.4306\n",
            "Epoch 11/25\n",
            "50/50 [==============================] - 1s 16ms/step - loss: 1.5774 - accuracy: 0.4382\n",
            "Epoch 12/25\n",
            "50/50 [==============================] - 1s 16ms/step - loss: 1.5557 - accuracy: 0.4479\n",
            "Epoch 13/25\n",
            "50/50 [==============================] - 1s 16ms/step - loss: 1.5380 - accuracy: 0.4525\n",
            "Epoch 14/25\n",
            "50/50 [==============================] - 1s 16ms/step - loss: 1.5216 - accuracy: 0.4577\n",
            "Epoch 15/25\n",
            "50/50 [==============================] - 1s 16ms/step - loss: 1.5078 - accuracy: 0.4620\n",
            "Epoch 16/25\n",
            "50/50 [==============================] - 1s 16ms/step - loss: 1.4953 - accuracy: 0.4664\n",
            "Epoch 17/25\n",
            "50/50 [==============================] - 1s 16ms/step - loss: 1.4835 - accuracy: 0.4696\n",
            "Epoch 18/25\n",
            "50/50 [==============================] - 1s 15ms/step - loss: 1.4725 - accuracy: 0.4751\n",
            "Epoch 19/25\n",
            "50/50 [==============================] - 1s 16ms/step - loss: 1.4652 - accuracy: 0.4764\n",
            "Epoch 20/25\n",
            "50/50 [==============================] - 1s 15ms/step - loss: 1.4574 - accuracy: 0.4799\n",
            "Epoch 21/25\n",
            "50/50 [==============================] - 1s 16ms/step - loss: 1.4515 - accuracy: 0.4819\n",
            "Epoch 22/25\n",
            "50/50 [==============================] - 1s 16ms/step - loss: 1.4414 - accuracy: 0.4855\n",
            "Epoch 23/25\n",
            "50/50 [==============================] - 1s 16ms/step - loss: 1.4341 - accuracy: 0.4883\n",
            "Epoch 24/25\n",
            "50/50 [==============================] - 1s 15ms/step - loss: 1.4300 - accuracy: 0.4907\n",
            "Epoch 25/25\n",
            "50/50 [==============================] - 1s 16ms/step - loss: 1.4213 - accuracy: 0.4947\n",
            "313/313 [==============================] - 1s 3ms/step - loss: 1.4288 - accuracy: 0.4894\n",
            "\n",
            "\n",
            "Training with LR =  0.001\n",
            "Epoch 1/25\n",
            "50/50 [==============================] - 1s 17ms/step - loss: 2.0432 - accuracy: 0.2609\n",
            "Epoch 2/25\n",
            "50/50 [==============================] - 1s 15ms/step - loss: 1.6864 - accuracy: 0.3992\n",
            "Epoch 3/25\n",
            "50/50 [==============================] - 1s 16ms/step - loss: 1.5505 - accuracy: 0.4415\n",
            "Epoch 4/25\n",
            "50/50 [==============================] - 1s 16ms/step - loss: 1.4692 - accuracy: 0.4726\n",
            "Epoch 5/25\n",
            "50/50 [==============================] - 1s 16ms/step - loss: 1.4221 - accuracy: 0.4876\n",
            "Epoch 6/25\n",
            "50/50 [==============================] - 1s 15ms/step - loss: 1.3843 - accuracy: 0.5038\n",
            "Epoch 7/25\n",
            "50/50 [==============================] - 1s 15ms/step - loss: 1.3551 - accuracy: 0.5171\n",
            "Epoch 8/25\n",
            "50/50 [==============================] - 1s 15ms/step - loss: 1.3204 - accuracy: 0.5309\n",
            "Epoch 9/25\n",
            "50/50 [==============================] - 1s 15ms/step - loss: 1.3035 - accuracy: 0.5387\n",
            "Epoch 10/25\n",
            "50/50 [==============================] - 1s 16ms/step - loss: 1.2918 - accuracy: 0.5424\n",
            "Epoch 11/25\n",
            "50/50 [==============================] - 1s 16ms/step - loss: 1.2616 - accuracy: 0.5551\n",
            "Epoch 12/25\n",
            "50/50 [==============================] - 1s 16ms/step - loss: 1.2459 - accuracy: 0.5581\n",
            "Epoch 13/25\n",
            "50/50 [==============================] - 1s 16ms/step - loss: 1.2293 - accuracy: 0.5668\n",
            "Epoch 14/25\n",
            "50/50 [==============================] - 1s 16ms/step - loss: 1.2194 - accuracy: 0.5699\n",
            "Epoch 15/25\n",
            "50/50 [==============================] - 1s 16ms/step - loss: 1.1992 - accuracy: 0.5770\n",
            "Epoch 16/25\n",
            "50/50 [==============================] - 1s 15ms/step - loss: 1.1846 - accuracy: 0.5842\n",
            "Epoch 17/25\n",
            "50/50 [==============================] - 1s 16ms/step - loss: 1.1638 - accuracy: 0.5903\n",
            "Epoch 18/25\n",
            "50/50 [==============================] - 1s 15ms/step - loss: 1.1537 - accuracy: 0.5952\n",
            "Epoch 19/25\n",
            "50/50 [==============================] - 1s 16ms/step - loss: 1.1424 - accuracy: 0.5996\n",
            "Epoch 20/25\n",
            "50/50 [==============================] - 1s 16ms/step - loss: 1.1266 - accuracy: 0.6026\n",
            "Epoch 21/25\n",
            "50/50 [==============================] - 1s 16ms/step - loss: 1.1192 - accuracy: 0.6073\n",
            "Epoch 22/25\n",
            "50/50 [==============================] - 1s 16ms/step - loss: 1.1062 - accuracy: 0.6114\n",
            "Epoch 23/25\n",
            "50/50 [==============================] - 1s 16ms/step - loss: 1.0909 - accuracy: 0.6178\n",
            "Epoch 24/25\n",
            "50/50 [==============================] - 1s 16ms/step - loss: 1.0804 - accuracy: 0.6207\n",
            "Epoch 25/25\n",
            "50/50 [==============================] - 1s 15ms/step - loss: 1.0738 - accuracy: 0.6240\n",
            "313/313 [==============================] - 1s 3ms/step - loss: 1.1587 - accuracy: 0.5953\n",
            "\n",
            "\n",
            "Training with LR =  0.005\n",
            "Epoch 1/25\n",
            "50/50 [==============================] - 1s 17ms/step - loss: 1.9757 - accuracy: 0.2699\n",
            "Epoch 2/25\n",
            "50/50 [==============================] - 1s 15ms/step - loss: 1.5418 - accuracy: 0.4451\n",
            "Epoch 3/25\n",
            "50/50 [==============================] - 1s 15ms/step - loss: 1.3914 - accuracy: 0.5003\n",
            "Epoch 4/25\n",
            "50/50 [==============================] - 1s 15ms/step - loss: 1.3052 - accuracy: 0.5355\n",
            "Epoch 5/25\n",
            "50/50 [==============================] - 1s 15ms/step - loss: 1.2282 - accuracy: 0.5630\n",
            "Epoch 6/25\n",
            "50/50 [==============================] - 1s 16ms/step - loss: 1.1758 - accuracy: 0.5830\n",
            "Epoch 7/25\n",
            "50/50 [==============================] - 1s 16ms/step - loss: 1.1298 - accuracy: 0.5983\n",
            "Epoch 8/25\n",
            "50/50 [==============================] - 1s 16ms/step - loss: 1.0971 - accuracy: 0.6096\n",
            "Epoch 9/25\n",
            "50/50 [==============================] - 1s 16ms/step - loss: 1.0699 - accuracy: 0.6219\n",
            "Epoch 10/25\n",
            "50/50 [==============================] - 1s 15ms/step - loss: 1.0282 - accuracy: 0.6375\n",
            "Epoch 11/25\n",
            "50/50 [==============================] - 1s 15ms/step - loss: 0.9986 - accuracy: 0.6500\n",
            "Epoch 12/25\n",
            "50/50 [==============================] - 1s 15ms/step - loss: 0.9779 - accuracy: 0.6525\n",
            "Epoch 13/25\n",
            "50/50 [==============================] - 1s 15ms/step - loss: 0.9465 - accuracy: 0.6662\n",
            "Epoch 14/25\n",
            "50/50 [==============================] - 1s 16ms/step - loss: 0.9218 - accuracy: 0.6756\n",
            "Epoch 15/25\n",
            "50/50 [==============================] - 1s 16ms/step - loss: 0.9079 - accuracy: 0.6811\n",
            "Epoch 16/25\n",
            "50/50 [==============================] - 1s 16ms/step - loss: 0.8914 - accuracy: 0.6868\n",
            "Epoch 17/25\n",
            "50/50 [==============================] - 1s 16ms/step - loss: 0.8686 - accuracy: 0.6921\n",
            "Epoch 18/25\n",
            "50/50 [==============================] - 1s 15ms/step - loss: 0.8543 - accuracy: 0.6976\n",
            "Epoch 19/25\n",
            "50/50 [==============================] - 1s 16ms/step - loss: 0.8386 - accuracy: 0.7047\n",
            "Epoch 20/25\n",
            "50/50 [==============================] - 1s 16ms/step - loss: 0.8382 - accuracy: 0.7043\n",
            "Epoch 21/25\n",
            "50/50 [==============================] - 1s 16ms/step - loss: 0.8198 - accuracy: 0.7089\n",
            "Epoch 22/25\n",
            "50/50 [==============================] - 1s 15ms/step - loss: 0.8051 - accuracy: 0.7136\n",
            "Epoch 23/25\n",
            "50/50 [==============================] - 1s 15ms/step - loss: 0.7878 - accuracy: 0.7208\n",
            "Epoch 24/25\n",
            "50/50 [==============================] - 1s 15ms/step - loss: 0.7928 - accuracy: 0.7186\n",
            "Epoch 25/25\n",
            "50/50 [==============================] - 1s 15ms/step - loss: 0.7835 - accuracy: 0.7209\n",
            "313/313 [==============================] - 1s 3ms/step - loss: 1.1144 - accuracy: 0.6339\n",
            "\n",
            "\n",
            "Training with LR =  0.01\n",
            "Epoch 1/25\n",
            "50/50 [==============================] - 1s 18ms/step - loss: 2.0564 - accuracy: 0.2422\n",
            "Epoch 2/25\n",
            "50/50 [==============================] - 1s 16ms/step - loss: 1.6880 - accuracy: 0.3852\n",
            "Epoch 3/25\n",
            "50/50 [==============================] - 1s 15ms/step - loss: 1.6120 - accuracy: 0.4158\n",
            "Epoch 4/25\n",
            "50/50 [==============================] - 1s 16ms/step - loss: 1.5379 - accuracy: 0.4453\n",
            "Epoch 5/25\n",
            "50/50 [==============================] - 1s 15ms/step - loss: 1.4917 - accuracy: 0.4631\n",
            "Epoch 6/25\n",
            "50/50 [==============================] - 1s 15ms/step - loss: 1.4672 - accuracy: 0.4722\n",
            "Epoch 7/25\n",
            "50/50 [==============================] - 1s 16ms/step - loss: 1.4429 - accuracy: 0.4832\n",
            "Epoch 8/25\n",
            "50/50 [==============================] - 1s 15ms/step - loss: 1.3910 - accuracy: 0.5021\n",
            "Epoch 9/25\n",
            "50/50 [==============================] - 1s 15ms/step - loss: 1.3756 - accuracy: 0.5059\n",
            "Epoch 10/25\n",
            "50/50 [==============================] - 1s 15ms/step - loss: 1.3589 - accuracy: 0.5149\n",
            "Epoch 11/25\n",
            "50/50 [==============================] - 1s 16ms/step - loss: 1.3305 - accuracy: 0.5256\n",
            "Epoch 12/25\n",
            "50/50 [==============================] - 1s 15ms/step - loss: 1.3201 - accuracy: 0.5278\n",
            "Epoch 13/25\n",
            "50/50 [==============================] - 1s 16ms/step - loss: 1.2968 - accuracy: 0.5389\n",
            "Epoch 14/25\n",
            "50/50 [==============================] - 1s 16ms/step - loss: 1.2917 - accuracy: 0.5402\n",
            "Epoch 15/25\n",
            "50/50 [==============================] - 1s 16ms/step - loss: 1.2906 - accuracy: 0.5430\n",
            "Epoch 16/25\n",
            "50/50 [==============================] - 1s 15ms/step - loss: 1.2663 - accuracy: 0.5486\n",
            "Epoch 17/25\n",
            "50/50 [==============================] - 1s 16ms/step - loss: 1.2561 - accuracy: 0.5525\n",
            "Epoch 18/25\n",
            "50/50 [==============================] - 1s 16ms/step - loss: 1.2423 - accuracy: 0.5575\n",
            "Epoch 19/25\n",
            "50/50 [==============================] - 1s 16ms/step - loss: 1.2431 - accuracy: 0.5585\n",
            "Epoch 20/25\n",
            "50/50 [==============================] - 1s 15ms/step - loss: 1.2310 - accuracy: 0.5661\n",
            "Epoch 21/25\n",
            "50/50 [==============================] - 1s 16ms/step - loss: 1.2174 - accuracy: 0.5662\n",
            "Epoch 22/25\n",
            "50/50 [==============================] - 1s 15ms/step - loss: 1.2367 - accuracy: 0.5623\n",
            "Epoch 23/25\n",
            "50/50 [==============================] - 1s 16ms/step - loss: 1.2243 - accuracy: 0.5662\n",
            "Epoch 24/25\n",
            "50/50 [==============================] - 1s 16ms/step - loss: 1.2112 - accuracy: 0.5705\n",
            "Epoch 25/25\n",
            "50/50 [==============================] - 1s 16ms/step - loss: 1.2013 - accuracy: 0.5746\n",
            "313/313 [==============================] - 1s 3ms/step - loss: 1.3893 - accuracy: 0.5121\n",
            "\n",
            "\n",
            "Training with LR =  0.1\n",
            "Epoch 1/25\n",
            "50/50 [==============================] - 1s 18ms/step - loss: 17.9159 - accuracy: 0.1019\n",
            "Epoch 2/25\n",
            "50/50 [==============================] - 1s 16ms/step - loss: 2.3550 - accuracy: 0.1025\n",
            "Epoch 3/25\n",
            "50/50 [==============================] - 1s 16ms/step - loss: 2.3074 - accuracy: 0.0985\n",
            "Epoch 4/25\n",
            "50/50 [==============================] - 1s 16ms/step - loss: 2.3162 - accuracy: 0.0989\n",
            "Epoch 5/25\n",
            "50/50 [==============================] - 1s 16ms/step - loss: 2.3161 - accuracy: 0.0997\n",
            "Epoch 6/25\n",
            "50/50 [==============================] - 1s 16ms/step - loss: 2.3176 - accuracy: 0.1000\n",
            "Epoch 7/25\n",
            "50/50 [==============================] - 1s 16ms/step - loss: 2.3101 - accuracy: 0.0984\n",
            "Epoch 8/25\n",
            "50/50 [==============================] - 1s 15ms/step - loss: 2.3293 - accuracy: 0.0994\n",
            "Epoch 9/25\n",
            "50/50 [==============================] - 1s 16ms/step - loss: 2.3089 - accuracy: 0.1022\n",
            "Epoch 10/25\n",
            "50/50 [==============================] - 1s 16ms/step - loss: 2.3113 - accuracy: 0.0985\n",
            "Epoch 11/25\n",
            "50/50 [==============================] - 1s 16ms/step - loss: 2.3109 - accuracy: 0.1005\n",
            "Epoch 12/25\n",
            "50/50 [==============================] - 1s 16ms/step - loss: 2.3277 - accuracy: 0.0987\n",
            "Epoch 13/25\n",
            "50/50 [==============================] - 1s 16ms/step - loss: 2.3132 - accuracy: 0.1002\n",
            "Epoch 14/25\n",
            "50/50 [==============================] - 1s 16ms/step - loss: 2.3195 - accuracy: 0.0996\n",
            "Epoch 15/25\n",
            "50/50 [==============================] - 1s 15ms/step - loss: 2.3634 - accuracy: 0.0979\n",
            "Epoch 16/25\n",
            "50/50 [==============================] - 1s 15ms/step - loss: 2.3092 - accuracy: 0.0998\n",
            "Epoch 17/25\n",
            "50/50 [==============================] - 1s 15ms/step - loss: 2.3120 - accuracy: 0.0999\n",
            "Epoch 18/25\n",
            "50/50 [==============================] - 1s 16ms/step - loss: 2.3117 - accuracy: 0.1000\n",
            "Epoch 19/25\n",
            "50/50 [==============================] - 1s 16ms/step - loss: 2.3084 - accuracy: 0.0998\n",
            "Epoch 20/25\n",
            "50/50 [==============================] - 1s 16ms/step - loss: 2.3127 - accuracy: 0.0973\n",
            "Epoch 21/25\n",
            "50/50 [==============================] - 1s 16ms/step - loss: 2.3081 - accuracy: 0.0974\n",
            "Epoch 22/25\n",
            "50/50 [==============================] - 1s 15ms/step - loss: 2.3119 - accuracy: 0.1001\n",
            "Epoch 23/25\n",
            "50/50 [==============================] - 1s 15ms/step - loss: 2.3086 - accuracy: 0.1017\n",
            "Epoch 24/25\n",
            "50/50 [==============================] - 1s 16ms/step - loss: 2.3126 - accuracy: 0.1002\n",
            "Epoch 25/25\n",
            "50/50 [==============================] - 1s 15ms/step - loss: 2.3170 - accuracy: 0.1004\n",
            "313/313 [==============================] - 1s 3ms/step - loss: 2.3063 - accuracy: 0.1000\n",
            "\n",
            "\n"
          ]
        }
      ]
    },
    {
      "cell_type": "markdown",
      "source": [
        "**Plotting Learning rate vs Accuracy**"
      ],
      "metadata": {
        "id": "7HbEzpgOqHS1"
      }
    },
    {
      "cell_type": "code",
      "source": [
        "plt.plot(lst_lr,acc_lst)\n",
        "plt.title(\"Learning rate vs Accuracy\")\n",
        "plt.ylabel(\"Accuracy\")\n",
        "plt.xlabel(\"Learning rate\")\n",
        "plt.show()"
      ],
      "metadata": {
        "colab": {
          "base_uri": "https://localhost:8080/",
          "height": 295
        },
        "id": "Va9XTkVXCNPu",
        "outputId": "302d9030-85bc-49af-ec1b-ec710e081270"
      },
      "execution_count": 24,
      "outputs": [
        {
          "output_type": "display_data",
          "data": {
            "text/plain": [
              "<Figure size 432x288 with 1 Axes>"
            ],
            "image/png": "[encoded data removed]"
          },
          "metadata": {
            "needs_background": "light"
          }
        }
      ]
    },
    {
      "cell_type": "markdown",
      "source": [
        "**Plotting Learning rate vs Loss**"
      ],
      "metadata": {
        "id": "B8n_zB12qQ7B"
      }
    },
    {
      "cell_type": "code",
      "source": [
        "plt.plot(lst_lr,loss_lst)\n",
        "plt.title(\"Learning rate vs Loss\")\n",
        "plt.ylabel(\"Loss\")\n",
        "plt.xlabel(\"Learning rate\")\n",
        "plt.show()"
      ],
      "metadata": {
        "colab": {
          "base_uri": "https://localhost:8080/",
          "height": 295
        },
        "id": "jVkyVx_lmKZS",
        "outputId": "fb5a2e1e-0a75-4421-ed53-20153a2bf699"
      },
      "execution_count": 25,
      "outputs": [
        {
          "output_type": "display_data",
          "data": {
            "text/plain": [
              "<Figure size 432x288 with 1 Axes>"
            ],
            "image/png": "[encoded data removed]"
          },
          "metadata": {
            "needs_background": "light"
          }
        }
      ]
    },
    {
      "cell_type": "markdown",
      "source": [
        "**After trying different learning rate, LR = 0.005 performed best with test accuracy of 59.07% and training of 61.87%**"
      ],
      "metadata": {
        "id": "RJEIdnl_n-kY"
      }
    },
    {
      "cell_type": "markdown",
      "source": [
        "## **Q2.2)...Effect of batch size on the training process**\n",
        "\n"
      ],
      "metadata": {
        "id": "6g8VhD6xn3zq"
      }
    },
    {
      "cell_type": "code",
      "source": [
        "lst_batch_size = [100, 1000, 10000, 20000, 40000] # default LR of adam optimizer is 0.001\n",
        "loss_acc_lst_batch = []\n",
        "loss_lst_batch = []\n",
        "acc_lst_batch = []\n",
        "for batch_size in lst_batch_size:\n",
        "  print(\"Training with batch size = \", batch_size)\n",
        "  new_model = tf.keras.models.clone_model(leNet_1)\n",
        "  new_model.compile(loss = 'sparse_categorical_crossentropy', optimizer= tf.keras.optimizers.Adam(learning_rate=0.001), metrics=['accuracy'])\n",
        "  new_model.fit(x_train_cifar_norm, y_train_cifar, epochs=25, batch_size=batch_size)\n",
        "  loss_, acc_ = new_model.evaluate(x_test_cifar_norm, y_test_cifar)\n",
        "  loss_acc_lst_batch.append([loss_, acc_])\n",
        "  loss_lst_batch.append(loss_)\n",
        "  acc_lst_batch.append(acc_)\n",
        "  print(\"\\n\")"
      ],
      "metadata": {
        "colab": {
          "base_uri": "https://localhost:8080/"
        },
        "id": "YqYOJl8XCN84",
        "outputId": "779d2cd7-60dd-4338-8378-47a0645f3f48"
      },
      "execution_count": 26,
      "outputs": [
        {
          "output_type": "stream",
          "name": "stdout",
          "text": [
            "Training with batch size =  100\n",
            "Epoch 1/25\n",
            "500/500 [==============================] - 2s 4ms/step - loss: 1.6704 - accuracy: 0.3893\n",
            "Epoch 2/25\n",
            "500/500 [==============================] - 2s 4ms/step - loss: 1.4020 - accuracy: 0.4945\n",
            "Epoch 3/25\n",
            "500/500 [==============================] - 2s 4ms/step - loss: 1.3046 - accuracy: 0.5316\n",
            "Epoch 4/25\n",
            "500/500 [==============================] - 2s 4ms/step - loss: 1.2234 - accuracy: 0.5660\n",
            "Epoch 5/25\n",
            "500/500 [==============================] - 2s 4ms/step - loss: 1.1728 - accuracy: 0.5829\n",
            "Epoch 6/25\n",
            "500/500 [==============================] - 3s 6ms/step - loss: 1.1254 - accuracy: 0.6023\n",
            "Epoch 7/25\n",
            "500/500 [==============================] - 3s 6ms/step - loss: 1.0807 - accuracy: 0.6187\n",
            "Epoch 8/25\n",
            "500/500 [==============================] - 4s 8ms/step - loss: 1.0429 - accuracy: 0.6317\n",
            "Epoch 9/25\n",
            "500/500 [==============================] - 2s 5ms/step - loss: 1.0055 - accuracy: 0.6472\n",
            "Epoch 10/25\n",
            "500/500 [==============================] - 3s 6ms/step - loss: 0.9817 - accuracy: 0.6553\n",
            "Epoch 11/25\n",
            "500/500 [==============================] - 2s 4ms/step - loss: 0.9582 - accuracy: 0.6621\n",
            "Epoch 12/25\n",
            "500/500 [==============================] - 2s 4ms/step - loss: 0.9288 - accuracy: 0.6738\n",
            "Epoch 13/25\n",
            "500/500 [==============================] - 2s 4ms/step - loss: 0.9128 - accuracy: 0.6796\n",
            "Epoch 14/25\n",
            "500/500 [==============================] - 2s 4ms/step - loss: 0.8838 - accuracy: 0.6884\n",
            "Epoch 15/25\n",
            "500/500 [==============================] - 2s 4ms/step - loss: 0.8632 - accuracy: 0.6952\n",
            "Epoch 16/25\n",
            "500/500 [==============================] - 2s 4ms/step - loss: 0.8417 - accuracy: 0.7022\n",
            "Epoch 17/25\n",
            "500/500 [==============================] - 2s 4ms/step - loss: 0.8216 - accuracy: 0.7097\n",
            "Epoch 18/25\n",
            "500/500 [==============================] - 2s 4ms/step - loss: 0.8062 - accuracy: 0.7165\n",
            "Epoch 19/25\n",
            "500/500 [==============================] - 2s 4ms/step - loss: 0.7982 - accuracy: 0.7157\n",
            "Epoch 20/25\n",
            "500/500 [==============================] - 2s 4ms/step - loss: 0.7738 - accuracy: 0.7260\n",
            "Epoch 21/25\n",
            "500/500 [==============================] - 2s 4ms/step - loss: 0.7577 - accuracy: 0.7310\n",
            "Epoch 22/25\n",
            "500/500 [==============================] - 2s 4ms/step - loss: 0.7451 - accuracy: 0.7365\n",
            "Epoch 23/25\n",
            "500/500 [==============================] - 2s 4ms/step - loss: 0.7299 - accuracy: 0.7397\n",
            "Epoch 24/25\n",
            "500/500 [==============================] - 2s 4ms/step - loss: 0.7251 - accuracy: 0.7402\n",
            "Epoch 25/25\n",
            "500/500 [==============================] - 2s 4ms/step - loss: 0.7128 - accuracy: 0.7456\n",
            "313/313 [==============================] - 1s 3ms/step - loss: 1.2431 - accuracy: 0.6164\n",
            "\n",
            "\n",
            "Training with batch size =  1000\n",
            "Epoch 1/25\n",
            "50/50 [==============================] - 1s 17ms/step - loss: 2.0747 - accuracy: 0.2466\n",
            "Epoch 2/25\n",
            "50/50 [==============================] - 1s 15ms/step - loss: 1.7207 - accuracy: 0.3811\n",
            "Epoch 3/25\n",
            "50/50 [==============================] - 1s 15ms/step - loss: 1.5616 - accuracy: 0.4368\n",
            "Epoch 4/25\n",
            "50/50 [==============================] - 1s 15ms/step - loss: 1.4815 - accuracy: 0.4666\n",
            "Epoch 5/25\n",
            "50/50 [==============================] - 1s 15ms/step - loss: 1.4185 - accuracy: 0.4887\n",
            "Epoch 6/25\n",
            "50/50 [==============================] - 1s 15ms/step - loss: 1.3806 - accuracy: 0.5052\n",
            "Epoch 7/25\n",
            "50/50 [==============================] - 1s 15ms/step - loss: 1.3485 - accuracy: 0.5185\n",
            "Epoch 8/25\n",
            "50/50 [==============================] - 1s 15ms/step - loss: 1.3233 - accuracy: 0.5260\n",
            "Epoch 9/25\n",
            "50/50 [==============================] - 1s 15ms/step - loss: 1.2963 - accuracy: 0.5348\n",
            "Epoch 10/25\n",
            "50/50 [==============================] - 1s 15ms/step - loss: 1.2788 - accuracy: 0.5429\n",
            "Epoch 11/25\n",
            "50/50 [==============================] - 1s 15ms/step - loss: 1.2583 - accuracy: 0.5506\n",
            "Epoch 12/25\n",
            "50/50 [==============================] - 1s 15ms/step - loss: 1.2471 - accuracy: 0.5573\n",
            "Epoch 13/25\n",
            "50/50 [==============================] - 1s 15ms/step - loss: 1.2271 - accuracy: 0.5645\n",
            "Epoch 14/25\n",
            "50/50 [==============================] - 1s 16ms/step - loss: 1.2118 - accuracy: 0.5697\n",
            "Epoch 15/25\n",
            "50/50 [==============================] - 1s 16ms/step - loss: 1.1959 - accuracy: 0.5793\n",
            "Epoch 16/25\n",
            "50/50 [==============================] - 1s 15ms/step - loss: 1.1856 - accuracy: 0.5791\n",
            "Epoch 17/25\n",
            "50/50 [==============================] - 1s 15ms/step - loss: 1.1663 - accuracy: 0.5882\n",
            "Epoch 18/25\n",
            "50/50 [==============================] - 1s 15ms/step - loss: 1.1558 - accuracy: 0.5930\n",
            "Epoch 19/25\n",
            "50/50 [==============================] - 1s 15ms/step - loss: 1.1455 - accuracy: 0.5948\n",
            "Epoch 20/25\n",
            "50/50 [==============================] - 1s 15ms/step - loss: 1.1311 - accuracy: 0.6005\n",
            "Epoch 21/25\n",
            "50/50 [==============================] - 1s 15ms/step - loss: 1.1252 - accuracy: 0.6039\n",
            "Epoch 22/25\n",
            "50/50 [==============================] - 1s 15ms/step - loss: 1.1192 - accuracy: 0.6057\n",
            "Epoch 23/25\n",
            "50/50 [==============================] - 1s 15ms/step - loss: 1.1084 - accuracy: 0.6090\n",
            "Epoch 24/25\n",
            "50/50 [==============================] - 1s 15ms/step - loss: 1.0927 - accuracy: 0.6158\n",
            "Epoch 25/25\n",
            "50/50 [==============================] - 1s 15ms/step - loss: 1.0862 - accuracy: 0.6187\n",
            "313/313 [==============================] - 1s 3ms/step - loss: 1.1666 - accuracy: 0.5880\n",
            "\n",
            "\n",
            "Training with batch size =  10000\n",
            "Epoch 1/25\n",
            "5/5 [==============================] - 3s 127ms/step - loss: 2.2882 - accuracy: 0.1827\n",
            "Epoch 2/25\n",
            "5/5 [==============================] - 1s 126ms/step - loss: 2.2004 - accuracy: 0.2581\n",
            "Epoch 3/25\n",
            "5/5 [==============================] - 1s 128ms/step - loss: 2.0312 - accuracy: 0.2965\n",
            "Epoch 4/25\n",
            "5/5 [==============================] - 1s 129ms/step - loss: 1.9637 - accuracy: 0.3019\n",
            "Epoch 5/25\n",
            "5/5 [==============================] - 1s 127ms/step - loss: 1.9256 - accuracy: 0.3174\n",
            "Epoch 6/25\n",
            "5/5 [==============================] - 1s 129ms/step - loss: 1.8802 - accuracy: 0.3347\n",
            "Epoch 7/25\n",
            "5/5 [==============================] - 1s 131ms/step - loss: 1.8557 - accuracy: 0.3469\n",
            "Epoch 8/25\n",
            "5/5 [==============================] - 1s 135ms/step - loss: 1.8272 - accuracy: 0.3585\n",
            "Epoch 9/25\n",
            "5/5 [==============================] - 1s 129ms/step - loss: 1.7970 - accuracy: 0.3700\n",
            "Epoch 10/25\n",
            "5/5 [==============================] - 1s 130ms/step - loss: 1.7655 - accuracy: 0.3827\n",
            "Epoch 11/25\n",
            "5/5 [==============================] - 1s 131ms/step - loss: 1.7360 - accuracy: 0.3919\n",
            "Epoch 12/25\n",
            "5/5 [==============================] - 1s 130ms/step - loss: 1.7065 - accuracy: 0.4020\n",
            "Epoch 13/25\n",
            "5/5 [==============================] - 1s 126ms/step - loss: 1.6803 - accuracy: 0.4075\n",
            "Epoch 14/25\n",
            "5/5 [==============================] - 1s 130ms/step - loss: 1.6568 - accuracy: 0.4166\n",
            "Epoch 15/25\n",
            "5/5 [==============================] - 1s 131ms/step - loss: 1.6346 - accuracy: 0.4203\n",
            "Epoch 16/25\n",
            "5/5 [==============================] - 1s 133ms/step - loss: 1.6213 - accuracy: 0.4248\n",
            "Epoch 17/25\n",
            "5/5 [==============================] - 1s 134ms/step - loss: 1.6058 - accuracy: 0.4306\n",
            "Epoch 18/25\n",
            "5/5 [==============================] - 1s 132ms/step - loss: 1.5862 - accuracy: 0.4362\n",
            "Epoch 19/25\n",
            "5/5 [==============================] - 1s 129ms/step - loss: 1.5727 - accuracy: 0.4425\n",
            "Epoch 20/25\n",
            "5/5 [==============================] - 1s 137ms/step - loss: 1.5642 - accuracy: 0.4441\n",
            "Epoch 21/25\n",
            "5/5 [==============================] - 1s 132ms/step - loss: 1.5452 - accuracy: 0.4494\n",
            "Epoch 22/25\n",
            "5/5 [==============================] - 1s 133ms/step - loss: 1.5338 - accuracy: 0.4535\n",
            "Epoch 23/25\n",
            "5/5 [==============================] - 1s 127ms/step - loss: 1.5223 - accuracy: 0.4592\n",
            "Epoch 24/25\n",
            "5/5 [==============================] - 1s 130ms/step - loss: 1.5168 - accuracy: 0.4599\n",
            "Epoch 25/25\n",
            "5/5 [==============================] - 1s 127ms/step - loss: 1.4998 - accuracy: 0.4655\n",
            "313/313 [==============================] - 1s 3ms/step - loss: 1.5082 - accuracy: 0.4558\n",
            "\n",
            "\n",
            "Training with batch size =  20000\n",
            "Epoch 1/25\n",
            "3/3 [==============================] - 5s 192ms/step - loss: 2.3028 - accuracy: 0.1041\n",
            "Epoch 2/25\n",
            "3/3 [==============================] - 1s 198ms/step - loss: 2.2694 - accuracy: 0.1558\n",
            "Epoch 3/25\n",
            "3/3 [==============================] - 1s 207ms/step - loss: 2.2212 - accuracy: 0.1950\n",
            "Epoch 4/25\n",
            "3/3 [==============================] - 1s 205ms/step - loss: 2.1465 - accuracy: 0.2190\n",
            "Epoch 5/25\n",
            "3/3 [==============================] - 1s 206ms/step - loss: 2.0598 - accuracy: 0.2727\n",
            "Epoch 6/25\n",
            "3/3 [==============================] - 1s 201ms/step - loss: 1.9968 - accuracy: 0.2815\n",
            "Epoch 7/25\n",
            "3/3 [==============================] - 1s 212ms/step - loss: 1.9745 - accuracy: 0.3000\n",
            "Epoch 8/25\n",
            "3/3 [==============================] - 1s 247ms/step - loss: 1.9453 - accuracy: 0.3099\n",
            "Epoch 9/25\n",
            "3/3 [==============================] - 1s 229ms/step - loss: 1.9123 - accuracy: 0.3195\n",
            "Epoch 10/25\n",
            "3/3 [==============================] - 1s 244ms/step - loss: 1.8871 - accuracy: 0.3317\n",
            "Epoch 11/25\n",
            "3/3 [==============================] - 1s 242ms/step - loss: 1.8750 - accuracy: 0.3328\n",
            "Epoch 12/25\n",
            "3/3 [==============================] - 1s 225ms/step - loss: 1.8622 - accuracy: 0.3376\n",
            "Epoch 13/25\n",
            "3/3 [==============================] - 1s 214ms/step - loss: 1.8428 - accuracy: 0.3465\n",
            "Epoch 14/25\n",
            "3/3 [==============================] - 1s 203ms/step - loss: 1.8278 - accuracy: 0.3500\n",
            "Epoch 15/25\n",
            "3/3 [==============================] - 1s 206ms/step - loss: 1.8133 - accuracy: 0.3585\n",
            "Epoch 16/25\n",
            "3/3 [==============================] - 1s 209ms/step - loss: 1.7976 - accuracy: 0.3635\n",
            "Epoch 17/25\n",
            "3/3 [==============================] - 1s 203ms/step - loss: 1.7823 - accuracy: 0.3696\n",
            "Epoch 18/25\n",
            "3/3 [==============================] - 1s 207ms/step - loss: 1.7677 - accuracy: 0.3770\n",
            "Epoch 19/25\n",
            "3/3 [==============================] - 1s 207ms/step - loss: 1.7545 - accuracy: 0.3827\n",
            "Epoch 20/25\n",
            "3/3 [==============================] - 1s 206ms/step - loss: 1.7395 - accuracy: 0.3855\n",
            "Epoch 21/25\n",
            "3/3 [==============================] - 1s 204ms/step - loss: 1.7252 - accuracy: 0.3901\n",
            "Epoch 22/25\n",
            "3/3 [==============================] - 1s 206ms/step - loss: 1.7089 - accuracy: 0.3961\n",
            "Epoch 23/25\n",
            "3/3 [==============================] - 1s 207ms/step - loss: 1.6943 - accuracy: 0.4016\n",
            "Epoch 24/25\n",
            "3/3 [==============================] - 1s 209ms/step - loss: 1.6823 - accuracy: 0.4047\n",
            "Epoch 25/25\n",
            "3/3 [==============================] - 1s 198ms/step - loss: 1.6692 - accuracy: 0.4076\n",
            "313/313 [==============================] - 1s 3ms/step - loss: 1.6517 - accuracy: 0.4164\n",
            "\n",
            "\n",
            "Training with batch size =  40000\n",
            "Epoch 1/25\n",
            "2/2 [==============================] - 8s 119ms/step - loss: 2.3007 - accuracy: 0.1212\n",
            "Epoch 2/25\n",
            "2/2 [==============================] - 1s 138ms/step - loss: 2.2849 - accuracy: 0.1819\n",
            "Epoch 3/25\n",
            "2/2 [==============================] - 1s 138ms/step - loss: 2.2571 - accuracy: 0.1873\n",
            "Epoch 4/25\n",
            "2/2 [==============================] - 1s 131ms/step - loss: 2.2141 - accuracy: 0.2088\n",
            "Epoch 5/25\n",
            "2/2 [==============================] - 1s 129ms/step - loss: 2.1570 - accuracy: 0.2590\n",
            "Epoch 6/25\n",
            "2/2 [==============================] - 1s 138ms/step - loss: 2.0967 - accuracy: 0.2531\n",
            "Epoch 7/25\n",
            "2/2 [==============================] - 1s 143ms/step - loss: 2.0451 - accuracy: 0.2625\n",
            "Epoch 8/25\n",
            "2/2 [==============================] - 1s 139ms/step - loss: 2.0091 - accuracy: 0.2774\n",
            "Epoch 9/25\n",
            "2/2 [==============================] - 1s 133ms/step - loss: 1.9719 - accuracy: 0.2923\n",
            "Epoch 10/25\n",
            "2/2 [==============================] - 1s 136ms/step - loss: 1.9416 - accuracy: 0.3041\n",
            "Epoch 11/25\n",
            "2/2 [==============================] - 1s 132ms/step - loss: 1.9094 - accuracy: 0.3182\n",
            "Epoch 12/25\n",
            "2/2 [==============================] - 1s 135ms/step - loss: 1.8822 - accuracy: 0.3250\n",
            "Epoch 13/25\n",
            "2/2 [==============================] - 1s 139ms/step - loss: 1.8613 - accuracy: 0.3419\n",
            "Epoch 14/25\n",
            "2/2 [==============================] - 1s 140ms/step - loss: 1.8425 - accuracy: 0.3463\n",
            "Epoch 15/25\n",
            "2/2 [==============================] - 1s 130ms/step - loss: 1.8212 - accuracy: 0.3532\n",
            "Epoch 16/25\n",
            "2/2 [==============================] - 1s 135ms/step - loss: 1.8006 - accuracy: 0.3606\n",
            "Epoch 17/25\n",
            "2/2 [==============================] - 1s 144ms/step - loss: 1.7863 - accuracy: 0.3638\n",
            "Epoch 18/25\n",
            "2/2 [==============================] - 1s 139ms/step - loss: 1.7785 - accuracy: 0.3674\n",
            "Epoch 19/25\n",
            "2/2 [==============================] - 1s 135ms/step - loss: 1.7582 - accuracy: 0.3713\n",
            "Epoch 20/25\n",
            "2/2 [==============================] - 1s 130ms/step - loss: 1.7394 - accuracy: 0.3828\n",
            "Epoch 21/25\n",
            "2/2 [==============================] - 1s 141ms/step - loss: 1.7257 - accuracy: 0.3866\n",
            "Epoch 22/25\n",
            "2/2 [==============================] - 1s 138ms/step - loss: 1.7187 - accuracy: 0.3859\n",
            "Epoch 23/25\n",
            "2/2 [==============================] - 1s 132ms/step - loss: 1.6969 - accuracy: 0.3940\n",
            "Epoch 24/25\n",
            "2/2 [==============================] - 1s 135ms/step - loss: 1.6999 - accuracy: 0.3930\n",
            "Epoch 25/25\n",
            "2/2 [==============================] - 1s 118ms/step - loss: 1.6755 - accuracy: 0.4023\n",
            "313/313 [==============================] - 1s 3ms/step - loss: 1.6829 - accuracy: 0.3986\n",
            "\n",
            "\n"
          ]
        }
      ]
    },
    {
      "cell_type": "markdown",
      "source": [
        "**After comparing the accuracy forvarious batch sizes, the model performed the best for batch size of 100 with accuracy of 74.96 for training set & 63.26 for test set.**"
      ],
      "metadata": {
        "id": "8TwH86QNrkuf"
      }
    },
    {
      "cell_type": "markdown",
      "source": [
        "**Plotting Batch Size vs Accuracy & Loss**"
      ],
      "metadata": {
        "id": "l0z0XtQoqT9I"
      }
    },
    {
      "cell_type": "code",
      "source": [
        "plt.plot(lst_batch_size, acc_lst_batch, label=\"Accuracy\")\n",
        "plt.plot(lst_batch_size, loss_lst_batch, label=\"Loss\")\n",
        "plt.legend()\n",
        "plt.title(\"Batch size vs Accuracy & loss\")\n",
        "plt.ylabel(\"Accuracy/Loss\")\n",
        "plt.xlabel(\"Batch size\")\n",
        "plt.show()"
      ],
      "metadata": {
        "colab": {
          "base_uri": "https://localhost:8080/",
          "height": 295
        },
        "id": "K8niO1LHFEhN",
        "outputId": "68db81d4-e211-4229-b6f1-e4a441c0a79d"
      },
      "execution_count": 27,
      "outputs": [
        {
          "output_type": "display_data",
          "data": {
            "text/plain": [
              "<Figure size 432x288 with 1 Axes>"
            ],
            "image/png": "[encoded data removed]"
          },
          "metadata": {
            "needs_background": "light"
          }
        }
      ]
    },
    {
      "cell_type": "markdown",
      "source": [
        "## **Q2.3)Try different hyperparameters to obtain the best accuracy on the test set.**"
      ],
      "metadata": {
        "id": "IxiSO042q36K"
      }
    },
    {
      "cell_type": "code",
      "source": [
        "best_acc_model = tf.keras.models.clone_model(leNet_1)\n",
        "best_acc_model.compile(loss = 'sparse_categorical_crossentropy', optimizer= tf.keras.optimizers.Adam(learning_rate=0.005), metrics=['accuracy'])\n",
        "best_acc_model.fit(x_train_cifar_norm, y_train_cifar, epochs=25, batch_size=1000)\n",
        "loss__, acc__ = best_acc_model.evaluate(x_test_cifar_norm, y_test_cifar)"
      ],
      "metadata": {
        "colab": {
          "base_uri": "https://localhost:8080/"
        },
        "id": "Ja4D1jdWFL5T",
        "outputId": "fa2a0c32-4e97-4b5c-ca9d-98775aca3098"
      },
      "execution_count": null,
      "outputs": [
        {
          "output_type": "stream",
          "name": "stdout",
          "text": [
            "Epoch 1/25\n",
            "50/50 [==============================] - 1s 17ms/step - loss: 1.9666 - accuracy: 0.2745\n",
            "Epoch 2/25\n",
            "50/50 [==============================] - 1s 15ms/step - loss: 1.5684 - accuracy: 0.4299\n",
            "Epoch 3/25\n",
            "50/50 [==============================] - 1s 16ms/step - loss: 1.3768 - accuracy: 0.5023\n",
            "Epoch 4/25\n",
            "50/50 [==============================] - 1s 15ms/step - loss: 1.2530 - accuracy: 0.5517\n",
            "Epoch 5/25\n",
            "50/50 [==============================] - 1s 15ms/step - loss: 1.1904 - accuracy: 0.5761\n",
            "Epoch 6/25\n",
            "50/50 [==============================] - 1s 15ms/step - loss: 1.1240 - accuracy: 0.5997\n",
            "Epoch 7/25\n",
            "50/50 [==============================] - 1s 16ms/step - loss: 1.0993 - accuracy: 0.6107\n",
            "Epoch 8/25\n",
            "50/50 [==============================] - 1s 15ms/step - loss: 1.0378 - accuracy: 0.6323\n",
            "Epoch 9/25\n",
            "50/50 [==============================] - 1s 16ms/step - loss: 1.0160 - accuracy: 0.6420\n",
            "Epoch 10/25\n",
            "50/50 [==============================] - 1s 15ms/step - loss: 0.9728 - accuracy: 0.6571\n",
            "Epoch 11/25\n",
            "50/50 [==============================] - 1s 15ms/step - loss: 0.9427 - accuracy: 0.6688\n",
            "Epoch 12/25\n",
            "50/50 [==============================] - 1s 15ms/step - loss: 0.9170 - accuracy: 0.6757\n",
            "Epoch 13/25\n",
            "50/50 [==============================] - 1s 15ms/step - loss: 0.9040 - accuracy: 0.6815\n",
            "Epoch 14/25\n",
            "50/50 [==============================] - 1s 15ms/step - loss: 0.8898 - accuracy: 0.6856\n",
            "Epoch 15/25\n",
            "50/50 [==============================] - 1s 15ms/step - loss: 0.8635 - accuracy: 0.6954\n",
            "Epoch 16/25\n",
            "50/50 [==============================] - 1s 15ms/step - loss: 0.8262 - accuracy: 0.7060\n",
            "Epoch 17/25\n",
            "50/50 [==============================] - 1s 16ms/step - loss: 0.8026 - accuracy: 0.7175\n",
            "Epoch 18/25\n",
            "50/50 [==============================] - 1s 15ms/step - loss: 0.7775 - accuracy: 0.7254\n",
            "Epoch 19/25\n",
            "50/50 [==============================] - 1s 15ms/step - loss: 0.7874 - accuracy: 0.7234\n",
            "Epoch 20/25\n",
            "50/50 [==============================] - 1s 15ms/step - loss: 0.7649 - accuracy: 0.7285\n",
            "Epoch 21/25\n",
            "50/50 [==============================] - 1s 15ms/step - loss: 0.7445 - accuracy: 0.7367\n",
            "Epoch 22/25\n",
            "50/50 [==============================] - 1s 15ms/step - loss: 0.7341 - accuracy: 0.7394\n",
            "Epoch 23/25\n",
            "50/50 [==============================] - 1s 15ms/step - loss: 0.7171 - accuracy: 0.7454\n",
            "Epoch 24/25\n",
            "50/50 [==============================] - 1s 15ms/step - loss: 0.7030 - accuracy: 0.7521\n",
            "Epoch 25/25\n",
            "50/50 [==============================] - 1s 16ms/step - loss: 0.6789 - accuracy: 0.7592\n",
            "313/313 [==============================] - 1s 3ms/step - loss: 1.2737 - accuracy: 0.6033\n"
          ]
        }
      ]
    },
    {
      "cell_type": "code",
      "source": [
        "best_acc_model = tf.keras.models.clone_model(leNet_1)\n",
        "best_acc_model.compile(loss = 'sparse_categorical_crossentropy', optimizer= tf.keras.optimizers.Adam(learning_rate=0.005), metrics=['accuracy'])\n",
        "best_acc_model.fit(x_train_cifar_norm, y_train_cifar, epochs=25, batch_size=100)\n",
        "loss__, acc__ = best_acc_model.evaluate(x_test_cifar_norm, y_test_cifar)"
      ],
      "metadata": {
        "colab": {
          "base_uri": "https://localhost:8080/"
        },
        "id": "3StH0m1LFR31",
        "outputId": "167923b5-0811-466a-e739-8826b19470b2"
      },
      "execution_count": null,
      "outputs": [
        {
          "output_type": "stream",
          "name": "stdout",
          "text": [
            "Epoch 1/25\n",
            "500/500 [==============================] - 40s 78ms/step - loss: 1.6992 - accuracy: 0.3756\n",
            "Epoch 2/25\n",
            "500/500 [==============================] - 39s 78ms/step - loss: 1.4888 - accuracy: 0.4616\n",
            "Epoch 3/25\n",
            "500/500 [==============================] - 40s 81ms/step - loss: 1.4189 - accuracy: 0.4895\n",
            "Epoch 4/25\n",
            "500/500 [==============================] - 39s 78ms/step - loss: 1.3770 - accuracy: 0.5083\n",
            "Epoch 5/25\n",
            "500/500 [==============================] - 40s 80ms/step - loss: 1.3288 - accuracy: 0.5253\n",
            "Epoch 6/25\n",
            "500/500 [==============================] - 39s 79ms/step - loss: 1.2981 - accuracy: 0.5377\n",
            "Epoch 7/25\n",
            "500/500 [==============================] - 39s 79ms/step - loss: 1.2637 - accuracy: 0.5486\n",
            "Epoch 8/25\n",
            "500/500 [==============================] - 39s 79ms/step - loss: 1.2368 - accuracy: 0.5600\n",
            "Epoch 9/25\n",
            "500/500 [==============================] - 39s 78ms/step - loss: 1.2129 - accuracy: 0.5699\n",
            "Epoch 10/25\n",
            "500/500 [==============================] - 40s 81ms/step - loss: 1.1931 - accuracy: 0.5767\n",
            "Epoch 11/25\n",
            "500/500 [==============================] - 39s 78ms/step - loss: 1.1668 - accuracy: 0.5889\n",
            "Epoch 12/25\n",
            "500/500 [==============================] - 39s 78ms/step - loss: 1.1487 - accuracy: 0.5933\n",
            "Epoch 13/25\n",
            "500/500 [==============================] - 39s 79ms/step - loss: 1.1304 - accuracy: 0.5989\n",
            "Epoch 14/25\n",
            "500/500 [==============================] - 39s 78ms/step - loss: 1.1110 - accuracy: 0.6040\n",
            "Epoch 15/25\n",
            "500/500 [==============================] - 39s 78ms/step - loss: 1.0963 - accuracy: 0.6120\n",
            "Epoch 16/25\n",
            "500/500 [==============================] - 39s 78ms/step - loss: 1.0876 - accuracy: 0.6131\n",
            "Epoch 17/25\n",
            "500/500 [==============================] - 40s 81ms/step - loss: 1.0869 - accuracy: 0.6160\n",
            "Epoch 18/25\n",
            "500/500 [==============================] - 39s 78ms/step - loss: 1.0698 - accuracy: 0.6225\n",
            "Epoch 19/25\n",
            "500/500 [==============================] - 39s 78ms/step - loss: 1.0563 - accuracy: 0.6268\n",
            "Epoch 20/25\n",
            "500/500 [==============================] - 39s 78ms/step - loss: 1.0431 - accuracy: 0.6297\n",
            "Epoch 21/25\n",
            "500/500 [==============================] - 39s 78ms/step - loss: 1.0385 - accuracy: 0.6342\n",
            "Epoch 22/25\n",
            "500/500 [==============================] - 39s 78ms/step - loss: 1.0231 - accuracy: 0.6364\n",
            "Epoch 23/25\n",
            "500/500 [==============================] - 40s 80ms/step - loss: 1.0113 - accuracy: 0.6398\n",
            "Epoch 24/25\n",
            "500/500 [==============================] - 39s 78ms/step - loss: 1.0189 - accuracy: 0.6389\n",
            "Epoch 25/25\n",
            "500/500 [==============================] - 39s 78ms/step - loss: 1.0062 - accuracy: 0.6402\n",
            "313/313 [==============================] - 4s 13ms/step - loss: 1.4086 - accuracy: 0.5414\n"
          ]
        }
      ]
    },
    {
      "cell_type": "code",
      "source": [
        "best_acc_model = tf.keras.models.clone_model(leNet_1)\n",
        "best_acc_model.compile(loss = 'sparse_categorical_crossentropy', optimizer= tf.keras.optimizers.Adam(learning_rate=0.005), metrics=['accuracy'])\n",
        "best_acc_model.fit(x_train_cifar_norm, y_train_cifar, epochs=15, batch_size=100)\n",
        "loss__, acc__ = best_acc_model.evaluate(x_test_cifar_norm, y_test_cifar)"
      ],
      "metadata": {
        "colab": {
          "base_uri": "https://localhost:8080/"
        },
        "id": "YFhIsb3wFalv",
        "outputId": "ed09ec50-a965-4b5f-968a-98ef168cbeb9"
      },
      "execution_count": null,
      "outputs": [
        {
          "output_type": "stream",
          "name": "stdout",
          "text": [
            "Epoch 1/15\n",
            "500/500 [==============================] - 3s 4ms/step - loss: 1.7767 - accuracy: 0.3405\n",
            "Epoch 2/15\n",
            "500/500 [==============================] - 2s 5ms/step - loss: 1.5063 - accuracy: 0.4582\n",
            "Epoch 3/15\n",
            "500/500 [==============================] - 3s 7ms/step - loss: 1.3999 - accuracy: 0.4991\n",
            "Epoch 4/15\n",
            "500/500 [==============================] - 2s 5ms/step - loss: 1.3363 - accuracy: 0.5263\n",
            "Epoch 5/15\n",
            "500/500 [==============================] - 2s 5ms/step - loss: 1.2936 - accuracy: 0.5385\n",
            "Epoch 6/15\n",
            "500/500 [==============================] - 3s 6ms/step - loss: 1.2557 - accuracy: 0.5523\n",
            "Epoch 7/15\n",
            "500/500 [==============================] - 2s 5ms/step - loss: 1.2249 - accuracy: 0.5647\n",
            "Epoch 8/15\n",
            "500/500 [==============================] - 2s 4ms/step - loss: 1.1995 - accuracy: 0.5729\n",
            "Epoch 9/15\n",
            "500/500 [==============================] - 2s 5ms/step - loss: 1.1793 - accuracy: 0.5807\n",
            "Epoch 10/15\n",
            "500/500 [==============================] - 2s 5ms/step - loss: 1.1683 - accuracy: 0.5884\n",
            "Epoch 11/15\n",
            "500/500 [==============================] - 2s 4ms/step - loss: 1.1583 - accuracy: 0.5910\n",
            "Epoch 12/15\n",
            "500/500 [==============================] - 2s 4ms/step - loss: 1.1427 - accuracy: 0.5967\n",
            "Epoch 13/15\n",
            "500/500 [==============================] - 2s 4ms/step - loss: 1.1278 - accuracy: 0.6008\n",
            "Epoch 14/15\n",
            "500/500 [==============================] - 3s 5ms/step - loss: 1.1143 - accuracy: 0.6059\n",
            "Epoch 15/15\n",
            "500/500 [==============================] - 2s 4ms/step - loss: 1.0996 - accuracy: 0.6128\n",
            "313/313 [==============================] - 1s 3ms/step - loss: 1.3654 - accuracy: 0.5378\n"
          ]
        }
      ]
    },
    {
      "cell_type": "code",
      "source": [
        "best_acc_model = tf.keras.models.clone_model(leNet_1)\n",
        "best_acc_model.compile(loss = 'sparse_categorical_crossentropy', optimizer= tf.keras.optimizers.Adam(learning_rate=0.001), metrics=['accuracy'])\n",
        "best_acc_model.fit(x_train_cifar_norm, y_train_cifar, epochs=25, batch_size=100)\n",
        "loss__, acc__ = best_acc_model.evaluate(x_test_cifar_norm, y_test_cifar)"
      ],
      "metadata": {
        "colab": {
          "base_uri": "https://localhost:8080/"
        },
        "id": "Cqf3lpWJtCQG",
        "outputId": "37925777-1a4a-4adb-bc67-79952634a5f3"
      },
      "execution_count": null,
      "outputs": [
        {
          "output_type": "stream",
          "name": "stdout",
          "text": [
            "Epoch 1/25\n",
            "500/500 [==============================] - 2s 4ms/step - loss: 1.6885 - accuracy: 0.3863\n",
            "Epoch 2/25\n",
            "500/500 [==============================] - 2s 4ms/step - loss: 1.4166 - accuracy: 0.4868\n",
            "Epoch 3/25\n",
            "500/500 [==============================] - 2s 4ms/step - loss: 1.3073 - accuracy: 0.5321\n",
            "Epoch 4/25\n",
            "500/500 [==============================] - 2s 4ms/step - loss: 1.2186 - accuracy: 0.5679\n",
            "Epoch 5/25\n",
            "500/500 [==============================] - 3s 6ms/step - loss: 1.1606 - accuracy: 0.5873\n",
            "Epoch 6/25\n",
            "500/500 [==============================] - 2s 4ms/step - loss: 1.1025 - accuracy: 0.6099\n",
            "Epoch 7/25\n",
            "500/500 [==============================] - 2s 4ms/step - loss: 1.0572 - accuracy: 0.6270\n",
            "Epoch 8/25\n",
            "500/500 [==============================] - 2s 5ms/step - loss: 1.0128 - accuracy: 0.6438\n",
            "Epoch 9/25\n",
            "500/500 [==============================] - 2s 4ms/step - loss: 0.9808 - accuracy: 0.6552\n",
            "Epoch 10/25\n",
            "500/500 [==============================] - 2s 4ms/step - loss: 0.9507 - accuracy: 0.6677\n",
            "Epoch 11/25\n",
            "500/500 [==============================] - 2s 4ms/step - loss: 0.9254 - accuracy: 0.6754\n",
            "Epoch 12/25\n",
            "500/500 [==============================] - 2s 4ms/step - loss: 0.9019 - accuracy: 0.6822\n",
            "Epoch 13/25\n",
            "500/500 [==============================] - 2s 4ms/step - loss: 0.8728 - accuracy: 0.6933\n",
            "Epoch 14/25\n",
            "500/500 [==============================] - 2s 4ms/step - loss: 0.8541 - accuracy: 0.6999\n",
            "Epoch 15/25\n",
            "500/500 [==============================] - 2s 4ms/step - loss: 0.8389 - accuracy: 0.7035\n",
            "Epoch 16/25\n",
            "500/500 [==============================] - 2s 4ms/step - loss: 0.8193 - accuracy: 0.7109\n",
            "Epoch 17/25\n",
            "500/500 [==============================] - 2s 4ms/step - loss: 0.7993 - accuracy: 0.7179\n",
            "Epoch 18/25\n",
            "500/500 [==============================] - 2s 4ms/step - loss: 0.7805 - accuracy: 0.7257\n",
            "Epoch 19/25\n",
            "500/500 [==============================] - 2s 4ms/step - loss: 0.7699 - accuracy: 0.7269\n",
            "Epoch 20/25\n",
            "500/500 [==============================] - 2s 4ms/step - loss: 0.7559 - accuracy: 0.7336\n",
            "Epoch 21/25\n",
            "500/500 [==============================] - 2s 4ms/step - loss: 0.7396 - accuracy: 0.7397\n",
            "Epoch 22/25\n",
            "500/500 [==============================] - 3s 5ms/step - loss: 0.7282 - accuracy: 0.7412\n",
            "Epoch 23/25\n",
            "500/500 [==============================] - 3s 5ms/step - loss: 0.7168 - accuracy: 0.7459\n",
            "Epoch 24/25\n",
            "500/500 [==============================] - 2s 5ms/step - loss: 0.7035 - accuracy: 0.7506\n",
            "Epoch 25/25\n",
            "500/500 [==============================] - 3s 5ms/step - loss: 0.6922 - accuracy: 0.7541\n",
            "313/313 [==============================] - 1s 3ms/step - loss: 1.1924 - accuracy: 0.6235\n"
          ]
        }
      ]
    },
    {
      "cell_type": "markdown",
      "source": [
        "**Here, I experimented with changing the hyperparameters such as the epoch from 10, 15, 20, and 25, batch size from 100 to 50000, and learning rate, and the best model I found was for the following hyperparameters:**\n",
        "\n",
        "\n",
        "1.   **Learning Rate = 0.001**\n",
        "2.   **Batch Size    = 100**\n",
        "3.   **Epochs        = 25**\n",
        "\n",
        "**With an accuracy of 75.41% for training set & 62.35% for test set.**\n",
        "\n"
      ],
      "metadata": {
        "id": "bCtnqhP2sjoF"
      }
    },
    {
      "cell_type": "markdown",
      "source": [
        "## **Q2.4)Designing an equivalent feed forward network for the same task**"
      ],
      "metadata": {
        "id": "KJLH0VF3uDeD"
      }
    },
    {
      "cell_type": "code",
      "source": [
        "Feed_FW_NN = Sequential()\n",
        "Feed_FW_NN.add(Flatten())\n",
        "Feed_FW_NN.add(Dense(456, activation='relu'))\n",
        "Feed_FW_NN.add(Dense(2416, activation='relu'))\n",
        "Feed_FW_NN.add(Dense(48120, activation='relu'))\n",
        "Feed_FW_NN.add(Dense(84, activation='relu'))  # For this layer have kept neurons as 84 because Question 2.4 says \n",
        "#                                                   to use no. of param as number of neurons for convolution layer only\n",
        "Feed_FW_NN.add(Dense(10, activation='softmax'))\n",
        "Feed_FW_NN.build(input_shape = (50000, 32, 32, 3))\n",
        "Feed_FW_NN.compile(loss='sparse_categorical_crossentropy', optimizer='SGD', metrics=['accuracy']) # default learning rate of 0.001\n",
        "Feed_FW_NN.summary()"
      ],
      "metadata": {
        "colab": {
          "base_uri": "https://localhost:8080/"
        },
        "id": "-W6-KJChFi-U",
        "outputId": "161bec7d-f84d-47ef-fd0c-63a4007dec4f"
      },
      "execution_count": null,
      "outputs": [
        {
          "output_type": "stream",
          "name": "stdout",
          "text": [
            "Model: \"sequential_1\"\n",
            "_________________________________________________________________\n",
            " Layer (type)                Output Shape              Param #   \n",
            "=================================================================\n",
            " flatten_1 (Flatten)         (50000, 3072)             0         \n",
            "                                                                 \n",
            " dense_2 (Dense)             (50000, 456)              1401288   \n",
            "                                                                 \n",
            " dense_3 (Dense)             (50000, 2416)             1104112   \n",
            "                                                                 \n",
            " dense_4 (Dense)             (50000, 48120)            116306040 \n",
            "                                                                 \n",
            " dense_5 (Dense)             (50000, 84)               4042164   \n",
            "                                                                 \n",
            " dense_6 (Dense)             (50000, 10)               850       \n",
            "                                                                 \n",
            "=================================================================\n",
            "Total params: 122,854,454\n",
            "Trainable params: 122,854,454\n",
            "Non-trainable params: 0\n",
            "_________________________________________________________________\n"
          ]
        }
      ]
    },
    {
      "cell_type": "code",
      "source": [
        "Feed_FW_NN.fit(x_train_cifar_norm, y_train_cifar, epochs=25, batch_size=1000)"
      ],
      "metadata": {
        "colab": {
          "base_uri": "https://localhost:8080/"
        },
        "id": "0e2KYKpxFlaO",
        "outputId": "07926b66-90a8-453f-97a2-c97562b8257c"
      },
      "execution_count": null,
      "outputs": [
        {
          "output_type": "stream",
          "name": "stdout",
          "text": [
            "Epoch 1/25\n",
            "50/50 [==============================] - 11s 216ms/step - loss: 2.1060 - accuracy: 0.2641\n",
            "Epoch 2/25\n",
            "50/50 [==============================] - 11s 219ms/step - loss: 2.0391 - accuracy: 0.2778\n",
            "Epoch 3/25\n",
            "50/50 [==============================] - 11s 221ms/step - loss: 1.9860 - accuracy: 0.2948\n",
            "Epoch 4/25\n",
            "50/50 [==============================] - 11s 220ms/step - loss: 1.9448 - accuracy: 0.3085\n",
            "Epoch 5/25\n",
            "50/50 [==============================] - 11s 219ms/step - loss: 1.9135 - accuracy: 0.3201\n",
            "Epoch 6/25\n",
            "50/50 [==============================] - 11s 219ms/step - loss: 1.8886 - accuracy: 0.3299\n",
            "Epoch 7/25\n",
            "50/50 [==============================] - 11s 219ms/step - loss: 1.8722 - accuracy: 0.3373\n",
            "Epoch 8/25\n",
            "50/50 [==============================] - 11s 219ms/step - loss: 1.8532 - accuracy: 0.3433\n",
            "Epoch 9/25\n",
            "50/50 [==============================] - 11s 220ms/step - loss: 1.8394 - accuracy: 0.3474\n",
            "Epoch 10/25\n",
            "50/50 [==============================] - 11s 220ms/step - loss: 1.8330 - accuracy: 0.3515\n",
            "Epoch 11/25\n",
            "50/50 [==============================] - 11s 221ms/step - loss: 1.8195 - accuracy: 0.3574\n",
            "Epoch 12/25\n",
            "50/50 [==============================] - 11s 221ms/step - loss: 1.8127 - accuracy: 0.3606\n",
            "Epoch 13/25\n",
            "50/50 [==============================] - 11s 220ms/step - loss: 1.7912 - accuracy: 0.3677\n",
            "Epoch 14/25\n",
            "50/50 [==============================] - 11s 221ms/step - loss: 1.7767 - accuracy: 0.3746\n",
            "Epoch 15/25\n",
            "50/50 [==============================] - 11s 220ms/step - loss: 1.7782 - accuracy: 0.3742\n",
            "Epoch 16/25\n",
            "50/50 [==============================] - 11s 220ms/step - loss: 1.7535 - accuracy: 0.3811\n",
            "Epoch 17/25\n",
            "50/50 [==============================] - 11s 220ms/step - loss: 1.7644 - accuracy: 0.3773\n",
            "Epoch 18/25\n",
            "50/50 [==============================] - 11s 220ms/step - loss: 1.7445 - accuracy: 0.3861\n",
            "Epoch 19/25\n",
            "50/50 [==============================] - 11s 220ms/step - loss: 1.7365 - accuracy: 0.3882\n",
            "Epoch 20/25\n",
            "50/50 [==============================] - 11s 220ms/step - loss: 1.7253 - accuracy: 0.3920\n",
            "Epoch 21/25\n",
            "50/50 [==============================] - 11s 220ms/step - loss: 1.7287 - accuracy: 0.3895\n",
            "Epoch 22/25\n",
            "50/50 [==============================] - 11s 220ms/step - loss: 1.7081 - accuracy: 0.3978\n",
            "Epoch 23/25\n",
            "50/50 [==============================] - 11s 221ms/step - loss: 1.7029 - accuracy: 0.3984\n",
            "Epoch 24/25\n",
            "50/50 [==============================] - 11s 221ms/step - loss: 1.7009 - accuracy: 0.3998\n",
            "Epoch 25/25\n",
            "50/50 [==============================] - 11s 221ms/step - loss: 1.6971 - accuracy: 0.4025\n"
          ]
        },
        {
          "output_type": "execute_result",
          "data": {
            "text/plain": [
              "<keras.callbacks.History at 0x7f9a3c4df5d0>"
            ]
          },
          "metadata": {},
          "execution_count": 20
        }
      ]
    },
    {
      "cell_type": "code",
      "source": [
        "Feed_FW_NN.evaluate(x_test_cifar_norm, y_test_cifar)"
      ],
      "metadata": {
        "colab": {
          "base_uri": "https://localhost:8080/"
        },
        "id": "oVWo9I2XFnjp",
        "outputId": "37db01f6-e2af-42fb-f081-7929bf61193a"
      },
      "execution_count": null,
      "outputs": [
        {
          "output_type": "stream",
          "name": "stdout",
          "text": [
            "313/313 [==============================] - 2s 5ms/step - loss: 1.6758 - accuracy: 0.4100\n"
          ]
        },
        {
          "output_type": "execute_result",
          "data": {
            "text/plain": [
              "[1.6758017539978027, 0.4099999964237213]"
            ]
          },
          "metadata": {},
          "execution_count": 21
        }
      ]
    },
    {
      "cell_type": "markdown",
      "source": [
        "**Q2.4)**When comparing performance with Convolutional Neural network, we can see that it has less accuracy and not able to learn parameters that well.\n",
        "<Br> **Part a:** The accuracy of feed forward network is 41% when compared to 62.35% of the best performing LeNet.\n",
        "<Br> **Part b:**Parameters in feed forward network are 122,854,454 whereas we have 62,006 parameters in LeNet network. The excess number of parameters is not really helpful as the accuracy is still low compared to LeNet."
      ],
      "metadata": {
        "id": "pfwYi2M6u83i"
      }
    }
  ]
}