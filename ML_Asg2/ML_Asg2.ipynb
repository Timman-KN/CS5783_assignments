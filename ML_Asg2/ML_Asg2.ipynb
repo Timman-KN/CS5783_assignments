{
  "nbformat": 4,
  "nbformat_minor": 0,
  "metadata": {
    "colab": {
      "provenance": [],
      "collapsed_sections": []
    },
    "kernelspec": {
      "name": "python3",
      "display_name": "Python 3"
    },
    "language_info": {
      "name": "python"
    }
  },
  "cells": [
    {
      "cell_type": "markdown",
      "source": [
        "**Question 1** : Please refer to the pdf\n"
      ],
      "metadata": {
        "id": "KSNj2AoE45C2"
      }
    },
    {
      "cell_type": "markdown",
      "source": [
        "\n",
        "\n",
        "---\n",
        "\n",
        "**Question 2**:    For the given data on canvas, construct a neural network for the regression task. Your network \n",
        "must have 1 hidden layer and 1 output layer. Use sigmoid to be your activation function for the \n",
        "hidden layer(s). You can choose the number of neurons in each layer using your intuition.  \n",
        " \n",
        "The  data  is  already  split  to  have  your  input  data  for  training  (X_train.csv)  and  testing \n",
        "(X_train.csv)  and  their  corresponding  target  values  Y_train.csv  and  Y_test.csv, \n",
        "respectively. You can load the data as follows: \n",
        " \n",
        "X_train = np.loadtxt(\"X_train.csv\") \n",
        " \n",
        "Implement the backpropagation algorithm and train your network until convergence.  \n",
        "\n",
        "---\n",
        "\n",
        "1.  What is the activation function that you will choose for the output layer? Justify your answer briefly.\n",
        "> **We apply a linear activation for the final (output) layer because it is a regression problem.**\n",
        "---\n",
        "2.  How many neurons should there be in the output layer? Why?\n",
        "> **Since we are predicting just one output value, our output layer should have just one neuron.**\n",
        "\n"
      ],
      "metadata": {
        "id": "_jdMEfqCfTVz"
      }
    },
    {
      "cell_type": "code",
      "execution_count": 1,
      "metadata": {
        "id": "KrO6ad0Q0oMx"
      },
      "outputs": [],
      "source": [
        "import numpy as np\n",
        "import matplotlib.pyplot as plt\n",
        "from google.colab import files"
      ]
    },
    {
      "cell_type": "code",
      "source": [
        "#files.upload()\n",
        "xtest = np.loadtxt('/content/drive/MyDrive/X_test.csv')\n",
        "xtrain = np.loadtxt('/content/drive/MyDrive/X_train.csv')\n",
        "ytrain = np.loadtxt('/content/drive/MyDrive/Y_train.csv')\n",
        "ytest = np.loadtxt('/content/drive/MyDrive/Y_test.csv')"
      ],
      "metadata": {
        "id": "IYNMl1zX0wNo"
      },
      "execution_count": 2,
      "outputs": []
    },
    {
      "cell_type": "code",
      "source": [
        "def weights(neurons):\n",
        "  W1 = np.random.rand(neurons, 2)\n",
        "  B1 = np.random.rand(neurons, 1)\n",
        "  W2 = np.random.rand(1, neurons)\n",
        "  B2 = np.random.rand(1,1)\n",
        "  return W1, B1, W2, B2\n",
        "\n",
        "def MSE(y_predict, y):\n",
        "  error = np.square(np.subtract(y,y_predict)).mean()\n",
        "  return error\n",
        "\n",
        "def accuracy(y_predicted, y):\n",
        "  correct = 0\n",
        "  wrong = 0\n",
        "  total = 0\n",
        "  diff =y - y_predicted\n",
        "  for i in diff:\n",
        "    total= total+1\n",
        "    if i[0] > 1:\n",
        "      wrong = wrong + 1\n",
        "    if i[0] < 1:\n",
        "      correct = correct + 1\n",
        "\n",
        "  return (correct/total)*100\n",
        "\n",
        "def sigmoid(x):\n",
        "  return 1/(1 + np.exp(-x))\n",
        "def relu(x):\n",
        "  return max(0, x)\n",
        "def tanh(x):\n",
        "  return np.tanh(x)\n",
        "def linear(x):\n",
        "  return x"
      ],
      "metadata": {
        "id": "n21ISqFv07mt"
      },
      "execution_count": 50,
      "outputs": []
    },
    {
      "cell_type": "code",
      "source": [
        "def forward_prop(neurons,  w1, b1, w2, b2):\n",
        "\n",
        "  z1 = np.dot(w1, xtrain.T) + b1\n",
        "  a1 = sigmoid(z1)\n",
        "  z2 = np.dot(w2, a1) + b2\n",
        "  a2 = (z2)\n",
        "  return z1, a1, z2, a2, w1, b1, w2, b2\n",
        "\n",
        "neurons =3\n",
        "w1, b1, w2, b2 = weights(neurons)\n",
        "Z1, A1, Z2, A2, W1, B1, W2, B2 = forward_prop(1, w1, b1, w2, b2 )"
      ],
      "metadata": {
        "id": "uygen-Nj1Dl-"
      },
      "execution_count": 59,
      "outputs": []
    },
    {
      "cell_type": "code",
      "source": [
        "def back_prop(z_1, a_1, z_2, a_2, w_1, b_1, w_2, b_2, alpha, itr, neurons ):\n",
        "  MSEvsitr_train = []\n",
        "  MSEvsitr_test = []\n",
        "  ACCvsitr_train = []\n",
        "  ACCvsitr_test = []\n",
        "\n",
        "\n",
        "  for i in range(itr):\n",
        "\n",
        "    dw2 = (np.dot((a_2 - ytrain), a_1.T))\n",
        "\n",
        "    db2 = np.reshape((np.mean((a_2-ytrain), axis=1)), (1,1))\n",
        "    dw1 = np.dot(np.dot(w_2.T, (a_2-ytrain)) * ((1-a_1) * a_1), xtrain)\n",
        "    db1 = np.reshape((np.mean((np.dot(w_2.T, (a_2-ytrain)) * ((1-a_1) * a_1)),axis =1)), (neurons,1))\n",
        "\n",
        "    \n",
        "    w_1 = w_1 - (alpha * dw1)\n",
        "    b_1 = b_1 - (alpha * db1)\n",
        "    w_2 = w_2 - (alpha * dw2)\n",
        "    b_2 = b_2 - (alpha * db2)\n",
        "\n",
        "    testz1 = np.dot(w_1, xtest.T) + b_1\n",
        "    testa1 = sigmoid(testz1)\n",
        "    testz2 = np.dot(w_2, testa1) + b_2\n",
        "    testa2 = (testz2) \n",
        "\n",
        "    Z1, A1, Z2, A2, W1, B1, W2, B2 = forward_prop(neurons, w_1, b_1, w_2, b_2)\n",
        "    z_1 = Z1\n",
        "    a_1 = A1\n",
        "    z_2 = Z2\n",
        "    a_2 = A2\n",
        "    w_1 = W1\n",
        "    b_1 = B1\n",
        "    w_2 = W2\n",
        "    b_2 = B2\n",
        "    MSEvsitr_train.append(MSE(a_2.T, ytrain.reshape(100, 1)))\n",
        "    MSEvsitr_test.append(MSE(testa2.T, ytest.reshape(50,1)))\n",
        "    ACCvsitr_train.append(accuracy(a_2.T, ytrain.reshape(100, 1)))\n",
        "    ACCvsitr_test.append(accuracy(testa2.T, ytest.reshape(50,1)))\n",
        "\n",
        "  return MSEvsitr_train, MSEvsitr_test,  ACCvsitr_train, ACCvsitr_test\n",
        "\n",
        "itr= 1000\n",
        "training_MSE, test_MSE, training_ACC, test_ACC = back_prop(Z1, A1, Z2, A2, W1, B1, W2, B2, 0.0001, itr, neurons)\n",
        "# learning rate manipulated by trial and error based on the plot generated for learning rate vs accuracy\n",
        "print(np.average(training_MSE))\n",
        "print(np.average(test_MSE))\n",
        "print(np.average(training_ACC))\n",
        "print(np.average(test_ACC))"
      ],
      "metadata": {
        "colab": {
          "base_uri": "https://localhost:8080/"
        },
        "id": "gv6TXSBT1G7a",
        "outputId": "da86b375-2a84-4e3f-a7e8-f50024d31ecb"
      },
      "execution_count": 70,
      "outputs": [
        {
          "output_type": "stream",
          "name": "stdout",
          "text": [
            "2887.4547163622815\n",
            "3061.0606318636005\n",
            "80.283\n",
            "79.592\n"
          ]
        }
      ]
    },
    {
      "cell_type": "markdown",
      "source": [
        "3.  Report the average MSE loss and the accuracy. \n",
        "**Average MSE loss :3064 <br>Average accuracy :80.396 for the test dataset**\n",
        "\n",
        "\n",
        "---\n",
        "\n",
        "\n",
        "\n"
      ],
      "metadata": {
        "id": "KseRXB2JhYQ8"
      }
    },
    {
      "cell_type": "markdown",
      "source": [
        "4.  Plot the loss and accuracy as a function of the number of iterations."
      ],
      "metadata": {
        "id": "6jm23GaQlHYF"
      }
    },
    {
      "cell_type": "markdown",
      "source": [
        "**Plot of Loss vs Iterations**"
      ],
      "metadata": {
        "id": "EqpUdN5TlLd2"
      }
    },
    {
      "cell_type": "code",
      "source": [
        "plt.plot(np.arange(1, itr+1), training_MSE, label=\"train\")\n",
        "plt.plot(np.arange(1, itr+1), test_MSE, label=\"test\")\n",
        "plt.legend()\n",
        "plt.xlabel(\"itr\")\n",
        "plt.ylabel(\"Error\")"
      ],
      "metadata": {
        "colab": {
          "base_uri": "https://localhost:8080/",
          "height": 297
        },
        "id": "7St32glf11-P",
        "outputId": "a742e20c-13be-478a-954e-94b86e5c7ec6"
      },
      "execution_count": 71,
      "outputs": [
        {
          "output_type": "execute_result",
          "data": {
            "text/plain": [
              "Text(0, 0.5, 'Error')"
            ]
          },
          "metadata": {},
          "execution_count": 71
        },
        {
          "output_type": "display_data",
          "data": {
            "text/plain": [
              "<Figure size 432x288 with 1 Axes>"
            ],
            "image/png": "[encoded data removed]"
          },
          "metadata": {
            "needs_background": "light"
          }
        }
      ]
    },
    {
      "cell_type": "markdown",
      "source": [
        "**Plot of Accuracy vs Iterations**"
      ],
      "metadata": {
        "id": "Q0GreN_HlPvR"
      }
    },
    {
      "cell_type": "code",
      "source": [
        "plt.plot(np.arange(1, itr+1),training_ACC ,label=\"train\")\n",
        "plt.plot(np.arange(1, itr+1),test_ACC ,label=\"test\")\n",
        "plt.legend()\n",
        "plt.xlabel(\"itr\")\n",
        "plt.ylabel(\"Accuracy\")"
      ],
      "metadata": {
        "colab": {
          "base_uri": "https://localhost:8080/",
          "height": 297
        },
        "id": "ITzBFvd92wJK",
        "outputId": "e86b00ff-b4cf-4d51-9d1d-5ff5d63460cc"
      },
      "execution_count": 72,
      "outputs": [
        {
          "output_type": "execute_result",
          "data": {
            "text/plain": [
              "Text(0, 0.5, 'Accuracy')"
            ]
          },
          "metadata": {},
          "execution_count": 72
        },
        {
          "output_type": "display_data",
          "data": {
            "text/plain": [
              "<Figure size 432x288 with 1 Axes>"
            ],
            "image/png": "[encoded data removed]"
          },
          "metadata": {
            "needs_background": "light"
          }
        }
      ]
    },
    {
      "cell_type": "markdown",
      "source": [
        "5.  What is the effect of the learning rate on the training process? Vary the learning rate to be \n",
        "between 0.001 and 1.0 and plot the resulting accuracy as a function of learning rate. \n",
        "\n",
        "\n",
        "> There is a probability that, as we alter the learning rate between 0.1 and 0.0001, we will reduce the MSE loss function in greater increments, which could lead to overshooting in this situation. It will take longer to converge if we choose Low learning rate values because they reduce the loss function more slowly. Finding the ideal balance is necessary.\n",
        "\n"
      ],
      "metadata": {
        "id": "kzyV7Z0DlcI1"
      }
    },
    {
      "cell_type": "code",
      "source": [
        "training_MSE1, test_MSE1, acc_tr1, acc_test1= back_prop(Z1, A1, Z2, A2, W1, B1, W2, B2, 0.0001, itr, neurons)\n",
        "training_MSE2, test_MSE2, acc_tr2, acc_test2= back_prop(Z1, A1, Z2, A2, W1, B1, W2, B2, 0.001, itr, neurons)\n",
        "training_MSE3, test_MSE3, acc_tr3, acc_test3= back_prop(Z1, A1, Z2, A2, W1, B1, W2, B2, 0.1, itr, neurons)\n",
        "training_MSE4, test_MSE4, acc_tr4, acc_test4= back_prop(Z1, A1, Z2, A2, W1, B1, W2, B2, 0.5, itr, neurons)\n",
        "training_MSE5, test_MSE5, acc_tr5, acc_test5= back_prop(Z1, A1, Z2, A2, W1, B1, W2, B2, 0.99, itr, neurons)\n",
        "\n",
        "plt.plot([0.0001,0.001, 0.01, 0.5, 0.99] , [np.mean(acc_tr1), np.mean(acc_tr2), np.mean(acc_tr3), np.mean(acc_tr4), np.mean(acc_tr5)] )\n",
        "plt.xlabel(\"learning rate\")\n",
        "plt.ylabel(\"accuracy\")"
      ],
      "metadata": {
        "colab": {
          "base_uri": "https://localhost:8080/",
          "height": 461
        },
        "id": "3yooCQpfUCt2",
        "outputId": "25d9079b-dabc-4568-a63d-5980093ac275"
      },
      "execution_count": 63,
      "outputs": [
        {
          "output_type": "stream",
          "name": "stderr",
          "text": [
            "/usr/local/lib/python3.7/dist-packages/ipykernel_launcher.py:27: RuntimeWarning: overflow encountered in exp\n",
            "/usr/local/lib/python3.7/dist-packages/numpy/core/_methods.py:179: RuntimeWarning: overflow encountered in reduce\n",
            "  ret = umr_sum(arr, axis, dtype, out, keepdims, where=where)\n",
            "/usr/local/lib/python3.7/dist-packages/ipykernel_launcher.py:9: RuntimeWarning: overflow encountered in square\n",
            "  if __name__ == '__main__':\n",
            "/usr/local/lib/python3.7/dist-packages/ipykernel_launcher.py:13: RuntimeWarning: invalid value encountered in multiply\n",
            "  del sys.path[0]\n",
            "/usr/local/lib/python3.7/dist-packages/ipykernel_launcher.py:14: RuntimeWarning: invalid value encountered in multiply\n",
            "  \n"
          ]
        },
        {
          "output_type": "execute_result",
          "data": {
            "text/plain": [
              "Text(0, 0.5, 'accuracy')"
            ]
          },
          "metadata": {},
          "execution_count": 63
        },
        {
          "output_type": "display_data",
          "data": {
            "text/plain": [
              "<Figure size 432x288 with 1 Axes>"
            ],
            "image/png": "[encoded data removed]"
          },
          "metadata": {
            "needs_background": "light"
          }
        }
      ]
    },
    {
      "cell_type": "markdown",
      "source": [
        "6.  What is the effect of the number of neurons in the hidden layer? To answer this question, \n",
        "you will need to consider and answer the following: \n",
        "\n",
        "\n",
        "a.  You will need to vary the number of neurons from 1 to 10. Does the update rule need to be changed/derived again? Why or why not? \n",
        "<br>Update rule need not be changed as it is independent of numner of neurons.Increse in number of neurons means more weights to be calculated.\n",
        "\n",
        "---\n",
        "b.  Report your observations by reporting the final loss and plotting the true labels and your predicted labels, along with a brief (2-3 lines) description.\n",
        "\n",
        "\n",
        "<br>I experimented with changing the hidden layer's neuron count in order to compare accuracy and loss. More neurons are attempting to overfit the data. As a result, accuracy grows until a certain point and then starts to decrease as the number of neurons increases. It is ideal for this model to have 2 to 4 hidden layer neurons."
      ],
      "metadata": {
        "id": "mfcotqfqnsKP"
      }
    },
    {
      "cell_type": "code",
      "source": [
        "itr =100\n",
        "neurons =1\n",
        "w1, b1, w2, b2 = weights(neurons)\n",
        "Z1, A1, Z2, A2, W1, B1, W2, B2 = forward_prop(neurons, w1, b1, w2, b2 )\n",
        "training_MSE, test_MSE, training_ACC, test_ACC = back_prop(Z1, A1, Z2, A2, W1, B1, W2, B2, 0.001, itr, neurons)\n",
        "\n",
        "neurons =2\n",
        "w1, b1, w2, b2 = weights(neurons)\n",
        "Z1, A1, Z2, A2, W1, B1, W2, B2 = forward_prop(neurons, w1, b1, w2, b2 )\n",
        "training_MSE, test_MSE, training_ACC, test_ACC = back_prop(Z1, A1, Z2, A2, W1, B1, W2, B2, 0.001, itr, neurons)\n",
        "\n",
        "neurons =3\n",
        "w1, b1, w2, b2 = weights(neurons)\n",
        "Z1, A1, Z2, A2, W1, B1, W2, B2 = forward_prop(neurons, w1, b1, w2, b2 )\n",
        "training_MSE, test_MSE, training_ACC, test_ACC = back_prop(Z1, A1, Z2, A2, W1, B1, W2, B2, 0.001, itr, neurons)\n",
        "\n",
        "neurons =4\n",
        "w1, b1, w2, b2 = weights(neurons)\n",
        "Z1, A1, Z2, A2, W1, B1, W2, B2 = forward_prop(neurons, w1, b1, w2, b2 )\n",
        "training_MSE, test_MSE, training_ACC, test_ACC = back_prop(Z1, A1, Z2, A2, W1, B1, W2, B2, 0.001, itr, neurons)\n",
        "\n",
        "neurons =5\n",
        "w1, b1, w2, b2 = weights(neurons)\n",
        "Z1, A1, Z2, A2, W1, B1, W2, B2 = forward_prop(neurons, w1, b1, w2, b2 )\n",
        "training_MSE, test_MSE, training_ACC, test_ACC = back_prop(Z1, A1, Z2, A2, W1, B1, W2, B2, 0.001, itr, neurons)\n",
        "\n",
        "neurons =6\n",
        "w1, b1, w2, b2 = weights(neurons)\n",
        "Z1, A1, Z2, A2, W1, B1, W2, B2 = forward_prop(neurons, w1, b1, w2, b2 )\n",
        "training_MSE, test_MSE, training_ACC, test_ACC = back_prop(Z1, A1, Z2, A2, W1, B1, W2, B2, 0.001, itr, neurons)\n",
        "\n",
        "neurons =7\n",
        "w1, b1, w2, b2 = weights(neurons)\n",
        "Z1, A1, Z2, A2, W1, B1, W2, B2 = forward_prop(neurons, w1, b1, w2, b2 )\n",
        "training_MSE, test_MSE, training_ACC, test_ACC = back_prop(Z1, A1, Z2, A2, W1, B1, W2, B2, 0.001, itr, neurons)\n",
        "\n",
        "neurons =8\n",
        "w1, b1, w2, b2 = weights(neurons)\n",
        "Z1, A1, Z2, A2, W1, B1, W2, B2 = forward_prop(neurons, w1, b1, w2, b2 )\n",
        "training_MSE, test_MSE, training_ACC, test_ACC = back_prop(Z1, A1, Z2, A2, W1, B1, W2, B2, 0.001, itr, neurons)\n",
        "\n",
        "neurons =9\n",
        "w1, b1, w2, b2 = weights(neurons)\n",
        "Z1, A1, Z2, A2, W1, B1, W2, B2 = forward_prop(neurons, w1, b1, w2, b2 )\n",
        "training_MSE, test_MSE, training_ACC, test_ACC = back_prop(Z1, A1, Z2, A2, W1, B1, W2, B2, 0.001, itr, neurons)\n",
        "\n",
        "neurons =10\n",
        "w1, b1, w2, b2 = weights(neurons)\n",
        "Z1, A1, Z2, A2, W1, B1, W2, B2 = forward_prop(neurons, w1, b1, w2, b2 )\n",
        "training_MSE, test_MSE, training_ACC, test_ACC = back_prop(Z1, A1, Z2, A2, W1, B1, W2, B2, 0.001, itr, neurons)\n",
        "\n"
      ],
      "metadata": {
        "id": "h6FolBUWpXun"
      },
      "execution_count": 87,
      "outputs": []
    },
    {
      "cell_type": "markdown",
      "source": [
        "7.  What is the effect of the activation functions in the network? \n",
        "<br> **A neural network's activation function is crucial since it aids in capturing non-linearity in the data.\n",
        "Also helps in binary classification when using the sigmoid function on the output data .**\n",
        "\n",
        "<br>Exploring two different activation functions other than sigmoid such as tanh and linear  \n",
        "a.  Will you need to change the update rule?b.  What is the change that you need to make to achieve this experiment? \n",
        "<br>We will need to change the update as shown in the pdf.\n",
        "\n",
        "c.  Report your observations by reporting the final loss and plotting the true labels and your predicted labels, along with a brief (2-3 lines) description. "
      ],
      "metadata": {
        "id": "S_Ml6IRAr6t-"
      }
    },
    {
      "cell_type": "code",
      "source": [
        "def back_prop_linear(z_1, a_1, z_2, a_2, w_1, b_1, w_2, b_2, alpha, itr, neurons ):\n",
        "  y_predicted=np.ones((100,1))\n",
        "  MSEvsitr_train = []\n",
        "  MSEvsitr_test = []\n",
        "  ACCvsitr_train = []\n",
        "  ACCvsitr_test = []\n",
        "\n",
        "\n",
        "  for i in range(itr):\n",
        "\n",
        "    dw2 = (np.dot((a_2 - ytrain), a_1.T))\n",
        "    db2 = np.reshape((np.mean((a_2-ytrain), axis=1)), (1,1))\n",
        "    dw1 = np.dot(np.dot(w_2.T, (a_2-ytrain)), xtrain)\n",
        "    db1 = np.reshape((np.mean((np.dot(w_2.T, (a_2-ytrain))),axis =1)), (neurons,1))\n",
        "\n",
        "    \n",
        "    w_1 = w_1 - (alpha * dw1)\n",
        "    b_1 = b_1 - (alpha * db1)\n",
        "    w_2 = w_2 - (alpha * dw2)\n",
        "    b_2 = b_2 - (alpha * db2)\n",
        "\n",
        "\n",
        "\n",
        "    testz1 = np.dot(w_1, xtest.T) + b_1\n",
        "    testa1 = testz1 \n",
        "    testz2 = np.dot(w_2, testa1) + b_2\n",
        "    testa2 = (testz2) \n",
        "\n",
        "    Z1, A1, Z2, A2, W1, B1, W2, B2 = forward_prop(neurons, w_1, b_1, w_2, b_2)\n",
        "    z_1 = Z1\n",
        "    a_1 = A1\n",
        "    z_2 = Z2\n",
        "    a_2 = A2\n",
        "    w_1 = W1\n",
        "    b_1 = B1\n",
        "    w_2 = W2\n",
        "    b_2 = B2\n",
        "\n",
        "    MSEvsitr_train.append(MSE(a_2.T, ytrain.reshape(100, 1)))\n",
        "    MSEvsitr_test.append(MSE(testa2.T, ytest.reshape(50,1)))\n",
        "    ACCvsitr_train.append(accuracy(a_2.T, ytrain.reshape(100, 1)))\n",
        "    ACCvsitr_test.append(accuracy(testa2.T, ytest.reshape(50,1)))\n",
        "\n",
        "  return MSEvsitr_train, MSEvsitr_test,  ACCvsitr_train, ACCvsitr_test\n",
        "\n",
        "\n",
        "neurons =3\n",
        "itr=1000\n",
        "w1, b1, w2, b2 = weights(neurons)\n",
        "Z1, A1, Z2, A2, W1, B1, W2, B2 = forward_prop(neurons, w1, b1, w2, b2 )\n",
        "training_MSE, test_MSE, training_ACC, test_ACC = back_prop_linear(Z1, A1, Z2, A2, W1, B1, W2, B2, 0.001, itr, neurons)\n",
        "\n",
        "print(np.average(training_MSE))\n",
        "print(\"Average Loss:\",np.average(test_MSE))\n",
        "print(np.average(training_ACC))\n",
        "print(\"Average Accuracy:\",np.average(test_ACC))\n"
      ],
      "metadata": {
        "colab": {
          "base_uri": "https://localhost:8080/"
        },
        "id": "7E4_o0cOAaQB",
        "outputId": "d65252dc-b05f-4b4d-c126-4ffd7af6741b"
      },
      "execution_count": 104,
      "outputs": [
        {
          "output_type": "stream",
          "name": "stderr",
          "text": [
            "/usr/local/lib/python3.7/dist-packages/ipykernel_launcher.py:27: RuntimeWarning: overflow encountered in exp\n"
          ]
        },
        {
          "output_type": "stream",
          "name": "stdout",
          "text": [
            "2888.6049882215466\n",
            "Average Loss: 30692118027708.05\n",
            "74.416\n",
            "Average Accuracy: 63.98\n"
          ]
        }
      ]
    },
    {
      "cell_type": "code",
      "source": [
        "plt.plot(np.arange(1, itr+1), training_MSE, label=\"train\")\n",
        "plt.plot(np.arange(1, itr+1), test_MSE, label=\"test\")\n",
        "plt.legend()\n",
        "plt.xlabel(\"itr\")\n",
        "plt.ylabel(\"Error\")"
      ],
      "metadata": {
        "colab": {
          "base_uri": "https://localhost:8080/",
          "height": 308
        },
        "id": "JxABa22u-HL2",
        "outputId": "afec4a94-ecc3-4f57-ee63-ee3a6df73820"
      },
      "execution_count": 105,
      "outputs": [
        {
          "output_type": "execute_result",
          "data": {
            "text/plain": [
              "Text(0, 0.5, 'Error')"
            ]
          },
          "metadata": {},
          "execution_count": 105
        },
        {
          "output_type": "display_data",
          "data": {
            "text/plain": [
              "<Figure size 432x288 with 1 Axes>"
            ],
            "image/png": "[encoded data removed]"
          },
          "metadata": {
            "needs_background": "light"
          }
        }
      ]
    },
    {
      "cell_type": "code",
      "source": [
        "plt.plot(np.arange(1, itr+1),training_ACC ,label=\"train\")\n",
        "plt.plot(np.arange(1, itr+1),test_ACC ,label=\"test\")\n",
        "plt.legend()\n",
        "plt.xlabel(\"itr\")\n",
        "plt.ylabel(\"Accuracy\")"
      ],
      "metadata": {
        "colab": {
          "base_uri": "https://localhost:8080/",
          "height": 297
        },
        "id": "JL7c4-8NkbA6",
        "outputId": "04f5de36-aa1d-49ac-b5dd-2f796a480c83"
      },
      "execution_count": 95,
      "outputs": [
        {
          "output_type": "execute_result",
          "data": {
            "text/plain": [
              "Text(0, 0.5, 'Accuracy')"
            ]
          },
          "metadata": {},
          "execution_count": 95
        },
        {
          "output_type": "display_data",
          "data": {
            "text/plain": [
              "<Figure size 432x288 with 1 Axes>"
            ],
            "image/png": "[encoded data removed]"
          },
          "metadata": {
            "needs_background": "light"
          }
        }
      ]
    },
    {
      "cell_type": "code",
      "source": [
        "def back_prop_tanh(z_1, a_1, z_2, a_2, w_1, b_1, w_2, b_2, alpha, itr, NEURONS ):\n",
        "  y_predicted=np.ones((100,1))\n",
        "  MSEvsitr_train = []\n",
        "  MSEvsitr_test = []\n",
        "  ACCvsitr_train = []\n",
        "  ACCvsitr_test = []\n",
        "\n",
        "  for i in range(itr):\n",
        "\n",
        "    dw2 = (np.dot((a_2 - ytrain), a_1.T))\n",
        "    db2 = np.reshape((np.mean((a_2-ytrain), axis=1)), (1,1))\n",
        "    dw1 = np.dot(np.dot(w_2.T, (a_2 - ytrain)) * (1 + tanh(z_1)) * (1 - tanh(z_1)), xtrain)\n",
        "    db1 = np.dot(w_2.T, a_2 - ytrain) * (1 + tanh(z_1)) * (1 - tanh(z_1))\n",
        "\n",
        "    \n",
        "    w_1 = w_1 - (alpha * dw1)\n",
        "    print(w_1)\n",
        "    b_1 = b_1 - (alpha * db1)\n",
        "    print(b_1)\n",
        "    w_2 = w_2 - (alpha * dw2)\n",
        "    b_2 = b_2 - (alpha * db2)\n",
        "\n",
        "\n",
        "    testz1 = np.dot(w_1, xtest.T) + b_1\n",
        "    testa1 = tanh(testz1)\n",
        "    testz2 = np.dot(w_2, testa1) + b_2\n",
        "    testa2 = (testz2) \n",
        "\n",
        "    Z1, A1, Z2, A2, W1, B1, W2, B2 = forward_prop(neurons, w_1, b_1, w_2, b_2)\n",
        "    z_1 = Z1\n",
        "    a_1 = A1\n",
        "    z_2 = Z2\n",
        "    a_2 = A2\n",
        "    w_1 = W1\n",
        "    b_1 = B1\n",
        "    w_2 = W2\n",
        "    b_2 = B2\n",
        "\n",
        "    MSEvsitr_train.append(MSE(a_2.T, ytrain.reshape(100, 1)))\n",
        "    MSEvsitr_test.append(MSE(testa2.T, ytest.reshape(50,1)))\n",
        "    ACCvsitr_train.append(accuracy(a_2.T, ytrain.reshape(100, 1)))\n",
        "    ACCvsitr_test.append(accuracy(testa2.T, ytest.reshape(50,1)))\n",
        "\n",
        "  return MSEvsitr_train, MSEvsitr_test,  ACCvsitr_train, ACCvsitr_test\n",
        "\n",
        "\n",
        "\n",
        "neurons =1\n",
        "itr=100\n",
        "w1, b1, w2, b2 = weights(neurons)\n",
        "Z1, A1, Z2, A2, W1, B1, W2, B2 = forward_prop(neurons, w1, b1, w2, b2 )\n",
        "training_MSE, test_MSE, training_ACC, test_ACC = back_prop_tanh(Z1, A1, Z2, A2, W1, B1, W2, B2, 0.01923345667, itr, neurons)\n",
        "acc_test=np.array(acc_test)\n",
        "acc_tr = np.array(acc_tr)\n",
        "acc_testttt = acc_test\n",
        "acc_trrrrr = acc_tr\n",
        "print(training_MSE)\n",
        "print(test_MSE)\n",
        "#print(final_y)"
      ],
      "metadata": {
        "colab": {
          "base_uri": "https://localhost:8080/",
          "height": 718
        },
        "id": "eMKbRgdhBIwV",
        "outputId": "1aa778d9-309f-4a39-db66-5e39dc80ab3b"
      },
      "execution_count": 11,
      "outputs": [
        {
          "output_type": "stream",
          "name": "stdout",
          "text": [
            "[[-5.49999351 22.17605153]]\n",
            "[[-0.20726618  0.26237315  0.18650728 -0.310815   -0.09755129  0.30357917\n",
            "   0.39868086 -0.18792984  0.42035736 -0.05275285 -0.24862657  0.46634564\n",
            "   0.20958372  0.01117215  0.24567324 -0.31539935  0.38001503 -0.2663121\n",
            "  -0.28584713  0.30926595  0.31731188  0.41389628  0.10829686  0.20940653\n",
            "  -0.23816388 -0.24280896 -0.30381532  0.32255027  0.37646717  0.24930202\n",
            "  -0.20743302 -0.23114635 -0.27672997  0.29725922 -0.07632032  0.33098636\n",
            "   0.3851326   0.20019876 -0.03743097 -0.44195768  0.20502824 -0.05439443\n",
            "  -0.10140328 -0.01669871  0.38536135  0.22789237  0.22371196 -0.00245974\n",
            "   0.12636022  0.32751564  0.15481797 -0.08811222  0.33163632  0.38831633\n",
            "   0.4007343   0.26725397  0.42431024  0.36118742  0.31617687 -0.25497704\n",
            "   0.12850061 -0.11655404 -0.06109046  0.4211848  -0.17025085  0.45084961\n",
            "  -0.20325368  0.28670569  0.2387121  -0.32063184  0.38299511  0.11731909\n",
            "  -0.29839854  0.17889517  0.21619432 -0.16989466  0.4405499  -0.23926039\n",
            "  -0.27007869  0.17058008  0.32139447  0.38481864  0.25228269  0.28743961\n",
            "   0.24081273  0.28280662  0.52253648 -0.17906751 -0.18581599  0.23171045\n",
            "   0.20869221 -0.16481057 -0.0723471   0.01511245 -0.02534519 -0.3972101\n",
            "   0.25596504 -0.4362417  -0.10771917 -0.1172631 ]]\n",
            "(1, 2)    ---    (2, 50)\n"
          ]
        },
        {
          "output_type": "error",
          "ename": "ValueError",
          "evalue": "ignored",
          "traceback": [
            "\u001b[0;31m---------------------------------------------------------------------------\u001b[0m",
            "\u001b[0;31mValueError\u001b[0m                                Traceback (most recent call last)",
            "\u001b[0;32m<ipython-input-11-b0c5cafb7948>\u001b[0m in \u001b[0;36m<module>\u001b[0;34m\u001b[0m\n\u001b[1;32m     72\u001b[0m \u001b[0mw1\u001b[0m\u001b[0;34m,\u001b[0m \u001b[0mb1\u001b[0m\u001b[0;34m,\u001b[0m \u001b[0mw2\u001b[0m\u001b[0;34m,\u001b[0m \u001b[0mb2\u001b[0m \u001b[0;34m=\u001b[0m \u001b[0mweights\u001b[0m\u001b[0;34m(\u001b[0m\u001b[0mneurons\u001b[0m\u001b[0;34m)\u001b[0m\u001b[0;34m\u001b[0m\u001b[0;34m\u001b[0m\u001b[0m\n\u001b[1;32m     73\u001b[0m \u001b[0mZ1\u001b[0m\u001b[0;34m,\u001b[0m \u001b[0mA1\u001b[0m\u001b[0;34m,\u001b[0m \u001b[0mZ2\u001b[0m\u001b[0;34m,\u001b[0m \u001b[0mA2\u001b[0m\u001b[0;34m,\u001b[0m \u001b[0mW1\u001b[0m\u001b[0;34m,\u001b[0m \u001b[0mB1\u001b[0m\u001b[0;34m,\u001b[0m \u001b[0mW2\u001b[0m\u001b[0;34m,\u001b[0m \u001b[0mB2\u001b[0m \u001b[0;34m=\u001b[0m \u001b[0mforward_prop\u001b[0m\u001b[0;34m(\u001b[0m\u001b[0mneurons\u001b[0m\u001b[0;34m,\u001b[0m \u001b[0mw1\u001b[0m\u001b[0;34m,\u001b[0m \u001b[0mb1\u001b[0m\u001b[0;34m,\u001b[0m \u001b[0mw2\u001b[0m\u001b[0;34m,\u001b[0m \u001b[0mb2\u001b[0m \u001b[0;34m)\u001b[0m\u001b[0;34m\u001b[0m\u001b[0;34m\u001b[0m\u001b[0m\n\u001b[0;32m---> 74\u001b[0;31m \u001b[0mtraining_MSE\u001b[0m\u001b[0;34m,\u001b[0m \u001b[0mtest_MSE\u001b[0m\u001b[0;34m,\u001b[0m \u001b[0mtraining_ACC\u001b[0m\u001b[0;34m,\u001b[0m \u001b[0mtest_ACC\u001b[0m \u001b[0;34m=\u001b[0m \u001b[0mback_prop_tanh\u001b[0m\u001b[0;34m(\u001b[0m\u001b[0mZ1\u001b[0m\u001b[0;34m,\u001b[0m \u001b[0mA1\u001b[0m\u001b[0;34m,\u001b[0m \u001b[0mZ2\u001b[0m\u001b[0;34m,\u001b[0m \u001b[0mA2\u001b[0m\u001b[0;34m,\u001b[0m \u001b[0mW1\u001b[0m\u001b[0;34m,\u001b[0m \u001b[0mB1\u001b[0m\u001b[0;34m,\u001b[0m \u001b[0mW2\u001b[0m\u001b[0;34m,\u001b[0m \u001b[0mB2\u001b[0m\u001b[0;34m,\u001b[0m \u001b[0;36m0.01923345667\u001b[0m\u001b[0;34m,\u001b[0m \u001b[0mitr\u001b[0m\u001b[0;34m,\u001b[0m \u001b[0mneurons\u001b[0m\u001b[0;34m)\u001b[0m\u001b[0;34m\u001b[0m\u001b[0;34m\u001b[0m\u001b[0m\n\u001b[0m\u001b[1;32m     75\u001b[0m \u001b[0;31m#print(np.array(training_MSE).T)\u001b[0m\u001b[0;34m\u001b[0m\u001b[0;34m\u001b[0m\u001b[0;34m\u001b[0m\u001b[0m\n\u001b[1;32m     76\u001b[0m \u001b[0;31m#print(np.array(test_MSE).T)\u001b[0m\u001b[0;34m\u001b[0m\u001b[0;34m\u001b[0m\u001b[0;34m\u001b[0m\u001b[0m\n",
            "\u001b[0;32m<ipython-input-11-b0c5cafb7948>\u001b[0m in \u001b[0;36mback_prop_tanh\u001b[0;34m(z_1, a_1, z_2, a_2, w_1, b_1, w_2, b_2, alpha, itr, NEURONS)\u001b[0m\n\u001b[1;32m     38\u001b[0m     \u001b[0;31m#print(\"B2:\\n\", b_2)\u001b[0m\u001b[0;34m\u001b[0m\u001b[0;34m\u001b[0m\u001b[0;34m\u001b[0m\u001b[0m\n\u001b[1;32m     39\u001b[0m     \u001b[0mprint\u001b[0m\u001b[0;34m(\u001b[0m\u001b[0mw_1\u001b[0m\u001b[0;34m.\u001b[0m\u001b[0mshape\u001b[0m\u001b[0;34m,\u001b[0m \u001b[0;34m\"   ---   \"\u001b[0m\u001b[0;34m,\u001b[0m \u001b[0mxtest\u001b[0m\u001b[0;34m.\u001b[0m\u001b[0mT\u001b[0m\u001b[0;34m.\u001b[0m\u001b[0mshape\u001b[0m\u001b[0;34m)\u001b[0m\u001b[0;34m\u001b[0m\u001b[0;34m\u001b[0m\u001b[0m\n\u001b[0;32m---> 40\u001b[0;31m     \u001b[0mtestz1\u001b[0m \u001b[0;34m=\u001b[0m \u001b[0mnp\u001b[0m\u001b[0;34m.\u001b[0m\u001b[0mdot\u001b[0m\u001b[0;34m(\u001b[0m\u001b[0mw_1\u001b[0m\u001b[0;34m,\u001b[0m \u001b[0mxtest\u001b[0m\u001b[0;34m.\u001b[0m\u001b[0mT\u001b[0m\u001b[0;34m)\u001b[0m \u001b[0;34m+\u001b[0m \u001b[0mb_1\u001b[0m\u001b[0;34m\u001b[0m\u001b[0;34m\u001b[0m\u001b[0m\n\u001b[0m\u001b[1;32m     41\u001b[0m     \u001b[0mtesta1\u001b[0m \u001b[0;34m=\u001b[0m \u001b[0mtanh\u001b[0m\u001b[0;34m(\u001b[0m\u001b[0mtestz1\u001b[0m\u001b[0;34m)\u001b[0m\u001b[0;34m\u001b[0m\u001b[0;34m\u001b[0m\u001b[0m\n\u001b[1;32m     42\u001b[0m     \u001b[0mtestz2\u001b[0m \u001b[0;34m=\u001b[0m \u001b[0mnp\u001b[0m\u001b[0;34m.\u001b[0m\u001b[0mdot\u001b[0m\u001b[0;34m(\u001b[0m\u001b[0mw_2\u001b[0m\u001b[0;34m,\u001b[0m \u001b[0mtesta1\u001b[0m\u001b[0;34m)\u001b[0m \u001b[0;34m+\u001b[0m \u001b[0mb_2\u001b[0m\u001b[0;34m\u001b[0m\u001b[0;34m\u001b[0m\u001b[0m\n",
            "\u001b[0;31mValueError\u001b[0m: operands could not be broadcast together with shapes (1,50) (1,100) "
          ]
        }
      ]
    },
    {
      "cell_type": "code",
      "source": [
        "plt.plot(np.arange(1, itr+1), training_MSE, label=\"train\")\n",
        "plt.plot(np.arange(1, itr+1), test_MSE, label=\"test\")\n",
        "plt.legend()\n",
        "plt.xlabel(\"itr\")\n",
        "plt.ylabel(\"Error\")"
      ],
      "metadata": {
        "id": "yiYZyTtxHMVL"
      },
      "execution_count": null,
      "outputs": []
    }
  ]
}