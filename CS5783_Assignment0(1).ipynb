{
  "nbformat": 4,
  "nbformat_minor": 0,
  "metadata": {
    "colab": {
      "provenance": [],
      "collapsed_sections": []
    },
    "kernelspec": {
      "name": "python3",
      "display_name": "Python 3"
    },
    "language_info": {
      "name": "python"
    }
  },
  "cells": [
    {
      "cell_type": "code",
      "execution_count": 3,
      "metadata": {
        "colab": {
          "base_uri": "https://localhost:8080/",
          "height": 1000
        },
        "id": "jqRnJcsKzTor",
        "outputId": "170d7965-9274-48ce-cfbb-40074d57db2e"
      },
      "outputs": [
        {
          "output_type": "stream",
          "name": "stdout",
          "text": [
            "Counter({' ': 156, 'e': 63, 'i': 56, 'o': 50, 'a': 44, 'r': 40, 'u': 38, 't': 36, 'd': 30, 'n': 28, 'y': 27, 'l': 26, 'h': 25, 'p': 25, 's': 25, 'b': 24, 'c': 23, 'j': 23, 'z': 23, 'g': 23, 'q': 22, 'k': 22, 'w': 22, 'f': 22, 'x': 22, 'm': 22, 'v': 22, ',': 8})\n",
            "Histogram as dictionary : {' ': 156, ',': 8, 'a': 44, 'b': 24, 'c': 23, 'd': 30, 'e': 63, 'f': 22, 'g': 23, 'h': 25, 'i': 56, 'j': 23, 'k': 22, 'l': 26, 'm': 22, 'n': 28, 'o': 50, 'p': 25, 'q': 22, 'r': 40, 's': 25, 't': 36, 'u': 38, 'v': 22, 'w': 22, 'x': 22, 'y': 27, 'z': 23}\n",
            "Histogram as Numpy array: [[' ' '156']\n",
            " [',' '8']\n",
            " ['a' '44']\n",
            " ['b' '24']\n",
            " ['c' '23']\n",
            " ['d' '30']\n",
            " ['e' '63']\n",
            " ['f' '22']\n",
            " ['g' '23']\n",
            " ['h' '25']\n",
            " ['i' '56']\n",
            " ['j' '23']\n",
            " ['k' '22']\n",
            " ['l' '26']\n",
            " ['m' '22']\n",
            " ['n' '28']\n",
            " ['o' '50']\n",
            " ['p' '25']\n",
            " ['q' '22']\n",
            " ['r' '40']\n",
            " ['s' '25']\n",
            " ['t' '36']\n",
            " ['u' '38']\n",
            " ['v' '22']\n",
            " ['w' '22']\n",
            " ['x' '22']\n",
            " ['y' '27']\n",
            " ['z' '23']]\n"
          ]
        },
        {
          "output_type": "display_data",
          "data": {
            "text/plain": [
              "<Figure size 432x288 with 1 Axes>"
            ],
            "image/png": "[encoded data removed]"
          },
          "metadata": {
            "needs_background": "light"
          }
        },
        {
          "output_type": "display_data",
          "data": {
            "text/plain": [
              "<Figure size 432x288 with 1 Axes>"
            ],
            "image/png": "[encoded data removed]"
          },
          "metadata": {
            "needs_background": "light"
          }
        },
        {
          "output_type": "display_data",
          "data": {
            "text/plain": [
              "<Figure size 432x288 with 1 Axes>"
            ],
            "image/png": "[encoded data removed]"
          },
          "metadata": {
            "needs_background": "light"
          }
        }
      ],
      "source": [
        "#Problem 1\n",
        "import matplotlib.pyplot as plt\n",
        "import numpy as np\n",
        "from collections import Counter\n",
        "\n",
        "#file= \"\"\"The quick brown fox jumps over the lazy dog\"\"\"\n",
        "#file = open(\"test.txt\").read().split()\n",
        "\n",
        "with open('test.txt', 'r') as raw_data:\n",
        "    file = raw_data.read().replace('\\n', '')\n",
        "\n",
        "# For generating a histogram\n",
        "alphabets_unsorted = Counter(file.lower().replace('\\n', ''))\n",
        "print(alphabets_unsorted)\n",
        "alist = dict(sorted(alphabets_unsorted.items()))\n",
        "\n",
        "print(\"Histogram as dictionary :\",alist)\n",
        "frequency = alist.values()\n",
        "alphabets = alist.keys()\n",
        "\n",
        "\n",
        "alist_values = alist.items()\n",
        "data = list(alist_values)\n",
        "  \n",
        "# Convert list to an array\n",
        "data_array = np.array(data)\n",
        "print(\"Histogram as Numpy array:\",data_array)\n",
        "\n",
        "# graph data\n",
        "alphabet_positions = np.arange(len(frequency))\n",
        "plt.bar(alphabet_positions, frequency, label=\"Un-Normaliized\",align = 'center')\n",
        "plt.legend()\n",
        "plt.grid()\n",
        "plt.xticks(alphabet_positions, alphabets)\n",
        "fig,ax = plt.subplots() \n",
        "ax.hist(alphabet_positions, label=\"Normaliized\", histtype=\"step\", density=True)\n",
        "plt.legend()\n",
        "plt.show()\n",
        "plt.hist(alphabet_positions,26,label=\"Normaliized-Cummuative\", density=True, cumulative=True, histtype='step')\n",
        "plt.legend()\n",
        "plt.show()"
      ]
    },
    {
      "cell_type": "code",
      "source": [
        "#Problem 2\n",
        "from numpy.ma.core import size\n",
        "from google.colab.patches import cv2_imshow\n",
        "import cv2   \n",
        "import numpy as np\n",
        "\n",
        "img = cv2.imread('test.png')\n",
        "\n",
        "output_img = np.zeros(np.shape(img))\n",
        "for i in range(128):\n",
        "  for j in range(128):\n",
        "    dist = np.array([np.linalg.norm([255,0,0]-img[i][j]),np.linalg.norm([0,255,0]-img[i][j]),np.linalg.norm([0,0,255]-img[i][j])])\n",
        "    min_ind = np.unravel_index(dist.argmin(), dist.shape)\n",
        "    if min_ind[0] ==0:\n",
        "      output_img[i][j] = np.array([255,0,0])\n",
        "    if min_ind[0] ==1:\n",
        "      output_img[i][j] = np.array([0,255,0])\n",
        "    if min_ind[0] ==2:\n",
        "      output_img[i][j] = np.array([0,0,255])\n",
        "output_img\n",
        "cv2.imwrite('output1.png',output_img)\n",
        "print(\"output1.png\")\n",
        "cv2_imshow(output_img)\n",
        "\n",
        "start = (39, 39)\n",
        "end = (89, 89)\n",
        "color = (0, 0, 0)\n",
        "width = -1\n",
        "image = cv2.rectangle(output_img, start, end, color, width)\n",
        "cv2.imwrite('output2.png',output_img)\n",
        "print(\"output2.png\")\n",
        "cv2_imshow(output_img)"
      ],
      "metadata": {
        "colab": {
          "base_uri": "https://localhost:8080/",
          "height": 308
        },
        "id": "t7PTRj5Kz6OV",
        "outputId": "839c0ea8-a4ba-4fd4-9b1a-3ba8e75ea85c"
      },
      "execution_count": null,
      "outputs": [
        {
          "output_type": "stream",
          "name": "stdout",
          "text": [
            "output1.png\n"
          ]
        },
        {
          "output_type": "display_data",
          "data": {
            "text/plain": [
              "<PIL.Image.Image image mode=RGB size=128x128 at 0x7F5375062F50>"
            ],
            "image/png": "[encoded data removed]"
          },
          "metadata": {}
        },
        {
          "output_type": "stream",
          "name": "stdout",
          "text": [
            "output2.png\n"
          ]
        },
        {
          "output_type": "display_data",
          "data": {
            "text/plain": [
              "<PIL.Image.Image image mode=RGB size=128x128 at 0x7F5375062DD0>"
            ],
            "image/png": "[encoded data removed]"
          },
          "metadata": {}
        }
      ]
    },
    {
      "cell_type": "code",
      "source": [
        "#Problem 3\n",
        "#importing the scipy packages\n",
        "from scipy import linalg\n",
        "import numpy as np\n",
        "\n",
        "a = np.array([[3, 3], [4, 2]])\n",
        "b = np.array([[11.25], [10]])\n",
        "\n",
        "x = linalg.solve(a, b)\n",
        "print(\"Cost of soft tacos:\",x[0])\n",
        "print(\"Cost of burrito:\",x[1])"
      ],
      "metadata": {
        "colab": {
          "base_uri": "https://localhost:8080/"
        },
        "id": "0ihT-Y5T0KPn",
        "outputId": "2bfcae3f-5789-44e4-996c-f8c6d0c3a3d1"
      },
      "execution_count": null,
      "outputs": [
        {
          "output_type": "stream",
          "name": "stdout",
          "text": [
            "Cost of soft tacos: [1.25]\n",
            "Cost of burrito: [2.5]\n"
          ]
        }
      ]
    }
  ]
}